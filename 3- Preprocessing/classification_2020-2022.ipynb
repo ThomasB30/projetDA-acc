{
 "cells": [
  {
   "cell_type": "code",
   "id": "initial_id",
   "metadata": {
    "collapsed": true,
    "ExecuteTime": {
     "end_time": "2024-09-26T10:57:37.081475Z",
     "start_time": "2024-09-26T10:57:28.530871Z"
    }
   },
   "source": [
    "# Importer les bibliothèques nécessaires\n",
    "import pandas as pd\n",
    "from sklearn.model_selection import train_test_split, GridSearchCV\n",
    "from sklearn.ensemble import RandomForestClassifier\n",
    "from sklearn.metrics import classification_report, accuracy_score\n",
    "\n",
    "# Charger le jeu de données\n",
    "df = pd.read_csv('data/df_merged_2020-2022.csv', sep=',', index_col=\"Num_Acc\", low_memory=False)\n",
    "\n",
    "df = df.replace('\\xa0', '', regex=True)\n",
    "\n",
    "# Nettoyer les données\n",
    "# Remplacer les valeurs non numériques par NaN et les supprimer\n",
    "df = df.apply(pd.to_numeric, errors='coerce')"
   ],
   "outputs": [],
   "execution_count": 38
  },
  {
   "metadata": {
    "ExecuteTime": {
     "end_time": "2024-09-26T10:57:37.142854Z",
     "start_time": "2024-09-26T10:57:37.101498Z"
    }
   },
   "cell_type": "code",
   "source": "df.head(5)",
   "id": "f2486e9718b17f4d",
   "outputs": [
    {
     "data": {
      "text/plain": [
       "              id_vehicule  num_veh  place  catu  grav  sexe  an_nais  trajet  \\\n",
       "Num_Acc                                                                        \n",
       "202200000001       813952      NaN      1     1   3.0   1.0   2008.0     5.0   \n",
       "202200000001       813953      NaN      1     1   1.0   1.0   1948.0     5.0   \n",
       "202200000002       813950      NaN      1     1   4.0   1.0   1988.0     9.0   \n",
       "202200000002       813951      NaN      1     1   1.0   1.0   1970.0     4.0   \n",
       "202200000003       813948      NaN      1     1   1.0   1.0   2002.0     0.0   \n",
       "\n",
       "              senc  catv  ...  Casque  Dispositif enfants  \\\n",
       "Num_Acc                   ...                               \n",
       "202200000001   1.0   2.0  ...    True               False   \n",
       "202200000001   1.0   7.0  ...   False               False   \n",
       "202200000002   2.0   7.0  ...   False               False   \n",
       "202200000002   2.0  10.0  ...   False               False   \n",
       "202200000003   2.0   7.0  ...   False               False   \n",
       "\n",
       "              Gilet réfléchissant  Airbag  Gants  Autre  date  weekday  heure  \\\n",
       "Num_Acc                                                                         \n",
       "202200000001                False   False  False  False   NaN      NaN     16   \n",
       "202200000001                False   False  False  False   NaN      NaN     16   \n",
       "202200000002                False   False  False  False   NaN      NaN      8   \n",
       "202200000002                False   False  False  False   NaN      NaN      8   \n",
       "202200000003                False   False  False  False   NaN      NaN     17   \n",
       "\n",
       "               age  \n",
       "Num_Acc             \n",
       "202200000001  16.0  \n",
       "202200000001  76.0  \n",
       "202200000002  36.0  \n",
       "202200000002  54.0  \n",
       "202200000003  22.0  \n",
       "\n",
       "[5 rows x 49 columns]"
      ],
      "text/html": [
       "<div>\n",
       "<style scoped>\n",
       "    .dataframe tbody tr th:only-of-type {\n",
       "        vertical-align: middle;\n",
       "    }\n",
       "\n",
       "    .dataframe tbody tr th {\n",
       "        vertical-align: top;\n",
       "    }\n",
       "\n",
       "    .dataframe thead th {\n",
       "        text-align: right;\n",
       "    }\n",
       "</style>\n",
       "<table border=\"1\" class=\"dataframe\">\n",
       "  <thead>\n",
       "    <tr style=\"text-align: right;\">\n",
       "      <th></th>\n",
       "      <th>id_vehicule</th>\n",
       "      <th>num_veh</th>\n",
       "      <th>place</th>\n",
       "      <th>catu</th>\n",
       "      <th>grav</th>\n",
       "      <th>sexe</th>\n",
       "      <th>an_nais</th>\n",
       "      <th>trajet</th>\n",
       "      <th>senc</th>\n",
       "      <th>catv</th>\n",
       "      <th>...</th>\n",
       "      <th>Casque</th>\n",
       "      <th>Dispositif enfants</th>\n",
       "      <th>Gilet réfléchissant</th>\n",
       "      <th>Airbag</th>\n",
       "      <th>Gants</th>\n",
       "      <th>Autre</th>\n",
       "      <th>date</th>\n",
       "      <th>weekday</th>\n",
       "      <th>heure</th>\n",
       "      <th>age</th>\n",
       "    </tr>\n",
       "    <tr>\n",
       "      <th>Num_Acc</th>\n",
       "      <th></th>\n",
       "      <th></th>\n",
       "      <th></th>\n",
       "      <th></th>\n",
       "      <th></th>\n",
       "      <th></th>\n",
       "      <th></th>\n",
       "      <th></th>\n",
       "      <th></th>\n",
       "      <th></th>\n",
       "      <th></th>\n",
       "      <th></th>\n",
       "      <th></th>\n",
       "      <th></th>\n",
       "      <th></th>\n",
       "      <th></th>\n",
       "      <th></th>\n",
       "      <th></th>\n",
       "      <th></th>\n",
       "      <th></th>\n",
       "      <th></th>\n",
       "    </tr>\n",
       "  </thead>\n",
       "  <tbody>\n",
       "    <tr>\n",
       "      <th>202200000001</th>\n",
       "      <td>813952</td>\n",
       "      <td>NaN</td>\n",
       "      <td>1</td>\n",
       "      <td>1</td>\n",
       "      <td>3.0</td>\n",
       "      <td>1.0</td>\n",
       "      <td>2008.0</td>\n",
       "      <td>5.0</td>\n",
       "      <td>1.0</td>\n",
       "      <td>2.0</td>\n",
       "      <td>...</td>\n",
       "      <td>True</td>\n",
       "      <td>False</td>\n",
       "      <td>False</td>\n",
       "      <td>False</td>\n",
       "      <td>False</td>\n",
       "      <td>False</td>\n",
       "      <td>NaN</td>\n",
       "      <td>NaN</td>\n",
       "      <td>16</td>\n",
       "      <td>16.0</td>\n",
       "    </tr>\n",
       "    <tr>\n",
       "      <th>202200000001</th>\n",
       "      <td>813953</td>\n",
       "      <td>NaN</td>\n",
       "      <td>1</td>\n",
       "      <td>1</td>\n",
       "      <td>1.0</td>\n",
       "      <td>1.0</td>\n",
       "      <td>1948.0</td>\n",
       "      <td>5.0</td>\n",
       "      <td>1.0</td>\n",
       "      <td>7.0</td>\n",
       "      <td>...</td>\n",
       "      <td>False</td>\n",
       "      <td>False</td>\n",
       "      <td>False</td>\n",
       "      <td>False</td>\n",
       "      <td>False</td>\n",
       "      <td>False</td>\n",
       "      <td>NaN</td>\n",
       "      <td>NaN</td>\n",
       "      <td>16</td>\n",
       "      <td>76.0</td>\n",
       "    </tr>\n",
       "    <tr>\n",
       "      <th>202200000002</th>\n",
       "      <td>813950</td>\n",
       "      <td>NaN</td>\n",
       "      <td>1</td>\n",
       "      <td>1</td>\n",
       "      <td>4.0</td>\n",
       "      <td>1.0</td>\n",
       "      <td>1988.0</td>\n",
       "      <td>9.0</td>\n",
       "      <td>2.0</td>\n",
       "      <td>7.0</td>\n",
       "      <td>...</td>\n",
       "      <td>False</td>\n",
       "      <td>False</td>\n",
       "      <td>False</td>\n",
       "      <td>False</td>\n",
       "      <td>False</td>\n",
       "      <td>False</td>\n",
       "      <td>NaN</td>\n",
       "      <td>NaN</td>\n",
       "      <td>8</td>\n",
       "      <td>36.0</td>\n",
       "    </tr>\n",
       "    <tr>\n",
       "      <th>202200000002</th>\n",
       "      <td>813951</td>\n",
       "      <td>NaN</td>\n",
       "      <td>1</td>\n",
       "      <td>1</td>\n",
       "      <td>1.0</td>\n",
       "      <td>1.0</td>\n",
       "      <td>1970.0</td>\n",
       "      <td>4.0</td>\n",
       "      <td>2.0</td>\n",
       "      <td>10.0</td>\n",
       "      <td>...</td>\n",
       "      <td>False</td>\n",
       "      <td>False</td>\n",
       "      <td>False</td>\n",
       "      <td>False</td>\n",
       "      <td>False</td>\n",
       "      <td>False</td>\n",
       "      <td>NaN</td>\n",
       "      <td>NaN</td>\n",
       "      <td>8</td>\n",
       "      <td>54.0</td>\n",
       "    </tr>\n",
       "    <tr>\n",
       "      <th>202200000003</th>\n",
       "      <td>813948</td>\n",
       "      <td>NaN</td>\n",
       "      <td>1</td>\n",
       "      <td>1</td>\n",
       "      <td>1.0</td>\n",
       "      <td>1.0</td>\n",
       "      <td>2002.0</td>\n",
       "      <td>0.0</td>\n",
       "      <td>2.0</td>\n",
       "      <td>7.0</td>\n",
       "      <td>...</td>\n",
       "      <td>False</td>\n",
       "      <td>False</td>\n",
       "      <td>False</td>\n",
       "      <td>False</td>\n",
       "      <td>False</td>\n",
       "      <td>False</td>\n",
       "      <td>NaN</td>\n",
       "      <td>NaN</td>\n",
       "      <td>17</td>\n",
       "      <td>22.0</td>\n",
       "    </tr>\n",
       "  </tbody>\n",
       "</table>\n",
       "<p>5 rows × 49 columns</p>\n",
       "</div>"
      ]
     },
     "execution_count": 39,
     "metadata": {},
     "output_type": "execute_result"
    }
   ],
   "execution_count": 39
  },
  {
   "metadata": {
    "ExecuteTime": {
     "end_time": "2024-09-26T10:57:37.931932Z",
     "start_time": "2024-09-26T10:57:37.437093Z"
    }
   },
   "cell_type": "code",
   "source": [
    "# Séparer les caractéristiques (features) et la cible (target)\n",
    "X = df.drop('grav', axis=1)  # Remplacez 'target_column' par le nom de votre colonne cible\n",
    "y = df['grav']  # Remplacez 'target_column' par le nom de votre colonne cible\n",
    "\n",
    "# Diviser le jeu de données en ensembles d'entraînement et de test\n",
    "X_train, X_test, y_train, y_test = train_test_split(X, y, test_size=0.2, random_state=42)\n",
    "\n",
    "# Initialiser le modèle RandomForest\n",
    "rf_model = RandomForestClassifier(n_estimators=100, random_state=42)"
   ],
   "id": "3f1d86b6d9e63c58",
   "outputs": [],
   "execution_count": 40
  },
  {
   "metadata": {
    "ExecuteTime": {
     "end_time": "2024-09-26T11:30:46.825580Z",
     "start_time": "2024-09-26T11:30:46.796500Z"
    }
   },
   "cell_type": "code",
   "source": [
    "# Définir la grille des hyperparamètres à tester\n",
    "param_grid = {\n",
    "    'n_estimators': [100, 200],\n",
    "    'max_depth': [None, 10, 20],\n",
    "    'min_samples_split': [2, 5],\n",
    "    'min_samples_leaf': [1, 2],\n",
    "    'bootstrap': [True, False]\n",
    "}\n",
    "\n",
    "# Initialiser GridSearchCV\n",
    "grid_search = GridSearchCV(estimator=rf_model, param_grid=param_grid, cv=3, n_jobs=-1, verbose=2)"
   ],
   "id": "9ce57395749f16b7",
   "outputs": [],
   "execution_count": 43
  },
  {
   "metadata": {
    "ExecuteTime": {
     "end_time": "2024-09-26T11:39:43.636065Z",
     "start_time": "2024-09-26T11:30:49.033430Z"
    }
   },
   "cell_type": "code",
   "source": [
    "# Entraîner GridSearchCV\n",
    "grid_search.fit(X_train, y_train)\n",
    "\n",
    "# Meilleurs hyperparamètres\n",
    "print(f\"Best parameters: {grid_search.best_params_}\")"
   ],
   "id": "3632f0a8cfc1186a",
   "outputs": [
    {
     "name": "stdout",
     "output_type": "stream",
     "text": [
      "Fitting 3 folds for each of 48 candidates, totalling 144 fits\n"
     ]
    },
    {
     "name": "stderr",
     "output_type": "stream",
     "text": [
      "Exception ignored in: 'zmq.backend.cython.message.Frame.__dealloc__'\n",
      "Traceback (most recent call last):\n",
      "  File \"zmq\\\\backend\\\\cython\\\\checkrc.pxd\", line 13, in zmq.backend.cython.checkrc._check_rc\n",
      "KeyboardInterrupt: \n",
      "\n",
      "KeyboardInterrupt\n",
      "\n"
     ]
    }
   ],
   "execution_count": 44
  },
  {
   "metadata": {
    "ExecuteTime": {
     "end_time": "2024-09-26T11:30:45.052460400Z",
     "start_time": "2024-09-26T10:54:45.578677Z"
    }
   },
   "cell_type": "code",
   "source": [
    "# Utiliser le meilleur modèle pour prédire les valeurs sur l'ensemble de test\n",
    "best_rf_model = grid_search.best_estimator_\n",
    "y_pred = best_rf_model.predict(X_test)"
   ],
   "id": "550980b0d5b03441",
   "outputs": [],
   "execution_count": 35
  },
  {
   "metadata": {
    "ExecuteTime": {
     "end_time": "2024-09-26T11:30:45.130027600Z",
     "start_time": "2024-09-26T10:55:02.794842Z"
    }
   },
   "cell_type": "code",
   "source": [
    "# Évaluer le modèle\n",
    "accuracy = accuracy_score(y_test, y_pred)\n",
    "report = classification_report(y_test, y_pred)\n",
    "\n",
    "print(f\"Accuracy: {accuracy}\")\n",
    "print(\"Classification Report:\")\n",
    "print(report)"
   ],
   "id": "7bf443c4642451eb",
   "outputs": [
    {
     "name": "stdout",
     "output_type": "stream",
     "text": [
      "Accuracy: 0.6747540983606557\n",
      "Classification Report:\n",
      "              precision    recall  f1-score   support\n",
      "\n",
      "         1.0       0.72      0.84      0.78     29052\n",
      "         2.0       0.41      0.04      0.07      1659\n",
      "         3.0       0.53      0.42      0.47      9532\n",
      "         4.0       0.65      0.62      0.64     25332\n",
      "\n",
      "    accuracy                           0.67     65575\n",
      "   macro avg       0.58      0.48      0.49     65575\n",
      "weighted avg       0.66      0.67      0.66     65575\n",
      "\n"
     ]
    }
   ],
   "execution_count": 37
  },
  {
   "metadata": {},
   "cell_type": "code",
   "outputs": [],
   "execution_count": null,
   "source": "",
   "id": "84c6ce8ffa3ec54d"
  }
 ],
 "metadata": {
  "kernelspec": {
   "display_name": "Python 3",
   "language": "python",
   "name": "python3"
  },
  "language_info": {
   "codemirror_mode": {
    "name": "ipython",
    "version": 2
   },
   "file_extension": ".py",
   "mimetype": "text/x-python",
   "name": "python",
   "nbconvert_exporter": "python",
   "pygments_lexer": "ipython2",
   "version": "2.7.6"
  }
 },
 "nbformat": 4,
 "nbformat_minor": 5
}
