{
 "cells": [
  {
   "cell_type": "code",
   "execution_count": 1,
   "id": "9cc6f008-baf0-4ac5-bd37-db45ef3f6361",
   "metadata": {
    "tags": []
   },
   "outputs": [],
   "source": [
    "# Fonction diviser\n",
    "def diviser_fichier(fichier_source, taille_morceau):\n",
    "    with open(fichier_source, 'rb') as source:\n",
    "        index = 0\n",
    "        while chunk := source.read(taille_morceau):\n",
    "            with open(f\"{fichier_source}.part{index}\", 'wb') as morceau:\n",
    "                morceau.write(chunk)\n",
    "            index += 1\n",
    "\n"
   ]
  },
  {
   "cell_type": "code",
   "execution_count": 7,
   "id": "b5cb31cc-876e-44e0-87e5-2c2feca67a59",
   "metadata": {
    "tags": []
   },
   "outputs": [],
   "source": [
    "\n",
    "diviser_fichier('Data/df_accidents_renamed.csv', 50 * 1024 * 1024)  # 50 Mo\n"
   ]
  },
  {
   "cell_type": "code",
   "execution_count": 9,
   "id": "9a13e933-bc76-4c51-b533-8a4dc97275cc",
   "metadata": {
    "tags": []
   },
   "outputs": [],
   "source": [
    "diviser_fichier('Data/X_train.csv', 50 * 1024 * 1024)  # 50 Mo"
   ]
  },
  {
   "cell_type": "code",
   "execution_count": 11,
   "id": "1ad43b03-36fb-452c-a9ae-dd517e61a81f",
   "metadata": {
    "tags": []
   },
   "outputs": [],
   "source": [
    "diviser_fichier('Modeles/shap_values_lgbm_all.pkl', 50 * 1024 * 1024)  # 50 Mo"
   ]
  },
  {
   "cell_type": "code",
   "execution_count": null,
   "id": "1681639c-9b1b-4e10-828c-90fa1d83776f",
   "metadata": {},
   "outputs": [],
   "source": []
  }
 ],
 "metadata": {
  "kernelspec": {
   "display_name": "Python 3 (ipykernel)",
   "language": "python",
   "name": "python3"
  },
  "language_info": {
   "codemirror_mode": {
    "name": "ipython",
    "version": 3
   },
   "file_extension": ".py",
   "mimetype": "text/x-python",
   "name": "python",
   "nbconvert_exporter": "python",
   "pygments_lexer": "ipython3",
   "version": "3.11.11"
  }
 },
 "nbformat": 4,
 "nbformat_minor": 5
}
