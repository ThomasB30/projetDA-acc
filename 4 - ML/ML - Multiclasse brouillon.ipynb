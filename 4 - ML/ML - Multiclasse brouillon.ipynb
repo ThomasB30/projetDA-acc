{
 "cells": [
  {
   "cell_type": "code",
   "execution_count": 1,
   "id": "3ac39476",
   "metadata": {},
   "outputs": [],
   "source": [
    "# Chargement des packages nécessaires\n",
    "import numpy as np\n",
    "import pandas as pd\n",
    "import matplotlib.pyplot as plt\n",
    "import seaborn as sns"
   ]
  },
  {
   "cell_type": "markdown",
   "id": "3c917fc8",
   "metadata": {},
   "source": [
    "# Importation des données\n",
    "\n",
    "On importe les données de 2020 à 2022"
   ]
  },
  {
   "cell_type": "code",
   "execution_count": 3,
   "id": "e335b317",
   "metadata": {},
   "outputs": [],
   "source": [
    "# Année 2022\n",
    "df_carac_2022 = pd.read_csv(\"../data/caracteristiques_2022.csv\", sep=';', low_memory=False)\n",
    "df_lieux_2022 = pd.read_csv(\"../data/lieux_2022.csv\", sep=';', low_memory=False)\n",
    "df_usagers_2022 = pd.read_csv(\"../data/usagers_2022.csv\", sep=';', low_memory=False)\n",
    "df_vehicules_2022 = pd.read_csv(\"../data/vehicules_2022.csv\", sep=';', low_memory=False)\n",
    "\n",
    "# Année 2021\n",
    "df_carac_2021 = pd.read_csv(\"../data/caracteristiques_2021.csv\", sep=';', low_memory=False)\n",
    "df_lieux_2021 = pd.read_csv(\"../data/lieux_2021.csv\", sep=';', low_memory=False)\n",
    "df_usagers_2021 = pd.read_csv(\"../data/usagers_2021.csv\", sep=';', low_memory=False)\n",
    "df_vehicules_2021 = pd.read_csv(\"../data/vehicules_2021.csv\", sep=';', low_memory=False)\n",
    "\n",
    "# Année 2020\n",
    "df_carac_2020 = pd.read_csv(\"../data/caracteristiques_2020.csv\", sep=';', low_memory=False)\n",
    "df_lieux_2020 = pd.read_csv(\"../data/lieux_2020.csv\", sep=';', low_memory=False)\n",
    "df_usagers_2020 = pd.read_csv(\"../data/usagers_2020.csv\", sep=';', low_memory=False)\n",
    "df_vehicules_2020 = pd.read_csv(\"../data/vehicules_2020.csv\", sep=';', low_memory=False)\n"
   ]
  },
  {
   "cell_type": "markdown",
   "id": "e731e77c",
   "metadata": {},
   "source": [
    "# Jointure"
   ]
  },
  {
   "cell_type": "code",
   "execution_count": 5,
   "id": "0966c728",
   "metadata": {},
   "outputs": [],
   "source": [
    "# On modifie le nom de la colonne de df_carac_2022\n",
    "\n",
    "df_carac_2022.rename(columns={'Accident_Id': 'Num_Acc'}, inplace=True)"
   ]
  },
  {
   "cell_type": "code",
   "execution_count": 6,
   "id": "8a3d665f",
   "metadata": {},
   "outputs": [],
   "source": [
    "# On joint les df par années\n",
    "\n",
    "df_merged_2022_1 = pd.merge(df_usagers_2022, df_vehicules_2022, on=['Num_Acc', 'id_vehicule', 'num_veh'])\n",
    "df_merged_2022_2 = pd.merge(df_merged_2022_1, df_lieux_2022, on='Num_Acc')\n",
    "df_merged_2022 = pd.merge(df_merged_2022_2, df_carac_2022, on='Num_Acc')"
   ]
  },
  {
   "cell_type": "code",
   "execution_count": 7,
   "id": "738f8eff",
   "metadata": {},
   "outputs": [],
   "source": [
    "# On fait de même avec les autres années\n",
    "\n",
    "df_merged_2021_1 = pd.merge(df_usagers_2021, df_vehicules_2021, on=['Num_Acc', 'id_vehicule', 'num_veh'])\n",
    "df_merged_2021_2 = pd.merge(df_merged_2021_1, df_lieux_2021, on='Num_Acc')\n",
    "df_merged_2021 = pd.merge(df_merged_2021_2, df_carac_2021, on='Num_Acc')\n",
    "\n",
    "df_merged_2020_1 = pd.merge(df_usagers_2020, df_vehicules_2020, on=['Num_Acc', 'id_vehicule', 'num_veh'])\n",
    "df_merged_2020_2 = pd.merge(df_merged_2020_1, df_lieux_2020, on='Num_Acc')\n",
    "df_merged_2020 = pd.merge(df_merged_2020_2, df_carac_2020, on='Num_Acc')"
   ]
  },
  {
   "cell_type": "code",
   "execution_count": 8,
   "id": "8b2287ba",
   "metadata": {},
   "outputs": [],
   "source": [
    "# On concat le tout dans un seul df\n",
    "\n",
    "df_merged = pd.concat([df_merged_2022, df_merged_2021, df_merged_2020], axis=0, ignore_index=True)"
   ]
  },
  {
   "cell_type": "code",
   "execution_count": 9,
   "id": "600ea24a",
   "metadata": {},
   "outputs": [
    {
     "name": "stdout",
     "output_type": "stream",
     "text": [
      "<class 'pandas.core.frame.DataFrame'>\n",
      "RangeIndex: 361205 entries, 0 to 361204\n",
      "Data columns (total 55 columns):\n",
      " #   Column       Non-Null Count   Dtype  \n",
      "---  ------       --------------   -----  \n",
      " 0   Num_Acc      361205 non-null  int64  \n",
      " 1   id_usager    255910 non-null  object \n",
      " 2   id_vehicule  361205 non-null  object \n",
      " 3   num_veh      361205 non-null  object \n",
      " 4   place        361205 non-null  int64  \n",
      " 5   catu         361205 non-null  int64  \n",
      " 6   grav         361205 non-null  int64  \n",
      " 7   sexe         361205 non-null  int64  \n",
      " 8   an_nais      355264 non-null  float64\n",
      " 9   trajet       361205 non-null  int64  \n",
      " 10  secu1        361205 non-null  int64  \n",
      " 11  secu2        361205 non-null  int64  \n",
      " 12  secu3        361205 non-null  int64  \n",
      " 13  locp         361205 non-null  int64  \n",
      " 14  actp         361205 non-null  object \n",
      " 15  etatp        361205 non-null  int64  \n",
      " 16  senc         361205 non-null  int64  \n",
      " 17  catv         361205 non-null  int64  \n",
      " 18  obs          361205 non-null  int64  \n",
      " 19  obsm         361205 non-null  int64  \n",
      " 20  choc         361205 non-null  int64  \n",
      " 21  manv         361205 non-null  int64  \n",
      " 22  motor        361205 non-null  int64  \n",
      " 23  occutc       4334 non-null    float64\n",
      " 24  catr         361205 non-null  int64  \n",
      " 25  voie         319555 non-null  object \n",
      " 26  v1           361205 non-null  int64  \n",
      " 27  v2           29800 non-null   object \n",
      " 28  circ         361205 non-null  int64  \n",
      " 29  nbv          361205 non-null  object \n",
      " 30  vosp         361205 non-null  int64  \n",
      " 31  prof         361205 non-null  int64  \n",
      " 32  pr           361205 non-null  object \n",
      " 33  pr1          361205 non-null  object \n",
      " 34  plan         361205 non-null  int64  \n",
      " 35  lartpc       615 non-null     object \n",
      " 36  larrout      361205 non-null  object \n",
      " 37  surf         361205 non-null  int64  \n",
      " 38  infra        361205 non-null  int64  \n",
      " 39  situ         361205 non-null  int64  \n",
      " 40  vma          361205 non-null  int64  \n",
      " 41  jour         361205 non-null  int64  \n",
      " 42  mois         361205 non-null  int64  \n",
      " 43  an           361205 non-null  int64  \n",
      " 44  hrmn         361205 non-null  object \n",
      " 45  lum          361205 non-null  int64  \n",
      " 46  dep          361205 non-null  object \n",
      " 47  com          361205 non-null  object \n",
      " 48  agg          361205 non-null  int64  \n",
      " 49  int          361205 non-null  int64  \n",
      " 50  atm          361205 non-null  int64  \n",
      " 51  col          361205 non-null  int64  \n",
      " 52  adr          356175 non-null  object \n",
      " 53  lat          361205 non-null  object \n",
      " 54  long         361205 non-null  object \n",
      "dtypes: float64(2), int64(36), object(17)\n",
      "memory usage: 151.6+ MB\n"
     ]
    }
   ],
   "source": [
    "df_merged.info()"
   ]
  },
  {
   "cell_type": "markdown",
   "id": "44327b03",
   "metadata": {},
   "source": [
    "## Pré-traitement"
   ]
  },
  {
   "cell_type": "markdown",
   "id": "67c1726f",
   "metadata": {},
   "source": [
    "Observations dupliquées ?"
   ]
  },
  {
   "cell_type": "code",
   "execution_count": 12,
   "id": "4d5f5c23",
   "metadata": {},
   "outputs": [
    {
     "name": "stdout",
     "output_type": "stream",
     "text": [
      "Nombre de lignes dupliquées : 63\n"
     ]
    }
   ],
   "source": [
    "print('Nombre de lignes dupliquées :', df_merged.duplicated().sum())"
   ]
  },
  {
   "cell_type": "code",
   "execution_count": 13,
   "id": "80da5c5d",
   "metadata": {},
   "outputs": [],
   "source": [
    "# On supprime les lignes dupliquées\n",
    "\n",
    "df_merged = df_merged.drop_duplicates(keep = 'first')"
   ]
  },
  {
   "cell_type": "code",
   "execution_count": 14,
   "id": "78025345",
   "metadata": {},
   "outputs": [
    {
     "name": "stdout",
     "output_type": "stream",
     "text": [
      "Nombre de lignes dupliquées : 0\n"
     ]
    }
   ],
   "source": [
    "print('Nombre de lignes dupliquées :', df_merged.duplicated().sum())"
   ]
  },
  {
   "cell_type": "markdown",
   "id": "70522653",
   "metadata": {},
   "source": [
    "Les variables peuvent prendre la valeur de '-1' qui signifie 'Non renseigné'. Pour mieux gérer le nettoyage du df, on remplace cette valeur par un NaN.\n"
   ]
  },
  {
   "cell_type": "code",
   "execution_count": 16,
   "id": "4717b34a",
   "metadata": {},
   "outputs": [],
   "source": [
    "df_merged = df_merged.replace(-1, np.nan)\n",
    "df_merged = df_merged.replace('-1', np.nan)  # Si format txt\n",
    "df_merged = df_merged.replace(' -1', np.nan)  # Si format txt"
   ]
  },
  {
   "cell_type": "markdown",
   "id": "da875cf7",
   "metadata": {},
   "source": [
    "Visualisation des taux de NaN par variable"
   ]
  },
  {
   "cell_type": "code",
   "execution_count": 18,
   "id": "d56ae3c0",
   "metadata": {},
   "outputs": [
    {
     "data": {
      "image/png": "[encoded data removed]",
      "text/plain": [
       "<Figure size 1500x1000 with 1 Axes>"
      ]
     },
     "metadata": {},
     "output_type": "display_data"
    }
   ],
   "source": [
    "nan_col = df_merged.isna().sum().sort_values(ascending=True)/df_merged.shape[0]\n",
    "nan_col.plot.barh(figsize=(15,10))  # On trace via pandas\n",
    "plt.xticks([0.0, 0.1, 0.2, 0.3, 0.4, 0.5, 0.6, 0.7, 0.8, 0.9, 1.0])\n",
    "plt.grid(True)\n",
    "plt.xlabel('Proportion de valeurs manquantes')\n",
    "plt.ylabel('Variable')\n",
    "plt.show();"
   ]
  },
  {
   "cell_type": "markdown",
   "id": "a30dfa2d",
   "metadata": {},
   "source": [
    "Les variables suivantes ont des taux de NaN supérieurs à 10% :\n",
    "- lartpc : largeur du TPC si existe\n",
    "- secu3 : Présence et utilisation d'un équipeemnt de sécurité (3eme renseignement possible)\n",
    "- occutc : Nb d'occupants dans le transport en commun\n",
    "- larrout : Largeur de la chaussée\n",
    "- etatp : Si piéton accidenté accompagné ou non\n",
    "- v2 : Lettre indice alphanum de la route\n",
    "- locp : Localisation du piéton\n",
    "- actp : Action du piéton\n",
    "- secu2 : Présence et utilisation d'un équipeemnt de sécurité (2eme renseignement possible)\n",
    "- id_usager : Identifiant unique de l'usager (que depuis 2021)\n",
    "- v1 : Indice num du numéro de route\n",
    "- voie : Numéro de la route"
   ]
  },
  {
   "cell_type": "markdown",
   "id": "fb05e1eb",
   "metadata": {},
   "source": [
    "Au vu du nombre important de NaN, ces variables ne seront pas analysées (gestion des NaN peu envisageable). Nous faisons cependant l'exception pour les équipements de sécurité. Ils seront regroupés dans des variables pour chaque élément.\n",
    "\n",
    "3 variables concernant les piétons sont également non utilisables. Pour la suite, on retirera également les autres variables en lien avec des piétons (catu = 3 (Piéton))\n",
    "\n",
    "Pour la localisation des accidents, du fait d'avoir les latitudes et longitudes, nous pouvons supprimer les autres variables. Nous gardons tout de même la variable dep (département) et com (commune)."
   ]
  },
  {
   "cell_type": "code",
   "execution_count": 21,
   "id": "fe2a926c",
   "metadata": {},
   "outputs": [],
   "source": [
    "df_merged = df_merged.drop(['lartpc', 'occutc', 'larrout', 'etatp', 'locp', 'actp', 'id_usager',\n",
    "                            'voie', 'v1', 'v2', 'adr', 'pr', 'pr1'], axis=1)\n",
    "\n",
    "df_merged = df_merged[df_merged[\"catu\"] != 3]"
   ]
  },
  {
   "cell_type": "markdown",
   "id": "79c18195",
   "metadata": {},
   "source": [
    "On trie les variables 'secu', 'secu2' et 'secu3'"
   ]
  },
  {
   "cell_type": "code",
   "execution_count": 23,
   "id": "47b4cbd2",
   "metadata": {},
   "outputs": [],
   "source": [
    "df_merged['Ceinture'] = df_merged[['secu1', 'secu2', 'secu3']].isin([1]).any(axis=1)\n",
    "df_merged['Casque'] = df_merged[['secu1', 'secu2', 'secu3']].isin([2]).any(axis=1)\n",
    "df_merged['Dispositif enfants'] = df_merged[['secu1', 'secu2', 'secu3']].isin([3]).any(axis=1)\n",
    "df_merged['Gilet réfléchissant'] = df_merged[['secu1', 'secu2', 'secu3']].isin([4]).any(axis=1)\n",
    "df_merged['Airbag'] = df_merged[['secu1', 'secu2', 'secu3']].isin([5, 7]).any(axis=1)\n",
    "df_merged['Gants'] = df_merged[['secu1', 'secu2', 'secu3']].isin([6, 7]).any(axis=1)\n",
    "df_merged['Autre equipement'] = df_merged[['secu1', 'secu2', 'secu3']].isin([9]).any(axis=1)\n",
    "\n",
    "df_merged = df_merged.drop(['secu1', 'secu2', 'secu3'], axis=1)"
   ]
  },
  {
   "cell_type": "markdown",
   "id": "e1a3a2b7",
   "metadata": {},
   "source": [
    "On enlève les limitations de vitesse > à 130 km/h"
   ]
  },
  {
   "cell_type": "code",
   "execution_count": 25,
   "id": "a941b1d5",
   "metadata": {},
   "outputs": [],
   "source": [
    "df_merged.loc[df_merged['vma'] > 130, 'vma'] = np.nan"
   ]
  },
  {
   "cell_type": "markdown",
   "id": "fbf2e73e",
   "metadata": {},
   "source": [
    "On convertit dans le bon format les latitudes et longitudes"
   ]
  },
  {
   "cell_type": "code",
   "execution_count": 27,
   "id": "81fe8adc",
   "metadata": {},
   "outputs": [],
   "source": [
    "df_merged['lat'] = df_merged['lat'].str.replace(',', '.').astype(float)\n",
    "df_merged['long'] = df_merged['long'].str.replace(',', '.').astype(float)"
   ]
  },
  {
   "cell_type": "markdown",
   "id": "8aa70080",
   "metadata": {},
   "source": [
    "On ne garde pas les victimes trop vieilles"
   ]
  },
  {
   "cell_type": "code",
   "execution_count": 29,
   "id": "69b95920",
   "metadata": {},
   "outputs": [],
   "source": [
    "df_merged = df_merged[df_merged[\"an_nais\"] >= 1920]"
   ]
  },
  {
   "cell_type": "code",
   "execution_count": 30,
   "id": "64bcc583",
   "metadata": {},
   "outputs": [],
   "source": [
    "# On convertit le df pour avoir des dates exploitables\n",
    "\n",
    "df_merged['date'] = df_merged['jour'].astype(str) + '-' + df_merged['mois'].astype(str) + '-' + df_merged['an'].astype(str) + '-' \n",
    "df_merged['date'] = pd.to_datetime(df_merged['date'], dayfirst=True)\n"
   ]
  },
  {
   "cell_type": "code",
   "execution_count": 31,
   "id": "141ab144-9771-43f0-821f-f8d01fbdfbed",
   "metadata": {},
   "outputs": [],
   "source": [
    "# On crée une variable région\n",
    "\n",
    "region = pd.read_csv(\"../data/departements-region.csv\")\n",
    "region = region.rename(columns={'num_dep': 'dep'})\n",
    "\n",
    "df_merged = df_merged.merge(region, how='left', on='dep')"
   ]
  },
  {
   "cell_type": "markdown",
   "id": "e8cc8372-5e6a-4bd5-9713-60a4c39e10bf",
   "metadata": {},
   "source": [
    "### Traitement de la donnée en vue de la modélisation\n",
    "Ce regroupement se base sur les observations faites lors de la data visualisation"
   ]
  },
  {
   "cell_type": "code",
   "execution_count": 33,
   "id": "d70d6f8b-83c9-4162-a64d-396e21f409d8",
   "metadata": {},
   "outputs": [],
   "source": [
    "# On crée une variable heure\n",
    "\n",
    "df_merged['hrmn'] = df_merged['hrmn'].str.replace(':', '')\n",
    "df_merged['heure'] = df_merged['hrmn'].astype(int)//100\n",
    "\n",
    "# On supprime la variable initiale\n",
    "df_merged = df_merged.drop(['hrmn'], axis=1)\n"
   ]
  },
  {
   "cell_type": "code",
   "execution_count": 34,
   "id": "4e6caa61-cad8-439e-9a90-82211f3a8d81",
   "metadata": {},
   "outputs": [],
   "source": [
    "# Variable place : place dans le véhicule\n",
    "\n",
    "# Modalité : 1 à 9\n",
    "# On regroupe en 3 catégories : conducteur, passager avant, passager arrière\n",
    "df_merged['place'] = df_merged['place'].astype(int)\n",
    "\n",
    "df_merged['conducteur'] = df_merged['place'].apply(lambda x: 1 if x==1 else 0)\n",
    "df_merged['passager_avant'] = df_merged['place'].apply(lambda x: 1 if x in [2, 6] else 0)\n",
    "df_merged['passager_arrière'] = df_merged['place'].apply(lambda x: 1 if x not in [1, 2, 6] else 0)\n",
    "\n",
    "# On supprime la variable initiale\n",
    "df_merged = df_merged.drop(['place'], axis=1)\n"
   ]
  },
  {
   "cell_type": "code",
   "execution_count": 35,
   "id": "c6a383ac-19e0-4777-b5da-c91c526ea2b2",
   "metadata": {},
   "outputs": [],
   "source": [
    "# Variable catu : conducteur ou passager\n",
    "\n",
    "# Modalité 1 (conducteur) ou 2 (passager)\n",
    "# Le nombre d'occurence entre conducteur ou passager n'est pas cohérent avec celui de la variable place\n",
    "# (263561 conducteurs contre 263915 pour variable catu)\n",
    "# On garde la variable place car plus précise\n",
    "\n",
    "df_merged = df_merged.drop(['catu'], axis=1)\n"
   ]
  },
  {
   "cell_type": "code",
   "execution_count": 36,
   "id": "d112b2b5-a55b-4e3f-9132-ccd149de33bd",
   "metadata": {},
   "outputs": [],
   "source": [
    "# Variable grav : gravité de l'accident\n",
    "\n",
    "# Modalité : 'Indemne' (1), 'Tué' (2), 'Blessé hospitalisé' (3), 'Blessé léger' (4)\n",
    "# Variable cible\n",
    "# On supprime le seul NaN présent\n",
    "\n",
    "df_merged = df_merged.dropna(subset=['grav'])\n",
    "df_merged['grav'] = df_merged['grav'].astype(int)\n"
   ]
  },
  {
   "cell_type": "code",
   "execution_count": 37,
   "id": "f627300f-ddf9-4a80-a48f-2c9c61b315ee",
   "metadata": {},
   "outputs": [],
   "source": [
    "# Variable sexe : sexe de l'usager\n",
    "\n",
    "# Modalité : Masculin' (1), 'Féminin' (2)\n",
    "# Nb NaN : 4, on remplace par le mode\n",
    "\n",
    "df_merged['sexe'] = df_merged['sexe'].fillna(df_merged['sexe'].mode()[0])\n",
    "df_merged['sexe'] = df_merged['sexe'].astype(int)\n"
   ]
  },
  {
   "cell_type": "code",
   "execution_count": 38,
   "id": "3da7783c-e44b-4a6c-b9f4-11c33aafd4c1",
   "metadata": {},
   "outputs": [],
   "source": [
    "# Variable an_nais : année de naissance de l'usager\n",
    "\n",
    "# On tranforme cette variable pour connaître l'âge de l'usager\n",
    "df_merged['an_nais'] = df_merged['an_nais'].astype(int)\n",
    "\n",
    "df_merged['age'] = df_merged['an'] - df_merged['an_nais']\n"
   ]
  },
  {
   "cell_type": "code",
   "execution_count": 39,
   "id": "9b7eb2e7-6fb1-4ad5-a331-5d77fc037f7a",
   "metadata": {},
   "outputs": [],
   "source": [
    "# Variable trajet : motif du trajet\n",
    "\n",
    "# Modalité : 5.  9.  4.  0. nan  2.  3.  1.\n",
    "# Nb NaN : 503, on remplace par le mode\n",
    "\n",
    "df_merged['trajet'] = df_merged['trajet'].replace(0, np.nan)\n",
    "df_merged['trajet'] = df_merged['trajet'].fillna(df_merged['trajet'].mode()[0])\n",
    "df_merged['trajet'] = df_merged['trajet'].astype(int)\n",
    "\n",
    "# On regroupe en 3 catégorie : autre, pro ou perso\n",
    "df_merged['trajet_pro'] = df_merged['trajet'].apply(lambda x: 1 if x in [1, 4] else 0)\n",
    "df_merged['trajet_perso'] = df_merged['trajet'].apply(lambda x: 1 if x in [2, 3, 5] else 0)\n",
    "df_merged['trajet_autre'] = df_merged['trajet'].apply(lambda x: 1 if x==9 else 0)\n",
    "\n",
    "df_merged = df_merged.drop(['trajet'], axis=1)\n"
   ]
  },
  {
   "cell_type": "code",
   "execution_count": 40,
   "id": "306c9a7a-2d09-4c9d-b885-597736e1e74d",
   "metadata": {},
   "outputs": [],
   "source": [
    "# Variable senc : sens de circulation\n",
    "\n",
    "# Modalité : 0 1 2 3\n",
    "# Nb NaN : 1376, on les place dans la catégorie inconnu\n",
    "\n",
    "df_merged['senc'] = df_merged['senc'].fillna(0)\n",
    "df_merged['senc'] = df_merged['senc'].astype(int)\n"
   ]
  },
  {
   "cell_type": "code",
   "execution_count": 41,
   "id": "2c0a4970-5455-4dbd-8203-a93165639c03",
   "metadata": {},
   "outputs": [],
   "source": [
    "# Variable catv : categorie du vehicule\n",
    "\n",
    "# Modalité : nombreuse\n",
    "# Nb NaN : 3, on les place dans le mode\n",
    "\n",
    "df_merged['catv'] = df_merged['catv'].fillna(0)\n",
    "df_merged['catv'] = df_merged['catv'].astype(int)\n",
    "\n",
    "# On regroupe en sous-catégorie\n",
    "df_merged['catv_velo'] = df_merged['catv'].apply(lambda x: 1 if x in [1,80] else 0)\n",
    "df_merged['catv_moto'] = df_merged['catv'].apply(lambda x: 1 if x in [2,4,5,30,31,32,33,34] else 0)\n",
    "df_merged['catv_voiture'] = df_merged['catv'].apply(lambda x: 1 if x in [7] else 0)\n",
    "df_merged['catv_utilitaire'] = df_merged['catv'].apply(lambda x: 1 if x in [10] else 0)\n",
    "df_merged['catv_veh_remorque'] = df_merged['catv'].apply(lambda x: 1 if x in [8,9,11,12] else 0)\n",
    "df_merged['catv_PL'] = df_merged['catv'].apply(lambda x: 1 if x in [13,14,15] else 0)\n",
    "df_merged['catv_tracteur'] = df_merged['catv'].apply(lambda x: 1 if x in [16,17,21] else 0)\n",
    "df_merged['catv_tram_train'] = df_merged['catv'].apply(lambda x: 1 if x in [19,39,40] else 0)\n",
    "df_merged['catv_quad_3roues'] = df_merged['catv'].apply(lambda x: 1 if x in [135,36,41,42,43] else 0)\n",
    "df_merged['catv_autre_inconnu'] = df_merged['catv'].apply(lambda x: 1 if x in [0,3,6,18,20,99] else 0)\n",
    "df_merged['catv_bus_car'] = df_merged['catv'].apply(lambda x: 1 if x in [37,38] else 0)\n",
    "df_merged['catv_EDP'] = df_merged['catv'].apply(lambda x: 1 if x in [50,60] else 0)\n",
    "\n",
    "df_merged = df_merged.drop(['catv'], axis=1)\n"
   ]
  },
  {
   "cell_type": "code",
   "execution_count": 42,
   "id": "6a68a614-5ce8-4642-a924-5eafb8c36f08",
   "metadata": {},
   "outputs": [],
   "source": [
    "# Variable obs : obstacle heurté\n",
    "\n",
    "# Modalité : nombreuse\n",
    "# Nb NaN : 94, on les place dans le mode\n",
    "\n",
    "df_merged['obs'] = df_merged['obs'].fillna(df_merged['obs'].mode()[0])\n",
    "df_merged['obs'] = df_merged['obs'].astype(int)\n"
   ]
  },
  {
   "cell_type": "code",
   "execution_count": 43,
   "id": "c1ed7ed3-6810-44d0-bef6-34c860c7d858",
   "metadata": {},
   "outputs": [],
   "source": [
    "# Variable obsm : obstacle mobile heurté\n",
    "\n",
    "# Modalité : nombreuse\n",
    "# Nb NaN : 129, on les place dans le mode\n",
    "\n",
    "df_merged['obsm'] = df_merged['obsm'].fillna(df_merged['obsm'].mode()[0])\n",
    "df_merged['obsm'] = df_merged['obsm'].astype(int)\n"
   ]
  },
  {
   "cell_type": "code",
   "execution_count": 44,
   "id": "d98a055a-5ec3-4efa-afde-498763beb6f3",
   "metadata": {},
   "outputs": [],
   "source": [
    "# Variable choc : point de choc\n",
    "\n",
    "# Modalité : 0 à 9\n",
    "# Nb NaN : 118, on les place dans le mode\n",
    "\n",
    "df_merged['choc'] = df_merged['choc'].fillna(df_merged['choc'].mode()[0])\n",
    "df_merged['choc'] = df_merged['choc'].astype(int)\n",
    "\n",
    "# On regroupe en sous-catégorie\n",
    "df_merged['choc_avant'] = df_merged['choc'].apply(lambda x: 1 if x in [1,2,3] else 0)\n",
    "df_merged['choc_arriere'] = df_merged['choc'].apply(lambda x: 1 if x in [4,5,6] else 0)\n",
    "df_merged['choc_cote'] = df_merged['choc'].apply(lambda x: 1 if x in [7,8] else 0)\n",
    "df_merged['choc_tonneaux'] = df_merged['choc'].apply(lambda x: 1 if x in [9] else 0)\n",
    "df_merged['choc_aucun'] = df_merged['choc'].apply(lambda x: 1 if x in [0] else 0)\n",
    "\n",
    "df_merged = df_merged.drop(['choc'], axis=1)\n"
   ]
  },
  {
   "cell_type": "code",
   "execution_count": 45,
   "id": "5b5865cc-3d25-4170-b06c-4da7a7a07eff",
   "metadata": {},
   "outputs": [],
   "source": [
    "# Variable manv : manoeuvre lors de l'accident\n",
    "\n",
    "# Modalité : nombreuse\n",
    "# Nb NaN : 79, on les place dans le mode\n",
    "\n",
    "df_merged['manv'] = df_merged['manv'].fillna(df_merged['manv'].mode()[0])\n",
    "df_merged['manv'] = df_merged['manv'].astype(int)\n",
    "\n",
    "# On regroupe en sous-catégorie\n",
    "df_merged['manv_diverse'] = df_merged['manv'].apply(lambda x: 1 if x in [3,4,5,6,7,8,9,10,19,20,21,22,23,24,25,26] else 0)\n",
    "df_merged['manv_droite'] = df_merged['manv'].apply(lambda x: 1 if x in [12,14,16,18] else 0)\n",
    "df_merged['manv_gauche'] = df_merged['manv'].apply(lambda x: 1 if x in [11,13,15,17] else 0)\n",
    "df_merged['manv_pas_chang_dir'] = df_merged['manv'].apply(lambda x: 1 if x in [1] else 0)\n",
    "df_merged['manv_meme_sens_file'] = df_merged['manv'].apply(lambda x: 1 if x in [2] else 0)\n",
    "df_merged['manv_inconnue'] = df_merged['manv'].apply(lambda x: 1 if x in [0] else 0)\n",
    "\n",
    "df_merged = df_merged.drop(['manv'], axis=1)\n"
   ]
  },
  {
   "cell_type": "code",
   "execution_count": 46,
   "id": "c600a071-c3e5-4c9c-806f-31ebd82b4917",
   "metadata": {},
   "outputs": [],
   "source": [
    "# Variable motor : type de moteur\n",
    "\n",
    "# Modalité : 0 à 6\n",
    "# Nb NaN : 420\n",
    "\n",
    "df_merged['motor'] = df_merged['motor'].fillna(0)\n",
    "df_merged['motor'] = df_merged['motor'].astype(int)\n"
   ]
  },
  {
   "cell_type": "code",
   "execution_count": 47,
   "id": "891840d5-8f4a-481d-9037-0b16837bc811",
   "metadata": {},
   "outputs": [],
   "source": [
    "# Variable catr : type de route\n",
    "\n",
    "# Modalité : 1 à 7, 9\n",
    "# Nb NaN : 0\n",
    "\n",
    "df_merged['catr'] = df_merged['catr'].astype(int)\n"
   ]
  },
  {
   "cell_type": "code",
   "execution_count": 48,
   "id": "e632c62c-5d9b-4300-ade0-5fef575285e6",
   "metadata": {},
   "outputs": [],
   "source": [
    "# Variable circ : régime de circulation\n",
    "\n",
    "# Modalité : 1 à 4\n",
    "# Nb NaN : 16866 (5% de NaN) -> on essaie de réduire le nb NaN via d'autre variables\n",
    "\n",
    "# On regroupe en une catégorie : bidirectionnelle ou non\n",
    "\n",
    "df_merged['circ'] = df_merged['circ'].fillna(df_merged['circ'].mode()[0])\n",
    "df_merged['chaussee_bidirectionnelle'] = df_merged['circ'].apply(lambda x: 1 if x == 2 else 0)\n",
    "\n",
    "df_merged['circ'] = df_merged['circ'].astype(int)\n",
    "df_merged = df_merged.drop(['circ'], axis=1)\n"
   ]
  },
  {
   "cell_type": "code",
   "execution_count": 49,
   "id": "554064a8-aa3b-46cb-b4ff-e236444ee93e",
   "metadata": {},
   "outputs": [],
   "source": [
    "# Variable nbv : nombre de voies\n",
    "\n",
    "# Modalité : 0 à 12\n",
    "# Nb NaN : 2624\n",
    "\n",
    "df_merged['nbv'] = df_merged['nbv'].replace('#ERREUR', np.nan)\n",
    "df_merged['nbv'] = df_merged['nbv'].fillna(df_merged['nbv'].mode()[0])\n",
    "df_merged['nbv'] = df_merged['nbv'].astype(int)\n"
   ]
  },
  {
   "cell_type": "code",
   "execution_count": 50,
   "id": "d0f292ea-9094-4429-8e6b-357865142b3c",
   "metadata": {},
   "outputs": [],
   "source": [
    "# Variable vosp : présence d'une voie réservée\n",
    "\n",
    "# Modalité : 0 à 3\n",
    "# Nb NaN : 1232\n",
    "\n",
    "df_merged['vosp'] = df_merged['vosp'].fillna(df_merged['vosp'].mode()[0])\n",
    "df_merged['voie_reservee'] = df_merged['vosp'].apply(lambda x: 0 if x == 0 else 1)\n",
    "\n",
    "df_merged = df_merged.drop(['vosp'], axis=1)\n"
   ]
  },
  {
   "cell_type": "code",
   "execution_count": 51,
   "id": "14af2e14-9d24-4116-91a4-dad29612e018",
   "metadata": {},
   "outputs": [],
   "source": [
    "# Variable prof : profil en long\n",
    "\n",
    "# Modalité : 1 à 4\n",
    "# Nb NaN : 44\n",
    "\n",
    "df_merged['prof'] = df_merged['prof'].fillna(df_merged['prof'].mode()[0])\n",
    "df_merged['prof'] = df_merged['prof'].astype(int)\n"
   ]
  },
  {
   "cell_type": "code",
   "execution_count": 52,
   "id": "eb4ea9a9-6be3-4b16-bd94-8d54fe0cda28",
   "metadata": {},
   "outputs": [],
   "source": [
    "# Variable plan : tracé en plan\n",
    "\n",
    "# Modalité : 1 à 4\n",
    "# Nb NaN : 39\n",
    "\n",
    "df_merged['plan'] = df_merged['plan'].fillna(df_merged['plan'].mode()[0])\n",
    "df_merged['plan'] = df_merged['plan'].astype(int)\n"
   ]
  },
  {
   "cell_type": "code",
   "execution_count": 53,
   "id": "651a2297-b3a2-4c20-9294-d2db246fbd21",
   "metadata": {},
   "outputs": [],
   "source": [
    "# Variable surf : état de la chaussée\n",
    "\n",
    "# Modalité : 1 à 9\n",
    "# Nb NaN : 58\n",
    "\n",
    "df_merged['surf'] = df_merged['surf'].fillna(df_merged['surf'].mode()[0])\n",
    "df_merged['surf'] = df_merged['surf'].astype(int)\n",
    "\n",
    "# On regroupe en une catégorie : chaussée sèche ou non\n",
    "df_merged['chaussee_seche'] = df_merged['surf'].apply(lambda x: 1 if x == 1 else 0)\n",
    "\n",
    "df_merged = df_merged.drop(['surf'], axis=1)\n"
   ]
  },
  {
   "cell_type": "code",
   "execution_count": 54,
   "id": "c67d4028-e91b-42cd-9f16-5f8192c62a7c",
   "metadata": {},
   "outputs": [],
   "source": [
    "# Variable infra : présence d'un aménagement\n",
    "\n",
    "# Modalité : 0 à 9\n",
    "# Nb NaN : 3774\n",
    "\n",
    "df_merged['infra'] = df_merged['infra'].fillna(df_merged['infra'].mode()[0])\n",
    "df_merged['infra'] = df_merged['infra'].astype(int)\n"
   ]
  },
  {
   "cell_type": "code",
   "execution_count": 55,
   "id": "fd3fea10-642d-4c7b-aefb-71218754535c",
   "metadata": {},
   "outputs": [],
   "source": [
    "# Variable situ : situation de l'accident\n",
    "\n",
    "# Modalité : 1 à 8\n",
    "# Nb NaN : 42\n",
    "\n",
    "df_merged['situ'] = df_merged['situ'].fillna(df_merged['situ'].mode()[0])\n",
    "df_merged['situ'] = df_merged['situ'].astype(int)\n"
   ]
  },
  {
   "cell_type": "code",
   "execution_count": 56,
   "id": "08a991c8-cfe9-452d-9aa2-ccb95ae69f93",
   "metadata": {},
   "outputs": [],
   "source": [
    "# Variable vma : vitesse maximale autorisée\n",
    "\n",
    "# Modalité : nombreuses\n",
    "# Nb NaN : 4907\n",
    "\n",
    "df_merged['vma'] = df_merged['vma'].fillna(df_merged['vma'].mode()[0])\n",
    "df_merged['vma'] = df_merged['vma'].astype(int)\n",
    "\n",
    "# On regroupe en sous catégorie\n",
    "df_merged['vma'] = df_merged['vma'].apply(lambda x: 30 if x<=30. else x)\n"
   ]
  },
  {
   "cell_type": "code",
   "execution_count": 57,
   "id": "75655d9c-44e0-40eb-a58c-c6a2d3560e2a",
   "metadata": {},
   "outputs": [],
   "source": [
    "# Variable lum : luminosité\n",
    "\n",
    "# Modalité : 1 à 5\n",
    "# Nb NaN : 7\n",
    "\n",
    "df_merged['lum'] = df_merged['lum'].fillna(df_merged['lum'].mode()[0])\n",
    "df_merged['lum'] = df_merged['lum'].astype(int)\n"
   ]
  },
  {
   "cell_type": "code",
   "execution_count": 58,
   "id": "79bccea0-2c99-457f-abba-68157209094c",
   "metadata": {},
   "outputs": [],
   "source": [
    "# Variable agg : si en agglomération\n",
    "\n",
    "# Modalité : 1, 2\n",
    "# Nb NaN : 0\n",
    "\n",
    "df_merged['agg'] = df_merged['agg'].astype(int)\n"
   ]
  },
  {
   "cell_type": "code",
   "execution_count": 59,
   "id": "c1044f91-75ef-4df1-a512-55cb3a1f98de",
   "metadata": {},
   "outputs": [],
   "source": [
    "# Variable int : si intersection\n",
    "\n",
    "# Modalité : 1 à 9\n",
    "# Nb NaN : 19\n",
    "\n",
    "df_merged['int'] = df_merged['int'].fillna(df_merged['int'].mode()[0])\n",
    "df_merged['int'] = df_merged['int'].astype(int)\n",
    "\n",
    "# On regroupe en sous-catégorie\n",
    "df_merged['int_aucune'] = df_merged['int'].apply(lambda x: 1 if x in [1] else 0)\n",
    "df_merged['int_branches'] = df_merged['int'].apply(lambda x: 1 if x in [2,3,4,5] else 0)\n",
    "df_merged['int_autre'] = df_merged['int'].apply(lambda x: 1 if x in [6,7,8,9] else 0)\n",
    "\n",
    "df_merged = df_merged.drop(['int'], axis=1)\n"
   ]
  },
  {
   "cell_type": "code",
   "execution_count": 60,
   "id": "e9c2691b-619d-4094-8449-474f7b5c5c26",
   "metadata": {},
   "outputs": [],
   "source": [
    "# Variable atm : condition atmo\n",
    "\n",
    "# Modalité : 1 à 9\n",
    "# Nb NaN : 19\n",
    "\n",
    "df_merged['atm'] = df_merged['atm'].fillna(df_merged['atm'].mode()[0])\n",
    "df_merged['atm'] = df_merged['atm'].astype(int)\n",
    "\n",
    "# On regroupe en une catégorie : cbeau temps ou non\n",
    "df_merged['atm_normal'] = df_merged['atm'].apply(lambda x: 1 if x == 1 else 0)\n",
    "\n",
    "df_merged = df_merged.drop(['atm'], axis=1)\n"
   ]
  },
  {
   "cell_type": "code",
   "execution_count": 61,
   "id": "b2f8b0ba-c570-4b17-a974-dbf04003959b",
   "metadata": {},
   "outputs": [],
   "source": [
    "# Variable col : type de collision\n",
    "\n",
    "# Modalité : 1 à 7\n",
    "# Nb NaN : 3646\n",
    "\n",
    "df_merged['col'] = df_merged['col'].fillna(df_merged['col'].mode()[0])\n",
    "df_merged['col'] = df_merged['col'].astype(int)\n"
   ]
  },
  {
   "cell_type": "code",
   "execution_count": 62,
   "id": "bdcd0231-b928-4f86-834e-83cf656ff866",
   "metadata": {},
   "outputs": [],
   "source": [
    "# Variables équipement\n",
    "\n",
    "for item in ['Ceinture', 'Casque', 'Dispositif enfants', 'Gilet réfléchissant', 'Airbag', 'Gants', 'Autre equipement']:\n",
    "    df_merged[item] = df_merged[item].apply(lambda x: 1 if x else 0)\n"
   ]
  },
  {
   "cell_type": "code",
   "execution_count": 63,
   "id": "5d9c8ad1-4015-49b8-af8f-71031eb40210",
   "metadata": {},
   "outputs": [],
   "source": [
    "df_merged_2 = df_merged.drop(['Num_Acc', 'id_vehicule', 'num_veh', 'dep', 'com', 'date', 'dep_name', 'region_name'], axis=1)"
   ]
  },
  {
   "cell_type": "code",
   "execution_count": 64,
   "id": "5be1fc8f-41e3-4ff0-802a-eb328a483a31",
   "metadata": {},
   "outputs": [],
   "source": [
    "num_features = ['heure', 'an_nais', 'age', 'nbv', 'vma', 'lat', 'long', 'jour', 'mois', 'an']\n",
    "to_cat_features = ['senc', 'obs', 'obsm', 'motor', 'catr', 'prof', 'plan', 'infra', 'situ', 'lum', 'col']\n"
   ]
  },
  {
   "cell_type": "code",
   "execution_count": 65,
   "id": "2c95aa9e-862a-4cba-84bd-1c2134681ec0",
   "metadata": {},
   "outputs": [],
   "source": [
    "df_cat = df_merged_2.drop(num_features, axis=1)"
   ]
  },
  {
   "cell_type": "code",
   "execution_count": 66,
   "id": "db8aeb31-76e5-4cc5-b7be-1a0950fbe72f",
   "metadata": {},
   "outputs": [],
   "source": [
    "X = df_cat.drop('grav', axis=1)\n",
    "y = df_cat['grav']"
   ]
  },
  {
   "cell_type": "code",
   "execution_count": 67,
   "id": "dd872571-005b-4c0a-a6a7-748414588049",
   "metadata": {},
   "outputs": [],
   "source": [
    "X = pd.get_dummies(X, columns=to_cat_features, drop_first=True)"
   ]
  },
  {
   "cell_type": "markdown",
   "id": "bf7b36a8-2dfb-438a-9cd1-bbeb709af1b7",
   "metadata": {},
   "source": [
    "### Split du jeu de données"
   ]
  },
  {
   "cell_type": "code",
   "execution_count": 69,
   "id": "ee5b525f-54a5-4cb5-818c-877e09868aa2",
   "metadata": {},
   "outputs": [],
   "source": [
    "from sklearn.model_selection import train_test_split\n",
    "X_train, X_test, y_train, y_test = train_test_split(X, y, test_size=0.2, random_state=42)\n"
   ]
  },
  {
   "cell_type": "markdown",
   "id": "84760836-5bdd-4c9d-a7e6-5251fbbd8f16",
   "metadata": {},
   "source": [
    "### XGBoost"
   ]
  },
  {
   "cell_type": "markdown",
   "id": "7a39f63d-8694-456d-8a2e-2ce8180707d0",
   "metadata": {},
   "source": [
    "Algorithmes de gradient boosting\n",
    "Même principe que pour RandomForest mais avec construction des arbres l'un après l'autre (dépendance entre eux)\n",
    "et combine les résultats au fur et à mesure\n",
    "\n",
    "Attention : algorithme très sensible aux profondeurs des arbres"
   ]
  },
  {
   "cell_type": "code",
   "execution_count": null,
   "id": "0caa4d9d-8151-4305-8135-0210f8a8a719",
   "metadata": {},
   "outputs": [],
   "source": [
    "from sklearn.ensemble import GradientBoostingClassifier\n",
    "\n",
    "model_boost = GradientBoostingClassifier(loss=\"log_loss\",\n",
    "                                         learning_rate=0.2,\n",
    "                                         max_depth=5,\n",
    "                                         max_features=\"sqrt\",\n",
    "                                         subsample=0.95,\n",
    "                                         n_estimators=200)\n",
    "model_boost.fit(X_train, y_train)\n",
    "\n",
    "# Mesure performance modèle\n",
    "print('Score test :', model_boost.score(X_test, y_test))\n",
    "print('Score train :', model_boost.score(X_train, y_train))"
   ]
  },
  {
   "cell_type": "code",
   "execution_count": null,
   "id": "65288667-7f5c-48f9-82ff-0b4909f85895",
   "metadata": {},
   "outputs": [],
   "source": [
    "from sklearn.metrics import recall_score, f1_score, accuracy_score\n",
    "from sklearn.metrics import confusion_matrix\n",
    "from sklearn.metrics import classification_report\n",
    "\n",
    "y_pred_boost = model_boost.predict(X_test)\n",
    "y_pred_boost_train = model_boost.predict(X_train)\n",
    "\n",
    "# Mesure performance modèle\n",
    "print('Accuracy score test :', accuracy_score(y_test, y_pred_boost))\n",
    "print('Accuracy score train :', accuracy_score(y_train, y_pred_boost_train))\n",
    "print('Recall test :', recall_score(y_test, y_pred_boost, average='macro'))\n",
    "print('f1 score test :', f1_score(y_test, y_pred_boost, average='macro'))\n",
    "\n",
    "conf_matrix_boost = confusion_matrix(y_test, y_pred_boost)\n",
    "\n",
    "display(pd.crosstab(y_test, y_pred_boost, rownames=['Réalité'], colnames=['Prédiction']))\n",
    "print(classification_report(y_test, y_pred_boost))\n",
    "\n",
    "sns.heatmap(conf_matrix_boost, annot=True, fmt='d', cbar=False,\n",
    "            xticklabels=model_boost.classes_,\n",
    "            yticklabels=model_boost.classes_)\n",
    "plt.title('Matrice de Confusion')\n",
    "plt.xlabel('Prédictions')\n",
    "plt.ylabel('Vraies valeurs')\n",
    "plt.show();"
   ]
  },
  {
   "cell_type": "markdown",
   "id": "4d710634-484c-43b7-b88d-f92ddb1c5433",
   "metadata": {},
   "source": [
    "## Interprétabilité du modèle"
   ]
  },
  {
   "cell_type": "markdown",
   "id": "b02632ff-0bba-41df-8db5-c18274f95d88",
   "metadata": {},
   "source": [
    "L'interprétabilité = la mesure dans laquelle un être humain peut prédire de manière cohérente le résultat d'un modèle.\n",
    "\n",
    "Plus l'interprétabilité d'un modèle de Machine Learning est élevée, plus il est facile pour un individu de comprendre le raisonnement derrière certaines décisions ou prédictions. Un modèle est plus facilement interprétable qu'un autre si ses décisions sont plus faciles à comprendre pour un humain.\n",
    "\n",
    "Les mesures de performances sont importantes, mais elles n'expliquent pas les décisions prédictives d'un modèle. Au fil du temps, les performances peuvent diminuer car le modèle n'est plus optimal par rapport à divers changements de distribution des variables explicatives. Il est donc important de comprendre ce qui pousse un modèle à prendre certaines décisions afin d'identifier les features auxquels un modèle serait très sensible et dont il faut surveiller la distribution au fil du temps.\n",
    "\n",
    "Parfois un modèle peut réaliser de bonnes performances, mais après déploiement, on peut se rendre compte qu'il ne correspond pas à ce qu'on attendait. Il peut avoir une différence d'interprétation entre ce qu'on demande au modèle et sa compréhension de notre formaulation."
   ]
  },
  {
   "cell_type": "markdown",
   "id": "9b6ade75-26a9-42eb-b63e-79738858eea7",
   "metadata": {},
   "source": [
    "Les **trois aspects** les plus importants de l'interprétation des modèles sont expliqués par les questions suivantes:\n",
    "\n",
    "**Qu'est-ce qui motive les prédictions du modèle ?** Interroger notre modèle et découvrir les interactions cachées entre les différentes features pour avoir une idée de celles qui pourraient être les plus importantes dans les prises de décisions du modèle. Cela permet de <ins>garantir l'équité du modèle</ins>.\n",
    "\n",
    "**Pourquoi le modèle a-t-il pris une certaine décision ?** Valider et de justifier pourquoi certaines caractéristiques clés ont été à l'origine de certaines décisions prises par un modèle lors des prédictions. Cela permet de <ins>garantir la responsabilité et la fiabilité du modèle</ins>.\n",
    "\n",
    "**Comment pouvons-nous faire confiance aux prédictions du modèle ?** Evaluer et valider la façon dont un modèle prend des décisions pour tout point de données. Ainsi, on peut démontrer et expliquer facilement que le modèle fonctionne comme prévu. Cela permet de <ins>garantir la transparence du modèle</ins>.\n"
   ]
  },
  {
   "cell_type": "markdown",
   "id": "a5c8cc7e-5c92-4c74-bd79-03c4ac900f4d",
   "metadata": {},
   "source": [
    "Deux types d'interprétabilité : l'interprétabilité ***intrinsèque*** et l'interprétabilité ***post hoc***.\n",
    "\n",
    "**Interprétabilité intrinsèque :** Propre aux modèles eux-mêmes et découle de leur structure simple et transparente. Des exemples incluent les régressions linéaires (où les coefficients sont directement interprétables), les arbres de décision (où l'on peut suivre les branches pour comprendre les décisions), et les modèles basés sur des règles. Ces modèles sont conçus pour être compréhensibles par les humains sans nécessiter de méthodes d'analyse supplémentaires.\n",
    "\n",
    "**Interprétabilité post hoc :** Pour les modèles complexes, qui ne sont pas naturellement transparents, et nécessite des techniques supplémentaires pour expliquer leurs prédictions après coup. Les méthodes post hoc incluent LIME (qui génère des explications locales en ajustant des modèles simples autour d'une instance spécifique) et ***SHAP (qui utilise des concepts de théorie des jeux pour attribuer à chaque feature une valeur d'importance)***. Ces techniques peuvent être appliquées à n'importe quel modèle de machine learning sans se baser sur la structure interne du modèle.\n"
   ]
  },
  {
   "cell_type": "code",
   "execution_count": null,
   "id": "e9f462c3-63d8-4b8d-9f42-9663195e63d3",
   "metadata": {},
   "outputs": [],
   "source": [
    "# Importation des package nécessaire\n",
    "import shap"
   ]
  },
  {
   "cell_type": "code",
   "execution_count": null,
   "id": "7cedaa42-7041-4a59-a486-2875cbec5318",
   "metadata": {},
   "outputs": [],
   "source": [
    "# Représentation du résultats des accidents suivant l'ensemble d'entrainement\n",
    "y_train.value_counts()\n",
    "print('Indenmes = ', y_train.value_counts()[1], ' soit ', np.round(y_train.value_counts(normalize=True)[1]*100, 1), '%')\n",
    "print('Blessé léger = ', y_train.value_counts()[4], ' soit ', np.round(y_train.value_counts(normalize=True)[4]*100, 1), '%')\n",
    "print('Blessé grave = ', y_train.value_counts()[3], ' soit ', np.round(y_train.value_counts(normalize=True)[3]*100, 1), '%')\n",
    "print('Tué = ', y_train.value_counts()[2], ' soit ', np.round(y_train.value_counts(normalize=True)[2]*100, 1), '%')"
   ]
  },
  {
   "cell_type": "code",
   "execution_count": null,
   "id": "ce5588a7-fce5-45c6-a6ad-cc00c0b1806b",
   "metadata": {},
   "outputs": [],
   "source": [
    "# Représentation du résultats des accidents suivant l'ensemble de test\n",
    "y_test.value_counts()\n",
    "print('Indenmes = ', y_test.value_counts()[1], ' soit ', np.round(y_test.value_counts(normalize=True)[1]*100, 1), '%')\n",
    "print('Blessé léger = ', y_test.value_counts()[4], ' soit ', np.round(y_test.value_counts(normalize=True)[4]*100, 1), '%')\n",
    "print('Blessé grave = ', y_test.value_counts()[3], ' soit ', np.round(y_test.value_counts(normalize=True)[3]*100, 1), '%')\n",
    "print('Tué = ', y_test.value_counts()[2], ' soit ', np.round(y_test.value_counts(normalize=True)[2]*100, 1), '%')"
   ]
  },
  {
   "cell_type": "markdown",
   "id": "aa2b4a3c-d4be-49ce-8846-e58f7303df1a",
   "metadata": {},
   "source": [
    "#### Interprétation globale du modèle"
   ]
  },
  {
   "cell_type": "code",
   "execution_count": null,
   "id": "f2aadeda-b760-4c13-bc76-cfc84eef2457",
   "metadata": {},
   "outputs": [],
   "source": [
    "# Analyse des valeurs shap\n",
    "#explainer = shap.TreeExplainer(model_boost)\n",
    "\n",
    "#shap_values = explainer.shap_values(X_test)\n",
    "\n",
    "# NE fonctionne plus pour XGBoost :\n",
    "#InvalidModelError: GradientBoostingClassifier is only supported for binary classification right now!"
   ]
  },
  {
   "cell_type": "code",
   "execution_count": null,
   "id": "17fa8e77-bc24-4ed7-a7d3-5bd181e75eed",
   "metadata": {},
   "outputs": [],
   "source": [
    "explainer_boost = shap.KernelExplainer(model_boost.predict_proba, X_train[:100])\n",
    "shap_values_boost = explainer_boost.shap_values(X_test[:100])"
   ]
  },
  {
   "cell_type": "code",
   "execution_count": null,
   "id": "9b3da2c6-2eb8-49c9-a56b-defdc6426830",
   "metadata": {},
   "outputs": [],
   "source": [
    "# On remanie les dimensions des shap_values\n",
    "shap_values_boost = [shap_values_boost[:,:,i] for i in range(4)]"
   ]
  },
  {
   "cell_type": "code",
   "execution_count": null,
   "id": "c6736744-8a5d-4e51-bf0f-b73320a3e31d",
   "metadata": {},
   "outputs": [],
   "source": [
    "# On vérifie le shape pour chacune de nos classes\n",
    "shap_values_boost[0].shape, shap_values_boost[1].shape, shap_values_boost[2].shape, shap_values_boost[3].shape, "
   ]
  },
  {
   "cell_type": "code",
   "execution_count": null,
   "id": "74a0f15f-2fac-4f94-9c96-0163f44cada4",
   "metadata": {},
   "outputs": [],
   "source": [
    "print(f\"Valeur Shapley de Référence moyenne par Classe : {explainer_boost.expected_value}\")"
   ]
  },
  {
   "cell_type": "code",
   "execution_count": null,
   "id": "666caba2-b9a4-473e-afcb-77bf05fc183e",
   "metadata": {},
   "outputs": [],
   "source": [
    "# visualisation de l'impact de chaque variables sur la prédiction\n",
    "shap.summary_plot(shap_values_boost,\n",
    "                  X_test2,\n",
    "                  plot_type=\"bar\",\n",
    "                  class_names= target_names,\n",
    "                  feature_names=feature_names,\n",
    "                  plot_size=(16, 12),\n",
    "                  max_display=48,\n",
    "                  show = False)\n",
    "plt.title(\"Interprétation Globale : Diagramme d'Importance des Variables\", fontsize=20, fontstyle='italic')\n",
    "plt.show();"
   ]
  },
  {
   "cell_type": "code",
   "execution_count": null,
   "id": "69523f52-cece-4a66-8e35-ae379a5723fb",
   "metadata": {},
   "outputs": [],
   "source": [
    "# Même graphique mais en ne sélectionnant que les variables les plus impactantes\n",
    "shap.summary_plot(shap_values_boost,\n",
    "                  class_names= target_names,\n",
    "                  feature_names=feature_names,\n",
    "                  plot_size=(10, 5),\n",
    "                  plot_type=\"bar\",\n",
    "                  max_display=13,\n",
    "                  show = False)\n",
    "plt.title(\"Interprétation Globale : Diagramme d'Importance des Variables\\nMoyenne des valeurs absolues des valeurs de Shap >= 0.03\", \n",
    "          fontsize=16, fontstyle='italic')\n",
    "plt.show();"
   ]
  },
  {
   "cell_type": "code",
   "execution_count": null,
   "id": "df77856c-c9d5-40c1-8bc7-00e9e0cfdbf0",
   "metadata": {},
   "outputs": [],
   "source": [
    "importances = model_boost.feature_importances_\n",
    "feature_importance = pd.DataFrame({'feature': X_train.columns, 'importance': importances})\n",
    "feature_importance = feature_importance.sort_values('importance', ascending=False)\n",
    "\n",
    "plt.figure(figsize=(10, 6))\n",
    "sns.barplot(x='importance', y='feature', data=feature_importance.head(20))\n",
    "plt.title('Feature Importances')\n",
    "plt.show();"
   ]
  },
  {
   "cell_type": "code",
   "execution_count": null,
   "id": "fa92c342-10c3-49b6-989f-901fe940bb32",
   "metadata": {},
   "outputs": [],
   "source": [
    "# Modifie numérotation des classes à prédire pour que fonctionne le xgb (Expected: [0 1 2 3], got [1 2 3 4])\n",
    "y_train3 = y_train.replace({1:0, 2:1, 3:2, 4:3})\n",
    "y_test3 = y_test.replace({1:0, 2:1, 3:2, 4:3})\n",
    "\n",
    "import xgboost as xgb\n",
    "\n",
    "model_xgb = xgb.XGBClassifier()\n",
    "model_xgb.fit(X_train, y_train3)"
   ]
  },
  {
   "cell_type": "code",
   "execution_count": null,
   "id": "292b0df0-20e7-4f79-8979-e8675efb24a5",
   "metadata": {},
   "outputs": [],
   "source": [
    "explainer_xgb = shap.TreeExplainer(model_xgb)\n",
    "shap_values_xgb = explainer_xgb.shap_values(X_test[:10000])"
   ]
  },
  {
   "cell_type": "code",
   "execution_count": null,
   "id": "2ef5d3b8-f625-4907-ac1c-20b695e27741",
   "metadata": {},
   "outputs": [],
   "source": [
    "# On remanie les dimensions des shap_values\n",
    "shap_values_xgb = [shap_values_xgb[:,:,i] for i in range(4)]"
   ]
  },
  {
   "cell_type": "code",
   "execution_count": null,
   "id": "4ce347d0-52e5-4da3-b191-dec80ef058eb",
   "metadata": {},
   "outputs": [],
   "source": [
    "# On vérifie le shape pour chacune de nos classes\n",
    "shap_values_xgb[0].shape, shap_values_xgb[1].shape, shap_values_xgb[2].shape, shap_values_xgb[3].shape, "
   ]
  },
  {
   "cell_type": "code",
   "execution_count": null,
   "id": "23c9e356-3e0f-4bf1-a478-048eed368977",
   "metadata": {},
   "outputs": [],
   "source": [
    "print(f\"Valeur Shapley de Référence moyenne par Classe : {explainer_xgb.expected_value}\")"
   ]
  },
  {
   "cell_type": "code",
   "execution_count": null,
   "id": "d118f9d5-26c7-4a8c-8966-fd281c52ff50",
   "metadata": {},
   "outputs": [],
   "source": [
    "# visualisation de l'impact de chaque variables sur la prédiction\n",
    "shap.summary_plot(shap_values_xgb,\n",
    "                  X_test2,\n",
    "                  plot_type=\"bar\",\n",
    "                  class_names= target_names,\n",
    "                  feature_names=feature_names,\n",
    "                  plot_size=(16, 12),\n",
    "                  max_display=48,\n",
    "                  show = False)\n",
    "plt.title(\"Interprétation Globale : Diagramme d'Importance des Variables\", fontsize=20, fontstyle='italic')\n",
    "plt.show();"
   ]
  },
  {
   "cell_type": "code",
   "execution_count": null,
   "id": "34c4a9c8-0823-4b6b-8988-30cbf7e619cd",
   "metadata": {},
   "outputs": [],
   "source": [
    "# Même graphique mais en ne sélectionnant que les variables les plus impactantes\n",
    "shap.summary_plot(shap_values_xgb,\n",
    "                  class_names= target_names,\n",
    "                  feature_names=feature_names,\n",
    "                  plot_size=(10, 5),\n",
    "                  plot_type=\"bar\",\n",
    "                  max_display=13,\n",
    "                  show = False)\n",
    "plt.title(\"Interprétation Globale : Diagramme d'Importance des Variables\\nMoyenne des valeurs absolues des valeurs de Shap >= 0.03\", \n",
    "          fontsize=16, fontstyle='italic')\n",
    "plt.show();"
   ]
  },
  {
   "cell_type": "markdown",
   "id": "45806ce9-bc62-4012-b8eb-569d585bd228",
   "metadata": {},
   "source": [
    "On teste avec randomForest"
   ]
  },
  {
   "cell_type": "code",
   "execution_count": null,
   "id": "8f57eb5d-2a25-4698-8929-7983b58447c0",
   "metadata": {},
   "outputs": [],
   "source": [
    "from sklearn.ensemble import RandomForestClassifier\n",
    "\n",
    "model = RandomForestClassifier(n_estimators=30, \n",
    "                               max_depth=20, \n",
    "                               random_state=42)\n",
    "model.fit(X_train, y_train)\n",
    "\n",
    "# Mesure performance modèle\n",
    "print('Score test :', model.score(X_test, y_test))\n",
    "print('Score train :', model.score(X_train, y_train))"
   ]
  },
  {
   "cell_type": "code",
   "execution_count": null,
   "id": "25cdca2c-c7fe-468a-83ab-fbcb54d721bc",
   "metadata": {},
   "outputs": [],
   "source": [
    "from sklearn.metrics import confusion_matrix\n",
    "from sklearn.metrics import classification_report\n",
    "from sklearn.metrics import recall_score, f1_score, accuracy_score\n",
    "\n",
    "y_pred = model.predict(X_test)\n",
    "y_pred_train = model.predict(X_train)\n",
    "\n",
    "# Mesure performance modèle\n",
    "print('Accuracy score test :', accuracy_score(y_test, y_pred))\n",
    "print('Accuracy score train :', accuracy_score(y_train, y_pred_train))\n",
    "print('Recall test :', recall_score(y_test, y_pred, average='macro'))\n",
    "print('f1 score test :', f1_score(y_test, y_pred, average='macro'))\n",
    "\n",
    "conf_matrix = confusion_matrix(y_test, y_pred)\n",
    "\n",
    "display(pd.crosstab(y_test, y_pred, rownames=['Réalité'], colnames=['Prédiction']))\n",
    "print(classification_report(y_test, y_pred))\n",
    "\n",
    "sns.heatmap(conf_matrix, annot=True, fmt='d', cbar=False,\n",
    "            xticklabels=model.classes_,\n",
    "            yticklabels=model.classes_)\n",
    "plt.title('Matrice de Confusion')\n",
    "plt.xlabel('Prédictions')\n",
    "plt.ylabel('Vraies valeurs')\n",
    "plt.show();"
   ]
  },
  {
   "cell_type": "code",
   "execution_count": null,
   "id": "4fa6cda8-705d-4789-848c-80da1cfceab6",
   "metadata": {},
   "outputs": [],
   "source": [
    "# Représentation du résultats des accidents suivant l'ensemble d'entrainement\n",
    "y_train.value_counts()\n",
    "print('Indenmes = ', y_train.value_counts()[1], ' soit ', np.round(y_train.value_counts(normalize=True)[1]*100, 1), '%')\n",
    "print('Blessé léger = ', y_train.value_counts()[4], ' soit ', np.round(y_train.value_counts(normalize=True)[4]*100, 1), '%')\n",
    "print('Blessé grave = ', y_train.value_counts()[3], ' soit ', np.round(y_train.value_counts(normalize=True)[3]*100, 1), '%')\n",
    "print('Tué = ', y_train.value_counts()[2], ' soit ', np.round(y_train.value_counts(normalize=True)[2]*100, 1), '%')"
   ]
  },
  {
   "cell_type": "code",
   "execution_count": null,
   "id": "133bb0ba-6c87-4d58-926f-ed6234eb3586",
   "metadata": {},
   "outputs": [],
   "source": [
    "# Représentation du résultats des accidents suivant l'ensemble de test\n",
    "y_test.value_counts()\n",
    "print('Indenmes = ', y_test.value_counts()[1], ' soit ', np.round(y_test.value_counts(normalize=True)[1]*100, 1), '%')\n",
    "print('Blessé léger = ', y_test.value_counts()[4], ' soit ', np.round(y_test.value_counts(normalize=True)[4]*100, 1), '%')\n",
    "print('Blessé grave = ', y_test.value_counts()[3], ' soit ', np.round(y_test.value_counts(normalize=True)[3]*100, 1), '%')\n",
    "print('Tué = ', y_test.value_counts()[2], ' soit ', np.round(y_test.value_counts(normalize=True)[2]*100, 1), '%')"
   ]
  },
  {
   "cell_type": "code",
   "execution_count": null,
   "id": "3968b5f2-a235-4d9d-a007-1ddb978af269",
   "metadata": {},
   "outputs": [],
   "source": [
    "# Analyse des valeurs shap\n",
    "explainer = shap.TreeExplainer(model)\n"
   ]
  },
  {
   "cell_type": "code",
   "execution_count": null,
   "id": "5940e964-24c2-4248-a43b-ce1ba21c2442",
   "metadata": {},
   "outputs": [],
   "source": [
    "# Faire tourner shap.values sur tout le jeu X_test prend énormément de temps (au moins plus de 6h).\n",
    "# Pour programmer les lignes de code dans un premier temps, on réduit l'échantillon.\n",
    "X_test2 = X_test[:100]"
   ]
  },
  {
   "cell_type": "code",
   "execution_count": null,
   "id": "a754df4b-a649-4434-b019-c568fefbb63a",
   "metadata": {},
   "outputs": [],
   "source": [
    "# On calcule les shap_values de chaque valeur du jeu X_test réduit (c'est cette partie qui prend du temps)\n",
    "shap_values = explainer.shap_values(X_test2, check_additivity=False)"
   ]
  },
  {
   "cell_type": "code",
   "execution_count": null,
   "id": "20475391-2619-49a1-8572-d8cfb10a541d",
   "metadata": {},
   "outputs": [],
   "source": [
    "shap_values.shape\n",
    "# On voit que nous avons bien nos 100 lignes, 115 variables et nos 4 classes"
   ]
  },
  {
   "cell_type": "code",
   "execution_count": null,
   "id": "9d922510-2f17-432c-86e0-9e8cb55e0da1",
   "metadata": {},
   "outputs": [],
   "source": [
    "#On reshape la variable car sinon on ne pourra pas appliquer le reste des fonctions\n",
    "# la fonstion shap_values a inversé les différents shapes dans le cadre de ce modèle multi-classes\n",
    "shap_values = [shap_values[:,:,i] for i in range(4)]"
   ]
  },
  {
   "cell_type": "code",
   "execution_count": null,
   "id": "50513c33-a5c0-4cfe-a429-83d420544a13",
   "metadata": {},
   "outputs": [],
   "source": [
    "# On crée deux variables pour identifier le nom de nos features et de nos classes\n",
    "feature_names = X_test2.columns.to_list()\n",
    "target_names = [\"indemne\", \"tué\", \"blessé_hospitalisé\", \"blessé_léger\"]\n",
    "print(feature_names)"
   ]
  },
  {
   "cell_type": "code",
   "execution_count": null,
   "id": "0b365f48-2d23-45ee-8d15-aca7893da51a",
   "metadata": {},
   "outputs": [],
   "source": [
    "# On vérifie le shape pour chacune de nos classes\n",
    "shap_values[0].shape, shap_values[1].shape, shap_values[2].shape, shap_values[3].shape, "
   ]
  },
  {
   "cell_type": "code",
   "execution_count": null,
   "id": "53b7c9f6-225a-4fc8-a99c-8c630e058031",
   "metadata": {},
   "outputs": [],
   "source": [
    "print(f\"Valeur Shapley de Référence moyenne par Classe : {explainer.expected_value}\")"
   ]
  },
  {
   "cell_type": "code",
   "execution_count": null,
   "id": "5afa4e6a-bef5-46d4-b057-429370f9662d",
   "metadata": {},
   "outputs": [],
   "source": [
    "# visualisation de l'impact de chaque variables sur la prédiction\n",
    "shap.summary_plot(shap_values,\n",
    "                  X_test2,\n",
    "                  plot_type=\"bar\",\n",
    "                  class_names= target_names,\n",
    "                  feature_names=feature_names,\n",
    "                  plot_size=(16, 12),\n",
    "                  max_display=48,\n",
    "                  show = False)\n",
    "plt.title(\"Interprétation Globale : Diagramme d'Importance des Variables\", fontsize=20, fontstyle='italic')\n",
    "plt.show();"
   ]
  },
  {
   "cell_type": "code",
   "execution_count": null,
   "id": "5416e47f-465c-4c15-a148-c281924beced",
   "metadata": {},
   "outputs": [],
   "source": [
    "# Même graphique mais en ne sélectionnant que les variables les plus impactantes\n",
    "shap.summary_plot(shap_values,\n",
    "                  class_names= target_names,\n",
    "                  feature_names=feature_names,\n",
    "                  plot_size=(10, 5),\n",
    "                  plot_type=\"bar\",\n",
    "                  max_display=13,\n",
    "                  show = False)\n",
    "plt.title(\"Interprétation Globale : Diagramme d'Importance des Variables\\nMoyenne des valeurs absolues des valeurs de Shap >= 0.03\", \n",
    "          fontsize=16, fontstyle='italic')\n",
    "plt.show();"
   ]
  },
  {
   "cell_type": "code",
   "execution_count": null,
   "id": "1bcdad9e-5f39-4f29-8c3d-318dd1ca275d",
   "metadata": {},
   "outputs": [],
   "source": [
    "# Transformer les contributions marginales en un objet shap.Explanation pour pouvoir tracer un autre plot bar\n",
    "class_of_interest = 0  # On choisit une classe\n",
    "shap_explanation = shap.Explanation(values=shap_values[class_of_interest],\n",
    "                                    data=X_test2,\n",
    "                                    feature_names=X_test2.columns.tolist())\n",
    "\n",
    "# On utilise l'objet Explanation pour le graphique\n",
    "fig = plt.figure(figsize=(16, 10))\n",
    "shap.plots.bar(shap_explanation, max_display=30, show=False)\n",
    "plt.title(\"Interprétation Globale : Diagramme d'Importance des Variables pour une classe\\nAutre Représentation Graphique\", \n",
    "          fontsize=24, fontstyle='italic')\n",
    "plt.show();\n"
   ]
  },
  {
   "cell_type": "code",
   "execution_count": null,
   "id": "73c6629d-be49-43fd-a418-cfce7f5f555e",
   "metadata": {},
   "outputs": [],
   "source": [
    "# On trace le même graphe pour les 4 classes \n",
    "fig, axs = plt.subplots(2, 2, figsize=(20, 20))\n",
    "for i in range(4):  # Supposons que vous avez 4 classes\n",
    "    shap_explanation = shap.Explanation(values=shap_values[i],\n",
    "                                        data=X_test2,\n",
    "                                        feature_names=X_test2.columns.tolist())\n",
    "    shap.plots.bar(shap_explanation, max_display=10, show=False, ax=axs[i//2, i%2])\n",
    "    axs[i//2, i%2].set_title(f\"Classe {i}\")\n",
    "plt.tight_layout()\n",
    "plt.show();"
   ]
  },
  {
   "cell_type": "code",
   "execution_count": null,
   "id": "654e0482-d44a-4220-9a8d-9026e50f33d9",
   "metadata": {},
   "outputs": [],
   "source": [
    "# print the JS visualization code to the notebook\n",
    "# On trace un summary_plot pour une classe\n",
    "shap.initjs()\n",
    "\n",
    "shap.summary_plot(shap_values[0], \n",
    "                  features=X_test2,\n",
    "                  feature_names=feature_names,\n",
    "                  plot_size=(16, 12),\n",
    "                  cmap='PiYG_r',\n",
    "                  plot_type=\"dot\",\n",
    "                  max_display=48,\n",
    "                  show = False)\n",
    "plt.title(\"Interprétation Globale : Diagramme des valeurs SHAP pour une classe\\n\", \n",
    "          fontsize=20, fontstyle='italic')\n",
    "plt.show();"
   ]
  },
  {
   "cell_type": "code",
   "execution_count": null,
   "id": "bdbe92cb-935d-4a91-8664-2cf8c371f7ef",
   "metadata": {},
   "outputs": [],
   "source": [
    "# print the JS visualization code to the notebook\n",
    "# Même graphe en ne sélectionnant que les 10 premières variables\n",
    "shap.initjs()\n",
    "\n",
    "shap.summary_plot(shap_values[0], \n",
    "                  features=X_test2,\n",
    "                  feature_names=feature_names,\n",
    "                  plot_size=(16, 12),\n",
    "                  cmap='PiYG_r',\n",
    "                  plot_type=\"dot\",\n",
    "                  max_display=10,\n",
    "                  show = False)\n",
    "plt.title(\"Interprétation Globale : Diagramme des valeurs SHAP pour une classe\\n\", \n",
    "          fontsize=20, fontstyle='italic')\n",
    "plt.show();"
   ]
  },
  {
   "cell_type": "code",
   "execution_count": null,
   "id": "aee33449-a558-472d-a387-6645d7234e6f",
   "metadata": {},
   "outputs": [],
   "source": [
    "# On trace le graphe précédent pour nos 4 classes\n",
    "shap.initjs()\n",
    "\n",
    "fig, axs = plt.subplots(2, 2, figsize=(20, 20))\n",
    "axs = axs.flatten()  # Aplatir le tableau 2D en 1D pour faciliter l'indexation\n",
    "\n",
    "for i in range(4):\n",
    "    plt.sca(axs[i])  # Définir l'axe courant\n",
    "    shap.summary_plot(shap_values[i], \n",
    "                      features=X_test2,\n",
    "                      feature_names=feature_names,\n",
    "                      plot_size=(12, 10),\n",
    "                      cmap='PiYG_r',\n",
    "                      plot_type=\"dot\",\n",
    "                      max_display=10,\n",
    "                      show=False)\n",
    "    axs[i].set_title(f\"Classe {i}\")\n",
    "plt.tight_layout()\n",
    "plt.show();"
   ]
  },
  {
   "cell_type": "code",
   "execution_count": null,
   "id": "d8c7669a-03d7-4f49-a023-2b7a1e92457e",
   "metadata": {},
   "outputs": [],
   "source": [
    "# On trace un graphe de dépendance pour une variable et une classe (exemple)\n",
    "fig = plt.figure(figsize=(12,4))\n",
    "\n",
    "ax1 = fig.add_subplot(121)\n",
    "shap.dependence_plot(\"Ceinture\", shap_values[0], X_test2, \n",
    "                     interaction_index=None, alpha = 0.5,\n",
    "                     ax=ax1, show = False)\n",
    "ax1.title.set_text(\"Graphique de dépendance\" )\n",
    "\n",
    "ax2 = fig.add_subplot(122)\n",
    "shap.dependence_plot(\"Ceinture\", shap_values[0], X_test2, \n",
    "                     interaction_index=\"auto\", alpha = 0.5, \n",
    "                     ax=ax2, show = False)\n",
    "ax2.title.set_text(\"Graphique de dépendance et intéraction\" )\n",
    "\n",
    "plt.show();"
   ]
  },
  {
   "cell_type": "markdown",
   "id": "16d346df-63fb-4e35-8477-881e29ae5fd7",
   "metadata": {},
   "source": [
    "#### Interprétation locale du modèle"
   ]
  },
  {
   "cell_type": "code",
   "execution_count": null,
   "id": "f0796954-f51a-4d40-96ad-9401a9ef0e1e",
   "metadata": {},
   "outputs": [],
   "source": [
    "# load JS visualization code to notebook\n",
    "# On trace pour un usager son force plot\n",
    "# Comme shap_values[idx] est un array à deux dimensions (100, 115), on obtient un stacked force plot pour la classe idx\n",
    "shap.initjs()\n",
    "\n",
    "idx = 2  # Classe sélectionnée\n",
    "\n",
    "shap.force_plot(explainer.expected_value[idx], \n",
    "                shap_values[idx],\n",
    "                #X_test2.iloc[idx,:],\n",
    "                X_test2,\n",
    "                figsize=(20, 8),\n",
    "                ordering_keys=True,\n",
    "                text_rotation=0)"
   ]
  },
  {
   "cell_type": "markdown",
   "id": "ababdb7f-1aed-4b8a-a602-8ccc96e5b6ac",
   "metadata": {},
   "source": [
    "Le gstacked force plot est particulièrement utile pour examiner les cas mal classés et obtenir des informations sur les facteurs à l’origine de ces erreurs de classification. Cela permet une compréhension plus approfondie du processus de prise de décision du modèle et aide à identifier les domaines qui nécessitent une étude plus approfondie ou une amélioration.\n",
    "\n",
    "Il reste cependant difficile à interpréter et nécessite donc beaucoup de temps de compréhension"
   ]
  },
  {
   "cell_type": "code",
   "execution_count": null,
   "id": "9f7122fb-8345-44d3-829d-352fb93674cb",
   "metadata": {},
   "outputs": [],
   "source": [
    "# On trace pour un usager son force plot en considérant une seule classe cette fois-ci (shap_values en 1D array)\n",
    "shap.initjs()\n",
    "\n",
    "idx = 2\n",
    "print(\"Usager numero : \", X_test2.index[idx])\n",
    "print(\"Model Prediction : Classe\", y_pred[idx])\n",
    "print(\"Classe Réelle de l'usager :\", y_test.loc[idx])\n",
    "print(\"__\"*40)\n",
    "\n",
    "shap.force_plot(explainer.expected_value[idx], \n",
    "                shap_values[0][idx],\n",
    "                X_test2.iloc[idx,:],\n",
    "                figsize=(20, 8),\n",
    "                ordering_keys=True,\n",
    "                text_rotation=0)"
   ]
  },
  {
   "cell_type": "code",
   "execution_count": null,
   "id": "c2520ead-da4a-449a-93d2-4e208684f25b",
   "metadata": {},
   "outputs": [],
   "source": [
    "# Créer le graphique waterfall_plot pour un usager et une classe\n",
    "\n",
    "class_of_interest = 0  # On choisit une classe\n",
    "idx = 2  # usager qu'on veut\n",
    "shap_exp = shap.Explanation(values=shap_values[class_of_interest][idx],\n",
    "                            base_values=explainer.expected_value[class_of_interest],\n",
    "                            data=X_test2.iloc[idx,:],\n",
    "                            feature_names=X_test2.columns.tolist())\n",
    "\n",
    "shap.waterfall_plot(shap_exp, max_display=14)"
   ]
  },
  {
   "cell_type": "code",
   "execution_count": null,
   "id": "98f29ed8-3212-444f-aaf0-05fef3e27118",
   "metadata": {},
   "outputs": [],
   "source": [
    "class_of_interest = 0  # On choisit une classe\n",
    "idx = 2  # usager qu'on veut\n",
    "\n",
    "shap.decision_plot(explainer.expected_value[class_of_interest], \n",
    "                   shap_values[class_of_interest][idx], \n",
    "                   X_test2.iloc[idx,:], \n",
    "                   feature_names=X_test2.columns.to_list(),\n",
    "                   feature_order='importance',\n",
    "                   feature_display_range=slice(None, -14, -1))\n"
   ]
  },
  {
   "cell_type": "markdown",
   "id": "9169fee0-49b0-409d-b970-2a39df11d81d",
   "metadata": {},
   "source": [
    "## Recherche meilleurs hyperparamètres"
   ]
  },
  {
   "cell_type": "code",
   "execution_count": null,
   "id": "4df4e62f-4729-410e-a396-bb8990ac986e",
   "metadata": {},
   "outputs": [],
   "source": [
    "import numpy as np\n",
    "from sklearn.ensemble import RandomForestClassifier, GradientBoostingClassifier\n",
    "from sklearn.model_selection import GridSearchCV, RandomizedSearchCV\n",
    "from xgboost import XGBClassifier\n",
    "from sklearn.metrics import accuracy_score\n",
    "\n",
    "# Modifie numérotation des classes à prédire pour que fonctionne le xgb (Expected: [0 1 2 3], got [1 2 3 4])\n",
    "y_train3 = y_train.replace({1:0, 2:1, 3:2, 4:3})\n",
    "y_test3 = y_test.replace({1:0, 2:1, 3:2, 4:3})\n",
    "\n",
    "# Définition des modèles\n",
    "rf = RandomForestClassifier(random_state=42)\n",
    "xgb = XGBClassifier(random_state=42)\n",
    "gb = GradientBoostingClassifier(random_state=42)\n",
    "\n",
    "# Définition des grilles de paramètres pour GridSearch\n",
    "param_grid_rf = {'n_estimators': [100, 200, 300],\n",
    "                 'max_depth': [None, 10, 20, 30],\n",
    "                 'min_samples_split': [2, 5, 10],\n",
    "                 'min_samples_leaf': [1, 2, 4]}\n",
    "\n",
    "param_grid_xgb = {'n_estimators': [100, 200, 300],\n",
    "                  'max_depth': [3, 4, 5],\n",
    "                  'learning_rate': [0.01, 0.1, 0.3]}\n",
    "\n",
    "param_grid_gb = {'n_estimators': [100, 200, 300],\n",
    "                 'max_depth': [3, 4, 5],\n",
    "                 'learning_rate': [0.01, 0.1, 0.3],\n",
    "                 'min_samples_split': [2, 5, 10],\n",
    "                 'min_samples_leaf': [1, 2, 4]}\n",
    "\n",
    "# Définition des distributions de paramètres pour RandomSearch\n",
    "param_dist_rf = {'n_estimators': np.arange(100, 1000, 100),\n",
    "                 'max_depth': [None] + list(np.arange(10, 110, 10)),\n",
    "                 'min_samples_split': np.arange(2, 21),\n",
    "                 'min_samples_leaf': np.arange(1, 21)}\n",
    "\n",
    "param_dist_xgb = {'n_estimators': np.arange(100, 1000, 100),\n",
    "                  'max_depth': np.arange(3, 10),\n",
    "                  'learning_rate': [0.01, 0.05, 0.1, 0.3, 0.5]}\n",
    "\n",
    "param_dist_gb = {'n_estimators': np.arange(100, 1000, 100),\n",
    "                 'max_depth': np.arange(3, 10),\n",
    "                 'learning_rate': [0.01, 0.05, 0.1, 0.3, 0.5],\n",
    "                 'min_samples_split': np.arange(2, 21),\n",
    "                 'min_samples_leaf': np.arange(1, 21)}\n",
    "\n",
    "# Fonction pour effectuer la recherche d'hyperparamètres et retourner les meilleurs résultats\n",
    "def perform_search(model, param_grid, param_dist, X_train, y_train, search_type='grid'):\n",
    "    if search_type == 'grid':\n",
    "        search = GridSearchCV(model, param_grid, cv=5, n_jobs=-1, verbose=1)\n",
    "    else:\n",
    "        search = RandomizedSearchCV(model, param_dist, n_iter=10, cv=5, n_jobs=-1, verbose=1, random_state=42)\n",
    "    \n",
    "    search.fit(X_train, y_train)\n",
    "    return search.best_params_, search.best_score_\n",
    "\n",
    "# Liste des modèles et leurs paramètres correspondants\n",
    "models = [rf, xgb, gb]\n",
    "param_grids = [param_grid_rf, param_grid_xgb, param_grid_gb]\n",
    "param_dists = [param_dist_rf, param_dist_xgb, param_dist_gb]\n",
    "model_names = ['RandomForest', 'XGBoost', 'GradientBoosting']\n",
    "\n",
    "# Application de la fonction pour chaque modèle\n",
    "for model, param_grid, param_dist, name in zip(models, param_grids, param_dists, model_names):\n",
    "    print(f\"\\nOptimisation pour {name}:\")\n",
    "    \n",
    "    # GridSearch\n",
    "    #print(\"GridSearch:\")\n",
    "    #best_params_grid, best_score_grid = perform_search(model, param_grid, param_dist, X_train, y_train, search_type='grid')\n",
    "    #print(f\"Meilleurs paramètres: {best_params_grid}\")\n",
    "    #print(f\"Meilleur score: {best_score_grid}\")\n",
    "    \n",
    "    # RandomSearch\n",
    "    print(\"\\nRandomSearch:\")\n",
    "    print(model)\n",
    "    if model == xgb:\n",
    "        best_params_random, best_score_random = perform_search(model, param_grid, param_dist, X_train, y_train3, search_type='random')\n",
    "    else:\n",
    "        best_params_random, best_score_random = perform_search(model, param_grid, param_dist, X_train, y_train, search_type='random')\n",
    "    print(f\"Meilleurs paramètres: {best_params_random}\")\n",
    "    print(f\"Meilleur score: {best_score_random}\")\n",
    "    \n",
    "    # Comparaison des performances sur l'ensemble de test\n",
    "    #model_grid = model.set_params(**best_params_grid)\n",
    "    #model_grid.fit(X_train, y_train)\n",
    "    #y_pred_grid = model_grid.predict(X_test)\n",
    "    \n",
    "    model_random = model.set_params(**best_params_random)\n",
    "    if model == xgb:\n",
    "        model_random.fit(X_train, y_train3)\n",
    "    else:\n",
    "        model_random.fit(X_train, y_train)\n",
    "    y_pred_random = model_random.predict(X_test)\n",
    "    \n",
    "    print(f\"\\nPrécision sur l'ensemble de test:\")\n",
    "    #print(f\"GridSearch: {accuracy_score(y_test, y_pred_grid)}\")\n",
    "    print(f\"RandomSearch: {accuracy_score(y_test, y_pred_random)}\")\n"
   ]
  },
  {
   "cell_type": "code",
   "execution_count": 125,
   "id": "efc77d17-c08d-4702-87a9-719a93ee0171",
   "metadata": {},
   "outputs": [
    {
     "name": "stdout",
     "output_type": "stream",
     "text": [
      "\n",
      "Optimisation pour GradientBoosting:\n",
      "\n",
      "RandomSearch:\n",
      "GradientBoostingClassifier(random_state=42)\n",
      "Fitting 5 folds for each of 10 candidates, totalling 50 fits\n",
      "Meilleurs paramètres: {'n_estimators': 700, 'min_samples_split': 11, 'min_samples_leaf': 18, 'max_depth': 6, 'learning_rate': 0.05}\n",
      "Meilleur score: 0.6597597260150307\n",
      "\n",
      "Précision sur l'ensemble de test:\n",
      "RandomSearch: 0.6611971025543271\n"
     ]
    }
   ],
   "source": [
    "import numpy as np\n",
    "from sklearn.ensemble import GradientBoostingClassifier\n",
    "from sklearn.model_selection import RandomizedSearchCV\n",
    "from sklearn.metrics import accuracy_score\n",
    "\n",
    "# Définition des modèles\n",
    "gb = GradientBoostingClassifier(random_state=42)\n",
    "\n",
    "# Définition des distributions de paramètres pour RandomSearch\n",
    "param_dist_gb = {'n_estimators': np.arange(100, 1000, 100),\n",
    "                 'max_depth': np.arange(3, 10),\n",
    "                 'learning_rate': [0.01, 0.05, 0.1, 0.3, 0.5],\n",
    "                 'min_samples_split': np.arange(2, 21),\n",
    "                 'min_samples_leaf': np.arange(1, 21)}\n",
    "\n",
    "# Fonction pour effectuer la recherche d'hyperparamètres et retourner les meilleurs résultats\n",
    "def perform_search(model, param_dist, X_train, y_train, search_type='grid'):\n",
    "    if search_type == 'grid':\n",
    "        search = GridSearchCV(model, param_grid, cv=5, n_jobs=-1, verbose=1)\n",
    "    else:\n",
    "        search = RandomizedSearchCV(model, param_dist, n_iter=10, cv=5, n_jobs=-1, verbose=1, random_state=42)\n",
    "    \n",
    "    search.fit(X_train, y_train)\n",
    "    return search.best_params_, search.best_score_\n",
    "\n",
    "# Liste des modèles et leurs paramètres correspondants\n",
    "models = [gb]\n",
    "param_dists = [param_dist_gb]\n",
    "model_names = ['GradientBoosting']\n",
    "\n",
    "# Application de la fonction pour chaque modèle\n",
    "for model, param_dist, name in zip(models, param_dists, model_names):\n",
    "    print(f\"\\nOptimisation pour {name}:\")\n",
    "    \n",
    "    # RandomSearch\n",
    "    print(\"\\nRandomSearch:\")\n",
    "    print(model)\n",
    "    best_params_random, best_score_random = perform_search(model, param_dist, X_train, y_train, search_type='random')\n",
    "    print(f\"Meilleurs paramètres: {best_params_random}\")\n",
    "    print(f\"Meilleur score: {best_score_random}\")\n",
    "    \n",
    "    model_random = model.set_params(**best_params_random)\n",
    "    model_random.fit(X_train, y_train)\n",
    "    y_pred_random = model_random.predict(X_test)\n",
    "    \n",
    "    print(f\"\\nPrécision sur l'ensemble de test:\")\n",
    "    print(f\"RandomSearch: {accuracy_score(y_test, y_pred_random)}\")\n"
   ]
  },
  {
   "cell_type": "markdown",
   "id": "7dffaf1d-52f2-4597-a009-c22a8ce9baa7",
   "metadata": {},
   "source": [
    "Optimisation pour RandomForest:\n",
    "\n",
    "RandomSearch:\n",
    "RandomForestClassifier(random_state=42)\n",
    "Fitting 5 folds for each of 10 candidates, totalling 50 fits\n",
    "Meilleurs paramètres: {'n_estimators': 500, 'min_samples_split': 11, 'min_samples_leaf': 5, 'max_depth': None}\n",
    "Meilleur score: 0.6580288594857627\n",
    "\n",
    "Précision sur l'ensemble de test:\n",
    "RandomSearch: 0.6592603888677088\n",
    "\n",
    "Optimisation pour XGBoost:\n",
    "\n",
    "RandomSearch:\n",
    "XGBClassifier(base_score=None, booster=None, callbacks=None,\n",
    "              colsample_bylevel=None, colsample_bynode=None,\n",
    "              colsample_bytree=None, device=None, early_stopping_rounds=None,\n",
    "              enable_categorical=False, eval_metric=None, feature_types=None,\n",
    "              gamma=None, grow_policy=None, importance_type=None,\n",
    "              interaction_constraints=None, learning_rate=None, max_bin=None,\n",
    "              max_cat_threshold=None, max_cat_to_onehot=None,\n",
    "              max_delta_step=None, max_depth=None, max_leaves=None,\n",
    "              min_child_weight=None, missing=nan, monotone_constraints=None,\n",
    "              multi_strategy=None, n_estimators=None, n_jobs=None,\n",
    "              num_parallel_tree=None, random_state=42, ...)\n",
    "Fitting 5 folds for each of 10 candidates, totalling 50 fits\n",
    "Meilleurs paramètres: {'n_estimators': 900, 'max_depth': 4, 'learning_rate': 0.3}\n",
    "Meilleur score: 0.6601752933687327\n",
    "\n",
    "Précision sur l'ensemble de test:\n",
    "RandomSearch: 0.08132672512390393\n",
    "\n",
    "Optimisation pour GradientBoosting:\n",
    "\n",
    "RandomSearch:\n",
    "GradientBoostingClassifier(random_state=42)\n",
    "Fitting 5 folds for each of 10 candidates, totalling 50 fits\n",
    "Meilleurs paramètres: {'n_estimators': 700, 'min_samples_split': 11, 'min_samples_leaf': 18, 'max_depth': 6, 'learning_rate': 0.05}\n",
    "Meilleur score: 0.6597597260150307\n",
    "\n",
    "Précision sur l'ensemble de test:\n",
    "RandomSearch: 0.6611971025543271"
   ]
  },
  {
   "cell_type": "code",
   "execution_count": null,
   "id": "91e42dc5-28bf-4b03-a778-f9413ac14911",
   "metadata": {},
   "outputs": [],
   "source": []
  },
  {
   "cell_type": "code",
   "execution_count": 127,
   "id": "91766972-265a-44bd-9965-a0b0ad0d48d7",
   "metadata": {},
   "outputs": [
    {
     "name": "stdout",
     "output_type": "stream",
     "text": [
      "Fitting 5 folds for each of 10 candidates, totalling 50 fits\n",
      "[LightGBM] [Warning] Found whitespace in feature_names, replace with underlines\n",
      "[LightGBM] [Info] Auto-choosing row-wise multi-threading, the overhead of testing was 0.386677 seconds.\n",
      "You can set `force_row_wise=true` to remove the overhead.\n",
      "And if memory is not enough, you can set `force_col_wise=true`.\n",
      "[LightGBM] [Info] Total Bins 230\n",
      "[LightGBM] [Info] Number of data points in the train set: 262297, number of used features: 114\n",
      "[LightGBM] [Info] Start training from score -0.811827\n",
      "[LightGBM] [Info] Start training from score -3.702456\n",
      "[LightGBM] [Info] Start training from score -1.930760\n",
      "[LightGBM] [Info] Start training from score -0.951263\n",
      "Meilleurs hyperparamètres trouvés:\n",
      "{'subsample': 0.6, 'reg_lambda': 0.5, 'reg_alpha': 1, 'num_leaves': 50, 'n_estimators': 500, 'min_child_samples': 10, 'max_depth': -1, 'learning_rate': 0.05, 'colsample_bytree': 1.0}\n",
      "Meilleur score: 0.6607776580191809\n",
      "Score sur l'ensemble de test: 0.6606023637056805\n"
     ]
    }
   ],
   "source": [
    "import numpy as np\n",
    "from sklearn.model_selection import RandomizedSearchCV\n",
    "from lightgbm import LGBMClassifier\n",
    "\n",
    "# Définir l'espace de recherche des hyperparamètres\n",
    "param_dist = {\n",
    "    'num_leaves': [20, 31, 50, 100],\n",
    "    'max_depth': [-1, 5, 10, 20],\n",
    "    'learning_rate': [0.01, 0.05, 0.1],\n",
    "    'n_estimators': [100, 200, 300, 500],\n",
    "    'min_child_samples': [5, 10, 20, 30],\n",
    "    'subsample': [0.6, 0.8, 1.0],\n",
    "    'colsample_bytree': [0.6, 0.8, 1.0],\n",
    "    'reg_alpha': [0, 0.1, 0.5, 1],\n",
    "    'reg_lambda': [0, 0.1, 0.5, 1]\n",
    "}\n",
    "\n",
    "# Créer le modèle LGBMClassifier\n",
    "lgbm = LGBMClassifier(random_state=42)\n",
    "\n",
    "# Configurer et exécuter la recherche aléatoire\n",
    "random_search = RandomizedSearchCV(\n",
    "    estimator=lgbm,\n",
    "    param_distributions=param_dist,\n",
    "    n_iter=10,  # Nombre d'itérations\n",
    "    cv=5,  # Validation croisée à 5 plis\n",
    "    verbose=2,\n",
    "    random_state=42,\n",
    "    n_jobs=-1  # Utiliser tous les cœurs disponibles\n",
    ")\n",
    "\n",
    "# Effectuer la recherche\n",
    "random_search.fit(X_train, y_train)\n",
    "\n",
    "# Afficher les meilleurs hyperparamètres trouvés\n",
    "print(\"Meilleurs hyperparamètres trouvés:\")\n",
    "print(random_search.best_params_)\n",
    "\n",
    "# Afficher le meilleur score\n",
    "print(\"Meilleur score:\", random_search.best_score_)\n",
    "\n",
    "# Évaluer le modèle optimisé sur l'ensemble de test\n",
    "best_model = random_search.best_estimator_\n",
    "test_score = best_model.score(X_test, y_test)\n",
    "print(\"Score sur l'ensemble de test:\", test_score)\n"
   ]
  },
  {
   "cell_type": "markdown",
   "id": "94ce8300-0df9-4499-96df-be833b365fa7",
   "metadata": {},
   "source": [
    "Fitting 5 folds for each of 10 candidates, totalling 50 fits  \n",
    "[LightGBM] [Warning] Found whitespace in feature_names, replace with underlines  \n",
    "[LightGBM] [Info] Auto-choosing row-wise multi-threading, the overhead of testing was 0.386677 seconds.  \n",
    "You can set `force_row_wise=true` to remove the overhead.  \n",
    "And if memory is not enough, you can set `force_col_wise=true`.  \n",
    "[LightGBM] [Info] Total Bins 230  \n",
    "[LightGBM] [Info] Number of data points in the train set: 262297, number of used features: 114  \n",
    "[LightGBM] [Info] Start training from score -0.811827  \n",
    "[LightGBM] [Info] Start training from score -3.702456  \n",
    "[LightGBM] [Info] Start training from score -1.930760  \n",
    "[LightGBM] [Info] Start training from score -0.951263  \n",
    "Meilleurs hyperparamètres trouvés:  \n",
    "{'subsample': 0.6, 'reg_lambda': 0.5, 'reg_alpha': 1, 'num_leaves': 50, 'n_estimators': 500, 'min_child_samples': 10, 'max_depth': -1, 'learning_rate': 0.05, 'colsample_bytree': 1.0}  \n",
    "Meilleur score: 0.6607776580191809  \n",
    "Score sur l'ensemble de test: 0.6606023637056805"
   ]
  },
  {
   "cell_type": "code",
   "execution_count": null,
   "id": "768ea97f-b554-49c2-8fc7-027ff8355e38",
   "metadata": {},
   "outputs": [],
   "source": []
  },
  {
   "cell_type": "code",
   "execution_count": 134,
   "id": "5c0fba86-a4fe-46cd-a0e7-3b9f226287d9",
   "metadata": {},
   "outputs": [
    {
     "name": "stdout",
     "output_type": "stream",
     "text": [
      "\n",
      "Optimisation pour RandomForest:\n",
      "GridSearch:\n",
      "Fitting 5 folds for each of 108 candidates, totalling 540 fits\n",
      "Meilleurs paramètres: {'max_depth': None, 'min_samples_leaf': 2, 'min_samples_split': 5, 'n_estimators': 600}\n",
      "Meilleur score: 0.6608805901734403\n",
      "\n",
      "Précision sur l'ensemble de test:\n",
      "GridSearch: 0.6622493328250095\n",
      "\n",
      "Optimisation pour GradientBoosting:\n",
      "GridSearch:\n",
      "Fitting 5 folds for each of 243 candidates, totalling 1215 fits\n"
     ]
    },
    {
     "ename": "KeyboardInterrupt",
     "evalue": "",
     "output_type": "error",
     "traceback": [
      "\u001b[1;31m---------------------------------------------------------------------------\u001b[0m",
      "\u001b[1;31mKeyboardInterrupt\u001b[0m                         Traceback (most recent call last)",
      "Cell \u001b[1;32mIn[134], line 49\u001b[0m\n\u001b[0;32m     47\u001b[0m \u001b[38;5;28mprint\u001b[39m(\u001b[38;5;124mf\u001b[39m\u001b[38;5;124m\"\u001b[39m\u001b[38;5;130;01m\\n\u001b[39;00m\u001b[38;5;124mOptimisation pour \u001b[39m\u001b[38;5;132;01m{\u001b[39;00mname\u001b[38;5;132;01m}\u001b[39;00m\u001b[38;5;124m:\u001b[39m\u001b[38;5;124m\"\u001b[39m)\n\u001b[0;32m     48\u001b[0m \u001b[38;5;28mprint\u001b[39m(\u001b[38;5;124m\"\u001b[39m\u001b[38;5;124mGridSearch:\u001b[39m\u001b[38;5;124m\"\u001b[39m)\n\u001b[1;32m---> 49\u001b[0m best_params_grid, best_score_grid \u001b[38;5;241m=\u001b[39m \u001b[43mperform_search\u001b[49m\u001b[43m(\u001b[49m\u001b[43mmodel\u001b[49m\u001b[43m,\u001b[49m\u001b[43m \u001b[49m\u001b[43mparam_grid\u001b[49m\u001b[43m,\u001b[49m\u001b[43m \u001b[49m\u001b[43mparam_dist\u001b[49m\u001b[43m,\u001b[49m\u001b[43m \u001b[49m\u001b[43mX_train\u001b[49m\u001b[43m,\u001b[49m\u001b[43m \u001b[49m\u001b[43my_train\u001b[49m\u001b[43m)\u001b[49m\n\u001b[0;32m     50\u001b[0m \u001b[38;5;28mprint\u001b[39m(\u001b[38;5;124mf\u001b[39m\u001b[38;5;124m\"\u001b[39m\u001b[38;5;124mMeilleurs paramètres: \u001b[39m\u001b[38;5;132;01m{\u001b[39;00mbest_params_grid\u001b[38;5;132;01m}\u001b[39;00m\u001b[38;5;124m\"\u001b[39m)\n\u001b[0;32m     51\u001b[0m \u001b[38;5;28mprint\u001b[39m(\u001b[38;5;124mf\u001b[39m\u001b[38;5;124m\"\u001b[39m\u001b[38;5;124mMeilleur score: \u001b[39m\u001b[38;5;132;01m{\u001b[39;00mbest_score_grid\u001b[38;5;132;01m}\u001b[39;00m\u001b[38;5;124m\"\u001b[39m)\n",
      "Cell \u001b[1;32mIn[134], line 37\u001b[0m, in \u001b[0;36mperform_search\u001b[1;34m(model, param_grid, param_dist, X_train, y_train)\u001b[0m\n\u001b[0;32m     35\u001b[0m \u001b[38;5;28;01mdef\u001b[39;00m \u001b[38;5;21mperform_search\u001b[39m(model, param_grid, param_dist, X_train, y_train):\n\u001b[0;32m     36\u001b[0m     search \u001b[38;5;241m=\u001b[39m GridSearchCV(model, param_grid, cv\u001b[38;5;241m=\u001b[39m\u001b[38;5;241m5\u001b[39m, n_jobs\u001b[38;5;241m=\u001b[39m\u001b[38;5;241m-\u001b[39m\u001b[38;5;241m1\u001b[39m, verbose\u001b[38;5;241m=\u001b[39m\u001b[38;5;241m1\u001b[39m)\n\u001b[1;32m---> 37\u001b[0m     \u001b[43msearch\u001b[49m\u001b[38;5;241;43m.\u001b[39;49m\u001b[43mfit\u001b[49m\u001b[43m(\u001b[49m\u001b[43mX_train\u001b[49m\u001b[43m,\u001b[49m\u001b[43m \u001b[49m\u001b[43my_train\u001b[49m\u001b[43m)\u001b[49m\n\u001b[0;32m     38\u001b[0m     \u001b[38;5;28;01mreturn\u001b[39;00m search\u001b[38;5;241m.\u001b[39mbest_params_, search\u001b[38;5;241m.\u001b[39mbest_score_\n",
      "File \u001b[1;32m~\\Anaconda3\\lib\\site-packages\\sklearn\\base.py:1473\u001b[0m, in \u001b[0;36m_fit_context.<locals>.decorator.<locals>.wrapper\u001b[1;34m(estimator, *args, **kwargs)\u001b[0m\n\u001b[0;32m   1466\u001b[0m     estimator\u001b[38;5;241m.\u001b[39m_validate_params()\n\u001b[0;32m   1468\u001b[0m \u001b[38;5;28;01mwith\u001b[39;00m config_context(\n\u001b[0;32m   1469\u001b[0m     skip_parameter_validation\u001b[38;5;241m=\u001b[39m(\n\u001b[0;32m   1470\u001b[0m         prefer_skip_nested_validation \u001b[38;5;129;01mor\u001b[39;00m global_skip_validation\n\u001b[0;32m   1471\u001b[0m     )\n\u001b[0;32m   1472\u001b[0m ):\n\u001b[1;32m-> 1473\u001b[0m     \u001b[38;5;28;01mreturn\u001b[39;00m fit_method(estimator, \u001b[38;5;241m*\u001b[39margs, \u001b[38;5;241m*\u001b[39m\u001b[38;5;241m*\u001b[39mkwargs)\n",
      "File \u001b[1;32m~\\Anaconda3\\lib\\site-packages\\sklearn\\model_selection\\_search.py:1018\u001b[0m, in \u001b[0;36mBaseSearchCV.fit\u001b[1;34m(self, X, y, **params)\u001b[0m\n\u001b[0;32m   1012\u001b[0m     results \u001b[38;5;241m=\u001b[39m \u001b[38;5;28mself\u001b[39m\u001b[38;5;241m.\u001b[39m_format_results(\n\u001b[0;32m   1013\u001b[0m         all_candidate_params, n_splits, all_out, all_more_results\n\u001b[0;32m   1014\u001b[0m     )\n\u001b[0;32m   1016\u001b[0m     \u001b[38;5;28;01mreturn\u001b[39;00m results\n\u001b[1;32m-> 1018\u001b[0m \u001b[38;5;28;43mself\u001b[39;49m\u001b[38;5;241;43m.\u001b[39;49m\u001b[43m_run_search\u001b[49m\u001b[43m(\u001b[49m\u001b[43mevaluate_candidates\u001b[49m\u001b[43m)\u001b[49m\n\u001b[0;32m   1020\u001b[0m \u001b[38;5;66;03m# multimetric is determined here because in the case of a callable\u001b[39;00m\n\u001b[0;32m   1021\u001b[0m \u001b[38;5;66;03m# self.scoring the return type is only known after calling\u001b[39;00m\n\u001b[0;32m   1022\u001b[0m first_test_score \u001b[38;5;241m=\u001b[39m all_out[\u001b[38;5;241m0\u001b[39m][\u001b[38;5;124m\"\u001b[39m\u001b[38;5;124mtest_scores\u001b[39m\u001b[38;5;124m\"\u001b[39m]\n",
      "File \u001b[1;32m~\\Anaconda3\\lib\\site-packages\\sklearn\\model_selection\\_search.py:1572\u001b[0m, in \u001b[0;36mGridSearchCV._run_search\u001b[1;34m(self, evaluate_candidates)\u001b[0m\n\u001b[0;32m   1570\u001b[0m \u001b[38;5;28;01mdef\u001b[39;00m \u001b[38;5;21m_run_search\u001b[39m(\u001b[38;5;28mself\u001b[39m, evaluate_candidates):\n\u001b[0;32m   1571\u001b[0m \u001b[38;5;250m    \u001b[39m\u001b[38;5;124;03m\"\"\"Search all candidates in param_grid\"\"\"\u001b[39;00m\n\u001b[1;32m-> 1572\u001b[0m     \u001b[43mevaluate_candidates\u001b[49m\u001b[43m(\u001b[49m\u001b[43mParameterGrid\u001b[49m\u001b[43m(\u001b[49m\u001b[38;5;28;43mself\u001b[39;49m\u001b[38;5;241;43m.\u001b[39;49m\u001b[43mparam_grid\u001b[49m\u001b[43m)\u001b[49m\u001b[43m)\u001b[49m\n",
      "File \u001b[1;32m~\\Anaconda3\\lib\\site-packages\\sklearn\\model_selection\\_search.py:964\u001b[0m, in \u001b[0;36mBaseSearchCV.fit.<locals>.evaluate_candidates\u001b[1;34m(candidate_params, cv, more_results)\u001b[0m\n\u001b[0;32m    956\u001b[0m \u001b[38;5;28;01mif\u001b[39;00m \u001b[38;5;28mself\u001b[39m\u001b[38;5;241m.\u001b[39mverbose \u001b[38;5;241m>\u001b[39m \u001b[38;5;241m0\u001b[39m:\n\u001b[0;32m    957\u001b[0m     \u001b[38;5;28mprint\u001b[39m(\n\u001b[0;32m    958\u001b[0m         \u001b[38;5;124m\"\u001b[39m\u001b[38;5;124mFitting \u001b[39m\u001b[38;5;132;01m{0}\u001b[39;00m\u001b[38;5;124m folds for each of \u001b[39m\u001b[38;5;132;01m{1}\u001b[39;00m\u001b[38;5;124m candidates,\u001b[39m\u001b[38;5;124m\"\u001b[39m\n\u001b[0;32m    959\u001b[0m         \u001b[38;5;124m\"\u001b[39m\u001b[38;5;124m totalling \u001b[39m\u001b[38;5;132;01m{2}\u001b[39;00m\u001b[38;5;124m fits\u001b[39m\u001b[38;5;124m\"\u001b[39m\u001b[38;5;241m.\u001b[39mformat(\n\u001b[0;32m    960\u001b[0m             n_splits, n_candidates, n_candidates \u001b[38;5;241m*\u001b[39m n_splits\n\u001b[0;32m    961\u001b[0m         )\n\u001b[0;32m    962\u001b[0m     )\n\u001b[1;32m--> 964\u001b[0m out \u001b[38;5;241m=\u001b[39m \u001b[43mparallel\u001b[49m\u001b[43m(\u001b[49m\n\u001b[0;32m    965\u001b[0m \u001b[43m    \u001b[49m\u001b[43mdelayed\u001b[49m\u001b[43m(\u001b[49m\u001b[43m_fit_and_score\u001b[49m\u001b[43m)\u001b[49m\u001b[43m(\u001b[49m\n\u001b[0;32m    966\u001b[0m \u001b[43m        \u001b[49m\u001b[43mclone\u001b[49m\u001b[43m(\u001b[49m\u001b[43mbase_estimator\u001b[49m\u001b[43m)\u001b[49m\u001b[43m,\u001b[49m\n\u001b[0;32m    967\u001b[0m \u001b[43m        \u001b[49m\u001b[43mX\u001b[49m\u001b[43m,\u001b[49m\n\u001b[0;32m    968\u001b[0m \u001b[43m        \u001b[49m\u001b[43my\u001b[49m\u001b[43m,\u001b[49m\n\u001b[0;32m    969\u001b[0m \u001b[43m        \u001b[49m\u001b[43mtrain\u001b[49m\u001b[38;5;241;43m=\u001b[39;49m\u001b[43mtrain\u001b[49m\u001b[43m,\u001b[49m\n\u001b[0;32m    970\u001b[0m \u001b[43m        \u001b[49m\u001b[43mtest\u001b[49m\u001b[38;5;241;43m=\u001b[39;49m\u001b[43mtest\u001b[49m\u001b[43m,\u001b[49m\n\u001b[0;32m    971\u001b[0m \u001b[43m        \u001b[49m\u001b[43mparameters\u001b[49m\u001b[38;5;241;43m=\u001b[39;49m\u001b[43mparameters\u001b[49m\u001b[43m,\u001b[49m\n\u001b[0;32m    972\u001b[0m \u001b[43m        \u001b[49m\u001b[43msplit_progress\u001b[49m\u001b[38;5;241;43m=\u001b[39;49m\u001b[43m(\u001b[49m\u001b[43msplit_idx\u001b[49m\u001b[43m,\u001b[49m\u001b[43m \u001b[49m\u001b[43mn_splits\u001b[49m\u001b[43m)\u001b[49m\u001b[43m,\u001b[49m\n\u001b[0;32m    973\u001b[0m \u001b[43m        \u001b[49m\u001b[43mcandidate_progress\u001b[49m\u001b[38;5;241;43m=\u001b[39;49m\u001b[43m(\u001b[49m\u001b[43mcand_idx\u001b[49m\u001b[43m,\u001b[49m\u001b[43m \u001b[49m\u001b[43mn_candidates\u001b[49m\u001b[43m)\u001b[49m\u001b[43m,\u001b[49m\n\u001b[0;32m    974\u001b[0m \u001b[43m        \u001b[49m\u001b[38;5;241;43m*\u001b[39;49m\u001b[38;5;241;43m*\u001b[39;49m\u001b[43mfit_and_score_kwargs\u001b[49m\u001b[43m,\u001b[49m\n\u001b[0;32m    975\u001b[0m \u001b[43m    \u001b[49m\u001b[43m)\u001b[49m\n\u001b[0;32m    976\u001b[0m \u001b[43m    \u001b[49m\u001b[38;5;28;43;01mfor\u001b[39;49;00m\u001b[43m \u001b[49m\u001b[43m(\u001b[49m\u001b[43mcand_idx\u001b[49m\u001b[43m,\u001b[49m\u001b[43m \u001b[49m\u001b[43mparameters\u001b[49m\u001b[43m)\u001b[49m\u001b[43m,\u001b[49m\u001b[43m \u001b[49m\u001b[43m(\u001b[49m\u001b[43msplit_idx\u001b[49m\u001b[43m,\u001b[49m\u001b[43m \u001b[49m\u001b[43m(\u001b[49m\u001b[43mtrain\u001b[49m\u001b[43m,\u001b[49m\u001b[43m \u001b[49m\u001b[43mtest\u001b[49m\u001b[43m)\u001b[49m\u001b[43m)\u001b[49m\u001b[43m \u001b[49m\u001b[38;5;129;43;01min\u001b[39;49;00m\u001b[43m \u001b[49m\u001b[43mproduct\u001b[49m\u001b[43m(\u001b[49m\n\u001b[0;32m    977\u001b[0m \u001b[43m        \u001b[49m\u001b[38;5;28;43menumerate\u001b[39;49m\u001b[43m(\u001b[49m\u001b[43mcandidate_params\u001b[49m\u001b[43m)\u001b[49m\u001b[43m,\u001b[49m\n\u001b[0;32m    978\u001b[0m \u001b[43m        \u001b[49m\u001b[38;5;28;43menumerate\u001b[39;49m\u001b[43m(\u001b[49m\u001b[43mcv\u001b[49m\u001b[38;5;241;43m.\u001b[39;49m\u001b[43msplit\u001b[49m\u001b[43m(\u001b[49m\u001b[43mX\u001b[49m\u001b[43m,\u001b[49m\u001b[43m \u001b[49m\u001b[43my\u001b[49m\u001b[43m,\u001b[49m\u001b[43m \u001b[49m\u001b[38;5;241;43m*\u001b[39;49m\u001b[38;5;241;43m*\u001b[39;49m\u001b[43mrouted_params\u001b[49m\u001b[38;5;241;43m.\u001b[39;49m\u001b[43msplitter\u001b[49m\u001b[38;5;241;43m.\u001b[39;49m\u001b[43msplit\u001b[49m\u001b[43m)\u001b[49m\u001b[43m)\u001b[49m\u001b[43m,\u001b[49m\n\u001b[0;32m    979\u001b[0m \u001b[43m    \u001b[49m\u001b[43m)\u001b[49m\n\u001b[0;32m    980\u001b[0m \u001b[43m\u001b[49m\u001b[43m)\u001b[49m\n\u001b[0;32m    982\u001b[0m \u001b[38;5;28;01mif\u001b[39;00m \u001b[38;5;28mlen\u001b[39m(out) \u001b[38;5;241m<\u001b[39m \u001b[38;5;241m1\u001b[39m:\n\u001b[0;32m    983\u001b[0m     \u001b[38;5;28;01mraise\u001b[39;00m \u001b[38;5;167;01mValueError\u001b[39;00m(\n\u001b[0;32m    984\u001b[0m         \u001b[38;5;124m\"\u001b[39m\u001b[38;5;124mNo fits were performed. \u001b[39m\u001b[38;5;124m\"\u001b[39m\n\u001b[0;32m    985\u001b[0m         \u001b[38;5;124m\"\u001b[39m\u001b[38;5;124mWas the CV iterator empty? \u001b[39m\u001b[38;5;124m\"\u001b[39m\n\u001b[0;32m    986\u001b[0m         \u001b[38;5;124m\"\u001b[39m\u001b[38;5;124mWere there no candidates?\u001b[39m\u001b[38;5;124m\"\u001b[39m\n\u001b[0;32m    987\u001b[0m     )\n",
      "File \u001b[1;32m~\\Anaconda3\\lib\\site-packages\\sklearn\\utils\\parallel.py:74\u001b[0m, in \u001b[0;36mParallel.__call__\u001b[1;34m(self, iterable)\u001b[0m\n\u001b[0;32m     69\u001b[0m config \u001b[38;5;241m=\u001b[39m get_config()\n\u001b[0;32m     70\u001b[0m iterable_with_config \u001b[38;5;241m=\u001b[39m (\n\u001b[0;32m     71\u001b[0m     (_with_config(delayed_func, config), args, kwargs)\n\u001b[0;32m     72\u001b[0m     \u001b[38;5;28;01mfor\u001b[39;00m delayed_func, args, kwargs \u001b[38;5;129;01min\u001b[39;00m iterable\n\u001b[0;32m     73\u001b[0m )\n\u001b[1;32m---> 74\u001b[0m \u001b[38;5;28;01mreturn\u001b[39;00m \u001b[38;5;28;43msuper\u001b[39;49m\u001b[43m(\u001b[49m\u001b[43m)\u001b[49m\u001b[38;5;241;43m.\u001b[39;49m\u001b[38;5;21;43m__call__\u001b[39;49m\u001b[43m(\u001b[49m\u001b[43miterable_with_config\u001b[49m\u001b[43m)\u001b[49m\n",
      "File \u001b[1;32m~\\Anaconda3\\lib\\site-packages\\joblib\\parallel.py:2007\u001b[0m, in \u001b[0;36mParallel.__call__\u001b[1;34m(self, iterable)\u001b[0m\n\u001b[0;32m   2001\u001b[0m \u001b[38;5;66;03m# The first item from the output is blank, but it makes the interpreter\u001b[39;00m\n\u001b[0;32m   2002\u001b[0m \u001b[38;5;66;03m# progress until it enters the Try/Except block of the generator and\u001b[39;00m\n\u001b[0;32m   2003\u001b[0m \u001b[38;5;66;03m# reaches the first `yield` statement. This starts the asynchronous\u001b[39;00m\n\u001b[0;32m   2004\u001b[0m \u001b[38;5;66;03m# dispatch of the tasks to the workers.\u001b[39;00m\n\u001b[0;32m   2005\u001b[0m \u001b[38;5;28mnext\u001b[39m(output)\n\u001b[1;32m-> 2007\u001b[0m \u001b[38;5;28;01mreturn\u001b[39;00m output \u001b[38;5;28;01mif\u001b[39;00m \u001b[38;5;28mself\u001b[39m\u001b[38;5;241m.\u001b[39mreturn_generator \u001b[38;5;28;01melse\u001b[39;00m \u001b[38;5;28;43mlist\u001b[39;49m\u001b[43m(\u001b[49m\u001b[43moutput\u001b[49m\u001b[43m)\u001b[49m\n",
      "File \u001b[1;32m~\\Anaconda3\\lib\\site-packages\\joblib\\parallel.py:1650\u001b[0m, in \u001b[0;36mParallel._get_outputs\u001b[1;34m(self, iterator, pre_dispatch)\u001b[0m\n\u001b[0;32m   1647\u001b[0m     \u001b[38;5;28;01myield\u001b[39;00m\n\u001b[0;32m   1649\u001b[0m     \u001b[38;5;28;01mwith\u001b[39;00m \u001b[38;5;28mself\u001b[39m\u001b[38;5;241m.\u001b[39m_backend\u001b[38;5;241m.\u001b[39mretrieval_context():\n\u001b[1;32m-> 1650\u001b[0m         \u001b[38;5;28;01myield from\u001b[39;00m \u001b[38;5;28mself\u001b[39m\u001b[38;5;241m.\u001b[39m_retrieve()\n\u001b[0;32m   1652\u001b[0m \u001b[38;5;28;01mexcept\u001b[39;00m \u001b[38;5;167;01mGeneratorExit\u001b[39;00m:\n\u001b[0;32m   1653\u001b[0m     \u001b[38;5;66;03m# The generator has been garbage collected before being fully\u001b[39;00m\n\u001b[0;32m   1654\u001b[0m     \u001b[38;5;66;03m# consumed. This aborts the remaining tasks if possible and warn\u001b[39;00m\n\u001b[0;32m   1655\u001b[0m     \u001b[38;5;66;03m# the user if necessary.\u001b[39;00m\n\u001b[0;32m   1656\u001b[0m     \u001b[38;5;28mself\u001b[39m\u001b[38;5;241m.\u001b[39m_exception \u001b[38;5;241m=\u001b[39m \u001b[38;5;28;01mTrue\u001b[39;00m\n",
      "File \u001b[1;32m~\\Anaconda3\\lib\\site-packages\\joblib\\parallel.py:1762\u001b[0m, in \u001b[0;36mParallel._retrieve\u001b[1;34m(self)\u001b[0m\n\u001b[0;32m   1757\u001b[0m \u001b[38;5;66;03m# If the next job is not ready for retrieval yet, we just wait for\u001b[39;00m\n\u001b[0;32m   1758\u001b[0m \u001b[38;5;66;03m# async callbacks to progress.\u001b[39;00m\n\u001b[0;32m   1759\u001b[0m \u001b[38;5;28;01mif\u001b[39;00m ((\u001b[38;5;28mlen\u001b[39m(\u001b[38;5;28mself\u001b[39m\u001b[38;5;241m.\u001b[39m_jobs) \u001b[38;5;241m==\u001b[39m \u001b[38;5;241m0\u001b[39m) \u001b[38;5;129;01mor\u001b[39;00m\n\u001b[0;32m   1760\u001b[0m     (\u001b[38;5;28mself\u001b[39m\u001b[38;5;241m.\u001b[39m_jobs[\u001b[38;5;241m0\u001b[39m]\u001b[38;5;241m.\u001b[39mget_status(\n\u001b[0;32m   1761\u001b[0m         timeout\u001b[38;5;241m=\u001b[39m\u001b[38;5;28mself\u001b[39m\u001b[38;5;241m.\u001b[39mtimeout) \u001b[38;5;241m==\u001b[39m TASK_PENDING)):\n\u001b[1;32m-> 1762\u001b[0m     \u001b[43mtime\u001b[49m\u001b[38;5;241;43m.\u001b[39;49m\u001b[43msleep\u001b[49m\u001b[43m(\u001b[49m\u001b[38;5;241;43m0.01\u001b[39;49m\u001b[43m)\u001b[49m\n\u001b[0;32m   1763\u001b[0m     \u001b[38;5;28;01mcontinue\u001b[39;00m\n\u001b[0;32m   1765\u001b[0m \u001b[38;5;66;03m# We need to be careful: the job list can be filling up as\u001b[39;00m\n\u001b[0;32m   1766\u001b[0m \u001b[38;5;66;03m# we empty it and Python list are not thread-safe by\u001b[39;00m\n\u001b[0;32m   1767\u001b[0m \u001b[38;5;66;03m# default hence the use of the lock\u001b[39;00m\n",
      "\u001b[1;31mKeyboardInterrupt\u001b[0m: "
     ]
    }
   ],
   "source": [
    "import numpy as np\n",
    "from sklearn.ensemble import RandomForestClassifier, GradientBoostingClassifier\n",
    "from lightgbm import LGBMClassifier\n",
    "from sklearn.model_selection import GridSearchCV\n",
    "from sklearn.metrics import accuracy_score\n",
    "\n",
    "# Définition des modèles\n",
    "rf = RandomForestClassifier(random_state=42)\n",
    "gb = GradientBoostingClassifier(random_state=42)\n",
    "lgbm = LGBMClassifier(random_state=42)\n",
    "\n",
    "# Définition des grilles de paramètres pour GridSearch\n",
    "param_grid_rf = {'n_estimators': [30, 400, 500, 600],\n",
    "                 'max_depth': [None, 10, 20],\n",
    "                 'min_samples_split': [5, 11, 16],\n",
    "                 'min_samples_leaf': [2, 5, 8]}\n",
    "\n",
    "param_grid_gb = {'n_estimators': [200, 500, 700],\n",
    "                 'max_depth': [4, 5, 6],\n",
    "                 'learning_rate': [0.05, 0.1, 0.2],\n",
    "                 'min_samples_split': [8, 11, 15],\n",
    "                 'min_samples_leaf': [4, 10, 18]}\n",
    "\n",
    "param_grid_lgbm = {'num_leaves': [20, 40, 50, 60],\n",
    "                   'max_depth': [-1, 0, 1],\n",
    "                   'learning_rate': [0.01, 0.05, 0.1],\n",
    "                   'n_estimators': [300, 500, 800],\n",
    "                   'min_child_samples': [5, 10, 15],\n",
    "                   'subsample': [0.4, 0.6, 0.8],\n",
    "                   'colsample_bytree': [0.8, 1.0, 1.2],\n",
    "                   'reg_alpha': [0.8, 1, 1.2],\n",
    "                   'reg_lambda': [0.3, 0.5, 0.8]}\n",
    "\n",
    "# Fonction pour effectuer la recherche d'hyperparamètres et retourner les meilleurs résultats\n",
    "def perform_search(model, param_grid, param_dist, X_train, y_train):\n",
    "    search = GridSearchCV(model, param_grid, cv=5, n_jobs=-1, verbose=1)\n",
    "    search.fit(X_train, y_train)\n",
    "    return search.best_params_, search.best_score_\n",
    "\n",
    "# Liste des modèles et leurs paramètres correspondants\n",
    "models = [rf, gb, lgbm]\n",
    "param_grids = [param_grid_rf, param_grid_gb, param_grid_lgbm]\n",
    "model_names = ['RandomForest', 'GradientBoosting', 'LGBM']\n",
    "\n",
    "# Application de la fonction pour chaque modèle\n",
    "for model, param_grid, name in zip(models, param_grids, model_names):\n",
    "    print(f\"\\nOptimisation pour {name}:\")\n",
    "    print(\"GridSearch:\")\n",
    "    best_params_grid, best_score_grid = perform_search(model, param_grid, param_dist, X_train, y_train)\n",
    "    print(f\"Meilleurs paramètres: {best_params_grid}\")\n",
    "    print(f\"Meilleur score: {best_score_grid}\")\n",
    "    \n",
    "    # Comparaison des performances sur l'ensemble de test\n",
    "    model_grid = model.set_params(**best_params_grid)\n",
    "    model_grid.fit(X_train, y_train)\n",
    "    y_pred_grid = model_grid.predict(X_test)\n",
    "    \n",
    "    print(f\"\\nPrécision sur l'ensemble de test:\")\n",
    "    print(f\"GridSearch: {accuracy_score(y_test, y_pred_grid)}\")\n"
   ]
  },
  {
   "cell_type": "markdown",
   "id": "cfb9e35b-ded3-4d3b-936a-94839f381b48",
   "metadata": {},
   "source": [
    "Optimisation pour RandomForest:  \n",
    "GridSearch:  \n",
    "Fitting 5 folds for each of 108 candidates, totalling 540 fits  \n",
    "Meilleurs paramètres: {'max_depth': None, 'min_samples_leaf': 2, 'min_samples_split': 5, 'n_estimators': 600}  \n",
    "Meilleur score: 0.6608805901734403  \n",
    "\n",
    "Précision sur l'ensemble de test:  \n",
    "GridSearch: 0.6622493328250095"
   ]
  },
  {
   "cell_type": "code",
   "execution_count": null,
   "id": "46c83b19-cdd1-48f1-8abd-b5cd8458c21d",
   "metadata": {},
   "outputs": [],
   "source": [
    "from sklearn.ensemble import GradientBoostingClassifier\n",
    "from sklearn.metrics import recall_score, f1_score, accuracy_score\n",
    "\n",
    "model_boost = GradientBoostingClassifier(loss=\"log_loss\",\n",
    "                                         learning_rate=0.2,\n",
    "                                         max_depth=5,\n",
    "                                         max_features=\"sqrt\",\n",
    "                                         subsample=0.95,\n",
    "                                         n_estimators=200)\n",
    "model_boost.fit(X_train, y_train)\n",
    "\n",
    "y_pred_boost = model_boost.predict(X_test)\n",
    "y_pred_boost_train = model_boost.predict(X_train)\n",
    "\n",
    "# Mesure performance modèle\n",
    "print('Accuracy score test :', accuracy_score(y_test, y_pred_boost))\n",
    "print('Accuracy score train :', accuracy_score(y_train, y_pred_boost_train))\n",
    "print('----------')\n",
    "print('Recall test :', recall_score(y_test, y_pred_boost, average='macro'))\n",
    "print('Recall train :', recall_score(y_train, y_pred_boost_train, average='macro'))\n",
    "print('----------')\n",
    "print('f1 score test :', f1_score(y_test, y_pred_boost, average='macro'))\n",
    "print('f1 score train :', f1_score(y_train, y_pred_boost_train, average='macro'))\n"
   ]
  },
  {
   "cell_type": "markdown",
   "id": "17997174-631a-49b7-ae11-95d976ef4552",
   "metadata": {},
   "source": [
    "Accuracy score test : 0.6591078917270301  \n",
    "Accuracy score train : 0.6710637178465633  \n",
    "----------  \n",
    "Recall test : 0.4586364913850358  \n",
    "Recall train : 0.47879448082497567  \n",
    "----------  \n",
    "f1 score test : 0.46653079564972616  \n",
    "f1 score train : 0.4968292252735149"
   ]
  },
  {
   "cell_type": "code",
   "execution_count": null,
   "id": "8f590678-f880-49c3-8e75-2474217012cc",
   "metadata": {},
   "outputs": [],
   "source": [
    "from sklearn.ensemble import RandomForestClassifier\n",
    "from sklearn.metrics import recall_score, f1_score, accuracy_score\n",
    "\n",
    "model_rf = RandomForestClassifier(n_estimators=30, \n",
    "                                  max_depth=20,\n",
    "                                  random_state=42)\n",
    "model_rf.fit(X_train, y_train)\n",
    "\n",
    "y_pred_rf = model_rf.predict(X_test)\n",
    "y_pred_rf_train = model_rf.predict(X_train)\n",
    "\n",
    "# Mesure performance modèle\n",
    "print('Accuracy score test :', accuracy_score(y_test, y_pred_rf))\n",
    "print('Accuracy score train :', accuracy_score(y_train, y_pred_rf_train))\n",
    "print('----------')\n",
    "print('Recall test :', recall_score(y_test, y_pred_rf, average='macro'))\n",
    "print('Recall train :', recall_score(y_train, y_pred_rf_train, average='macro'))\n",
    "print('----------')\n",
    "print('f1 score test :', f1_score(y_test, y_pred_rf, average='macro'))\n",
    "print('f1 score train :', f1_score(y_train, y_pred_rf_train, average='macro'))"
   ]
  },
  {
   "cell_type": "markdown",
   "id": "9dc1bec0-17f5-4f36-bcc5-5978d62c2058",
   "metadata": {},
   "source": [
    "Accuracy score test : 0.6554327106366755  \n",
    "Accuracy score train : 0.7357842445777115  \n",
    "----------  \n",
    "Recall test : 0.4433271765199451  \n",
    "Recall train : 0.5613115308038168  \n",
    "----------  \n",
    "f1 score test : 0.4472325665410673  \n",
    "f1 score train : 0.6048255239935346"
   ]
  },
  {
   "cell_type": "code",
   "execution_count": null,
   "id": "903b93cf-bae8-40f9-a1bf-734bc2699f11",
   "metadata": {},
   "outputs": [],
   "source": [
    "from sklearn.ensemble import RandomForestClassifier\n",
    "from sklearn.metrics import recall_score, f1_score, accuracy_score\n",
    "\n",
    "model_rf = RandomForestClassifier(max_depth=None,\n",
    "                                  min_samples_split=11,\n",
    "                                  min_samples_leaf=5,\n",
    "                                  n_estimators=500)\n",
    "model_rf.fit(X_train, y_train)\n",
    "\n",
    "y_pred_rf = model_rf.predict(X_test)\n",
    "y_pred_rf_train = model_rf.predict(X_train)\n",
    "\n",
    "# Mesure performance modèle\n",
    "print('Accuracy score test :', accuracy_score(y_test, y_pred_rf))\n",
    "print('Accuracy score train :', accuracy_score(y_train, y_pred_rf_train))\n",
    "print('----------')\n",
    "print('Recall test :', recall_score(y_test, y_pred_rf, average='macro'))\n",
    "print('Recall train :', recall_score(y_train, y_pred_rf_train, average='macro'))\n",
    "print('----------')\n",
    "print('f1 score test :', f1_score(y_test, y_pred_rf, average='macro'))\n",
    "print('f1 score train :', f1_score(y_train, y_pred_rf_train, average='macro'))\n"
   ]
  },
  {
   "cell_type": "markdown",
   "id": "72c7bd01-fe56-4e08-af7e-5309b188b3ca",
   "metadata": {},
   "source": [
    "Accuracy score test : 0.6596416317194053  \n",
    "Accuracy score train : 0.7043847241867044  \n",
    "----------  \n",
    "Recall test : 0.44617412872582685  \n",
    "Recall train : 0.4826501350350695  \n",
    "----------  \n",
    "f1 score test : 0.44785785921057597  \n",
    "f1 score train : 0.4874035826049449"
   ]
  },
  {
   "cell_type": "code",
   "execution_count": null,
   "id": "dc837e4c-3abc-4909-bd15-0c43a4aa0fc7",
   "metadata": {},
   "outputs": [],
   "source": []
  },
  {
   "cell_type": "markdown",
   "id": "c13ef831-95cb-40ff-bc50-d1749a2c78c2",
   "metadata": {},
   "source": [
    "## Resampling data"
   ]
  },
  {
   "cell_type": "code",
   "execution_count": 161,
   "id": "977bfe2c-0b46-4b7f-895a-e2f8a314a7ac",
   "metadata": {},
   "outputs": [
    {
     "name": "stdout",
     "output_type": "stream",
     "text": [
      "Distribution initiale des classes: Counter({1: 116472, 4: 101313, 3: 38043, 2: 6469})\n"
     ]
    }
   ],
   "source": [
    "from imblearn.over_sampling import SMOTE\n",
    "from collections import Counter\n",
    "\n",
    "# Afficher la distribution initiale\n",
    "print(\"Distribution initiale des classes:\", Counter(y_train))\n"
   ]
  },
  {
   "cell_type": "code",
   "execution_count": 163,
   "id": "9df1aa12-6849-46a2-a547-7f2476a55ccc",
   "metadata": {},
   "outputs": [],
   "source": [
    "# Initialiser SMOTE\n",
    "smote = SMOTE(random_state=42)\n",
    "\n",
    "# Appliquer SMOTE uniquement sur les données d'entraînement\n",
    "X_train_balanced, y_train_balanced = smote.fit_resample(X_train, y_train)"
   ]
  },
  {
   "cell_type": "code",
   "execution_count": 165,
   "id": "37d7f458-61b8-4552-b365-d64c5aa5d279",
   "metadata": {},
   "outputs": [
    {
     "name": "stdout",
     "output_type": "stream",
     "text": [
      "Distribution après SMOTE: Counter({1: 116472, 3: 116472, 4: 116472, 2: 116472})\n"
     ]
    }
   ],
   "source": [
    "# On vérifie la nouvelle distribution\n",
    "print(\"Distribution après SMOTE:\", Counter(y_train_balanced))\n",
    "\n",
    "# X_test et y_test restent inchangés\n",
    "# Car ils doivent représenter la distribution réelle des données"
   ]
  },
  {
   "cell_type": "code",
   "execution_count": 169,
   "id": "e7695c34-fc27-4ce4-a955-ccd831d9aeed",
   "metadata": {},
   "outputs": [],
   "source": [
    "# On essaie de ne pas sur-équilibrer le jeu de données (peut créer du bruit)"
   ]
  },
  {
   "cell_type": "code",
   "execution_count": 171,
   "id": "acf7b689-6007-4833-a3eb-0fd109b05667",
   "metadata": {},
   "outputs": [
    {
     "name": "stdout",
     "output_type": "stream",
     "text": [
      "Distribution initiale: Counter({1: 116472, 4: 101313, 3: 38043, 2: 6469})\n",
      "Distribution après rééquilibrage: Counter({1: 116472, 3: 116472, 4: 116472, 2: 116472})\n"
     ]
    }
   ],
   "source": [
    "# Utilisation de SMOTETomek ou SMOTEENN qui combine oversampling (SMOTE) et undersampling :\n",
    "\n",
    "from imblearn.combine import SMOTETomek\n",
    "from collections import Counter\n",
    "\n",
    "# Afficher la distribution initiale\n",
    "print(\"Distribution initiale:\", Counter(y_train))\n",
    "\n",
    "# Méthode 1: SMOTETomek\n",
    "smt = SMOTETomek(random_state=42)\n",
    "X_train_balanced2, y_train_balanced2 = smt.fit_resample(X_train, y_train)\n",
    "\n",
    "# Afficher la nouvelle distribution\n",
    "print(\"Distribution après rééquilibrage:\", Counter(y_train_balanced))\n",
    "\n",
    "# A noter qu'il est aussi possible d'utiliser SMOTEENN. Différences principales :\n",
    "# SMOTETomek : plus conservateur, supprime moins d'exemples\n",
    "# SMOTEENN : plus agressif, peut supprimer plus d'exemples\n"
   ]
  },
  {
   "cell_type": "code",
   "execution_count": 167,
   "id": "e23ba4ac-6f25-41f3-a343-c81d46bebbcc",
   "metadata": {},
   "outputs": [],
   "source": [
    "# Autre possibilité : le faire manuellement (stratégie personnalisée)\n",
    "\n",
    "# Définir une distribution spécifique\n",
    "#strategy = {0: 1000, 1: 1000, 2: 1000, 3: 1000}\n",
    "#smt = SMOTETomek(sampling_strategy=strategy, random_state=42)\n",
    "#X_train_balanced, y_train_balanced = smt.fit_resample(X_train, y_train)\n"
   ]
  },
  {
   "cell_type": "code",
   "execution_count": 181,
   "id": "bf5dcab6-5ec8-4fe2-9071-2682bad0118b",
   "metadata": {},
   "outputs": [
    {
     "name": "stdout",
     "output_type": "stream",
     "text": [
      "Score test : 0.6221883339687381\n",
      "Score train : 0.7407316779998626\n"
     ]
    }
   ],
   "source": [
    "from sklearn.ensemble import RandomForestClassifier\n",
    "\n",
    "model_balanced = RandomForestClassifier(n_estimators=500, \n",
    "                                        max_depth=None,\n",
    "                                        min_samples_split = 11,\n",
    "                                        min_samples_leaf = 5,\n",
    "                                        random_state=42)\n",
    "model_balanced.fit(X_train_balanced, y_train_balanced)\n",
    "\n",
    "# Mesure performance modèle\n",
    "print('Score test :', model_balanced.score(X_test, y_test))\n",
    "print('Score train :', model_balanced.score(X_train_balanced, y_train_balanced))"
   ]
  },
  {
   "cell_type": "code",
   "execution_count": 183,
   "id": "36e12518-d53a-409f-b485-68cd020f8a7f",
   "metadata": {},
   "outputs": [
    {
     "name": "stdout",
     "output_type": "stream",
     "text": [
      "Accuracy score test : 0.6221883339687381\n",
      "Accuracy score train : 0.7407316779998626\n",
      "Recall test : 0.5329364840808077\n",
      "f1 score test : 0.4964681341279791\n"
     ]
    },
    {
     "data": {
      "text/html": [
       "<div>\n",
       "<style scoped>\n",
       "    .dataframe tbody tr th:only-of-type {\n",
       "        vertical-align: middle;\n",
       "    }\n",
       "\n",
       "    .dataframe tbody tr th {\n",
       "        vertical-align: top;\n",
       "    }\n",
       "\n",
       "    .dataframe thead th {\n",
       "        text-align: right;\n",
       "    }\n",
       "</style>\n",
       "<table border=\"1\" class=\"dataframe\">\n",
       "  <thead>\n",
       "    <tr style=\"text-align: right;\">\n",
       "      <th>Prédiction</th>\n",
       "      <th>1</th>\n",
       "      <th>2</th>\n",
       "      <th>3</th>\n",
       "      <th>4</th>\n",
       "    </tr>\n",
       "    <tr>\n",
       "      <th>Réalité</th>\n",
       "      <th></th>\n",
       "      <th></th>\n",
       "      <th></th>\n",
       "      <th></th>\n",
       "    </tr>\n",
       "  </thead>\n",
       "  <tbody>\n",
       "    <tr>\n",
       "      <th>1</th>\n",
       "      <td>23198</td>\n",
       "      <td>669</td>\n",
       "      <td>1604</td>\n",
       "      <td>3581</td>\n",
       "    </tr>\n",
       "    <tr>\n",
       "      <th>2</th>\n",
       "      <td>129</td>\n",
       "      <td>592</td>\n",
       "      <td>728</td>\n",
       "      <td>210</td>\n",
       "    </tr>\n",
       "    <tr>\n",
       "      <th>3</th>\n",
       "      <td>1114</td>\n",
       "      <td>1418</td>\n",
       "      <td>4660</td>\n",
       "      <td>2340</td>\n",
       "    </tr>\n",
       "    <tr>\n",
       "      <th>4</th>\n",
       "      <td>7050</td>\n",
       "      <td>1019</td>\n",
       "      <td>4913</td>\n",
       "      <td>12350</td>\n",
       "    </tr>\n",
       "  </tbody>\n",
       "</table>\n",
       "</div>"
      ],
      "text/plain": [
       "Prédiction      1     2     3      4\n",
       "Réalité                             \n",
       "1           23198   669  1604   3581\n",
       "2             129   592   728    210\n",
       "3            1114  1418  4660   2340\n",
       "4            7050  1019  4913  12350"
      ]
     },
     "metadata": {},
     "output_type": "display_data"
    },
    {
     "name": "stdout",
     "output_type": "stream",
     "text": [
      "              precision    recall  f1-score   support\n",
      "\n",
      "           1       0.74      0.80      0.77     29052\n",
      "           2       0.16      0.36      0.22      1659\n",
      "           3       0.39      0.49      0.43      9532\n",
      "           4       0.67      0.49      0.56     25332\n",
      "\n",
      "    accuracy                           0.62     65575\n",
      "   macro avg       0.49      0.53      0.50     65575\n",
      "weighted avg       0.65      0.62      0.63     65575\n",
      "\n"
     ]
    },
    {
     "data": {
      "image/png": "[encoded data removed]",
      "text/plain": [
       "<Figure size 640x480 with 1 Axes>"
      ]
     },
     "metadata": {},
     "output_type": "display_data"
    }
   ],
   "source": [
    "from sklearn.metrics import confusion_matrix\n",
    "from sklearn.metrics import classification_report\n",
    "from sklearn.metrics import recall_score, f1_score, accuracy_score\n",
    "\n",
    "y_pred_balanced = model_balanced.predict(X_test)\n",
    "y_pred_train_balanced = model_balanced.predict(X_train_balanced)\n",
    "\n",
    "# Mesure performance modèle\n",
    "print('Accuracy score test :', accuracy_score(y_test, y_pred_balanced))\n",
    "print('Accuracy score train :', accuracy_score(y_train_balanced, y_pred_train_balanced))\n",
    "print('Recall test :', recall_score(y_test, y_pred_balanced, average='macro'))\n",
    "print('f1 score test :', f1_score(y_test, y_pred_balanced, average='macro'))\n",
    "\n",
    "conf_matrix = confusion_matrix(y_test, y_pred_balanced)\n",
    "\n",
    "display(pd.crosstab(y_test, y_pred_balanced, rownames=['Réalité'], colnames=['Prédiction']))\n",
    "print(classification_report(y_test, y_pred_balanced))\n",
    "\n",
    "sns.heatmap(conf_matrix, annot=True, fmt='d', cbar=False,\n",
    "            xticklabels=model_balanced.classes_,\n",
    "            yticklabels=model_balanced.classes_)\n",
    "plt.title('Matrice de Confusion')\n",
    "plt.xlabel('Prédictions')\n",
    "plt.ylabel('Vraies valeurs')\n",
    "plt.show();"
   ]
  },
  {
   "cell_type": "code",
   "execution_count": 185,
   "id": "75b4c3b9-a6ff-4cd0-977f-15b58f368b56",
   "metadata": {},
   "outputs": [
    {
     "name": "stdout",
     "output_type": "stream",
     "text": [
      "Score test : 0.6205566145634769\n",
      "Score train : 0.748149305013275\n"
     ]
    }
   ],
   "source": [
    "from sklearn.ensemble import RandomForestClassifier\n",
    "\n",
    "model_balanced2 = RandomForestClassifier(n_estimators=500, \n",
    "                                        max_depth=None,\n",
    "                                        min_samples_split = 11,\n",
    "                                        min_samples_leaf = 5,\n",
    "                                        random_state=42)\n",
    "model_balanced2.fit(X_train_balanced2, y_train_balanced2)\n",
    "\n",
    "# Mesure performance modèle\n",
    "print('Score test :', model_balanced2.score(X_test, y_test))\n",
    "print('Score train :', model_balanced2.score(X_train_balanced2, y_train_balanced2))"
   ]
  },
  {
   "cell_type": "code",
   "execution_count": 187,
   "id": "56206d5e-2921-4838-beb8-f21d8f3c953c",
   "metadata": {},
   "outputs": [
    {
     "name": "stdout",
     "output_type": "stream",
     "text": [
      "Accuracy score test : 0.6205566145634769\n",
      "Accuracy score train : 0.748149305013275\n",
      "Recall test : 0.5355536174934288\n",
      "f1 score test : 0.49620403801790436\n"
     ]
    },
    {
     "data": {
      "text/html": [
       "<div>\n",
       "<style scoped>\n",
       "    .dataframe tbody tr th:only-of-type {\n",
       "        vertical-align: middle;\n",
       "    }\n",
       "\n",
       "    .dataframe tbody tr th {\n",
       "        vertical-align: top;\n",
       "    }\n",
       "\n",
       "    .dataframe thead th {\n",
       "        text-align: right;\n",
       "    }\n",
       "</style>\n",
       "<table border=\"1\" class=\"dataframe\">\n",
       "  <thead>\n",
       "    <tr style=\"text-align: right;\">\n",
       "      <th>Prédiction</th>\n",
       "      <th>1</th>\n",
       "      <th>2</th>\n",
       "      <th>3</th>\n",
       "      <th>4</th>\n",
       "    </tr>\n",
       "    <tr>\n",
       "      <th>Réalité</th>\n",
       "      <th></th>\n",
       "      <th></th>\n",
       "      <th></th>\n",
       "      <th></th>\n",
       "    </tr>\n",
       "  </thead>\n",
       "  <tbody>\n",
       "    <tr>\n",
       "      <th>1</th>\n",
       "      <td>23173</td>\n",
       "      <td>697</td>\n",
       "      <td>1653</td>\n",
       "      <td>3529</td>\n",
       "    </tr>\n",
       "    <tr>\n",
       "      <th>2</th>\n",
       "      <td>134</td>\n",
       "      <td>616</td>\n",
       "      <td>712</td>\n",
       "      <td>197</td>\n",
       "    </tr>\n",
       "    <tr>\n",
       "      <th>3</th>\n",
       "      <td>1115</td>\n",
       "      <td>1451</td>\n",
       "      <td>4676</td>\n",
       "      <td>2290</td>\n",
       "    </tr>\n",
       "    <tr>\n",
       "      <th>4</th>\n",
       "      <td>7085</td>\n",
       "      <td>1096</td>\n",
       "      <td>4923</td>\n",
       "      <td>12228</td>\n",
       "    </tr>\n",
       "  </tbody>\n",
       "</table>\n",
       "</div>"
      ],
      "text/plain": [
       "Prédiction      1     2     3      4\n",
       "Réalité                             \n",
       "1           23173   697  1653   3529\n",
       "2             134   616   712    197\n",
       "3            1115  1451  4676   2290\n",
       "4            7085  1096  4923  12228"
      ]
     },
     "metadata": {},
     "output_type": "display_data"
    },
    {
     "name": "stdout",
     "output_type": "stream",
     "text": [
      "              precision    recall  f1-score   support\n",
      "\n",
      "           1       0.74      0.80      0.77     29052\n",
      "           2       0.16      0.37      0.22      1659\n",
      "           3       0.39      0.49      0.44      9532\n",
      "           4       0.67      0.48      0.56     25332\n",
      "\n",
      "    accuracy                           0.62     65575\n",
      "   macro avg       0.49      0.54      0.50     65575\n",
      "weighted avg       0.65      0.62      0.62     65575\n",
      "\n"
     ]
    },
    {
     "data": {
      "image/png": "[encoded data removed]",
      "text/plain": [
       "<Figure size 640x480 with 1 Axes>"
      ]
     },
     "metadata": {},
     "output_type": "display_data"
    }
   ],
   "source": [
    "from sklearn.metrics import confusion_matrix\n",
    "from sklearn.metrics import classification_report\n",
    "from sklearn.metrics import recall_score, f1_score, accuracy_score\n",
    "\n",
    "y_pred_balanced2 = model_balanced2.predict(X_test)\n",
    "y_pred_train_balanced2 = model_balanced2.predict(X_train_balanced2)\n",
    "\n",
    "# Mesure performance modèle\n",
    "print('Accuracy score test :', accuracy_score(y_test, y_pred_balanced2))\n",
    "print('Accuracy score train :', accuracy_score(y_train_balanced2, y_pred_train_balanced2))\n",
    "print('Recall test :', recall_score(y_test, y_pred_balanced2, average='macro'))\n",
    "print('f1 score test :', f1_score(y_test, y_pred_balanced2, average='macro'))\n",
    "\n",
    "conf_matrix = confusion_matrix(y_test, y_pred_balanced2)\n",
    "\n",
    "display(pd.crosstab(y_test, y_pred_balanced2, rownames=['Réalité'], colnames=['Prédiction']))\n",
    "print(classification_report(y_test, y_pred_balanced2))\n",
    "\n",
    "sns.heatmap(conf_matrix, annot=True, fmt='d', cbar=False,\n",
    "            xticklabels=model_balanced2.classes_,\n",
    "            yticklabels=model_balanced2.classes_)\n",
    "plt.title('Matrice de Confusion')\n",
    "plt.xlabel('Prédictions')\n",
    "plt.ylabel('Vraies valeurs')\n",
    "plt.show();"
   ]
  }
 ],
 "metadata": {
  "kernelspec": {
   "display_name": "Python 3 (ipykernel)",
   "language": "python",
   "name": "python3"
  },
  "language_info": {
   "codemirror_mode": {
    "name": "ipython",
    "version": 3
   },
   "file_extension": ".py",
   "mimetype": "text/x-python",
   "name": "python",
   "nbconvert_exporter": "python",
   "pygments_lexer": "ipython3",
   "version": "3.9.19"
  }
 },
 "nbformat": 4,
 "nbformat_minor": 5
}
