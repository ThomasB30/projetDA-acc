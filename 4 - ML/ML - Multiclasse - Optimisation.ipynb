{
 "cells": [
  {
   "cell_type": "code",
   "execution_count": 1,
   "id": "3ac39476",
   "metadata": {},
   "outputs": [],
   "source": [
    "# Chargement des packages nécessaires\n",
    "import numpy as np\n",
    "import pandas as pd\n",
    "import matplotlib.pyplot as plt\n",
    "import seaborn as sns"
   ]
  },
  {
   "cell_type": "markdown",
   "id": "3c917fc8",
   "metadata": {},
   "source": [
    "# Importation des données\n",
    "\n",
    "On importe les données de 2020 à 2022"
   ]
  },
  {
   "cell_type": "code",
   "execution_count": 3,
   "id": "e335b317",
   "metadata": {},
   "outputs": [],
   "source": [
    "# Année 2022\n",
    "df_carac_2022 = pd.read_csv(\"../data/caracteristiques_2022.csv\", sep=';', low_memory=False)\n",
    "df_lieux_2022 = pd.read_csv(\"../data/lieux_2022.csv\", sep=';', low_memory=False)\n",
    "df_usagers_2022 = pd.read_csv(\"../data/usagers_2022.csv\", sep=';', low_memory=False)\n",
    "df_vehicules_2022 = pd.read_csv(\"../data/vehicules_2022.csv\", sep=';', low_memory=False)\n",
    "\n",
    "# Année 2021\n",
    "df_carac_2021 = pd.read_csv(\"../data/caracteristiques_2021.csv\", sep=';', low_memory=False)\n",
    "df_lieux_2021 = pd.read_csv(\"../data/lieux_2021.csv\", sep=';', low_memory=False)\n",
    "df_usagers_2021 = pd.read_csv(\"../data/usagers_2021.csv\", sep=';', low_memory=False)\n",
    "df_vehicules_2021 = pd.read_csv(\"../data/vehicules_2021.csv\", sep=';', low_memory=False)\n",
    "\n",
    "# Année 2020\n",
    "df_carac_2020 = pd.read_csv(\"../data/caracteristiques_2020.csv\", sep=';', low_memory=False)\n",
    "df_lieux_2020 = pd.read_csv(\"../data/lieux_2020.csv\", sep=';', low_memory=False)\n",
    "df_usagers_2020 = pd.read_csv(\"../data/usagers_2020.csv\", sep=';', low_memory=False)\n",
    "df_vehicules_2020 = pd.read_csv(\"../data/vehicules_2020.csv\", sep=';', low_memory=False)\n"
   ]
  },
  {
   "cell_type": "markdown",
   "id": "e731e77c",
   "metadata": {},
   "source": [
    "# Jointure"
   ]
  },
  {
   "cell_type": "code",
   "execution_count": 5,
   "id": "0966c728",
   "metadata": {},
   "outputs": [],
   "source": [
    "# On modifie le nom de la colonne de df_carac_2022\n",
    "\n",
    "df_carac_2022.rename(columns={'Accident_Id': 'Num_Acc'}, inplace=True)"
   ]
  },
  {
   "cell_type": "code",
   "execution_count": 6,
   "id": "8a3d665f",
   "metadata": {},
   "outputs": [],
   "source": [
    "# On joint les df par années\n",
    "\n",
    "df_merged_2022_1 = pd.merge(df_usagers_2022, df_vehicules_2022, on=['Num_Acc', 'id_vehicule', 'num_veh'])\n",
    "df_merged_2022_2 = pd.merge(df_merged_2022_1, df_lieux_2022, on='Num_Acc')\n",
    "df_merged_2022 = pd.merge(df_merged_2022_2, df_carac_2022, on='Num_Acc')"
   ]
  },
  {
   "cell_type": "code",
   "execution_count": 7,
   "id": "738f8eff",
   "metadata": {},
   "outputs": [],
   "source": [
    "# On fait de même avec les autres années\n",
    "\n",
    "df_merged_2021_1 = pd.merge(df_usagers_2021, df_vehicules_2021, on=['Num_Acc', 'id_vehicule', 'num_veh'])\n",
    "df_merged_2021_2 = pd.merge(df_merged_2021_1, df_lieux_2021, on='Num_Acc')\n",
    "df_merged_2021 = pd.merge(df_merged_2021_2, df_carac_2021, on='Num_Acc')\n",
    "\n",
    "df_merged_2020_1 = pd.merge(df_usagers_2020, df_vehicules_2020, on=['Num_Acc', 'id_vehicule', 'num_veh'])\n",
    "df_merged_2020_2 = pd.merge(df_merged_2020_1, df_lieux_2020, on='Num_Acc')\n",
    "df_merged_2020 = pd.merge(df_merged_2020_2, df_carac_2020, on='Num_Acc')"
   ]
  },
  {
   "cell_type": "code",
   "execution_count": 8,
   "id": "8b2287ba",
   "metadata": {},
   "outputs": [],
   "source": [
    "# On concat le tout dans un seul df\n",
    "\n",
    "df_merged = pd.concat([df_merged_2022, df_merged_2021, df_merged_2020], axis=0, ignore_index=True)"
   ]
  },
  {
   "cell_type": "code",
   "execution_count": 9,
   "id": "600ea24a",
   "metadata": {},
   "outputs": [
    {
     "name": "stdout",
     "output_type": "stream",
     "text": [
      "<class 'pandas.core.frame.DataFrame'>\n",
      "RangeIndex: 361205 entries, 0 to 361204\n",
      "Data columns (total 55 columns):\n",
      " #   Column       Non-Null Count   Dtype  \n",
      "---  ------       --------------   -----  \n",
      " 0   Num_Acc      361205 non-null  int64  \n",
      " 1   id_usager    255910 non-null  object \n",
      " 2   id_vehicule  361205 non-null  object \n",
      " 3   num_veh      361205 non-null  object \n",
      " 4   place        361205 non-null  int64  \n",
      " 5   catu         361205 non-null  int64  \n",
      " 6   grav         361205 non-null  int64  \n",
      " 7   sexe         361205 non-null  int64  \n",
      " 8   an_nais      355264 non-null  float64\n",
      " 9   trajet       361205 non-null  int64  \n",
      " 10  secu1        361205 non-null  int64  \n",
      " 11  secu2        361205 non-null  int64  \n",
      " 12  secu3        361205 non-null  int64  \n",
      " 13  locp         361205 non-null  int64  \n",
      " 14  actp         361205 non-null  object \n",
      " 15  etatp        361205 non-null  int64  \n",
      " 16  senc         361205 non-null  int64  \n",
      " 17  catv         361205 non-null  int64  \n",
      " 18  obs          361205 non-null  int64  \n",
      " 19  obsm         361205 non-null  int64  \n",
      " 20  choc         361205 non-null  int64  \n",
      " 21  manv         361205 non-null  int64  \n",
      " 22  motor        361205 non-null  int64  \n",
      " 23  occutc       4334 non-null    float64\n",
      " 24  catr         361205 non-null  int64  \n",
      " 25  voie         319555 non-null  object \n",
      " 26  v1           361205 non-null  int64  \n",
      " 27  v2           29800 non-null   object \n",
      " 28  circ         361205 non-null  int64  \n",
      " 29  nbv          361205 non-null  object \n",
      " 30  vosp         361205 non-null  int64  \n",
      " 31  prof         361205 non-null  int64  \n",
      " 32  pr           361205 non-null  object \n",
      " 33  pr1          361205 non-null  object \n",
      " 34  plan         361205 non-null  int64  \n",
      " 35  lartpc       615 non-null     object \n",
      " 36  larrout      361205 non-null  object \n",
      " 37  surf         361205 non-null  int64  \n",
      " 38  infra        361205 non-null  int64  \n",
      " 39  situ         361205 non-null  int64  \n",
      " 40  vma          361205 non-null  int64  \n",
      " 41  jour         361205 non-null  int64  \n",
      " 42  mois         361205 non-null  int64  \n",
      " 43  an           361205 non-null  int64  \n",
      " 44  hrmn         361205 non-null  object \n",
      " 45  lum          361205 non-null  int64  \n",
      " 46  dep          361205 non-null  object \n",
      " 47  com          361205 non-null  object \n",
      " 48  agg          361205 non-null  int64  \n",
      " 49  int          361205 non-null  int64  \n",
      " 50  atm          361205 non-null  int64  \n",
      " 51  col          361205 non-null  int64  \n",
      " 52  adr          356175 non-null  object \n",
      " 53  lat          361205 non-null  object \n",
      " 54  long         361205 non-null  object \n",
      "dtypes: float64(2), int64(36), object(17)\n",
      "memory usage: 151.6+ MB\n"
     ]
    }
   ],
   "source": [
    "df_merged.info()"
   ]
  },
  {
   "cell_type": "markdown",
   "id": "44327b03",
   "metadata": {},
   "source": [
    "## Preprocessing"
   ]
  },
  {
   "cell_type": "markdown",
   "id": "67c1726f",
   "metadata": {},
   "source": [
    "Observations dupliquées ?"
   ]
  },
  {
   "cell_type": "code",
   "execution_count": 12,
   "id": "4d5f5c23",
   "metadata": {},
   "outputs": [
    {
     "name": "stdout",
     "output_type": "stream",
     "text": [
      "Nombre de lignes dupliquées : 63\n"
     ]
    }
   ],
   "source": [
    "print('Nombre de lignes dupliquées :', df_merged.duplicated().sum())"
   ]
  },
  {
   "cell_type": "code",
   "execution_count": 13,
   "id": "80da5c5d",
   "metadata": {},
   "outputs": [],
   "source": [
    "# On supprime les lignes dupliquées\n",
    "\n",
    "df_merged = df_merged.drop_duplicates(keep = 'first')"
   ]
  },
  {
   "cell_type": "code",
   "execution_count": 14,
   "id": "78025345",
   "metadata": {},
   "outputs": [
    {
     "name": "stdout",
     "output_type": "stream",
     "text": [
      "Nombre de lignes dupliquées : 0\n"
     ]
    }
   ],
   "source": [
    "print('Nombre de lignes dupliquées :', df_merged.duplicated().sum())"
   ]
  },
  {
   "cell_type": "markdown",
   "id": "70522653",
   "metadata": {},
   "source": [
    "Les variables peuvent prendre la valeur de '-1' qui signifie 'Non renseigné'. Pour mieux gérer le nettoyage du df, on remplace cette valeur par un NaN.\n"
   ]
  },
  {
   "cell_type": "code",
   "execution_count": 16,
   "id": "4717b34a",
   "metadata": {},
   "outputs": [],
   "source": [
    "df_merged = df_merged.replace(-1, np.nan)\n",
    "df_merged = df_merged.replace('-1', np.nan)  # Si format txt\n",
    "df_merged = df_merged.replace(' -1', np.nan)  # Si format txt"
   ]
  },
  {
   "cell_type": "markdown",
   "id": "da875cf7",
   "metadata": {},
   "source": [
    "Visualisation des taux de NaN par variable"
   ]
  },
  {
   "cell_type": "code",
   "execution_count": 18,
   "id": "d56ae3c0",
   "metadata": {},
   "outputs": [
    {
     "data": {
      "image/png": "[encoded data removed]",
      "text/plain": [
       "<Figure size 1500x1000 with 1 Axes>"
      ]
     },
     "metadata": {},
     "output_type": "display_data"
    }
   ],
   "source": [
    "nan_col = df_merged.isna().sum().sort_values(ascending=True)/df_merged.shape[0]\n",
    "nan_col.plot.barh(figsize=(15,10))  # On trace via pandas\n",
    "plt.xticks([0.0, 0.1, 0.2, 0.3, 0.4, 0.5, 0.6, 0.7, 0.8, 0.9, 1.0])\n",
    "plt.grid(True)\n",
    "plt.xlabel('Proportion de valeurs manquantes')\n",
    "plt.ylabel('Variable')\n",
    "plt.show();"
   ]
  },
  {
   "cell_type": "markdown",
   "id": "a30dfa2d",
   "metadata": {},
   "source": [
    "Les variables suivantes ont des taux de NaN supérieurs à 10% :\n",
    "- lartpc : largeur du TPC si existe\n",
    "- secu3 : Présence et utilisation d'un équipeemnt de sécurité (3eme renseignement possible)\n",
    "- occutc : Nb d'occupants dans le transport en commun\n",
    "- larrout : Largeur de la chaussée\n",
    "- etatp : Si piéton accidenté accompagné ou non\n",
    "- v2 : Lettre indice alphanum de la route\n",
    "- locp : Localisation du piéton\n",
    "- actp : Action du piéton\n",
    "- secu2 : Présence et utilisation d'un équipeemnt de sécurité (2eme renseignement possible)\n",
    "- id_usager : Identifiant unique de l'usager (que depuis 2021)\n",
    "- v1 : Indice num du numéro de route\n",
    "- voie : Numéro de la route"
   ]
  },
  {
   "cell_type": "markdown",
   "id": "fb05e1eb",
   "metadata": {},
   "source": [
    "Au vu du nombre important de NaN, ces variables ne seront pas analysées (gestion des NaN peu envisageable). Nous faisons cependant l'exception pour les équipements de sécurité. Ils seront regroupés dans des variables pour chaque élément.\n",
    "\n",
    "3 variables concernant les piétons sont également non utilisables. Pour la suite, on retirera également les autres variables en lien avec des piétons (catu = 3 (Piéton))\n",
    "\n",
    "Pour la localisation des accidents, du fait d'avoir les latitudes et longitudes, nous pouvons supprimer les autres variables. Nous gardons tout de même la variable dep (département) et com (commune)."
   ]
  },
  {
   "cell_type": "code",
   "execution_count": 21,
   "id": "fe2a926c",
   "metadata": {},
   "outputs": [],
   "source": [
    "df_merged = df_merged.drop(['lartpc', 'occutc', 'larrout', 'etatp', 'locp', 'actp', 'id_usager',\n",
    "                            'voie', 'v1', 'v2', 'adr', 'pr', 'pr1'], axis=1)\n",
    "\n",
    "df_merged = df_merged[df_merged[\"catu\"] != 3]"
   ]
  },
  {
   "cell_type": "markdown",
   "id": "79c18195",
   "metadata": {},
   "source": [
    "On trie les variables 'secu', 'secu2' et 'secu3'"
   ]
  },
  {
   "cell_type": "code",
   "execution_count": 23,
   "id": "47b4cbd2",
   "metadata": {},
   "outputs": [],
   "source": [
    "df_merged['Ceinture'] = df_merged[['secu1', 'secu2', 'secu3']].isin([1]).any(axis=1)\n",
    "df_merged['Casque'] = df_merged[['secu1', 'secu2', 'secu3']].isin([2]).any(axis=1)\n",
    "df_merged['Dispositif enfants'] = df_merged[['secu1', 'secu2', 'secu3']].isin([3]).any(axis=1)\n",
    "df_merged['Gilet réfléchissant'] = df_merged[['secu1', 'secu2', 'secu3']].isin([4]).any(axis=1)\n",
    "df_merged['Airbag'] = df_merged[['secu1', 'secu2', 'secu3']].isin([5, 7]).any(axis=1)\n",
    "df_merged['Gants'] = df_merged[['secu1', 'secu2', 'secu3']].isin([6, 7]).any(axis=1)\n",
    "df_merged['Autre equipement'] = df_merged[['secu1', 'secu2', 'secu3']].isin([9]).any(axis=1)\n",
    "\n",
    "df_merged = df_merged.drop(['secu1', 'secu2', 'secu3'], axis=1)"
   ]
  },
  {
   "cell_type": "markdown",
   "id": "e1a3a2b7",
   "metadata": {},
   "source": [
    "On enlève les limitations de vitesse > à 130 km/h"
   ]
  },
  {
   "cell_type": "code",
   "execution_count": 25,
   "id": "a941b1d5",
   "metadata": {},
   "outputs": [],
   "source": [
    "df_merged.loc[df_merged['vma'] > 130, 'vma'] = np.nan"
   ]
  },
  {
   "cell_type": "markdown",
   "id": "fbf2e73e",
   "metadata": {},
   "source": [
    "On convertit dans le bon format les latitudes et longitudes"
   ]
  },
  {
   "cell_type": "code",
   "execution_count": 27,
   "id": "81fe8adc",
   "metadata": {},
   "outputs": [],
   "source": [
    "df_merged['lat'] = df_merged['lat'].str.replace(',', '.').astype(float)\n",
    "df_merged['long'] = df_merged['long'].str.replace(',', '.').astype(float)"
   ]
  },
  {
   "cell_type": "markdown",
   "id": "8aa70080",
   "metadata": {},
   "source": [
    "On ne garde pas les victimes trop vieilles"
   ]
  },
  {
   "cell_type": "code",
   "execution_count": 29,
   "id": "69b95920",
   "metadata": {},
   "outputs": [],
   "source": [
    "df_merged = df_merged[df_merged[\"an_nais\"] >= 1920]"
   ]
  },
  {
   "cell_type": "code",
   "execution_count": 30,
   "id": "64bcc583",
   "metadata": {},
   "outputs": [],
   "source": [
    "# On convertit le df pour avoir des dates exploitables\n",
    "\n",
    "df_merged['date'] = df_merged['jour'].astype(str) + '-' + df_merged['mois'].astype(str) + '-' + df_merged['an'].astype(str) + '-' \n",
    "df_merged['date'] = pd.to_datetime(df_merged['date'], dayfirst=True)\n"
   ]
  },
  {
   "cell_type": "code",
   "execution_count": 31,
   "id": "141ab144-9771-43f0-821f-f8d01fbdfbed",
   "metadata": {},
   "outputs": [],
   "source": [
    "# On crée une variable région\n",
    "\n",
    "region = pd.read_csv(\"../data/departements-region.csv\")\n",
    "region = region.rename(columns={'num_dep': 'dep'})\n",
    "\n",
    "df_merged = df_merged.merge(region, how='left', on='dep')"
   ]
  },
  {
   "cell_type": "markdown",
   "id": "e8cc8372-5e6a-4bd5-9713-60a4c39e10bf",
   "metadata": {},
   "source": [
    "### Traitement de la donnée en vue de la modélisation\n",
    "Ce regroupement se base sur les observations faites lors de la data visualisation"
   ]
  },
  {
   "cell_type": "code",
   "execution_count": 33,
   "id": "d70d6f8b-83c9-4162-a64d-396e21f409d8",
   "metadata": {},
   "outputs": [],
   "source": [
    "# On crée une variable heure\n",
    "\n",
    "df_merged['hrmn'] = df_merged['hrmn'].str.replace(':', '')\n",
    "df_merged['heure'] = df_merged['hrmn'].astype(int)//100\n",
    "\n",
    "# On supprime la variable initiale\n",
    "df_merged = df_merged.drop(['hrmn'], axis=1)\n"
   ]
  },
  {
   "cell_type": "code",
   "execution_count": 34,
   "id": "4e6caa61-cad8-439e-9a90-82211f3a8d81",
   "metadata": {},
   "outputs": [],
   "source": [
    "# Variable place : place dans le véhicule\n",
    "\n",
    "# Modalité : 1 à 9\n",
    "# On regroupe en 3 catégories : conducteur, passager avant, passager arrière\n",
    "df_merged['place'] = df_merged['place'].astype(int)\n",
    "\n",
    "df_merged['conducteur'] = df_merged['place'].apply(lambda x: 1 if x==1 else 0)\n",
    "df_merged['passager_avant'] = df_merged['place'].apply(lambda x: 1 if x in [2, 6] else 0)\n",
    "df_merged['passager_arrière'] = df_merged['place'].apply(lambda x: 1 if x not in [1, 2, 6] else 0)\n",
    "\n",
    "# On supprime la variable initiale\n",
    "df_merged = df_merged.drop(['place'], axis=1)\n"
   ]
  },
  {
   "cell_type": "code",
   "execution_count": 35,
   "id": "c6a383ac-19e0-4777-b5da-c91c526ea2b2",
   "metadata": {},
   "outputs": [],
   "source": [
    "# Variable catu : conducteur ou passager\n",
    "\n",
    "# Modalité 1 (conducteur) ou 2 (passager)\n",
    "# Le nombre d'occurence entre conducteur ou passager n'est pas cohérent avec celui de la variable place\n",
    "# (263561 conducteurs contre 263915 pour variable catu)\n",
    "# On garde la variable place car plus précise\n",
    "\n",
    "df_merged = df_merged.drop(['catu'], axis=1)\n"
   ]
  },
  {
   "cell_type": "code",
   "execution_count": 36,
   "id": "d112b2b5-a55b-4e3f-9132-ccd149de33bd",
   "metadata": {},
   "outputs": [],
   "source": [
    "# Variable grav : gravité de l'accident\n",
    "\n",
    "# Modalité : 'Indemne' (1), 'Tué' (2), 'Blessé hospitalisé' (3), 'Blessé léger' (4)\n",
    "# Variable cible\n",
    "# On supprime le seul NaN présent\n",
    "\n",
    "df_merged = df_merged.dropna(subset=['grav'])\n",
    "df_merged['grav'] = df_merged['grav'].astype(int)\n"
   ]
  },
  {
   "cell_type": "code",
   "execution_count": 37,
   "id": "f627300f-ddf9-4a80-a48f-2c9c61b315ee",
   "metadata": {},
   "outputs": [],
   "source": [
    "# Variable sexe : sexe de l'usager\n",
    "\n",
    "# Modalité : Masculin' (1), 'Féminin' (2)\n",
    "# Nb NaN : 4, on remplace par le mode\n",
    "\n",
    "df_merged['sexe'] = df_merged['sexe'].fillna(df_merged['sexe'].mode()[0])\n",
    "df_merged['sexe'] = df_merged['sexe'].astype(int)\n"
   ]
  },
  {
   "cell_type": "code",
   "execution_count": 38,
   "id": "3da7783c-e44b-4a6c-b9f4-11c33aafd4c1",
   "metadata": {},
   "outputs": [],
   "source": [
    "# Variable an_nais : année de naissance de l'usager\n",
    "\n",
    "# On tranforme cette variable pour connaître l'âge de l'usager\n",
    "df_merged['an_nais'] = df_merged['an_nais'].astype(int)\n",
    "\n",
    "df_merged['age'] = df_merged['an'] - df_merged['an_nais']\n"
   ]
  },
  {
   "cell_type": "code",
   "execution_count": 39,
   "id": "9b7eb2e7-6fb1-4ad5-a331-5d77fc037f7a",
   "metadata": {},
   "outputs": [],
   "source": [
    "# Variable trajet : motif du trajet\n",
    "\n",
    "# Modalité : 5.  9.  4.  0. nan  2.  3.  1.\n",
    "# Nb NaN : 503, on remplace par le mode\n",
    "\n",
    "df_merged['trajet'] = df_merged['trajet'].replace(0, np.nan)\n",
    "df_merged['trajet'] = df_merged['trajet'].fillna(df_merged['trajet'].mode()[0])\n",
    "df_merged['trajet'] = df_merged['trajet'].astype(int)\n",
    "\n",
    "# On regroupe en 3 catégorie : autre, pro ou perso\n",
    "df_merged['trajet_pro'] = df_merged['trajet'].apply(lambda x: 1 if x in [1, 4] else 0)\n",
    "df_merged['trajet_perso'] = df_merged['trajet'].apply(lambda x: 1 if x in [2, 3, 5] else 0)\n",
    "df_merged['trajet_autre'] = df_merged['trajet'].apply(lambda x: 1 if x==9 else 0)\n",
    "\n",
    "df_merged = df_merged.drop(['trajet'], axis=1)\n"
   ]
  },
  {
   "cell_type": "code",
   "execution_count": 40,
   "id": "306c9a7a-2d09-4c9d-b885-597736e1e74d",
   "metadata": {},
   "outputs": [],
   "source": [
    "# Variable senc : sens de circulation\n",
    "\n",
    "# Modalité : 0 1 2 3\n",
    "# Nb NaN : 1376, on les place dans la catégorie inconnu\n",
    "\n",
    "df_merged['senc'] = df_merged['senc'].fillna(0)\n",
    "df_merged['senc'] = df_merged['senc'].astype(int)\n"
   ]
  },
  {
   "cell_type": "code",
   "execution_count": 41,
   "id": "2c0a4970-5455-4dbd-8203-a93165639c03",
   "metadata": {},
   "outputs": [],
   "source": [
    "# Variable catv : categorie du vehicule\n",
    "\n",
    "# Modalité : nombreuse\n",
    "# Nb NaN : 3, on les place dans le mode\n",
    "\n",
    "df_merged['catv'] = df_merged['catv'].fillna(0)\n",
    "df_merged['catv'] = df_merged['catv'].astype(int)\n",
    "\n",
    "# On regroupe en sous-catégorie\n",
    "df_merged['catv_velo'] = df_merged['catv'].apply(lambda x: 1 if x in [1,80] else 0)\n",
    "df_merged['catv_moto'] = df_merged['catv'].apply(lambda x: 1 if x in [2,4,5,30,31,32,33,34] else 0)\n",
    "df_merged['catv_voiture'] = df_merged['catv'].apply(lambda x: 1 if x in [7] else 0)\n",
    "df_merged['catv_utilitaire'] = df_merged['catv'].apply(lambda x: 1 if x in [10] else 0)\n",
    "df_merged['catv_veh_remorque'] = df_merged['catv'].apply(lambda x: 1 if x in [8,9,11,12] else 0)\n",
    "df_merged['catv_PL'] = df_merged['catv'].apply(lambda x: 1 if x in [13,14,15] else 0)\n",
    "df_merged['catv_tracteur'] = df_merged['catv'].apply(lambda x: 1 if x in [16,17,21] else 0)\n",
    "df_merged['catv_tram_train'] = df_merged['catv'].apply(lambda x: 1 if x in [19,39,40] else 0)\n",
    "df_merged['catv_quad_3roues'] = df_merged['catv'].apply(lambda x: 1 if x in [135,36,41,42,43] else 0)\n",
    "df_merged['catv_autre_inconnu'] = df_merged['catv'].apply(lambda x: 1 if x in [0,3,6,18,20,99] else 0)\n",
    "df_merged['catv_bus_car'] = df_merged['catv'].apply(lambda x: 1 if x in [37,38] else 0)\n",
    "df_merged['catv_EDP'] = df_merged['catv'].apply(lambda x: 1 if x in [50,60] else 0)\n",
    "\n",
    "df_merged = df_merged.drop(['catv'], axis=1)\n"
   ]
  },
  {
   "cell_type": "code",
   "execution_count": 42,
   "id": "6a68a614-5ce8-4642-a924-5eafb8c36f08",
   "metadata": {},
   "outputs": [],
   "source": [
    "# Variable obs : obstacle heurté\n",
    "\n",
    "# Modalité : nombreuse\n",
    "# Nb NaN : 94, on les place dans le mode\n",
    "\n",
    "df_merged['obs'] = df_merged['obs'].fillna(df_merged['obs'].mode()[0])\n",
    "df_merged['obs'] = df_merged['obs'].astype(int)\n"
   ]
  },
  {
   "cell_type": "code",
   "execution_count": 43,
   "id": "c1ed7ed3-6810-44d0-bef6-34c860c7d858",
   "metadata": {},
   "outputs": [],
   "source": [
    "# Variable obsm : obstacle mobile heurté\n",
    "\n",
    "# Modalité : nombreuse\n",
    "# Nb NaN : 129, on les place dans le mode\n",
    "\n",
    "df_merged['obsm'] = df_merged['obsm'].fillna(df_merged['obsm'].mode()[0])\n",
    "df_merged['obsm'] = df_merged['obsm'].astype(int)\n"
   ]
  },
  {
   "cell_type": "code",
   "execution_count": 44,
   "id": "d98a055a-5ec3-4efa-afde-498763beb6f3",
   "metadata": {},
   "outputs": [],
   "source": [
    "# Variable choc : point de choc\n",
    "\n",
    "# Modalité : 0 à 9\n",
    "# Nb NaN : 118, on les place dans le mode\n",
    "\n",
    "df_merged['choc'] = df_merged['choc'].fillna(df_merged['choc'].mode()[0])\n",
    "df_merged['choc'] = df_merged['choc'].astype(int)\n",
    "\n",
    "# On regroupe en sous-catégorie\n",
    "df_merged['choc_avant'] = df_merged['choc'].apply(lambda x: 1 if x in [1,2,3] else 0)\n",
    "df_merged['choc_arriere'] = df_merged['choc'].apply(lambda x: 1 if x in [4,5,6] else 0)\n",
    "df_merged['choc_cote'] = df_merged['choc'].apply(lambda x: 1 if x in [7,8] else 0)\n",
    "df_merged['choc_tonneaux'] = df_merged['choc'].apply(lambda x: 1 if x in [9] else 0)\n",
    "df_merged['choc_aucun'] = df_merged['choc'].apply(lambda x: 1 if x in [0] else 0)\n",
    "\n",
    "df_merged = df_merged.drop(['choc'], axis=1)\n"
   ]
  },
  {
   "cell_type": "code",
   "execution_count": 45,
   "id": "5b5865cc-3d25-4170-b06c-4da7a7a07eff",
   "metadata": {},
   "outputs": [],
   "source": [
    "# Variable manv : manoeuvre lors de l'accident\n",
    "\n",
    "# Modalité : nombreuse\n",
    "# Nb NaN : 79, on les place dans le mode\n",
    "\n",
    "df_merged['manv'] = df_merged['manv'].fillna(df_merged['manv'].mode()[0])\n",
    "df_merged['manv'] = df_merged['manv'].astype(int)\n",
    "\n",
    "# On regroupe en sous-catégorie\n",
    "df_merged['manv_diverse'] = df_merged['manv'].apply(lambda x: 1 if x in [3,4,5,6,7,8,9,10,19,20,21,22,23,24,25,26] else 0)\n",
    "df_merged['manv_droite'] = df_merged['manv'].apply(lambda x: 1 if x in [12,14,16,18] else 0)\n",
    "df_merged['manv_gauche'] = df_merged['manv'].apply(lambda x: 1 if x in [11,13,15,17] else 0)\n",
    "df_merged['manv_pas_chang_dir'] = df_merged['manv'].apply(lambda x: 1 if x in [1] else 0)\n",
    "df_merged['manv_meme_sens_file'] = df_merged['manv'].apply(lambda x: 1 if x in [2] else 0)\n",
    "df_merged['manv_inconnue'] = df_merged['manv'].apply(lambda x: 1 if x in [0] else 0)\n",
    "\n",
    "df_merged = df_merged.drop(['manv'], axis=1)\n"
   ]
  },
  {
   "cell_type": "code",
   "execution_count": 46,
   "id": "c600a071-c3e5-4c9c-806f-31ebd82b4917",
   "metadata": {},
   "outputs": [],
   "source": [
    "# Variable motor : type de moteur\n",
    "\n",
    "# Modalité : 0 à 6\n",
    "# Nb NaN : 420\n",
    "\n",
    "df_merged['motor'] = df_merged['motor'].fillna(0)\n",
    "df_merged['motor'] = df_merged['motor'].astype(int)\n"
   ]
  },
  {
   "cell_type": "code",
   "execution_count": 47,
   "id": "891840d5-8f4a-481d-9037-0b16837bc811",
   "metadata": {},
   "outputs": [],
   "source": [
    "# Variable catr : type de route\n",
    "\n",
    "# Modalité : 1 à 7, 9\n",
    "# Nb NaN : 0\n",
    "\n",
    "df_merged['catr'] = df_merged['catr'].astype(int)\n"
   ]
  },
  {
   "cell_type": "code",
   "execution_count": 48,
   "id": "e632c62c-5d9b-4300-ade0-5fef575285e6",
   "metadata": {},
   "outputs": [],
   "source": [
    "# Variable circ : régime de circulation\n",
    "\n",
    "# Modalité : 1 à 4\n",
    "# Nb NaN : 16866 (5% de NaN) -> on essaie de réduire le nb NaN via d'autre variables\n",
    "\n",
    "# On regroupe en une catégorie : bidirectionnelle ou non\n",
    "\n",
    "df_merged['circ'] = df_merged['circ'].fillna(df_merged['circ'].mode()[0])\n",
    "df_merged['chaussee_bidirectionnelle'] = df_merged['circ'].apply(lambda x: 1 if x == 2 else 0)\n",
    "\n",
    "df_merged['circ'] = df_merged['circ'].astype(int)\n",
    "df_merged = df_merged.drop(['circ'], axis=1)\n"
   ]
  },
  {
   "cell_type": "code",
   "execution_count": 49,
   "id": "554064a8-aa3b-46cb-b4ff-e236444ee93e",
   "metadata": {},
   "outputs": [],
   "source": [
    "# Variable nbv : nombre de voies\n",
    "\n",
    "# Modalité : 0 à 12\n",
    "# Nb NaN : 2624\n",
    "\n",
    "df_merged['nbv'] = df_merged['nbv'].replace('#ERREUR', np.nan)\n",
    "df_merged['nbv'] = df_merged['nbv'].fillna(df_merged['nbv'].mode()[0])\n",
    "df_merged['nbv'] = df_merged['nbv'].astype(int)\n"
   ]
  },
  {
   "cell_type": "code",
   "execution_count": 50,
   "id": "d0f292ea-9094-4429-8e6b-357865142b3c",
   "metadata": {},
   "outputs": [],
   "source": [
    "# Variable vosp : présence d'une voie réservée\n",
    "\n",
    "# Modalité : 0 à 3\n",
    "# Nb NaN : 1232\n",
    "\n",
    "df_merged['vosp'] = df_merged['vosp'].fillna(df_merged['vosp'].mode()[0])\n",
    "df_merged['voie_reservee'] = df_merged['vosp'].apply(lambda x: 0 if x == 0 else 1)\n",
    "\n",
    "df_merged = df_merged.drop(['vosp'], axis=1)\n"
   ]
  },
  {
   "cell_type": "code",
   "execution_count": 51,
   "id": "14af2e14-9d24-4116-91a4-dad29612e018",
   "metadata": {},
   "outputs": [],
   "source": [
    "# Variable prof : profil en long\n",
    "\n",
    "# Modalité : 1 à 4\n",
    "# Nb NaN : 44\n",
    "\n",
    "df_merged['prof'] = df_merged['prof'].fillna(df_merged['prof'].mode()[0])\n",
    "df_merged['prof'] = df_merged['prof'].astype(int)\n"
   ]
  },
  {
   "cell_type": "code",
   "execution_count": 52,
   "id": "eb4ea9a9-6be3-4b16-bd94-8d54fe0cda28",
   "metadata": {},
   "outputs": [],
   "source": [
    "# Variable plan : tracé en plan\n",
    "\n",
    "# Modalité : 1 à 4\n",
    "# Nb NaN : 39\n",
    "\n",
    "df_merged['plan'] = df_merged['plan'].fillna(df_merged['plan'].mode()[0])\n",
    "df_merged['plan'] = df_merged['plan'].astype(int)\n"
   ]
  },
  {
   "cell_type": "code",
   "execution_count": 53,
   "id": "651a2297-b3a2-4c20-9294-d2db246fbd21",
   "metadata": {},
   "outputs": [],
   "source": [
    "# Variable surf : état de la chaussée\n",
    "\n",
    "# Modalité : 1 à 9\n",
    "# Nb NaN : 58\n",
    "\n",
    "df_merged['surf'] = df_merged['surf'].fillna(df_merged['surf'].mode()[0])\n",
    "df_merged['surf'] = df_merged['surf'].astype(int)\n",
    "\n",
    "# On regroupe en une catégorie : chaussée sèche ou non\n",
    "df_merged['chaussee_seche'] = df_merged['surf'].apply(lambda x: 1 if x == 1 else 0)\n",
    "\n",
    "df_merged = df_merged.drop(['surf'], axis=1)\n"
   ]
  },
  {
   "cell_type": "code",
   "execution_count": 54,
   "id": "c67d4028-e91b-42cd-9f16-5f8192c62a7c",
   "metadata": {},
   "outputs": [],
   "source": [
    "# Variable infra : présence d'un aménagement\n",
    "\n",
    "# Modalité : 0 à 9\n",
    "# Nb NaN : 3774\n",
    "\n",
    "df_merged['infra'] = df_merged['infra'].fillna(df_merged['infra'].mode()[0])\n",
    "df_merged['infra'] = df_merged['infra'].astype(int)\n"
   ]
  },
  {
   "cell_type": "code",
   "execution_count": 55,
   "id": "fd3fea10-642d-4c7b-aefb-71218754535c",
   "metadata": {},
   "outputs": [],
   "source": [
    "# Variable situ : situation de l'accident\n",
    "\n",
    "# Modalité : 1 à 8\n",
    "# Nb NaN : 42\n",
    "\n",
    "df_merged['situ'] = df_merged['situ'].fillna(df_merged['situ'].mode()[0])\n",
    "df_merged['situ'] = df_merged['situ'].astype(int)\n"
   ]
  },
  {
   "cell_type": "code",
   "execution_count": 56,
   "id": "08a991c8-cfe9-452d-9aa2-ccb95ae69f93",
   "metadata": {},
   "outputs": [],
   "source": [
    "# Variable vma : vitesse maximale autorisée\n",
    "\n",
    "# Modalité : nombreuses\n",
    "# Nb NaN : 4907\n",
    "\n",
    "df_merged['vma'] = df_merged['vma'].fillna(df_merged['vma'].mode()[0])\n",
    "df_merged['vma'] = df_merged['vma'].astype(int)\n",
    "\n",
    "# On regroupe en sous catégorie\n",
    "df_merged['vma'] = df_merged['vma'].apply(lambda x: 30 if x<=30. else x)\n"
   ]
  },
  {
   "cell_type": "code",
   "execution_count": 57,
   "id": "75655d9c-44e0-40eb-a58c-c6a2d3560e2a",
   "metadata": {},
   "outputs": [],
   "source": [
    "# Variable lum : luminosité\n",
    "\n",
    "# Modalité : 1 à 5\n",
    "# Nb NaN : 7\n",
    "\n",
    "df_merged['lum'] = df_merged['lum'].fillna(df_merged['lum'].mode()[0])\n",
    "df_merged['lum'] = df_merged['lum'].astype(int)\n"
   ]
  },
  {
   "cell_type": "code",
   "execution_count": 58,
   "id": "79bccea0-2c99-457f-abba-68157209094c",
   "metadata": {},
   "outputs": [],
   "source": [
    "# Variable agg : si en agglomération\n",
    "\n",
    "# Modalité : 1, 2\n",
    "# Nb NaN : 0\n",
    "\n",
    "df_merged['agg'] = df_merged['agg'].astype(int)\n"
   ]
  },
  {
   "cell_type": "code",
   "execution_count": 59,
   "id": "c1044f91-75ef-4df1-a512-55cb3a1f98de",
   "metadata": {},
   "outputs": [],
   "source": [
    "# Variable int : si intersection\n",
    "\n",
    "# Modalité : 1 à 9\n",
    "# Nb NaN : 19\n",
    "\n",
    "df_merged['int'] = df_merged['int'].fillna(df_merged['int'].mode()[0])\n",
    "df_merged['int'] = df_merged['int'].astype(int)\n",
    "\n",
    "# On regroupe en sous-catégorie\n",
    "df_merged['int_aucune'] = df_merged['int'].apply(lambda x: 1 if x in [1] else 0)\n",
    "df_merged['int_branches'] = df_merged['int'].apply(lambda x: 1 if x in [2,3,4,5] else 0)\n",
    "df_merged['int_autre'] = df_merged['int'].apply(lambda x: 1 if x in [6,7,8,9] else 0)\n",
    "\n",
    "df_merged = df_merged.drop(['int'], axis=1)\n"
   ]
  },
  {
   "cell_type": "code",
   "execution_count": 60,
   "id": "e9c2691b-619d-4094-8449-474f7b5c5c26",
   "metadata": {},
   "outputs": [],
   "source": [
    "# Variable atm : condition atmo\n",
    "\n",
    "# Modalité : 1 à 9\n",
    "# Nb NaN : 19\n",
    "\n",
    "df_merged['atm'] = df_merged['atm'].fillna(df_merged['atm'].mode()[0])\n",
    "df_merged['atm'] = df_merged['atm'].astype(int)\n",
    "\n",
    "# On regroupe en une catégorie : cbeau temps ou non\n",
    "df_merged['atm_normal'] = df_merged['atm'].apply(lambda x: 1 if x == 1 else 0)\n",
    "\n",
    "df_merged = df_merged.drop(['atm'], axis=1)\n"
   ]
  },
  {
   "cell_type": "code",
   "execution_count": 61,
   "id": "b2f8b0ba-c570-4b17-a974-dbf04003959b",
   "metadata": {},
   "outputs": [],
   "source": [
    "# Variable col : type de collision\n",
    "\n",
    "# Modalité : 1 à 7\n",
    "# Nb NaN : 3646\n",
    "\n",
    "df_merged['col'] = df_merged['col'].fillna(df_merged['col'].mode()[0])\n",
    "df_merged['col'] = df_merged['col'].astype(int)\n"
   ]
  },
  {
   "cell_type": "code",
   "execution_count": 62,
   "id": "bdcd0231-b928-4f86-834e-83cf656ff866",
   "metadata": {},
   "outputs": [],
   "source": [
    "# Variables équipement\n",
    "\n",
    "for item in ['Ceinture', 'Casque', 'Dispositif enfants', 'Gilet réfléchissant', 'Airbag', 'Gants', 'Autre equipement']:\n",
    "    df_merged[item] = df_merged[item].apply(lambda x: 1 if x else 0)\n"
   ]
  },
  {
   "cell_type": "code",
   "execution_count": 63,
   "id": "5d9c8ad1-4015-49b8-af8f-71031eb40210",
   "metadata": {},
   "outputs": [],
   "source": [
    "df_merged_2 = df_merged.drop(['Num_Acc', 'id_vehicule', 'num_veh', 'dep', 'com', 'date', 'dep_name', 'region_name'], axis=1)"
   ]
  },
  {
   "cell_type": "code",
   "execution_count": 64,
   "id": "5be1fc8f-41e3-4ff0-802a-eb328a483a31",
   "metadata": {},
   "outputs": [],
   "source": [
    "num_features = ['heure', 'an_nais', 'age', 'nbv', 'vma', 'lat', 'long', 'jour', 'mois', 'an']\n",
    "to_cat_features = ['senc', 'obs', 'obsm', 'motor', 'catr', 'prof', 'plan', 'infra', 'situ', 'lum', 'col']\n"
   ]
  },
  {
   "cell_type": "code",
   "execution_count": 65,
   "id": "2c95aa9e-862a-4cba-84bd-1c2134681ec0",
   "metadata": {},
   "outputs": [],
   "source": [
    "df_cat = df_merged_2.drop(num_features, axis=1)"
   ]
  },
  {
   "cell_type": "code",
   "execution_count": 66,
   "id": "db8aeb31-76e5-4cc5-b7be-1a0950fbe72f",
   "metadata": {},
   "outputs": [],
   "source": [
    "X = df_cat.drop('grav', axis=1)\n",
    "y = df_cat['grav']"
   ]
  },
  {
   "cell_type": "code",
   "execution_count": 67,
   "id": "dd872571-005b-4c0a-a6a7-748414588049",
   "metadata": {},
   "outputs": [],
   "source": [
    "X = pd.get_dummies(X, columns=to_cat_features, drop_first=True)"
   ]
  },
  {
   "cell_type": "markdown",
   "id": "bf7b36a8-2dfb-438a-9cd1-bbeb709af1b7",
   "metadata": {},
   "source": [
    "### Split du jeu de données"
   ]
  },
  {
   "cell_type": "code",
   "execution_count": 69,
   "id": "ee5b525f-54a5-4cb5-818c-877e09868aa2",
   "metadata": {},
   "outputs": [],
   "source": [
    "from sklearn.model_selection import train_test_split\n",
    "X_train, X_test, y_train, y_test = train_test_split(X, y, test_size=0.2, random_state=42)\n"
   ]
  },
  {
   "cell_type": "code",
   "execution_count": 205,
   "id": "186db592-f587-4fab-a147-65dfb10e5ffa",
   "metadata": {},
   "outputs": [],
   "source": [
    "X_train.to_csv(\"X_train.csv\")\n",
    "y_train.to_csv(\"y_train.csv\")\n",
    "X_test.to_csv(\"X_test.csv\")\n",
    "y_test.to_csv(\"y_test.csv\")"
   ]
  },
  {
   "cell_type": "markdown",
   "id": "be7a6381-45dc-469d-88fe-96c46d8de082",
   "metadata": {},
   "source": [
    "# Recherche des meilleurs hyperparamètres"
   ]
  },
  {
   "cell_type": "markdown",
   "id": "19088f43-76a6-4718-8e6e-988574c1047b",
   "metadata": {},
   "source": [
    "Rappel des modèles avec les meilleurs scores :\n",
    "\n",
    "**RandomForestClassifier**\n",
    "- Accuracy : 0.68 (train) ; 0.60 (test)\n",
    "- F1 score : 0.67 (train) ; 0.58 (test)\n",
    "\n",
    "**LGBMClassifier**\n",
    "- Accuracy : 0.62 (train) ; 0.62 (test)\n",
    "- F1 score : 0.60 (train) ; 0.60 (test)\n",
    "\n",
    "**GradientBoostingClassifier**\n",
    "- Accuracy : 0.67 (train) ; 0.66 (test)\n",
    "- F1 score : 0.58 (train) ; 0.57 (test)\n"
   ]
  },
  {
   "cell_type": "markdown",
   "id": "449d1399-a592-44eb-9424-16b573c42ef9",
   "metadata": {},
   "source": [
    "**Création d'une fonction pour effectuer du RandomSearch et du GridSearch**  \n",
    "<ins>Objectif :</ins> RandomSearch donne un autre de grandeur pour certains hyperparamètres de chaque modèle. Ensuite avec GridSearch\n",
    "on fait une recherche plus précise autour de ces hyperparamètres."
   ]
  },
  {
   "cell_type": "code",
   "execution_count": null,
   "id": "5e3fa42f-ffa1-4ac6-9713-a2b5441b005c",
   "metadata": {},
   "outputs": [],
   "source": [
    "# Attention temps de calcul très long > 12h\n",
    "# Exemple de paramètres pour chercher les meilleurs hyperparamètres\n",
    "import numpy as np\n",
    "from sklearn.ensemble import RandomForestClassifier, GradientBoostingClassifier\n",
    "from sklearn.model_selection import GridSearchCV, RandomizedSearchCV\n",
    "from lightgbm import LGBMClassifier\n",
    "from sklearn.metrics import accuracy_score\n",
    "\n",
    "# Définition des modèles\n",
    "rf = RandomForestClassifier(random_state=42)\n",
    "lgbm = LGBMClassifier(random_state=42)\n",
    "gb = GradientBoostingClassifier(random_state=42)\n",
    "\n",
    "# Définition des grilles de paramètres pour GridSearch\n",
    "param_grid_rf = {'n_estimators': [100, 200, 300],\n",
    "                 'max_depth': [None, 10, 20, 30],\n",
    "                 'min_samples_split': [2, 5, 10],\n",
    "                 'min_samples_leaf': [1, 2, 4]}\n",
    "\n",
    "param_grid_lgbm = {'num_leaves': [20, 40, 50, 60],\n",
    "                   'max_depth': [-1, 0, 1],\n",
    "                   'learning_rate': [0.01, 0.05, 0.1],\n",
    "                   'n_estimators': [300, 500, 800],\n",
    "                   'min_child_samples': [5, 10, 15],\n",
    "                   'subsample': [0.4, 0.6, 0.8],\n",
    "                   'colsample_bytree': [0.8, 1.0, 1.2],\n",
    "                   'reg_alpha': [0.8, 1, 1.2],\n",
    "                   'reg_lambda': [0.3, 0.5, 0.8]}\n",
    "\n",
    "param_grid_gb = {'n_estimators': [100, 200, 300],\n",
    "                 'max_depth': [3, 4, 5],\n",
    "                 'learning_rate': [0.01, 0.1, 0.3],\n",
    "                 'min_samples_split': [2, 5, 10],\n",
    "                 'min_samples_leaf': [1, 2, 4]}\n",
    "\n",
    "# Définition des distributions de paramètres pour RandomSearch\n",
    "param_dist_rf = {'n_estimators': np.arange(100, 1000, 100),\n",
    "                 'max_depth': [None] + list(np.arange(10, 110, 10)),\n",
    "                 'min_samples_split': np.arange(2, 21),\n",
    "                 'min_samples_leaf': np.arange(1, 21)}\n",
    "\n",
    "param_dist_lgbm = param_dist = {'num_leaves': [20, 31, 50, 100],\n",
    "                                'max_depth': [-1, 5, 10, 20],\n",
    "                                'learning_rate': [0.01, 0.05, 0.1],\n",
    "                                'n_estimators': [100, 200, 300, 500],\n",
    "                                'min_child_samples': [5, 10, 20, 30],\n",
    "                                'subsample': [0.6, 0.8, 1.0],\n",
    "                                'colsample_bytree': [0.6, 0.8, 1.0],\n",
    "                                'reg_alpha': [0, 0.1, 0.5, 1],\n",
    "                                'reg_lambda': [0, 0.1, 0.5, 1]}\n",
    "\n",
    "param_dist_gb = {'n_estimators': np.arange(100, 1000, 100),\n",
    "                 'max_depth': np.arange(3, 10),\n",
    "                 'learning_rate': [0.01, 0.05, 0.1, 0.3, 0.5],\n",
    "                 'min_samples_split': np.arange(2, 21),\n",
    "                 'min_samples_leaf': np.arange(1, 21)}\n",
    "\n",
    "# Fonction pour effectuer la recherche d'hyperparamètres et retourner les meilleurs résultats\n",
    "def perform_search(model, param_grid, param_dist, X_train, y_train, search_type='grid'):\n",
    "    if search_type == 'grid':\n",
    "        search = GridSearchCV(model, param_grid, cv=5, n_jobs=-1, verbose=1)\n",
    "    else:\n",
    "        search = RandomizedSearchCV(model, param_dist, n_iter=10, cv=5, n_jobs=-1, verbose=1, random_state=42)\n",
    "    \n",
    "    search.fit(X_train, y_train)\n",
    "    return search.best_params_, search.best_score_\n",
    "\n",
    "# Liste des modèles et leurs paramètres correspondants\n",
    "models = [rf, lgbm, gb]\n",
    "param_grids = [param_grid_rf, param_grid_lgbm, param_grid_gb]\n",
    "param_dists = [param_dist_rf, param_dist_lgbm, param_dist_gb]\n",
    "model_names = ['RandomForest', 'LGBM', 'GradientBoosting']\n",
    "\n",
    "# Application de la fonction pour chaque modèle\n",
    "for model, param_grid, param_dist, name in zip(models, param_grids, param_dists, model_names):\n",
    "    print(f\"\\nOptimisation pour {name}:\")\n",
    "    \n",
    "    # GridSearch\n",
    "    print(\"GridSearch:\")\n",
    "    best_params_grid, best_score_grid = perform_search(model, param_grid, param_dist, X_train, y_train, search_type='grid')\n",
    "    print(f\"Meilleurs paramètres: {best_params_grid}\")\n",
    "    print(f\"Meilleur score: {best_score_grid}\")\n",
    "    \n",
    "    # RandomSearch\n",
    "    print(\"\\nRandomSearch:\")\n",
    "    print(model)\n",
    "    best_params_random, best_score_random = perform_search(model, param_grid, param_dist, X_train, y_train, search_type='random')\n",
    "    print(f\"Meilleurs paramètres: {best_params_random}\")\n",
    "    print(f\"Meilleur score: {best_score_random}\")\n",
    "    \n",
    "    # Comparaison des performances sur l'ensemble de test\n",
    "    model_grid = model.set_params(**best_params_grid)\n",
    "    model_grid.fit(X_train, y_train)\n",
    "    y_pred_grid = model_grid.predict(X_test)\n",
    "    \n",
    "    model_random = model.set_params(**best_params_random)\n",
    "    model_random.fit(X_train, y_train)\n",
    "    y_pred_random = model_random.predict(X_test)\n",
    "    \n",
    "    print(f\"\\nPrécision sur l'ensemble de test:\")\n",
    "    print(f\"GridSearch: {accuracy_score(y_test, y_pred_grid)}\")\n",
    "    print(f\"RandomSearch: {accuracy_score(y_test, y_pred_random)}\")\n"
   ]
  },
  {
   "cell_type": "markdown",
   "id": "3bc66111-f71a-4a8c-b7d4-f7a1db552a03",
   "metadata": {},
   "source": [
    "*Exemples de résultats*  \n",
    "**Optimisation pour GradientBoosting:**  \n",
    "GradientBoostingClassifier(random_state=42)  \n",
    "Fitting 5 folds for each of 10 candidates, totalling 50 fits  \n",
    "Meilleurs paramètres: {'n_estimators': 700, 'min_samples_split': 11, 'min_samples_leaf': 18, 'max_depth': 6, 'learning_rate': 0.05}  \n",
    "Meilleur score: 0.6597597260150307  \n",
    "Précision sur l'ensemble de test: 0.6611971025543271  \n",
    "\n",
    "**Optimisation pour RandomForest:**  \n",
    "RandomSearch: RandomForestClassifier(random_state=42)  \n",
    "Fitting 5 folds for each of 10 candidates, totalling 50 fits  \n",
    "Meilleurs paramètres: {'n_estimators': 500, 'min_samples_split': 11, 'min_samples_leaf': 5, 'max_depth': None}  \n",
    "Meilleur score: 0.6580288594857627  \n",
    "Précision sur l'ensemble de test: 0.6592603888677088\n",
    "\n",
    "**Optimisation pour LGBM:**  \n",
    "Fitting 5 folds for each of 10 candidates, totalling 50 fits  \n",
    "Meilleurs hyperparamètres trouvés:  \n",
    "{'subsample': 0.6, 'reg_lambda': 0.5, 'reg_alpha': 1, 'num_leaves': 50, 'n_estimators': 500, 'min_child_samples': 10, 'max_depth': -1, 'learning_rate': 0.05, 'colsample_bytree': 1.0}  \n",
    "Meilleur score: 0.6607776580191809  \n",
    "Score sur l'ensemble de test: 0.6606023637056805  \n"
   ]
  },
  {
   "cell_type": "markdown",
   "id": "312c5cdf-bb1e-436e-9f66-7c22735d0fe2",
   "metadata": {},
   "source": [
    "## Représentation des meilleurs scores parmi ces trois modèles"
   ]
  },
  {
   "cell_type": "markdown",
   "id": "ab38ed3c-382f-4349-8ac5-1af107e78f12",
   "metadata": {},
   "source": [
    "### GradientBoostingClassifier"
   ]
  },
  {
   "cell_type": "code",
   "execution_count": 144,
   "id": "7c946923-297d-49e3-ab01-d2315cea7cf6",
   "metadata": {},
   "outputs": [
    {
     "name": "stdout",
     "output_type": "stream",
     "text": [
      "Accuracy score test : 0.6611971025543271\n",
      "Accuracy score train : 0.6855472994353728\n",
      "----------\n",
      "Recall test : 0.4639938880535011\n",
      "Recall train : 0.5020761924309444\n",
      "----------\n",
      "f1 score test : 0.4733973301109602\n",
      "f1 score train : 0.5261546710894007\n"
     ]
    }
   ],
   "source": [
    "from sklearn.ensemble import GradientBoostingClassifier\n",
    "from sklearn.metrics import recall_score, f1_score, accuracy_score\n",
    "\n",
    "model_boost = GradientBoostingClassifier(n_estimators=700,\n",
    "                                         min_samples_split=11,\n",
    "                                         min_samples_leaf=18,\n",
    "                                         max_depth=6,\n",
    "                                         learning_rate=0.05)\n",
    "model_boost.fit(X_train, y_train)\n",
    "\n",
    "y_pred_boost = model_boost.predict(X_test)\n",
    "y_pred_boost_train = model_boost.predict(X_train)\n",
    "\n",
    "# Mesure performance modèle\n",
    "print('Accuracy score test :', accuracy_score(y_test, y_pred_boost))\n",
    "print('Accuracy score train :', accuracy_score(y_train, y_pred_boost_train))\n",
    "print('----------')\n",
    "print('Recall test :', recall_score(y_test, y_pred_boost, average='macro'))\n",
    "print('Recall train :', recall_score(y_train, y_pred_boost_train, average='macro'))\n",
    "print('----------')\n",
    "print('f1 score test :', f1_score(y_test, y_pred_boost, average='macro'))\n",
    "print('f1 score train :', f1_score(y_train, y_pred_boost_train, average='macro'))\n"
   ]
  },
  {
   "cell_type": "markdown",
   "id": "7ff1fb15-9bc2-427d-94d2-9803858f8b05",
   "metadata": {},
   "source": [
    "### RandomForestClassifier"
   ]
  },
  {
   "cell_type": "code",
   "execution_count": 148,
   "id": "fc6bc166-f57b-4783-a931-0e6adb58ea92",
   "metadata": {},
   "outputs": [
    {
     "name": "stdout",
     "output_type": "stream",
     "text": [
      "Accuracy score test : 0.6621425848265345\n",
      "Accuracy score train : 0.7728567234852095\n",
      "----------\n",
      "Recall test : 0.45297164919603705\n",
      "Recall train : 0.5684350767411439\n",
      "----------\n",
      "f1 score test : 0.4562514157144081\n",
      "f1 score train : 0.5945622540494602\n"
     ]
    }
   ],
   "source": [
    "from sklearn.ensemble import RandomForestClassifier\n",
    "from sklearn.metrics import recall_score, f1_score, accuracy_score\n",
    "\n",
    "model_rf = RandomForestClassifier(max_depth=None,\n",
    "                                  min_samples_split=5,\n",
    "                                  min_samples_leaf=2,\n",
    "                                  n_estimators=600)\n",
    "model_rf.fit(X_train, y_train)\n",
    "\n",
    "y_pred_rf = model_rf.predict(X_test)\n",
    "y_pred_rf_train = model_rf.predict(X_train)\n",
    "\n",
    "# Mesure performance modèle\n",
    "print('Accuracy score test :', accuracy_score(y_test, y_pred_rf))\n",
    "print('Accuracy score train :', accuracy_score(y_train, y_pred_rf_train))\n",
    "print('----------')\n",
    "print('Recall test :', recall_score(y_test, y_pred_rf, average='macro'))\n",
    "print('Recall train :', recall_score(y_train, y_pred_rf_train, average='macro'))\n",
    "print('----------')\n",
    "print('f1 score test :', f1_score(y_test, y_pred_rf, average='macro'))\n",
    "print('f1 score train :', f1_score(y_train, y_pred_rf_train, average='macro'))\n"
   ]
  },
  {
   "cell_type": "markdown",
   "id": "b5cf3fc7-65ca-40ce-8fe3-dde962760887",
   "metadata": {},
   "source": [
    "### LGBMClassifier"
   ]
  },
  {
   "cell_type": "code",
   "execution_count": 150,
   "id": "67d529a7-e10c-45db-b117-3569c64b4562",
   "metadata": {},
   "outputs": [
    {
     "name": "stdout",
     "output_type": "stream",
     "text": [
      "[LightGBM] [Warning] Found whitespace in feature_names, replace with underlines\n",
      "[LightGBM] [Info] Auto-choosing row-wise multi-threading, the overhead of testing was 0.033299 seconds.\n",
      "You can set `force_row_wise=true` to remove the overhead.\n",
      "And if memory is not enough, you can set `force_col_wise=true`.\n",
      "[LightGBM] [Info] Total Bins 230\n",
      "[LightGBM] [Info] Number of data points in the train set: 262297, number of used features: 114\n",
      "[LightGBM] [Info] Start training from score -0.811827\n",
      "[LightGBM] [Info] Start training from score -3.702456\n",
      "[LightGBM] [Info] Start training from score -1.930760\n",
      "[LightGBM] [Info] Start training from score -0.951263\n",
      "Accuracy score test : 0.6606023637056805\n",
      "Accuracy score train : 0.6807397720904166\n",
      "----------\n",
      "Recall test : 0.46149330674601863\n",
      "Recall train : 0.4897932117781068\n",
      "----------\n",
      "f1 score test : 0.46801714081564777\n",
      "f1 score train : 0.5073272521003186\n"
     ]
    }
   ],
   "source": [
    "from lightgbm import LGBMClassifier\n",
    "from sklearn.metrics import recall_score, f1_score, accuracy_score\n",
    "\n",
    "model_lgbm = LGBMClassifier(num_leaves=50,\n",
    "                            max_depth=-1,\n",
    "                            learning_rate=0.05,\n",
    "                            n_estimators=500,\n",
    "                            min_child_samples=10,\n",
    "                            subsample=0.6,\n",
    "                            colsample_bytree=1,\n",
    "                            reg_alpha=1,\n",
    "                            reg_lambda=0.5)\n",
    "\n",
    "model_lgbm.fit(X_train, y_train)\n",
    "\n",
    "y_pred_lgbm = model_lgbm.predict(X_test)\n",
    "y_pred_lgbm_train = model_lgbm.predict(X_train)\n",
    "\n",
    "# Mesure performance modèle\n",
    "print('Accuracy score test :', accuracy_score(y_test, y_pred_lgbm))\n",
    "print('Accuracy score train :', accuracy_score(y_train, y_pred_lgbm_train))\n",
    "print('----------')\n",
    "print('Recall test :', recall_score(y_test, y_pred_lgbm, average='macro'))\n",
    "print('Recall train :', recall_score(y_train, y_pred_lgbm_train, average='macro'))\n",
    "print('----------')\n",
    "print('f1 score test :', f1_score(y_test, y_pred_lgbm, average='macro'))\n",
    "print('f1 score train :', f1_score(y_train, y_pred_lgbm_train, average='macro'))\n"
   ]
  },
  {
   "cell_type": "markdown",
   "id": "8a8e682a-162d-46ef-9542-3c3f0babc828",
   "metadata": {},
   "source": [
    "### Rappel sur les métriques"
   ]
  },
  {
   "cell_type": "markdown",
   "id": "8a30060f-a669-46fe-a672-ac393c24aa30",
   "metadata": {},
   "source": [
    "<ins>Exemple avec un modèle classification binaire :</ins>  \n",
    "En face d’un tunnel, devons prédire si c’est une voiture (Positif) ou une moto (Négatif) qui en sortira.\n",
    "\n",
    "**Recall =** nombre de voiture que notre modèle a prédit, et qui se sont avérés être effectivement des voitures, *divisé par l’ensemble des voitures qui ont traversé le tunnel*.\n",
    "\n",
    "**Precision =** nombre de voiture que notre modèle a prédit, et qui se sont avérés être effectivement des voitures, *divisé par le nombre total de voiture que notre modèle a prédit, et qui se sont avérés être vrai (voiture) ou fausse (moto).*\n",
    "\n",
    "**Recall**, on regarde le **nombre de positif** que le modèle a bien prédit **sur l’ensemble des positifs**.  Si le modèle prédit uniquement « positif », le recall sera élevé.\n",
    "\n",
    "**Precision**, on regarde le **nombre de positif** que le modèle a bien prédit **sur l’ensemble des positifs prédit**.  Si le modèle ne prédit jamais « positif », la precision sera élevée.\n"
   ]
  },
  {
   "cell_type": "markdown",
   "id": "0387e21e-4e35-481e-aa3b-711001be6d31",
   "metadata": {},
   "source": [
    "***Synthèse :***  \n",
    "- Plus le recall est haut, plus le modèle repère de positif\n",
    "- Plus la precision est haute, moins le modèle se trompe sur les positifs\n"
   ]
  },
  {
   "cell_type": "markdown",
   "id": "cf634dc4-aa23-44df-a719-619745b89d5d",
   "metadata": {},
   "source": [
    "## Synthèse globale des modèles\n",
    "\n",
    "- Scores assez similaires entre modèles\n",
    "- Gradient Boosting présente de légères meilleures performances\n",
    "- Précision plus élevée que le recall -> les modèles prédissent des vrais positifs\n",
    "- Léger over-fitting "
   ]
  },
  {
   "cell_type": "markdown",
   "id": "c13ef831-95cb-40ff-bc50-d1749a2c78c2",
   "metadata": {},
   "source": [
    "# Resampling data"
   ]
  },
  {
   "cell_type": "markdown",
   "id": "7575e306-b607-4224-b92d-191a7fc03c01",
   "metadata": {},
   "source": [
    "**Classes avec distribution hétérogène**\n",
    "\n",
    "<ins>Objectif :</ins> Rééquilibrer les classes et voir l'influence sur la prédiction des modèles\n"
   ]
  },
  {
   "cell_type": "code",
   "execution_count": 125,
   "id": "b0e1dfd0-f2d1-4f1c-aaf3-0f2fc5df1b93",
   "metadata": {},
   "outputs": [
    {
     "name": "stdout",
     "output_type": "stream",
     "text": [
      "Distribution initiale des classes: Counter({1: 116472, 4: 101313, 3: 38043, 2: 6469})\n"
     ]
    }
   ],
   "source": [
    "from collections import Counter\n",
    "\n",
    "# Afficher la distribution initiale\n",
    "print(\"Distribution initiale des classes:\", Counter(y_train))\n"
   ]
  },
  {
   "cell_type": "code",
   "execution_count": 126,
   "id": "0cc9dbd3-40c3-4454-aaca-4929093165a8",
   "metadata": {},
   "outputs": [
    {
     "data": {
      "text/plain": [
       "grav\n",
       "1    116472\n",
       "4    101313\n",
       "3     38043\n",
       "2      6469\n",
       "Name: count, dtype: int64"
      ]
     },
     "execution_count": 126,
     "metadata": {},
     "output_type": "execute_result"
    }
   ],
   "source": [
    "y_train.value_counts()"
   ]
  },
  {
   "cell_type": "markdown",
   "id": "efc3755d-8a42-4999-8234-6a7a0ef1eae5",
   "metadata": {},
   "source": [
    "#### Dans un premier temps, nous utilisons la librairie SMOTE"
   ]
  },
  {
   "cell_type": "code",
   "execution_count": 128,
   "id": "1cdade67-9516-4d5e-8890-6c583fc72755",
   "metadata": {},
   "outputs": [],
   "source": [
    "from imblearn.over_sampling import SMOTE\n",
    "\n",
    "# Initialiser SMOTE\n",
    "smote = SMOTE(random_state=42)\n",
    "\n",
    "# Appliquer SMOTE uniquement sur les données d'entraînement\n",
    "X_train_smote, y_train_smote = smote.fit_resample(X_train, y_train)"
   ]
  },
  {
   "cell_type": "code",
   "execution_count": 129,
   "id": "bd8baf4a-f774-47fb-958a-717ecedf0b45",
   "metadata": {},
   "outputs": [
    {
     "name": "stdout",
     "output_type": "stream",
     "text": [
      "Distribution après SMOTE: Counter({1: 116472, 3: 116472, 4: 116472, 2: 116472})\n"
     ]
    }
   ],
   "source": [
    "# On vérifie la nouvelle distribution\n",
    "print(\"Distribution après SMOTE:\", Counter(y_train_smote))\n",
    "\n",
    "# X_test et y_test restent inchangés car ils doivent représenter la distribution réelle des données."
   ]
  },
  {
   "cell_type": "markdown",
   "id": "bd676431-8344-4ff4-88bb-366847663717",
   "metadata": {},
   "source": [
    "X_test et y_test restent inchangés car ils doivent représenter la distribution réelle des données.  \n",
    "On essaie de ne pas sur-équilibrer le jeu de données (peut créer du bruit)"
   ]
  },
  {
   "cell_type": "markdown",
   "id": "c60b9b34-1ca2-4b77-8ca2-1e3ade2098fd",
   "metadata": {},
   "source": [
    "#### On essaie maintenant la librairie SMOTETomek ou SMOTEENN qui combine oversampling (SMOTE) et undersampling"
   ]
  },
  {
   "cell_type": "code",
   "execution_count": 132,
   "id": "8911d09a-9552-452f-be1f-edf85fba7a07",
   "metadata": {},
   "outputs": [
    {
     "name": "stdout",
     "output_type": "stream",
     "text": [
      "Distribution initiale: Counter({1: 116472, 4: 101313, 3: 38043, 2: 6469})\n",
      "Distribution après rééquilibrage: Counter({2: 115732, 3: 112913, 1: 110333, 4: 109232})\n"
     ]
    }
   ],
   "source": [
    "from imblearn.combine import SMOTETomek\n",
    "from collections import Counter\n",
    "\n",
    "# Afficher la distribution initiale\n",
    "print(\"Distribution initiale:\", Counter(y_train))\n",
    "\n",
    "# SMOTETomek\n",
    "smt = SMOTETomek(random_state=42)\n",
    "X_train_smotetomek, y_train_smotetomek = smt.fit_resample(X_train, y_train)\n",
    "\n",
    "# Afficher la nouvelle distribution\n",
    "print(\"Distribution après rééquilibrage:\", Counter(y_train_smotetomek))\n"
   ]
  },
  {
   "cell_type": "markdown",
   "id": "6f877e2b-6394-494b-a460-7d7ffe7f84d6",
   "metadata": {},
   "source": [
    "A noter qu'il est aussi possible d'utiliser SMOTEENN. Différences principales :\n",
    "- SMOTETomek : plus conservateur, supprime moins d'exemples\n",
    "- SMOTEENN : plus agressif, peut supprimer plus d'exemples"
   ]
  },
  {
   "cell_type": "markdown",
   "id": "7cc7ddfd-ba6a-48c6-80a8-b6fa46203539",
   "metadata": {},
   "source": [
    "#### On regarde le résultat des deux resampling sur le meilleur modèle"
   ]
  },
  {
   "cell_type": "code",
   "execution_count": 136,
   "id": "f1c78e09-0ecb-41ea-ae8f-97ab20796ca3",
   "metadata": {},
   "outputs": [
    {
     "ename": "KeyboardInterrupt",
     "evalue": "",
     "output_type": "error",
     "traceback": [
      "\u001b[1;31m---------------------------------------------------------------------------\u001b[0m",
      "\u001b[1;31mKeyboardInterrupt\u001b[0m                         Traceback (most recent call last)",
      "Cell \u001b[1;32mIn[136], line 9\u001b[0m\n\u001b[0;32m      2\u001b[0m \u001b[38;5;28;01mfrom\u001b[39;00m \u001b[38;5;21;01msklearn\u001b[39;00m\u001b[38;5;21;01m.\u001b[39;00m\u001b[38;5;21;01mmetrics\u001b[39;00m \u001b[38;5;28;01mimport\u001b[39;00m recall_score, f1_score, accuracy_score\n\u001b[0;32m      4\u001b[0m model_boost_smote \u001b[38;5;241m=\u001b[39m GradientBoostingClassifier(n_estimators\u001b[38;5;241m=\u001b[39m\u001b[38;5;241m700\u001b[39m,\n\u001b[0;32m      5\u001b[0m                                                min_samples_split\u001b[38;5;241m=\u001b[39m\u001b[38;5;241m11\u001b[39m,\n\u001b[0;32m      6\u001b[0m                                                min_samples_leaf\u001b[38;5;241m=\u001b[39m\u001b[38;5;241m18\u001b[39m,\n\u001b[0;32m      7\u001b[0m                                                max_depth\u001b[38;5;241m=\u001b[39m\u001b[38;5;241m6\u001b[39m,\n\u001b[0;32m      8\u001b[0m                                                learning_rate\u001b[38;5;241m=\u001b[39m\u001b[38;5;241m0.05\u001b[39m)\n\u001b[1;32m----> 9\u001b[0m \u001b[43mmodel_boost_smote\u001b[49m\u001b[38;5;241;43m.\u001b[39;49m\u001b[43mfit\u001b[49m\u001b[43m(\u001b[49m\u001b[43mX_train_smote\u001b[49m\u001b[43m,\u001b[49m\u001b[43m \u001b[49m\u001b[43my_train_smote\u001b[49m\u001b[43m)\u001b[49m\n\u001b[0;32m     11\u001b[0m y_pred_boost_smote \u001b[38;5;241m=\u001b[39m model_boost_smote\u001b[38;5;241m.\u001b[39mpredict(X_test)\n\u001b[0;32m     12\u001b[0m y_pred_boost_smote_train \u001b[38;5;241m=\u001b[39m model_boost_smote\u001b[38;5;241m.\u001b[39mpredict(X_train_smote)\n",
      "File \u001b[1;32m~\\Anaconda3\\lib\\site-packages\\sklearn\\base.py:1473\u001b[0m, in \u001b[0;36m_fit_context.<locals>.decorator.<locals>.wrapper\u001b[1;34m(estimator, *args, **kwargs)\u001b[0m\n\u001b[0;32m   1466\u001b[0m     estimator\u001b[38;5;241m.\u001b[39m_validate_params()\n\u001b[0;32m   1468\u001b[0m \u001b[38;5;28;01mwith\u001b[39;00m config_context(\n\u001b[0;32m   1469\u001b[0m     skip_parameter_validation\u001b[38;5;241m=\u001b[39m(\n\u001b[0;32m   1470\u001b[0m         prefer_skip_nested_validation \u001b[38;5;129;01mor\u001b[39;00m global_skip_validation\n\u001b[0;32m   1471\u001b[0m     )\n\u001b[0;32m   1472\u001b[0m ):\n\u001b[1;32m-> 1473\u001b[0m     \u001b[38;5;28;01mreturn\u001b[39;00m fit_method(estimator, \u001b[38;5;241m*\u001b[39margs, \u001b[38;5;241m*\u001b[39m\u001b[38;5;241m*\u001b[39mkwargs)\n",
      "File \u001b[1;32m~\\Anaconda3\\lib\\site-packages\\sklearn\\ensemble\\_gb.py:783\u001b[0m, in \u001b[0;36mBaseGradientBoosting.fit\u001b[1;34m(self, X, y, sample_weight, monitor)\u001b[0m\n\u001b[0;32m    780\u001b[0m     \u001b[38;5;28mself\u001b[39m\u001b[38;5;241m.\u001b[39m_resize_state()\n\u001b[0;32m    782\u001b[0m \u001b[38;5;66;03m# fit the boosting stages\u001b[39;00m\n\u001b[1;32m--> 783\u001b[0m n_stages \u001b[38;5;241m=\u001b[39m \u001b[38;5;28;43mself\u001b[39;49m\u001b[38;5;241;43m.\u001b[39;49m\u001b[43m_fit_stages\u001b[49m\u001b[43m(\u001b[49m\n\u001b[0;32m    784\u001b[0m \u001b[43m    \u001b[49m\u001b[43mX_train\u001b[49m\u001b[43m,\u001b[49m\n\u001b[0;32m    785\u001b[0m \u001b[43m    \u001b[49m\u001b[43my_train\u001b[49m\u001b[43m,\u001b[49m\n\u001b[0;32m    786\u001b[0m \u001b[43m    \u001b[49m\u001b[43mraw_predictions\u001b[49m\u001b[43m,\u001b[49m\n\u001b[0;32m    787\u001b[0m \u001b[43m    \u001b[49m\u001b[43msample_weight_train\u001b[49m\u001b[43m,\u001b[49m\n\u001b[0;32m    788\u001b[0m \u001b[43m    \u001b[49m\u001b[38;5;28;43mself\u001b[39;49m\u001b[38;5;241;43m.\u001b[39;49m\u001b[43m_rng\u001b[49m\u001b[43m,\u001b[49m\n\u001b[0;32m    789\u001b[0m \u001b[43m    \u001b[49m\u001b[43mX_val\u001b[49m\u001b[43m,\u001b[49m\n\u001b[0;32m    790\u001b[0m \u001b[43m    \u001b[49m\u001b[43my_val\u001b[49m\u001b[43m,\u001b[49m\n\u001b[0;32m    791\u001b[0m \u001b[43m    \u001b[49m\u001b[43msample_weight_val\u001b[49m\u001b[43m,\u001b[49m\n\u001b[0;32m    792\u001b[0m \u001b[43m    \u001b[49m\u001b[43mbegin_at_stage\u001b[49m\u001b[43m,\u001b[49m\n\u001b[0;32m    793\u001b[0m \u001b[43m    \u001b[49m\u001b[43mmonitor\u001b[49m\u001b[43m,\u001b[49m\n\u001b[0;32m    794\u001b[0m \u001b[43m\u001b[49m\u001b[43m)\u001b[49m\n\u001b[0;32m    796\u001b[0m \u001b[38;5;66;03m# change shape of arrays after fit (early-stopping or additional ests)\u001b[39;00m\n\u001b[0;32m    797\u001b[0m \u001b[38;5;28;01mif\u001b[39;00m n_stages \u001b[38;5;241m!=\u001b[39m \u001b[38;5;28mself\u001b[39m\u001b[38;5;241m.\u001b[39mestimators_\u001b[38;5;241m.\u001b[39mshape[\u001b[38;5;241m0\u001b[39m]:\n",
      "File \u001b[1;32m~\\Anaconda3\\lib\\site-packages\\sklearn\\ensemble\\_gb.py:879\u001b[0m, in \u001b[0;36mBaseGradientBoosting._fit_stages\u001b[1;34m(self, X, y, raw_predictions, sample_weight, random_state, X_val, y_val, sample_weight_val, begin_at_stage, monitor)\u001b[0m\n\u001b[0;32m    872\u001b[0m         initial_loss \u001b[38;5;241m=\u001b[39m factor \u001b[38;5;241m*\u001b[39m \u001b[38;5;28mself\u001b[39m\u001b[38;5;241m.\u001b[39m_loss(\n\u001b[0;32m    873\u001b[0m             y_true\u001b[38;5;241m=\u001b[39my_oob_masked,\n\u001b[0;32m    874\u001b[0m             raw_prediction\u001b[38;5;241m=\u001b[39mraw_predictions[\u001b[38;5;241m~\u001b[39msample_mask],\n\u001b[0;32m    875\u001b[0m             sample_weight\u001b[38;5;241m=\u001b[39msample_weight_oob_masked,\n\u001b[0;32m    876\u001b[0m         )\n\u001b[0;32m    878\u001b[0m \u001b[38;5;66;03m# fit next stage of trees\u001b[39;00m\n\u001b[1;32m--> 879\u001b[0m raw_predictions \u001b[38;5;241m=\u001b[39m \u001b[38;5;28;43mself\u001b[39;49m\u001b[38;5;241;43m.\u001b[39;49m\u001b[43m_fit_stage\u001b[49m\u001b[43m(\u001b[49m\n\u001b[0;32m    880\u001b[0m \u001b[43m    \u001b[49m\u001b[43mi\u001b[49m\u001b[43m,\u001b[49m\n\u001b[0;32m    881\u001b[0m \u001b[43m    \u001b[49m\u001b[43mX\u001b[49m\u001b[43m,\u001b[49m\n\u001b[0;32m    882\u001b[0m \u001b[43m    \u001b[49m\u001b[43my\u001b[49m\u001b[43m,\u001b[49m\n\u001b[0;32m    883\u001b[0m \u001b[43m    \u001b[49m\u001b[43mraw_predictions\u001b[49m\u001b[43m,\u001b[49m\n\u001b[0;32m    884\u001b[0m \u001b[43m    \u001b[49m\u001b[43msample_weight\u001b[49m\u001b[43m,\u001b[49m\n\u001b[0;32m    885\u001b[0m \u001b[43m    \u001b[49m\u001b[43msample_mask\u001b[49m\u001b[43m,\u001b[49m\n\u001b[0;32m    886\u001b[0m \u001b[43m    \u001b[49m\u001b[43mrandom_state\u001b[49m\u001b[43m,\u001b[49m\n\u001b[0;32m    887\u001b[0m \u001b[43m    \u001b[49m\u001b[43mX_csc\u001b[49m\u001b[38;5;241;43m=\u001b[39;49m\u001b[43mX_csc\u001b[49m\u001b[43m,\u001b[49m\n\u001b[0;32m    888\u001b[0m \u001b[43m    \u001b[49m\u001b[43mX_csr\u001b[49m\u001b[38;5;241;43m=\u001b[39;49m\u001b[43mX_csr\u001b[49m\u001b[43m,\u001b[49m\n\u001b[0;32m    889\u001b[0m \u001b[43m\u001b[49m\u001b[43m)\u001b[49m\n\u001b[0;32m    891\u001b[0m \u001b[38;5;66;03m# track loss\u001b[39;00m\n\u001b[0;32m    892\u001b[0m \u001b[38;5;28;01mif\u001b[39;00m do_oob:\n",
      "File \u001b[1;32m~\\Anaconda3\\lib\\site-packages\\sklearn\\ensemble\\_gb.py:490\u001b[0m, in \u001b[0;36mBaseGradientBoosting._fit_stage\u001b[1;34m(self, i, X, y, raw_predictions, sample_weight, sample_mask, random_state, X_csc, X_csr)\u001b[0m\n\u001b[0;32m    487\u001b[0m     sample_weight \u001b[38;5;241m=\u001b[39m sample_weight \u001b[38;5;241m*\u001b[39m sample_mask\u001b[38;5;241m.\u001b[39mastype(np\u001b[38;5;241m.\u001b[39mfloat64)\n\u001b[0;32m    489\u001b[0m X \u001b[38;5;241m=\u001b[39m X_csc \u001b[38;5;28;01mif\u001b[39;00m X_csc \u001b[38;5;129;01mis\u001b[39;00m \u001b[38;5;129;01mnot\u001b[39;00m \u001b[38;5;28;01mNone\u001b[39;00m \u001b[38;5;28;01melse\u001b[39;00m X\n\u001b[1;32m--> 490\u001b[0m \u001b[43mtree\u001b[49m\u001b[38;5;241;43m.\u001b[39;49m\u001b[43mfit\u001b[49m\u001b[43m(\u001b[49m\n\u001b[0;32m    491\u001b[0m \u001b[43m    \u001b[49m\u001b[43mX\u001b[49m\u001b[43m,\u001b[49m\u001b[43m \u001b[49m\u001b[43mneg_g_view\u001b[49m\u001b[43m[\u001b[49m\u001b[43m:\u001b[49m\u001b[43m,\u001b[49m\u001b[43m \u001b[49m\u001b[43mk\u001b[49m\u001b[43m]\u001b[49m\u001b[43m,\u001b[49m\u001b[43m \u001b[49m\u001b[43msample_weight\u001b[49m\u001b[38;5;241;43m=\u001b[39;49m\u001b[43msample_weight\u001b[49m\u001b[43m,\u001b[49m\u001b[43m \u001b[49m\u001b[43mcheck_input\u001b[49m\u001b[38;5;241;43m=\u001b[39;49m\u001b[38;5;28;43;01mFalse\u001b[39;49;00m\n\u001b[0;32m    492\u001b[0m \u001b[43m\u001b[49m\u001b[43m)\u001b[49m\n\u001b[0;32m    494\u001b[0m \u001b[38;5;66;03m# update tree leaves\u001b[39;00m\n\u001b[0;32m    495\u001b[0m X_for_tree_update \u001b[38;5;241m=\u001b[39m X_csr \u001b[38;5;28;01mif\u001b[39;00m X_csr \u001b[38;5;129;01mis\u001b[39;00m \u001b[38;5;129;01mnot\u001b[39;00m \u001b[38;5;28;01mNone\u001b[39;00m \u001b[38;5;28;01melse\u001b[39;00m X\n",
      "File \u001b[1;32m~\\Anaconda3\\lib\\site-packages\\sklearn\\base.py:1473\u001b[0m, in \u001b[0;36m_fit_context.<locals>.decorator.<locals>.wrapper\u001b[1;34m(estimator, *args, **kwargs)\u001b[0m\n\u001b[0;32m   1466\u001b[0m     estimator\u001b[38;5;241m.\u001b[39m_validate_params()\n\u001b[0;32m   1468\u001b[0m \u001b[38;5;28;01mwith\u001b[39;00m config_context(\n\u001b[0;32m   1469\u001b[0m     skip_parameter_validation\u001b[38;5;241m=\u001b[39m(\n\u001b[0;32m   1470\u001b[0m         prefer_skip_nested_validation \u001b[38;5;129;01mor\u001b[39;00m global_skip_validation\n\u001b[0;32m   1471\u001b[0m     )\n\u001b[0;32m   1472\u001b[0m ):\n\u001b[1;32m-> 1473\u001b[0m     \u001b[38;5;28;01mreturn\u001b[39;00m fit_method(estimator, \u001b[38;5;241m*\u001b[39margs, \u001b[38;5;241m*\u001b[39m\u001b[38;5;241m*\u001b[39mkwargs)\n",
      "File \u001b[1;32m~\\Anaconda3\\lib\\site-packages\\sklearn\\tree\\_classes.py:1377\u001b[0m, in \u001b[0;36mDecisionTreeRegressor.fit\u001b[1;34m(self, X, y, sample_weight, check_input)\u001b[0m\n\u001b[0;32m   1347\u001b[0m \u001b[38;5;129m@_fit_context\u001b[39m(prefer_skip_nested_validation\u001b[38;5;241m=\u001b[39m\u001b[38;5;28;01mTrue\u001b[39;00m)\n\u001b[0;32m   1348\u001b[0m \u001b[38;5;28;01mdef\u001b[39;00m \u001b[38;5;21mfit\u001b[39m(\u001b[38;5;28mself\u001b[39m, X, y, sample_weight\u001b[38;5;241m=\u001b[39m\u001b[38;5;28;01mNone\u001b[39;00m, check_input\u001b[38;5;241m=\u001b[39m\u001b[38;5;28;01mTrue\u001b[39;00m):\n\u001b[0;32m   1349\u001b[0m \u001b[38;5;250m    \u001b[39m\u001b[38;5;124;03m\"\"\"Build a decision tree regressor from the training set (X, y).\u001b[39;00m\n\u001b[0;32m   1350\u001b[0m \n\u001b[0;32m   1351\u001b[0m \u001b[38;5;124;03m    Parameters\u001b[39;00m\n\u001b[1;32m   (...)\u001b[0m\n\u001b[0;32m   1374\u001b[0m \u001b[38;5;124;03m        Fitted estimator.\u001b[39;00m\n\u001b[0;32m   1375\u001b[0m \u001b[38;5;124;03m    \"\"\"\u001b[39;00m\n\u001b[1;32m-> 1377\u001b[0m     \u001b[38;5;28;43msuper\u001b[39;49m\u001b[43m(\u001b[49m\u001b[43m)\u001b[49m\u001b[38;5;241;43m.\u001b[39;49m\u001b[43m_fit\u001b[49m\u001b[43m(\u001b[49m\n\u001b[0;32m   1378\u001b[0m \u001b[43m        \u001b[49m\u001b[43mX\u001b[49m\u001b[43m,\u001b[49m\n\u001b[0;32m   1379\u001b[0m \u001b[43m        \u001b[49m\u001b[43my\u001b[49m\u001b[43m,\u001b[49m\n\u001b[0;32m   1380\u001b[0m \u001b[43m        \u001b[49m\u001b[43msample_weight\u001b[49m\u001b[38;5;241;43m=\u001b[39;49m\u001b[43msample_weight\u001b[49m\u001b[43m,\u001b[49m\n\u001b[0;32m   1381\u001b[0m \u001b[43m        \u001b[49m\u001b[43mcheck_input\u001b[49m\u001b[38;5;241;43m=\u001b[39;49m\u001b[43mcheck_input\u001b[49m\u001b[43m,\u001b[49m\n\u001b[0;32m   1382\u001b[0m \u001b[43m    \u001b[49m\u001b[43m)\u001b[49m\n\u001b[0;32m   1383\u001b[0m     \u001b[38;5;28;01mreturn\u001b[39;00m \u001b[38;5;28mself\u001b[39m\n",
      "File \u001b[1;32m~\\Anaconda3\\lib\\site-packages\\sklearn\\tree\\_classes.py:472\u001b[0m, in \u001b[0;36mBaseDecisionTree._fit\u001b[1;34m(self, X, y, sample_weight, check_input, missing_values_in_feature_mask)\u001b[0m\n\u001b[0;32m    461\u001b[0m \u001b[38;5;28;01melse\u001b[39;00m:\n\u001b[0;32m    462\u001b[0m     builder \u001b[38;5;241m=\u001b[39m BestFirstTreeBuilder(\n\u001b[0;32m    463\u001b[0m         splitter,\n\u001b[0;32m    464\u001b[0m         min_samples_split,\n\u001b[1;32m   (...)\u001b[0m\n\u001b[0;32m    469\u001b[0m         \u001b[38;5;28mself\u001b[39m\u001b[38;5;241m.\u001b[39mmin_impurity_decrease,\n\u001b[0;32m    470\u001b[0m     )\n\u001b[1;32m--> 472\u001b[0m \u001b[43mbuilder\u001b[49m\u001b[38;5;241;43m.\u001b[39;49m\u001b[43mbuild\u001b[49m\u001b[43m(\u001b[49m\u001b[38;5;28;43mself\u001b[39;49m\u001b[38;5;241;43m.\u001b[39;49m\u001b[43mtree_\u001b[49m\u001b[43m,\u001b[49m\u001b[43m \u001b[49m\u001b[43mX\u001b[49m\u001b[43m,\u001b[49m\u001b[43m \u001b[49m\u001b[43my\u001b[49m\u001b[43m,\u001b[49m\u001b[43m \u001b[49m\u001b[43msample_weight\u001b[49m\u001b[43m,\u001b[49m\u001b[43m \u001b[49m\u001b[43mmissing_values_in_feature_mask\u001b[49m\u001b[43m)\u001b[49m\n\u001b[0;32m    474\u001b[0m \u001b[38;5;28;01mif\u001b[39;00m \u001b[38;5;28mself\u001b[39m\u001b[38;5;241m.\u001b[39mn_outputs_ \u001b[38;5;241m==\u001b[39m \u001b[38;5;241m1\u001b[39m \u001b[38;5;129;01mand\u001b[39;00m is_classifier(\u001b[38;5;28mself\u001b[39m):\n\u001b[0;32m    475\u001b[0m     \u001b[38;5;28mself\u001b[39m\u001b[38;5;241m.\u001b[39mn_classes_ \u001b[38;5;241m=\u001b[39m \u001b[38;5;28mself\u001b[39m\u001b[38;5;241m.\u001b[39mn_classes_[\u001b[38;5;241m0\u001b[39m]\n",
      "\u001b[1;31mKeyboardInterrupt\u001b[0m: "
     ]
    }
   ],
   "source": [
    "from sklearn.ensemble import GradientBoostingClassifier\n",
    "from sklearn.metrics import recall_score, f1_score, accuracy_score\n",
    "\n",
    "model_boost_smote = GradientBoostingClassifier(n_estimators=700,\n",
    "                                               min_samples_split=11,\n",
    "                                               min_samples_leaf=18,\n",
    "                                               max_depth=6,\n",
    "                                               learning_rate=0.05)\n",
    "model_boost_smote.fit(X_train_smote, y_train_smote)\n",
    "\n",
    "y_pred_boost_smote = model_boost_smote.predict(X_test)\n",
    "y_pred_boost_smote_train = model_boost_smote.predict(X_train_smote)\n",
    "\n",
    "# Mesure performance modèle\n",
    "print('Accuracy score test :', accuracy_score(y_test, y_pred_boost_smote))\n",
    "print('Accuracy score train :', accuracy_score(y_train_smote, y_pred_boost_smote_train))\n",
    "print('----------')\n",
    "print('Recall test :', recall_score(y_test, y_pred_boost_smote, average='macro'))\n",
    "print('Recall train :', recall_score(y_train_smote, y_pred_boost_smote_train, average='macro'))\n",
    "print('----------')\n",
    "print('f1 score test :', f1_score(y_test, y_pred_boost_smote, average='macro'))\n",
    "print('f1 score train :', f1_score(y_train_smote, y_pred_boost_smote_train, average='macro'))\n"
   ]
  },
  {
   "cell_type": "code",
   "execution_count": null,
   "id": "280d9554-2cac-4987-ad26-7fe99280066f",
   "metadata": {},
   "outputs": [],
   "source": [
    "model_boost_smotetomek = GradientBoostingClassifier(n_estimators=700,\n",
    "                                                    min_samples_split=11,\n",
    "                                                    min_samples_leaf=18,\n",
    "                                                    max_depth=6,\n",
    "                                                    learning_rate=0.05)\n",
    "model_boost_smotetomek.fit(X_train_smotetomek, y_train_smotetomek)\n",
    "\n",
    "y_pred_boost_smotetomek = model_boost_smotetomek.predict(X_test)\n",
    "y_pred_boost_smotetomek_train = model_boost_smotetomek.predict(X_train_smotetomek)\n",
    "\n",
    "# Mesure performance modèle\n",
    "print('Accuracy score test :', accuracy_score(y_test, y_pred_boost_smotetomek))\n",
    "print('Accuracy score train :', accuracy_score(y_train_smotetomek, y_pred_boost_smotetomek_train))\n",
    "print('----------')\n",
    "print('Recall test :', recall_score(y_test, y_pred_boost_smotetomek, average='macro'))\n",
    "print('Recall train :', recall_score(y_train_smotetomek, y_pred_boost_smotetomek_train, average='macro'))\n",
    "print('----------')\n",
    "print('f1 score test :', f1_score(y_test, y_pred_boost_smotetomek, average='macro'))\n",
    "print('f1 score train :', f1_score(y_train_smotetomek, y_pred_boost_smotetomek_train, average='macro'))\n"
   ]
  },
  {
   "cell_type": "code",
   "execution_count": null,
   "id": "5a7317bf-b3d9-46a2-9a13-1bc8c77644fd",
   "metadata": {},
   "outputs": [],
   "source": []
  },
  {
   "cell_type": "markdown",
   "id": "627413b5-9fcc-4003-b358-7a7ab2221ea7",
   "metadata": {},
   "source": [
    "#### Modification distribution manuelle"
   ]
  },
  {
   "cell_type": "markdown",
   "id": "2ac443d3-9bfc-49fd-bf7d-b4fc05efff31",
   "metadata": {},
   "source": [
    "Afin d'éviter de créer trop de bruit, nous allons appliquer une stratégie personnalisée pour le resampling.\n",
    "\n",
    "<ins>Actuellement :</ins>  \n",
    "Classe 1 (indenme) : 116 472 usagers (44.4 %)  \n",
    "Classe 4 (Blessé léger) : 101 313 usagers (38.6 %)  \n",
    "Classe 3 (Blessé grave) : 38 043 usagers (14.5 %)  \n",
    "Classe 2 (tué) : 6 469 usagers (2.5 %)  \n",
    "(Total d'usagers : 262 297)\n",
    "\n",
    "Nous allons voir l'impact en modifiant toutes les classes pour obtenir 25 % pour chacune.  \n",
    "Nombre d'usagers par classe après modification = **65 574 usagers**."
   ]
  },
  {
   "cell_type": "code",
   "execution_count": 177,
   "id": "e23ba4ac-6f25-41f3-a343-c81d46bebbcc",
   "metadata": {},
   "outputs": [
    {
     "name": "stdout",
     "output_type": "stream",
     "text": [
      "\n",
      "Nouvelle distribution après resampling :\n",
      "Counter({1: 65574, 2: 65574, 3: 65574, 4: 65574})\n",
      "Classe 1: 25.00%\n",
      "Classe 2: 25.00%\n",
      "Classe 3: 25.00%\n",
      "Classe 4: 25.00%\n"
     ]
    }
   ],
   "source": [
    "import numpy as np\n",
    "from imblearn.over_sampling import RandomOverSampler\n",
    "from imblearn.under_sampling import RandomUnderSampler\n",
    "from imblearn.pipeline import Pipeline\n",
    "from collections import Counter\n",
    "\n",
    "# RandomOverSampler pour augmenter le nombre d'échantillons des classes minoritaires (2 et 3).\n",
    "# RandomUnderSampler pour réduire le nombre d'échantillons des classes majoritaires (1 et 4).\n",
    "# Ces deux étapes sont combinées dans un Pipeline pour être appliquées séquentiellement.\n",
    "n_samples = int(len(y_train))\n",
    "\n",
    "# Création de la pipeline de resampling\n",
    "over = RandomOverSampler(sampling_strategy={2: int(n_samples * 0.25), 3: int(n_samples * 0.25)})\n",
    "under = RandomUnderSampler(sampling_strategy={1: int(n_samples * 0.25), 4: int(n_samples * 0.25)})\n",
    "\n",
    "pipeline = Pipeline([('over', over), ('under', under)])\n",
    "\n",
    "# Appliquer le resampling\n",
    "X_train_resampled, y_train_resampled = pipeline.fit_resample(X_train, y_train)\n",
    "\n",
    "# Afficher la nouvelle distribution\n",
    "print(\"\\nNouvelle distribution après resampling :\")\n",
    "print(Counter(y_train_resampled))\n",
    "\n",
    "# Vérifier les pourcentages\n",
    "total = len(y_train_resampled)\n",
    "for classe in [1, 2, 3, 4]:\n",
    "    pourcentage = Counter(y_train_resampled)[classe] / total * 100\n",
    "    print(f\"Classe {classe}: {pourcentage:.2f}%\")\n",
    "\n"
   ]
  },
  {
   "cell_type": "markdown",
   "id": "7b08ad87-7422-415f-b9e4-e7cfc2d9022c",
   "metadata": {},
   "source": [
    "#### Application du meilleur modèle"
   ]
  },
  {
   "cell_type": "code",
   "execution_count": 179,
   "id": "a233ca4a-0e00-459a-985c-492ee5564198",
   "metadata": {},
   "outputs": [
    {
     "name": "stdout",
     "output_type": "stream",
     "text": [
      "Accuracy score test : 0.5961723217689668\n",
      "Accuracy score train : 0.6475966084118706\n",
      "----------\n",
      "Recall test : 0.554732366105769\n",
      "Recall train : 0.6475966084118706\n",
      "----------\n",
      "f1 score test : 0.4803870611511257\n",
      "f1 score train : 0.6423642807608049\n"
     ]
    }
   ],
   "source": [
    "model_boost_resampled = GradientBoostingClassifier(n_estimators=700,\n",
    "                                                  min_samples_split=11,\n",
    "                                                  min_samples_leaf=18,\n",
    "                                                  max_depth=6,\n",
    "                                                  learning_rate=0.05)\n",
    "model_boost_resampled.fit(X_train_resampled, y_train_resampled)\n",
    "\n",
    "y_pred_boost_resampled = model_boost_resampled.predict(X_test)\n",
    "y_pred_boost_resampled_train = model_boost_resampled.predict(X_train_resampled)\n",
    "\n",
    "# Mesure performance modèle\n",
    "print('Accuracy score test :', accuracy_score(y_test, y_pred_boost_resampled))\n",
    "print('Accuracy score train :', accuracy_score(y_train_resampled, y_pred_boost_resampled_train))\n",
    "print('----------')\n",
    "print('Recall test :', recall_score(y_test, y_pred_boost_resampled, average='macro'))\n",
    "print('Recall train :', recall_score(y_train_resampled, y_pred_boost_resampled_train, average='macro'))\n",
    "print('----------')\n",
    "print('f1 score test :', f1_score(y_test, y_pred_boost_resampled, average='macro'))\n",
    "print('f1 score train :', f1_score(y_train_resampled, y_pred_boost_resampled_train, average='macro'))\n"
   ]
  },
  {
   "cell_type": "markdown",
   "id": "81094fe2-9b1b-4111-8edd-eaebdcd04b32",
   "metadata": {},
   "source": [
    "On voit une légère baisse de la précision mais un meilleur recall  \n",
    "Le F1 score est également légèrement augmenté  \n",
    "Over-fitting toujours présent (voire légère augmentation)"
   ]
  },
  {
   "cell_type": "code",
   "execution_count": 207,
   "id": "6cbc5f35-6cda-4450-8763-47f41a7da9ad",
   "metadata": {},
   "outputs": [],
   "source": [
    "X_train_resampled.to_csv(\"X_train_resampled.csv\")\n",
    "y_train_resampled.to_csv(\"y_train_resampled.csv\")"
   ]
  },
  {
   "cell_type": "code",
   "execution_count": 217,
   "id": "d5615e69-7b49-4d03-9be8-57b79a3ab738",
   "metadata": {},
   "outputs": [],
   "source": [
    "# Sauvegarde du modèle\n",
    "import pickle\n",
    "\n",
    "pickle.dump(model_boost_resampled, open('./best_model_GB_resampled.pkl', 'wb'))\n",
    "#pickle.dump(model_lgbm, open('./best_model_LGBM.pkl', 'wb'))\n",
    "#pickle.dump(model_rf, open('./best_model_rf.pkl', 'wb'))\n",
    "#pickle.dump(model_boost, open('./best_model_boost.pkl', 'wb'))"
   ]
  },
  {
   "cell_type": "code",
   "execution_count": null,
   "id": "c3e342a5-6b12-4a0f-a6a2-31f0ef8f180c",
   "metadata": {},
   "outputs": [],
   "source": []
  }
 ],
 "metadata": {
  "kernelspec": {
   "display_name": "Python 3 (ipykernel)",
   "language": "python",
   "name": "python3"
  },
  "language_info": {
   "codemirror_mode": {
    "name": "ipython",
    "version": 3
   },
   "file_extension": ".py",
   "mimetype": "text/x-python",
   "name": "python",
   "nbconvert_exporter": "python",
   "pygments_lexer": "ipython3",
   "version": "3.9.19"
  }
 },
 "nbformat": 4,
 "nbformat_minor": 5
}
