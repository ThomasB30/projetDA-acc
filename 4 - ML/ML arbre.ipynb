{
 "cells": [
  {
   "cell_type": "code",
   "execution_count": 1,
   "id": "3ac39476",
   "metadata": {
    "tags": []
   },
   "outputs": [],
   "source": [
    "# Chargement des packages nécessaires\n",
    "import numpy as np\n",
    "import pandas as pd\n",
    "import matplotlib.pyplot as plt\n",
    "import seaborn as sns"
   ]
  },
  {
   "cell_type": "code",
   "execution_count": 3,
   "id": "21f4d673-f5ab-4141-a426-b510ac4ea85c",
   "metadata": {
    "tags": []
   },
   "outputs": [
    {
     "data": {
      "text/html": [
       "<div>\n",
       "<style scoped>\n",
       "    .dataframe tbody tr th:only-of-type {\n",
       "        vertical-align: middle;\n",
       "    }\n",
       "\n",
       "    .dataframe tbody tr th {\n",
       "        vertical-align: top;\n",
       "    }\n",
       "\n",
       "    .dataframe thead th {\n",
       "        text-align: right;\n",
       "    }\n",
       "</style>\n",
       "<table border=\"1\" class=\"dataframe\">\n",
       "  <thead>\n",
       "    <tr style=\"text-align: right;\">\n",
       "      <th></th>\n",
       "      <th>Num_Acc</th>\n",
       "      <th>place</th>\n",
       "      <th>catu</th>\n",
       "      <th>grav</th>\n",
       "      <th>sexe</th>\n",
       "      <th>trajet</th>\n",
       "      <th>secu</th>\n",
       "      <th>locp</th>\n",
       "      <th>actp</th>\n",
       "      <th>etatp</th>\n",
       "      <th>...</th>\n",
       "      <th>agg</th>\n",
       "      <th>int</th>\n",
       "      <th>atm</th>\n",
       "      <th>col</th>\n",
       "      <th>com</th>\n",
       "      <th>adr</th>\n",
       "      <th>gps</th>\n",
       "      <th>lat</th>\n",
       "      <th>long</th>\n",
       "      <th>dep</th>\n",
       "    </tr>\n",
       "  </thead>\n",
       "  <tbody>\n",
       "    <tr>\n",
       "      <th>0</th>\n",
       "      <td>202000000001</td>\n",
       "      <td>1.0</td>\n",
       "      <td>1</td>\n",
       "      <td>1</td>\n",
       "      <td>1</td>\n",
       "      <td>5.0</td>\n",
       "      <td>NaN</td>\n",
       "      <td>-1.0</td>\n",
       "      <td>-1</td>\n",
       "      <td>-1.0</td>\n",
       "      <td>...</td>\n",
       "      <td>2</td>\n",
       "      <td>3</td>\n",
       "      <td>1.0</td>\n",
       "      <td>3.0</td>\n",
       "      <td>91657</td>\n",
       "      <td>HENRI BARBUSSE (AVENUE)</td>\n",
       "      <td>NaN</td>\n",
       "      <td>48,7053500</td>\n",
       "      <td>2,4384100</td>\n",
       "      <td>91</td>\n",
       "    </tr>\n",
       "    <tr>\n",
       "      <th>1</th>\n",
       "      <td>202000000001</td>\n",
       "      <td>1.0</td>\n",
       "      <td>1</td>\n",
       "      <td>3</td>\n",
       "      <td>1</td>\n",
       "      <td>5.0</td>\n",
       "      <td>NaN</td>\n",
       "      <td>-1.0</td>\n",
       "      <td>-1</td>\n",
       "      <td>-1.0</td>\n",
       "      <td>...</td>\n",
       "      <td>2</td>\n",
       "      <td>3</td>\n",
       "      <td>1.0</td>\n",
       "      <td>3.0</td>\n",
       "      <td>91657</td>\n",
       "      <td>HENRI BARBUSSE (AVENUE)</td>\n",
       "      <td>NaN</td>\n",
       "      <td>48,7053500</td>\n",
       "      <td>2,4384100</td>\n",
       "      <td>91</td>\n",
       "    </tr>\n",
       "    <tr>\n",
       "      <th>2</th>\n",
       "      <td>202000000002</td>\n",
       "      <td>1.0</td>\n",
       "      <td>1</td>\n",
       "      <td>1</td>\n",
       "      <td>1</td>\n",
       "      <td>1.0</td>\n",
       "      <td>NaN</td>\n",
       "      <td>-1.0</td>\n",
       "      <td>-1</td>\n",
       "      <td>-1.0</td>\n",
       "      <td>...</td>\n",
       "      <td>2</td>\n",
       "      <td>9</td>\n",
       "      <td>7.0</td>\n",
       "      <td>6.0</td>\n",
       "      <td>91657</td>\n",
       "      <td>MOUSSEAUX(CHEMIN)</td>\n",
       "      <td>NaN</td>\n",
       "      <td>48,6900000</td>\n",
       "      <td>2,4100000</td>\n",
       "      <td>91</td>\n",
       "    </tr>\n",
       "    <tr>\n",
       "      <th>3</th>\n",
       "      <td>202000000002</td>\n",
       "      <td>10.0</td>\n",
       "      <td>3</td>\n",
       "      <td>4</td>\n",
       "      <td>1</td>\n",
       "      <td>5.0</td>\n",
       "      <td>NaN</td>\n",
       "      <td>3.0</td>\n",
       "      <td>3</td>\n",
       "      <td>1.0</td>\n",
       "      <td>...</td>\n",
       "      <td>2</td>\n",
       "      <td>9</td>\n",
       "      <td>7.0</td>\n",
       "      <td>6.0</td>\n",
       "      <td>91657</td>\n",
       "      <td>MOUSSEAUX(CHEMIN)</td>\n",
       "      <td>NaN</td>\n",
       "      <td>48,6900000</td>\n",
       "      <td>2,4100000</td>\n",
       "      <td>91</td>\n",
       "    </tr>\n",
       "    <tr>\n",
       "      <th>4</th>\n",
       "      <td>202000000003</td>\n",
       "      <td>1.0</td>\n",
       "      <td>1</td>\n",
       "      <td>1</td>\n",
       "      <td>1</td>\n",
       "      <td>0.0</td>\n",
       "      <td>NaN</td>\n",
       "      <td>-1.0</td>\n",
       "      <td>-1</td>\n",
       "      <td>-1.0</td>\n",
       "      <td>...</td>\n",
       "      <td>2</td>\n",
       "      <td>2</td>\n",
       "      <td>1.0</td>\n",
       "      <td>3.0</td>\n",
       "      <td>91174</td>\n",
       "      <td>CARNOT(AVENUE)</td>\n",
       "      <td>NaN</td>\n",
       "      <td>48,6106700</td>\n",
       "      <td>2,4758200</td>\n",
       "      <td>91</td>\n",
       "    </tr>\n",
       "  </tbody>\n",
       "</table>\n",
       "<p>5 rows × 58 columns</p>\n",
       "</div>"
      ],
      "text/plain": [
       "        Num_Acc  place  catu  grav  sexe  trajet  secu  locp actp  etatp  ...  \\\n",
       "0  202000000001    1.0     1     1     1     5.0   NaN  -1.0   -1   -1.0  ...   \n",
       "1  202000000001    1.0     1     3     1     5.0   NaN  -1.0   -1   -1.0  ...   \n",
       "2  202000000002    1.0     1     1     1     1.0   NaN  -1.0   -1   -1.0  ...   \n",
       "3  202000000002   10.0     3     4     1     5.0   NaN   3.0    3    1.0  ...   \n",
       "4  202000000003    1.0     1     1     1     0.0   NaN  -1.0   -1   -1.0  ...   \n",
       "\n",
       "   agg int  atm  col    com                      adr gps         lat  \\\n",
       "0    2   3  1.0  3.0  91657  HENRI BARBUSSE (AVENUE) NaN  48,7053500   \n",
       "1    2   3  1.0  3.0  91657  HENRI BARBUSSE (AVENUE) NaN  48,7053500   \n",
       "2    2   9  7.0  6.0  91657        MOUSSEAUX(CHEMIN) NaN  48,6900000   \n",
       "3    2   9  7.0  6.0  91657        MOUSSEAUX(CHEMIN) NaN  48,6900000   \n",
       "4    2   2  1.0  3.0  91174           CARNOT(AVENUE) NaN  48,6106700   \n",
       "\n",
       "        long  dep  \n",
       "0  2,4384100   91  \n",
       "1  2,4384100   91  \n",
       "2  2,4100000   91  \n",
       "3  2,4100000   91  \n",
       "4  2,4758200   91  \n",
       "\n",
       "[5 rows x 58 columns]"
      ]
     },
     "execution_count": 3,
     "metadata": {},
     "output_type": "execute_result"
    }
   ],
   "source": [
    "df_merged = pd.read_csv('../data/data 2020-2022.csv', low_memory = False)\n",
    "df_merged.head()"
   ]
  },
  {
   "cell_type": "markdown",
   "id": "44327b03",
   "metadata": {},
   "source": [
    "## Pré-traitement"
   ]
  },
  {
   "cell_type": "markdown",
   "id": "67c1726f",
   "metadata": {},
   "source": [
    "Observations dupliquées ?"
   ]
  },
  {
   "cell_type": "code",
   "execution_count": 7,
   "id": "4d5f5c23",
   "metadata": {
    "tags": []
   },
   "outputs": [
    {
     "name": "stdout",
     "output_type": "stream",
     "text": [
      "Nombre de lignes dupliquées : 63\n"
     ]
    }
   ],
   "source": [
    "print('Nombre de lignes dupliquées :', df_merged.duplicated().sum())"
   ]
  },
  {
   "cell_type": "code",
   "execution_count": 9,
   "id": "80da5c5d",
   "metadata": {
    "tags": []
   },
   "outputs": [],
   "source": [
    "# On supprime les lignes dupliquées\n",
    "\n",
    "df_merged = df_merged.drop_duplicates(keep = 'first')"
   ]
  },
  {
   "cell_type": "code",
   "execution_count": 11,
   "id": "78025345",
   "metadata": {
    "tags": []
   },
   "outputs": [
    {
     "name": "stdout",
     "output_type": "stream",
     "text": [
      "Nombre de lignes dupliquées : 0\n"
     ]
    }
   ],
   "source": [
    "print('Nombre de lignes dupliquées :', df_merged.duplicated().sum())"
   ]
  },
  {
   "cell_type": "markdown",
   "id": "70522653",
   "metadata": {},
   "source": [
    "Les variables peuvent prendre la valeur de '-1' qui signifie 'Non renseigné'. Pour mieux gérer le nettoyage du df, on remplace cette valeur par un NaN.\n"
   ]
  },
  {
   "cell_type": "code",
   "execution_count": 14,
   "id": "4717b34a",
   "metadata": {
    "tags": []
   },
   "outputs": [],
   "source": [
    "df_merged = df_merged.replace(-1, np.nan)\n",
    "df_merged = df_merged.replace('-1', np.nan)  # Si format txt\n",
    "df_merged = df_merged.replace(' -1', np.nan)  # Si format txt"
   ]
  },
  {
   "cell_type": "markdown",
   "id": "da875cf7",
   "metadata": {},
   "source": [
    "Visualisation des taux de NaN par variable"
   ]
  },
  {
   "cell_type": "code",
   "execution_count": 17,
   "id": "d56ae3c0",
   "metadata": {
    "tags": []
   },
   "outputs": [
    {
     "data": {
      "image/png": "[encoded data removed]",
      "text/plain": [
       "<Figure size 1500x1000 with 1 Axes>"
      ]
     },
     "metadata": {},
     "output_type": "display_data"
    }
   ],
   "source": [
    "nan_col = df_merged.isna().sum().sort_values(ascending=True)/df_merged.shape[0]\n",
    "nan_col.plot.barh(figsize=(15,10))  # On trace via pandas\n",
    "plt.xticks([0.0, 0.1, 0.2, 0.3, 0.4, 0.5, 0.6, 0.7, 0.8, 0.9, 1.0])\n",
    "plt.grid(True)\n",
    "plt.xlabel('Proportion de valeurs manquantes')\n",
    "plt.ylabel('Variable')\n",
    "plt.show();"
   ]
  },
  {
   "cell_type": "markdown",
   "id": "a30dfa2d",
   "metadata": {},
   "source": [
    "Les variables suivantes ont des taux de NaN supérieurs à 10% :\n",
    "- lartpc : largeur du TPC si existe\n",
    "- secu3 : Présence et utilisation d'un équipeemnt de sécurité (3eme renseignement possible)\n",
    "- occutc : Nb d'occupants dans le transport en commun\n",
    "- larrout : Largeur de la chaussée\n",
    "- etatp : Si piéton accidenté accompagné ou non\n",
    "- v2 : Lettre indice alphanum de la route\n",
    "- locp : Localisation du piéton\n",
    "- actp : Action du piéton\n",
    "- secu2 : Présence et utilisation d'un équipeemnt de sécurité (2eme renseignement possible)\n",
    "- id_usager : Identifiant unique de l'usager (que depuis 2021)\n",
    "- v1 : Indice num du numéro de route\n",
    "- voie : Numéro de la route"
   ]
  },
  {
   "cell_type": "markdown",
   "id": "fb05e1eb",
   "metadata": {},
   "source": [
    "Au vu du nombre important de NaN, ces variables ne seront pas analysées (gestion des NaN peu envisageable). Nous faisons cependant l'exception pour les équipements de sécurité. Ils seront regroupés dans des variables pour chaque élément.\n",
    "\n",
    "3 variables concernant les piétons sont également non utilisables. Pour la suite, on retirera également les autres variables en lien avec des piétons (catu = 3 (Piéton))\n",
    "\n",
    "Pour la localisation des accidents, du fait d'avoir les latitudes et longitudes, nous pouvons supprimer les autres variables. Nous gardons tout de même la variable dep (département) et com (commune)."
   ]
  },
  {
   "cell_type": "code",
   "execution_count": 21,
   "id": "fe2a926c",
   "metadata": {
    "tags": []
   },
   "outputs": [],
   "source": [
    "df_merged = df_merged.drop(['lartpc', 'occutc', 'larrout', 'etatp', 'locp', 'actp', 'id_usager',\n",
    "                            'voie', 'v1', 'v2', 'adr', 'pr', 'pr1'], axis=1)\n",
    "\n",
    "df_merged = df_merged[df_merged[\"catu\"] != 3]"
   ]
  },
  {
   "cell_type": "markdown",
   "id": "79c18195",
   "metadata": {},
   "source": [
    "On trie les variables 'secu', 'secu2' et 'secu3'"
   ]
  },
  {
   "cell_type": "code",
   "execution_count": 24,
   "id": "47b4cbd2",
   "metadata": {
    "tags": []
   },
   "outputs": [],
   "source": [
    "df_merged['Ceinture'] = df_merged[['secu1', 'secu2', 'secu3']].isin([1]).any(axis=1)\n",
    "df_merged['Casque'] = df_merged[['secu1', 'secu2', 'secu3']].isin([2]).any(axis=1)\n",
    "df_merged['Dispositif enfants'] = df_merged[['secu1', 'secu2', 'secu3']].isin([3]).any(axis=1)\n",
    "df_merged['Gilet réfléchissant'] = df_merged[['secu1', 'secu2', 'secu3']].isin([4]).any(axis=1)\n",
    "df_merged['Airbag'] = df_merged[['secu1', 'secu2', 'secu3']].isin([5, 7]).any(axis=1)\n",
    "df_merged['Gants'] = df_merged[['secu1', 'secu2', 'secu3']].isin([6, 7]).any(axis=1)\n",
    "df_merged['Autre equipement'] = df_merged[['secu1', 'secu2', 'secu3']].isin([9]).any(axis=1)\n",
    "\n",
    "df_merged = df_merged.drop(['secu1', 'secu2', 'secu3'], axis=1)"
   ]
  },
  {
   "cell_type": "markdown",
   "id": "e1a3a2b7",
   "metadata": {},
   "source": [
    "On enlève les limitations de vitesse > à 130 km/h"
   ]
  },
  {
   "cell_type": "code",
   "execution_count": 27,
   "id": "a941b1d5",
   "metadata": {
    "tags": []
   },
   "outputs": [],
   "source": [
    "df_merged.loc[df_merged['vma'] > 130, 'vma'] = np.nan"
   ]
  },
  {
   "cell_type": "markdown",
   "id": "fbf2e73e",
   "metadata": {},
   "source": [
    "On convertit dans le bon format les latitudes et longitudes"
   ]
  },
  {
   "cell_type": "code",
   "execution_count": 30,
   "id": "81fe8adc",
   "metadata": {
    "tags": []
   },
   "outputs": [],
   "source": [
    "df_merged['lat'] = df_merged['lat'].str.replace(',', '.').astype(float)\n",
    "df_merged['long'] = df_merged['long'].str.replace(',', '.').astype(float)"
   ]
  },
  {
   "cell_type": "markdown",
   "id": "8aa70080",
   "metadata": {},
   "source": [
    "On ne garde pas les victimes trop vieilles"
   ]
  },
  {
   "cell_type": "code",
   "execution_count": 33,
   "id": "69b95920",
   "metadata": {
    "tags": []
   },
   "outputs": [],
   "source": [
    "df_merged = df_merged[df_merged[\"an_nais\"] >= 1920]"
   ]
  },
  {
   "cell_type": "code",
   "execution_count": 35,
   "id": "64bcc583",
   "metadata": {
    "tags": []
   },
   "outputs": [],
   "source": [
    "# On convertit le df pour avoir des dates exploitables\n",
    "\n",
    "df_merged['date'] = df_merged['jour'].astype(str) + '-' + df_merged['mois'].astype(str) + '-' + df_merged['an'].astype(str) + '-' \n",
    "df_merged['date'] = pd.to_datetime(df_merged['date'], dayfirst=True)\n"
   ]
  },
  {
   "cell_type": "code",
   "execution_count": 36,
   "id": "141ab144-9771-43f0-821f-f8d01fbdfbed",
   "metadata": {
    "tags": []
   },
   "outputs": [],
   "source": [
    "# On crée une variable région\n",
    "\n",
    "region = pd.read_csv(\"../data/departements-region.csv\")\n",
    "region = region.rename(columns={'num_dep': 'dep'})\n",
    "\n",
    "df_merged = df_merged.merge(region, how='left', on='dep')"
   ]
  },
  {
   "cell_type": "markdown",
   "id": "e8cc8372-5e6a-4bd5-9713-60a4c39e10bf",
   "metadata": {},
   "source": [
    "### Traitement de la donnée en vue de la modélisation\n",
    "Ce regroupement se base sur les observations faites lors de la data visualisation"
   ]
  },
  {
   "cell_type": "code",
   "execution_count": 40,
   "id": "d70d6f8b-83c9-4162-a64d-396e21f409d8",
   "metadata": {
    "tags": []
   },
   "outputs": [],
   "source": [
    "# On crée une variable heure\n",
    "\n",
    "df_merged['hrmn'] = df_merged['hrmn'].str.replace(':', '')\n",
    "df_merged['heure'] = df_merged['hrmn'].astype(int)//100\n",
    "\n",
    "# On supprime la variable initiale\n",
    "df_merged = df_merged.drop(['hrmn'], axis=1)\n"
   ]
  },
  {
   "cell_type": "code",
   "execution_count": 42,
   "id": "4e6caa61-cad8-439e-9a90-82211f3a8d81",
   "metadata": {
    "tags": []
   },
   "outputs": [],
   "source": [
    "# Variable place : place dans le véhicule\n",
    "\n",
    "# Modalité : 1 à 9\n",
    "# On regroupe en 3 catégories : conducteur, passager avant, passager arrière\n",
    "df_merged['place'] = df_merged['place'].astype(int)\n",
    "\n",
    "df_merged['conducteur'] = df_merged['place'].apply(lambda x: 1 if x==1 else 0)\n",
    "df_merged['passager_avant'] = df_merged['place'].apply(lambda x: 1 if x in [2, 6] else 0)\n",
    "df_merged['passager_arrière'] = df_merged['place'].apply(lambda x: 1 if x not in [1, 2, 6] else 0)\n",
    "\n",
    "# On supprime la variable initiale\n",
    "df_merged = df_merged.drop(['place'], axis=1)\n"
   ]
  },
  {
   "cell_type": "code",
   "execution_count": 44,
   "id": "c6a383ac-19e0-4777-b5da-c91c526ea2b2",
   "metadata": {
    "tags": []
   },
   "outputs": [],
   "source": [
    "# Variable catu : conducteur ou passager\n",
    "\n",
    "# Modalité 1 (conducteur) ou 2 (passager)\n",
    "# Le nombre d'occurence entre conducteur ou passager n'est pas cohérent avec celui de la variable place\n",
    "# (263561 conducteurs contre 263915 pour variable catu)\n",
    "# On garde la variable place car plus précise\n",
    "\n",
    "df_merged = df_merged.drop(['catu'], axis=1)\n"
   ]
  },
  {
   "cell_type": "code",
   "execution_count": 46,
   "id": "d112b2b5-a55b-4e3f-9132-ccd149de33bd",
   "metadata": {
    "tags": []
   },
   "outputs": [],
   "source": [
    "# Variable grav : gravité de l'accident\n",
    "\n",
    "# Modalité : 'Indemne' (1), 'Tué' (2), 'Blessé hospitalisé' (3), 'Blessé léger' (4)\n",
    "# Variable cible\n",
    "# On supprime le seul NaN présent\n",
    "\n",
    "df_merged = df_merged.dropna(subset=['grav'])\n",
    "df_merged['grav'] = df_merged['grav'].astype(int)\n"
   ]
  },
  {
   "cell_type": "code",
   "execution_count": 48,
   "id": "f627300f-ddf9-4a80-a48f-2c9c61b315ee",
   "metadata": {
    "tags": []
   },
   "outputs": [],
   "source": [
    "# Variable sexe : sexe de l'usager\n",
    "\n",
    "# Modalité : Masculin' (1), 'Féminin' (2)\n",
    "# Nb NaN : 4, on remplace par le mode\n",
    "\n",
    "df_merged['sexe'] = df_merged['sexe'].fillna(df_merged['sexe'].mode()[0])\n",
    "df_merged['sexe'] = df_merged['sexe'].astype(int)\n"
   ]
  },
  {
   "cell_type": "code",
   "execution_count": 50,
   "id": "3da7783c-e44b-4a6c-b9f4-11c33aafd4c1",
   "metadata": {
    "tags": []
   },
   "outputs": [],
   "source": [
    "# Variable an_nais : année de naissance de l'usager\n",
    "\n",
    "# On tranforme cette variable pour connaître l'âge de l'usager\n",
    "df_merged['an_nais'] = df_merged['an_nais'].astype(int)\n",
    "\n",
    "df_merged['age'] = df_merged['an'] - df_merged['an_nais']\n"
   ]
  },
  {
   "cell_type": "code",
   "execution_count": 52,
   "id": "9b7eb2e7-6fb1-4ad5-a331-5d77fc037f7a",
   "metadata": {
    "tags": []
   },
   "outputs": [],
   "source": [
    "# Variable trajet : motif du trajet\n",
    "\n",
    "# Modalité : 5.  9.  4.  0. nan  2.  3.  1.\n",
    "# Nb NaN : 503, on remplace par le mode\n",
    "\n",
    "df_merged['trajet'] = df_merged['trajet'].replace(0, np.nan)\n",
    "df_merged['trajet'] = df_merged['trajet'].fillna(df_merged['trajet'].mode()[0])\n",
    "df_merged['trajet'] = df_merged['trajet'].astype(int)\n",
    "\n",
    "# On regroupe en 3 catégorie : autre, pro ou perso\n",
    "df_merged['trajet_pro'] = df_merged['trajet'].apply(lambda x: 1 if x in [1, 4] else 0)\n",
    "df_merged['trajet_perso'] = df_merged['trajet'].apply(lambda x: 1 if x in [2, 3, 5] else 0)\n",
    "df_merged['trajet_autre'] = df_merged['trajet'].apply(lambda x: 1 if x==9 else 0)\n",
    "\n",
    "df_merged = df_merged.drop(['trajet'], axis=1)\n"
   ]
  },
  {
   "cell_type": "code",
   "execution_count": 54,
   "id": "306c9a7a-2d09-4c9d-b885-597736e1e74d",
   "metadata": {
    "tags": []
   },
   "outputs": [],
   "source": [
    "# Variable senc : sens de circulation\n",
    "\n",
    "# Modalité : 0 1 2 3\n",
    "# Nb NaN : 1376, on les place dans la catégorie inconnu\n",
    "\n",
    "df_merged['senc'] = df_merged['senc'].fillna(0)\n",
    "df_merged['senc'] = df_merged['senc'].astype(int)\n"
   ]
  },
  {
   "cell_type": "code",
   "execution_count": 56,
   "id": "2c0a4970-5455-4dbd-8203-a93165639c03",
   "metadata": {
    "tags": []
   },
   "outputs": [],
   "source": [
    "# Variable catv : categorie du vehicule\n",
    "\n",
    "# Modalité : nombreuse\n",
    "# Nb NaN : 3, on les place dans le mode\n",
    "\n",
    "df_merged['catv'] = df_merged['catv'].fillna(0)\n",
    "df_merged['catv'] = df_merged['catv'].astype(int)\n",
    "\n",
    "# On regroupe en sous-catégorie\n",
    "df_merged['catv_velo'] = df_merged['catv'].apply(lambda x: 1 if x in [1,80] else 0)\n",
    "df_merged['catv_moto'] = df_merged['catv'].apply(lambda x: 1 if x in [2,4,5,30,31,32,33,34] else 0)\n",
    "df_merged['catv_voiture'] = df_merged['catv'].apply(lambda x: 1 if x in [7] else 0)\n",
    "df_merged['catv_utilitaire'] = df_merged['catv'].apply(lambda x: 1 if x in [10] else 0)\n",
    "df_merged['catv_veh_remorque'] = df_merged['catv'].apply(lambda x: 1 if x in [8,9,11,12] else 0)\n",
    "df_merged['catv_PL'] = df_merged['catv'].apply(lambda x: 1 if x in [13,14,15] else 0)\n",
    "df_merged['catv_tracteur'] = df_merged['catv'].apply(lambda x: 1 if x in [16,17,21] else 0)\n",
    "df_merged['catv_tram_train'] = df_merged['catv'].apply(lambda x: 1 if x in [19,39,40] else 0)\n",
    "df_merged['catv_quad_3roues'] = df_merged['catv'].apply(lambda x: 1 if x in [135,36,41,42,43] else 0)\n",
    "df_merged['catv_autre_inconnu'] = df_merged['catv'].apply(lambda x: 1 if x in [0,3,6,18,20,99] else 0)\n",
    "df_merged['catv_bus_car'] = df_merged['catv'].apply(lambda x: 1 if x in [37,38] else 0)\n",
    "df_merged['catv_EDP'] = df_merged['catv'].apply(lambda x: 1 if x in [50,60] else 0)\n",
    "\n",
    "df_merged = df_merged.drop(['catv'], axis=1)\n"
   ]
  },
  {
   "cell_type": "code",
   "execution_count": 57,
   "id": "6a68a614-5ce8-4642-a924-5eafb8c36f08",
   "metadata": {
    "tags": []
   },
   "outputs": [],
   "source": [
    "# Variable obs : obstacle heurté\n",
    "\n",
    "# Modalité : nombreuse\n",
    "# Nb NaN : 94, on les place dans le mode\n",
    "\n",
    "df_merged['obs'] = df_merged['obs'].fillna(df_merged['obs'].mode()[0])\n",
    "df_merged['obs'] = df_merged['obs'].astype(int)\n"
   ]
  },
  {
   "cell_type": "code",
   "execution_count": 60,
   "id": "c1ed7ed3-6810-44d0-bef6-34c860c7d858",
   "metadata": {
    "tags": []
   },
   "outputs": [],
   "source": [
    "# Variable obsm : obstacle mobile heurté\n",
    "\n",
    "# Modalité : nombreuse\n",
    "# Nb NaN : 129, on les place dans le mode\n",
    "\n",
    "df_merged['obsm'] = df_merged['obsm'].fillna(df_merged['obsm'].mode()[0])\n",
    "df_merged['obsm'] = df_merged['obsm'].astype(int)\n"
   ]
  },
  {
   "cell_type": "code",
   "execution_count": 62,
   "id": "d98a055a-5ec3-4efa-afde-498763beb6f3",
   "metadata": {
    "tags": []
   },
   "outputs": [],
   "source": [
    "# Variable choc : point de choc\n",
    "\n",
    "# Modalité : 0 à 9\n",
    "# Nb NaN : 118, on les place dans le mode\n",
    "\n",
    "df_merged['choc'] = df_merged['choc'].fillna(df_merged['choc'].mode()[0])\n",
    "df_merged['choc'] = df_merged['choc'].astype(int)\n",
    "\n",
    "# On regroupe en sous-catégorie\n",
    "df_merged['choc_avant'] = df_merged['choc'].apply(lambda x: 1 if x in [1,2,3] else 0)\n",
    "df_merged['choc_arriere'] = df_merged['choc'].apply(lambda x: 1 if x in [4,5,6] else 0)\n",
    "df_merged['choc_cote'] = df_merged['choc'].apply(lambda x: 1 if x in [7,8] else 0)\n",
    "df_merged['choc_tonneaux'] = df_merged['choc'].apply(lambda x: 1 if x in [9] else 0)\n",
    "df_merged['choc_aucun'] = df_merged['choc'].apply(lambda x: 1 if x in [0] else 0)\n",
    "\n",
    "df_merged = df_merged.drop(['choc'], axis=1)\n"
   ]
  },
  {
   "cell_type": "code",
   "execution_count": 64,
   "id": "5b5865cc-3d25-4170-b06c-4da7a7a07eff",
   "metadata": {
    "tags": []
   },
   "outputs": [],
   "source": [
    "# Variable manv : manoeuvre lors de l'accident\n",
    "\n",
    "# Modalité : nombreuse\n",
    "# Nb NaN : 79, on les place dans le mode\n",
    "\n",
    "df_merged['manv'] = df_merged['manv'].fillna(df_merged['manv'].mode()[0])\n",
    "df_merged['manv'] = df_merged['manv'].astype(int)\n",
    "\n",
    "# On regroupe en sous-catégorie\n",
    "df_merged['manv_diverse'] = df_merged['manv'].apply(lambda x: 1 if x in [3,4,5,6,7,8,9,10,19,20,21,22,23,24,25,26] else 0)\n",
    "df_merged['manv_droite'] = df_merged['manv'].apply(lambda x: 1 if x in [12,14,16,18] else 0)\n",
    "df_merged['manv_gauche'] = df_merged['manv'].apply(lambda x: 1 if x in [11,13,15,17] else 0)\n",
    "df_merged['manv_pas_chang_dir'] = df_merged['manv'].apply(lambda x: 1 if x in [1] else 0)\n",
    "df_merged['manv_meme_sens_file'] = df_merged['manv'].apply(lambda x: 1 if x in [2] else 0)\n",
    "df_merged['manv_inconnue'] = df_merged['manv'].apply(lambda x: 1 if x in [0] else 0)\n",
    "\n",
    "df_merged = df_merged.drop(['manv'], axis=1)\n"
   ]
  },
  {
   "cell_type": "code",
   "execution_count": 66,
   "id": "c600a071-c3e5-4c9c-806f-31ebd82b4917",
   "metadata": {
    "tags": []
   },
   "outputs": [],
   "source": [
    "# Variable motor : type de moteur\n",
    "\n",
    "# Modalité : 0 à 6\n",
    "# Nb NaN : 420\n",
    "\n",
    "df_merged['motor'] = df_merged['motor'].fillna(0)\n",
    "df_merged['motor'] = df_merged['motor'].astype(int)\n"
   ]
  },
  {
   "cell_type": "code",
   "execution_count": 68,
   "id": "891840d5-8f4a-481d-9037-0b16837bc811",
   "metadata": {
    "tags": []
   },
   "outputs": [],
   "source": [
    "# Variable catr : type de route\n",
    "\n",
    "# Modalité : 1 à 7, 9\n",
    "# Nb NaN : 0\n",
    "\n",
    "df_merged['catr'] = df_merged['catr'].astype(int)\n"
   ]
  },
  {
   "cell_type": "code",
   "execution_count": 70,
   "id": "6681b9b1-b0a6-4534-a374-7e83919d41dd",
   "metadata": {
    "tags": []
   },
   "outputs": [],
   "source": [
    "\n",
    "df_merged['circ'] = df_merged['circ'].fillna(0)\n",
    "df_merged['circ'] = df_merged['circ'].astype(int)"
   ]
  },
  {
   "cell_type": "code",
   "execution_count": 72,
   "id": "e632c62c-5d9b-4300-ade0-5fef575285e6",
   "metadata": {
    "tags": []
   },
   "outputs": [
    {
     "ename": "TypeError",
     "evalue": "'>=' not supported between instances of 'str' and 'int'",
     "output_type": "error",
     "traceback": [
      "\u001b[0;31m---------------------------------------------------------------------------\u001b[0m",
      "\u001b[0;31mTypeError\u001b[0m                                 Traceback (most recent call last)",
      "Cell \u001b[0;32mIn[72], line 10\u001b[0m\n\u001b[1;32m      7\u001b[0m df_merged[(df_merged[\u001b[38;5;124m'\u001b[39m\u001b[38;5;124mcirc\u001b[39m\u001b[38;5;124m'\u001b[39m]\u001b[38;5;241m.\u001b[39misna()) \u001b[38;5;241m&\u001b[39m (df_merged[\u001b[38;5;124m'\u001b[39m\u001b[38;5;124mcatr\u001b[39m\u001b[38;5;124m'\u001b[39m]\u001b[38;5;241m==\u001b[39m\u001b[38;5;241m1\u001b[39m)][\u001b[38;5;124m'\u001b[39m\u001b[38;5;124mcirc\u001b[39m\u001b[38;5;124m'\u001b[39m] \u001b[38;5;241m=\u001b[39m \u001b[38;5;241m3\u001b[39m\n\u001b[1;32m      9\u001b[0m \u001b[38;5;66;03m# Si nb voie >= 4 alors nous ne sommes pas en bidirectionnelle (2243 NaN en moins)\u001b[39;00m\n\u001b[0;32m---> 10\u001b[0m df_merged[(df_merged[\u001b[38;5;124m'\u001b[39m\u001b[38;5;124mcirc\u001b[39m\u001b[38;5;124m'\u001b[39m]\u001b[38;5;241m.\u001b[39misna()) \u001b[38;5;241m&\u001b[39m (df_merged[\u001b[38;5;124m'\u001b[39m\u001b[38;5;124mnbv\u001b[39m\u001b[38;5;124m'\u001b[39m]\u001b[38;5;241m>\u001b[39m\u001b[38;5;241m=\u001b[39m\u001b[38;5;241m4\u001b[39m)][\u001b[38;5;124m'\u001b[39m\u001b[38;5;124mcirc\u001b[39m\u001b[38;5;124m'\u001b[39m] \u001b[38;5;241m=\u001b[39m \u001b[38;5;241m3\u001b[39m\n\u001b[1;32m     12\u001b[0m \u001b[38;5;66;03m# Si nb voie = 1 alors nous ne sommes pas en bidirectionnelle (2272 NaN en moins)\u001b[39;00m\n\u001b[1;32m     13\u001b[0m df_merged[(df_merged[\u001b[38;5;124m'\u001b[39m\u001b[38;5;124mcirc\u001b[39m\u001b[38;5;124m'\u001b[39m]\u001b[38;5;241m.\u001b[39misna()) \u001b[38;5;241m&\u001b[39m (df_merged[\u001b[38;5;124m'\u001b[39m\u001b[38;5;124mnbv\u001b[39m\u001b[38;5;124m'\u001b[39m]\u001b[38;5;241m==\u001b[39m\u001b[38;5;241m1\u001b[39m)][\u001b[38;5;124m'\u001b[39m\u001b[38;5;124mcirc\u001b[39m\u001b[38;5;124m'\u001b[39m] \u001b[38;5;241m=\u001b[39m \u001b[38;5;241m1\u001b[39m\n",
      "File \u001b[0;32m/opt/anaconda3/lib/python3.11/site-packages/pandas/core/ops/common.py:76\u001b[0m, in \u001b[0;36m_unpack_zerodim_and_defer.<locals>.new_method\u001b[0;34m(self, other)\u001b[0m\n\u001b[1;32m     72\u001b[0m             \u001b[38;5;28;01mreturn\u001b[39;00m \u001b[38;5;28mNotImplemented\u001b[39m\n\u001b[1;32m     74\u001b[0m other \u001b[38;5;241m=\u001b[39m item_from_zerodim(other)\n\u001b[0;32m---> 76\u001b[0m \u001b[38;5;28;01mreturn\u001b[39;00m method(\u001b[38;5;28mself\u001b[39m, other)\n",
      "File \u001b[0;32m/opt/anaconda3/lib/python3.11/site-packages/pandas/core/arraylike.py:60\u001b[0m, in \u001b[0;36mOpsMixin.__ge__\u001b[0;34m(self, other)\u001b[0m\n\u001b[1;32m     58\u001b[0m \u001b[38;5;129m@unpack_zerodim_and_defer\u001b[39m(\u001b[38;5;124m\"\u001b[39m\u001b[38;5;124m__ge__\u001b[39m\u001b[38;5;124m\"\u001b[39m)\n\u001b[1;32m     59\u001b[0m \u001b[38;5;28;01mdef\u001b[39;00m \u001b[38;5;21m__ge__\u001b[39m(\u001b[38;5;28mself\u001b[39m, other):\n\u001b[0;32m---> 60\u001b[0m     \u001b[38;5;28;01mreturn\u001b[39;00m \u001b[38;5;28mself\u001b[39m\u001b[38;5;241m.\u001b[39m_cmp_method(other, operator\u001b[38;5;241m.\u001b[39mge)\n",
      "File \u001b[0;32m/opt/anaconda3/lib/python3.11/site-packages/pandas/core/series.py:5803\u001b[0m, in \u001b[0;36mSeries._cmp_method\u001b[0;34m(self, other, op)\u001b[0m\n\u001b[1;32m   5800\u001b[0m lvalues \u001b[38;5;241m=\u001b[39m \u001b[38;5;28mself\u001b[39m\u001b[38;5;241m.\u001b[39m_values\n\u001b[1;32m   5801\u001b[0m rvalues \u001b[38;5;241m=\u001b[39m extract_array(other, extract_numpy\u001b[38;5;241m=\u001b[39m\u001b[38;5;28;01mTrue\u001b[39;00m, extract_range\u001b[38;5;241m=\u001b[39m\u001b[38;5;28;01mTrue\u001b[39;00m)\n\u001b[0;32m-> 5803\u001b[0m res_values \u001b[38;5;241m=\u001b[39m ops\u001b[38;5;241m.\u001b[39mcomparison_op(lvalues, rvalues, op)\n\u001b[1;32m   5805\u001b[0m \u001b[38;5;28;01mreturn\u001b[39;00m \u001b[38;5;28mself\u001b[39m\u001b[38;5;241m.\u001b[39m_construct_result(res_values, name\u001b[38;5;241m=\u001b[39mres_name)\n",
      "File \u001b[0;32m/opt/anaconda3/lib/python3.11/site-packages/pandas/core/ops/array_ops.py:346\u001b[0m, in \u001b[0;36mcomparison_op\u001b[0;34m(left, right, op)\u001b[0m\n\u001b[1;32m    343\u001b[0m     \u001b[38;5;28;01mreturn\u001b[39;00m invalid_comparison(lvalues, rvalues, op)\n\u001b[1;32m    345\u001b[0m \u001b[38;5;28;01melif\u001b[39;00m lvalues\u001b[38;5;241m.\u001b[39mdtype \u001b[38;5;241m==\u001b[39m \u001b[38;5;28mobject\u001b[39m \u001b[38;5;129;01mor\u001b[39;00m \u001b[38;5;28misinstance\u001b[39m(rvalues, \u001b[38;5;28mstr\u001b[39m):\n\u001b[0;32m--> 346\u001b[0m     res_values \u001b[38;5;241m=\u001b[39m comp_method_OBJECT_ARRAY(op, lvalues, rvalues)\n\u001b[1;32m    348\u001b[0m \u001b[38;5;28;01melse\u001b[39;00m:\n\u001b[1;32m    349\u001b[0m     res_values \u001b[38;5;241m=\u001b[39m _na_arithmetic_op(lvalues, rvalues, op, is_cmp\u001b[38;5;241m=\u001b[39m\u001b[38;5;28;01mTrue\u001b[39;00m)\n",
      "File \u001b[0;32m/opt/anaconda3/lib/python3.11/site-packages/pandas/core/ops/array_ops.py:131\u001b[0m, in \u001b[0;36mcomp_method_OBJECT_ARRAY\u001b[0;34m(op, x, y)\u001b[0m\n\u001b[1;32m    129\u001b[0m     result \u001b[38;5;241m=\u001b[39m libops\u001b[38;5;241m.\u001b[39mvec_compare(x\u001b[38;5;241m.\u001b[39mravel(), y\u001b[38;5;241m.\u001b[39mravel(), op)\n\u001b[1;32m    130\u001b[0m \u001b[38;5;28;01melse\u001b[39;00m:\n\u001b[0;32m--> 131\u001b[0m     result \u001b[38;5;241m=\u001b[39m libops\u001b[38;5;241m.\u001b[39mscalar_compare(x\u001b[38;5;241m.\u001b[39mravel(), y, op)\n\u001b[1;32m    132\u001b[0m \u001b[38;5;28;01mreturn\u001b[39;00m result\u001b[38;5;241m.\u001b[39mreshape(x\u001b[38;5;241m.\u001b[39mshape)\n",
      "File \u001b[0;32mops.pyx:107\u001b[0m, in \u001b[0;36mpandas._libs.ops.scalar_compare\u001b[0;34m()\u001b[0m\n",
      "\u001b[0;31mTypeError\u001b[0m: '>=' not supported between instances of 'str' and 'int'"
     ]
    }
   ],
   "source": [
    "# Variable circ : régime de circulation\n",
    "\n",
    "# Modalité : 1 à 4\n",
    "# Nb NaN : 16866 (5% de NaN) -> on essaie de réduire le nb NaN via d'autre variables\n",
    "\n",
    "# Si voie = autoroute alors nous ne sommes pas en bidirectionnelle (2941 NaN en moins)\n",
    "df_merged[(df_merged['circ'].isna()) & (df_merged['catr']==1)]['circ'] = 3\n",
    "\n",
    "# Si nb voie >= 4 alors nous ne sommes pas en bidirectionnelle (2243 NaN en moins)\n",
    "df_merged[(df_merged['circ'].isna()) & (df_merged['nbv']>=4)]['circ'] = 3\n",
    "\n",
    "# Si nb voie = 1 alors nous ne sommes pas en bidirectionnelle (2272 NaN en moins)\n",
    "df_merged[(df_merged['circ'].isna()) & (df_merged['nbv']==1)]['circ'] = 1\n",
    "\n",
    "# On regroupe en une catégorie : bidirectionnelle ou non\n",
    "\n",
    "df_merged['circ'] = df_merged['circ'].fillna(df_merged['circ'].mode()[0])\n",
    "df_merged['chaussee_bidirectionnelle'] = df_merged['circ'].apply(lambda x: 1 if x == 2 else 0)\n",
    "\n",
    "df_merged['circ'] = df_merged['circ'].astype(int)\n",
    "df_merged = df_merged.drop(['circ'], axis=1)"
   ]
  },
  {
   "cell_type": "code",
   "execution_count": null,
   "id": "554064a8-aa3b-46cb-b4ff-e236444ee93e",
   "metadata": {
    "tags": []
   },
   "outputs": [],
   "source": [
    "# Variable nbv : nombre de voies\n",
    "\n",
    "# Modalité : 0 à 12\n",
    "# Nb NaN : 2624\n",
    "\n",
    "df_merged['nbv'] = df_merged['nbv'].replace('#ERREUR', np.nan)\n",
    "df_merged['nbv'] = df_merged['nbv'].fillna(df_merged['nbv'].mode()[0])\n",
    "df_merged['nbv'] = df_merged['nbv'].astype(int)\n"
   ]
  },
  {
   "cell_type": "code",
   "execution_count": 75,
   "id": "d0f292ea-9094-4429-8e6b-357865142b3c",
   "metadata": {
    "tags": []
   },
   "outputs": [],
   "source": [
    "# Variable vosp : présence d'une voie réservée\n",
    "\n",
    "# Modalité : 0 à 3\n",
    "# Nb NaN : 1232\n",
    "\n",
    "df_merged['vosp'] = df_merged['vosp'].fillna(df_merged['vosp'].mode()[0])\n",
    "df_merged['voie_reservee'] = df_merged['vosp'].apply(lambda x: 0 if x == 0 else 1)\n",
    "\n",
    "df_merged = df_merged.drop(['vosp'], axis=1)\n"
   ]
  },
  {
   "cell_type": "code",
   "execution_count": 77,
   "id": "14af2e14-9d24-4116-91a4-dad29612e018",
   "metadata": {
    "tags": []
   },
   "outputs": [],
   "source": [
    "# Variable prof : profil en long\n",
    "\n",
    "# Modalité : 1 à 4\n",
    "# Nb NaN : 44\n",
    "\n",
    "df_merged['prof'] = df_merged['prof'].fillna(df_merged['prof'].mode()[0])\n",
    "df_merged['prof'] = df_merged['prof'].astype(int)\n"
   ]
  },
  {
   "cell_type": "code",
   "execution_count": 79,
   "id": "eb4ea9a9-6be3-4b16-bd94-8d54fe0cda28",
   "metadata": {
    "tags": []
   },
   "outputs": [],
   "source": [
    "# Variable plan : tracé en plan\n",
    "\n",
    "# Modalité : 1 à 4\n",
    "# Nb NaN : 39\n",
    "\n",
    "df_merged['plan'] = df_merged['plan'].fillna(df_merged['plan'].mode()[0])\n",
    "df_merged['plan'] = df_merged['plan'].astype(int)\n"
   ]
  },
  {
   "cell_type": "code",
   "execution_count": 81,
   "id": "651a2297-b3a2-4c20-9294-d2db246fbd21",
   "metadata": {
    "tags": []
   },
   "outputs": [],
   "source": [
    "# Variable surf : état de la chaussée\n",
    "\n",
    "# Modalité : 1 à 9\n",
    "# Nb NaN : 58\n",
    "\n",
    "df_merged['surf'] = df_merged['surf'].fillna(df_merged['surf'].mode()[0])\n",
    "df_merged['surf'] = df_merged['surf'].astype(int)\n",
    "\n",
    "# On regroupe en une catégorie : chaussée sèche ou non\n",
    "df_merged['chaussee_seche'] = df_merged['surf'].apply(lambda x: 1 if x == 1 else 0)\n",
    "\n",
    "df_merged = df_merged.drop(['surf'], axis=1)\n"
   ]
  },
  {
   "cell_type": "code",
   "execution_count": 83,
   "id": "c67d4028-e91b-42cd-9f16-5f8192c62a7c",
   "metadata": {
    "tags": []
   },
   "outputs": [],
   "source": [
    "# Variable infra : présence d'un aménagement\n",
    "\n",
    "# Modalité : 0 à 9\n",
    "# Nb NaN : 3774\n",
    "\n",
    "df_merged['infra'] = df_merged['infra'].fillna(df_merged['infra'].mode()[0])\n",
    "df_merged['infra'] = df_merged['infra'].astype(int)\n"
   ]
  },
  {
   "cell_type": "code",
   "execution_count": 85,
   "id": "fd3fea10-642d-4c7b-aefb-71218754535c",
   "metadata": {},
   "outputs": [],
   "source": [
    "# Variable situ : situation de l'accident\n",
    "\n",
    "# Modalité : 1 à 8\n",
    "# Nb NaN : 42\n",
    "\n",
    "df_merged['situ'] = df_merged['situ'].fillna(df_merged['situ'].mode()[0])\n",
    "df_merged['situ'] = df_merged['situ'].astype(int)\n"
   ]
  },
  {
   "cell_type": "code",
   "execution_count": 87,
   "id": "08a991c8-cfe9-452d-9aa2-ccb95ae69f93",
   "metadata": {
    "tags": []
   },
   "outputs": [],
   "source": [
    "# Variable vma : vitesse maximale autorisée\n",
    "\n",
    "# Modalité : nombreuses\n",
    "# Nb NaN : 4907\n",
    "\n",
    "df_merged['vma'] = df_merged['vma'].fillna(df_merged['vma'].mode()[0])\n",
    "df_merged['vma'] = df_merged['vma'].astype(int)\n",
    "\n",
    "# On regroupe en sous catégorie\n",
    "df_merged['vma'] = df_merged['vma'].apply(lambda x: 30 if x<=30. else x)\n"
   ]
  },
  {
   "cell_type": "code",
   "execution_count": 89,
   "id": "75655d9c-44e0-40eb-a58c-c6a2d3560e2a",
   "metadata": {
    "tags": []
   },
   "outputs": [],
   "source": [
    "# Variable lum : luminosité\n",
    "\n",
    "# Modalité : 1 à 5\n",
    "# Nb NaN : 7\n",
    "\n",
    "df_merged['lum'] = df_merged['lum'].fillna(df_merged['lum'].mode()[0])\n",
    "df_merged['lum'] = df_merged['lum'].astype(int)\n"
   ]
  },
  {
   "cell_type": "code",
   "execution_count": 91,
   "id": "79bccea0-2c99-457f-abba-68157209094c",
   "metadata": {
    "tags": []
   },
   "outputs": [],
   "source": [
    "# Variable agg : si en agglomération\n",
    "\n",
    "# Modalité : 1, 2\n",
    "# Nb NaN : 0\n",
    "\n",
    "df_merged['agg'] = df_merged['agg'].astype(int)\n"
   ]
  },
  {
   "cell_type": "code",
   "execution_count": 93,
   "id": "c1044f91-75ef-4df1-a512-55cb3a1f98de",
   "metadata": {
    "tags": []
   },
   "outputs": [],
   "source": [
    "# Variable int : si intersection\n",
    "\n",
    "# Modalité : 1 à 9\n",
    "# Nb NaN : 19\n",
    "\n",
    "df_merged['int'] = df_merged['int'].fillna(df_merged['int'].mode()[0])\n",
    "df_merged['int'] = df_merged['int'].astype(int)\n",
    "\n",
    "# On regroupe en sous-catégorie\n",
    "df_merged['int_aucune'] = df_merged['int'].apply(lambda x: 1 if x in [1] else 0)\n",
    "df_merged['int_branches'] = df_merged['int'].apply(lambda x: 1 if x in [2,3,4,5] else 0)\n",
    "df_merged['int_autre'] = df_merged['int'].apply(lambda x: 1 if x in [6,7,8,9] else 0)\n",
    "\n",
    "df_merged = df_merged.drop(['int'], axis=1)\n"
   ]
  },
  {
   "cell_type": "code",
   "execution_count": 95,
   "id": "e9c2691b-619d-4094-8449-474f7b5c5c26",
   "metadata": {
    "tags": []
   },
   "outputs": [],
   "source": [
    "# Variable atm : condition atmo\n",
    "\n",
    "# Modalité : 1 à 9\n",
    "# Nb NaN : 19\n",
    "\n",
    "df_merged['atm'] = df_merged['atm'].fillna(df_merged['atm'].mode()[0])\n",
    "df_merged['atm'] = df_merged['atm'].astype(int)\n",
    "\n",
    "# On regroupe en une catégorie : cbeau temps ou non\n",
    "df_merged['atm_normal'] = df_merged['atm'].apply(lambda x: 1 if x == 1 else 0)\n",
    "\n",
    "df_merged = df_merged.drop(['atm'], axis=1)\n"
   ]
  },
  {
   "cell_type": "code",
   "execution_count": 97,
   "id": "b2f8b0ba-c570-4b17-a974-dbf04003959b",
   "metadata": {
    "tags": []
   },
   "outputs": [],
   "source": [
    "# Variable col : type de collision\n",
    "\n",
    "# Modalité : 1 à 7\n",
    "# Nb NaN : 3646\n",
    "\n",
    "df_merged['col'] = df_merged['col'].fillna(df_merged['col'].mode()[0])\n",
    "df_merged['col'] = df_merged['col'].astype(int)\n"
   ]
  },
  {
   "cell_type": "code",
   "execution_count": 99,
   "id": "bdcd0231-b928-4f86-834e-83cf656ff866",
   "metadata": {},
   "outputs": [],
   "source": [
    "# Variables équipement\n",
    "\n",
    "for item in ['Ceinture', 'Casque', 'Dispositif enfants', 'Gilet réfléchissant', 'Airbag', 'Gants', 'Autre equipement']:\n",
    "    df_merged[item] = df_merged[item].apply(lambda x: 1 if x else 0)\n"
   ]
  },
  {
   "cell_type": "code",
   "execution_count": 100,
   "id": "0ef1397f-27ed-4562-a8a5-80c4cdb2a8dd",
   "metadata": {
    "tags": []
   },
   "outputs": [
    {
     "name": "stdout",
     "output_type": "stream",
     "text": [
      "<class 'pandas.core.frame.DataFrame'>\n",
      "Index: 327872 entries, 0 to 327872\n",
      "Data columns (total 78 columns):\n",
      " #   Column               Non-Null Count   Dtype         \n",
      "---  ------               --------------   -----         \n",
      " 0   Num_Acc              327872 non-null  int64         \n",
      " 1   grav                 327872 non-null  int64         \n",
      " 2   sexe                 327872 non-null  int64         \n",
      " 3   secu                 0 non-null       float64       \n",
      " 4   an_nais              327872 non-null  int64         \n",
      " 5   num_veh              327872 non-null  object        \n",
      " 6   id_vehicule          327872 non-null  object        \n",
      " 7   senc                 327872 non-null  int64         \n",
      " 8   obs                  327872 non-null  int64         \n",
      " 9   obsm                 327872 non-null  int64         \n",
      " 10  motor                327872 non-null  int64         \n",
      " 11  catr                 327872 non-null  int64         \n",
      " 12  circ                 327872 non-null  int64         \n",
      " 13  nbv                  325248 non-null  object        \n",
      " 14  prof                 327872 non-null  int64         \n",
      " 15  plan                 327872 non-null  int64         \n",
      " 16  infra                327872 non-null  int64         \n",
      " 17  situ                 327872 non-null  int64         \n",
      " 18  env1                 0 non-null       float64       \n",
      " 19  vma                  327872 non-null  int64         \n",
      " 20  an                   327872 non-null  int64         \n",
      " 21  mois                 327872 non-null  int64         \n",
      " 22  jour                 327872 non-null  int64         \n",
      " 23  lum                  327872 non-null  int64         \n",
      " 24  agg                  327872 non-null  int64         \n",
      " 25  col                  327872 non-null  int64         \n",
      " 26  com                  327872 non-null  object        \n",
      " 27  gps                  0 non-null       float64       \n",
      " 28  lat                  327872 non-null  float64       \n",
      " 29  long                 327872 non-null  float64       \n",
      " 30  dep                  327872 non-null  object        \n",
      " 31  Ceinture             327872 non-null  int64         \n",
      " 32  Casque               327872 non-null  int64         \n",
      " 33  Dispositif enfants   327872 non-null  int64         \n",
      " 34  Gilet réfléchissant  327872 non-null  int64         \n",
      " 35  Airbag               327872 non-null  int64         \n",
      " 36  Gants                327872 non-null  int64         \n",
      " 37  Autre equipement     327872 non-null  int64         \n",
      " 38  date                 327872 non-null  datetime64[ns]\n",
      " 39  dep_name             324465 non-null  object        \n",
      " 40  region_name          324465 non-null  object        \n",
      " 41  heure                327872 non-null  int64         \n",
      " 42  conducteur           327872 non-null  int64         \n",
      " 43  passager_avant       327872 non-null  int64         \n",
      " 44  passager_arrière     327872 non-null  int64         \n",
      " 45  age                  327872 non-null  int64         \n",
      " 46  trajet_pro           327872 non-null  int64         \n",
      " 47  trajet_perso         327872 non-null  int64         \n",
      " 48  trajet_autre         327872 non-null  int64         \n",
      " 49  catv_velo            327872 non-null  int64         \n",
      " 50  catv_moto            327872 non-null  int64         \n",
      " 51  catv_voiture         327872 non-null  int64         \n",
      " 52  catv_utilitaire      327872 non-null  int64         \n",
      " 53  catv_veh_remorque    327872 non-null  int64         \n",
      " 54  catv_PL              327872 non-null  int64         \n",
      " 55  catv_tracteur        327872 non-null  int64         \n",
      " 56  catv_tram_train      327872 non-null  int64         \n",
      " 57  catv_quad_3roues     327872 non-null  int64         \n",
      " 58  catv_autre_inconnu   327872 non-null  int64         \n",
      " 59  catv_bus_car         327872 non-null  int64         \n",
      " 60  catv_EDP             327872 non-null  int64         \n",
      " 61  choc_avant           327872 non-null  int64         \n",
      " 62  choc_arriere         327872 non-null  int64         \n",
      " 63  choc_cote            327872 non-null  int64         \n",
      " 64  choc_tonneaux        327872 non-null  int64         \n",
      " 65  choc_aucun           327872 non-null  int64         \n",
      " 66  manv_diverse         327872 non-null  int64         \n",
      " 67  manv_droite          327872 non-null  int64         \n",
      " 68  manv_gauche          327872 non-null  int64         \n",
      " 69  manv_pas_chang_dir   327872 non-null  int64         \n",
      " 70  manv_meme_sens_file  327872 non-null  int64         \n",
      " 71  manv_inconnue        327872 non-null  int64         \n",
      " 72  voie_reservee        327872 non-null  int64         \n",
      " 73  chaussee_seche       327872 non-null  int64         \n",
      " 74  int_aucune           327872 non-null  int64         \n",
      " 75  int_branches         327872 non-null  int64         \n",
      " 76  int_autre            327872 non-null  int64         \n",
      " 77  atm_normal           327872 non-null  int64         \n",
      "dtypes: datetime64[ns](1), float64(5), int64(65), object(7)\n",
      "memory usage: 197.6+ MB\n"
     ]
    }
   ],
   "source": [
    "df_merged.info()"
   ]
  },
  {
   "cell_type": "code",
   "execution_count": 103,
   "id": "a5b3b4f7-0bd3-41ba-828e-1b0fbd01a531",
   "metadata": {
    "tags": []
   },
   "outputs": [
    {
     "data": {
      "text/html": [
       "<div>\n",
       "<style scoped>\n",
       "    .dataframe tbody tr th:only-of-type {\n",
       "        vertical-align: middle;\n",
       "    }\n",
       "\n",
       "    .dataframe tbody tr th {\n",
       "        vertical-align: top;\n",
       "    }\n",
       "\n",
       "    .dataframe thead th {\n",
       "        text-align: right;\n",
       "    }\n",
       "</style>\n",
       "<table border=\"1\" class=\"dataframe\">\n",
       "  <thead>\n",
       "    <tr style=\"text-align: right;\">\n",
       "      <th></th>\n",
       "      <th>Num_Acc</th>\n",
       "      <th>grav</th>\n",
       "      <th>sexe</th>\n",
       "      <th>secu</th>\n",
       "      <th>an_nais</th>\n",
       "      <th>num_veh</th>\n",
       "      <th>id_vehicule</th>\n",
       "      <th>senc</th>\n",
       "      <th>obs</th>\n",
       "      <th>obsm</th>\n",
       "      <th>...</th>\n",
       "      <th>manv_gauche</th>\n",
       "      <th>manv_pas_chang_dir</th>\n",
       "      <th>manv_meme_sens_file</th>\n",
       "      <th>manv_inconnue</th>\n",
       "      <th>voie_reservee</th>\n",
       "      <th>chaussee_seche</th>\n",
       "      <th>int_aucune</th>\n",
       "      <th>int_branches</th>\n",
       "      <th>int_autre</th>\n",
       "      <th>atm_normal</th>\n",
       "    </tr>\n",
       "  </thead>\n",
       "  <tbody>\n",
       "    <tr>\n",
       "      <th>0</th>\n",
       "      <td>202000000001</td>\n",
       "      <td>1</td>\n",
       "      <td>1</td>\n",
       "      <td>NaN</td>\n",
       "      <td>1983</td>\n",
       "      <td>B01</td>\n",
       "      <td>154Â 742Â 274</td>\n",
       "      <td>1</td>\n",
       "      <td>0</td>\n",
       "      <td>2</td>\n",
       "      <td>...</td>\n",
       "      <td>1</td>\n",
       "      <td>0</td>\n",
       "      <td>0</td>\n",
       "      <td>0</td>\n",
       "      <td>0</td>\n",
       "      <td>1</td>\n",
       "      <td>0</td>\n",
       "      <td>1</td>\n",
       "      <td>0</td>\n",
       "      <td>1</td>\n",
       "    </tr>\n",
       "    <tr>\n",
       "      <th>1</th>\n",
       "      <td>202000000001</td>\n",
       "      <td>3</td>\n",
       "      <td>1</td>\n",
       "      <td>NaN</td>\n",
       "      <td>1982</td>\n",
       "      <td>A01</td>\n",
       "      <td>154Â 742Â 275</td>\n",
       "      <td>1</td>\n",
       "      <td>0</td>\n",
       "      <td>2</td>\n",
       "      <td>...</td>\n",
       "      <td>0</td>\n",
       "      <td>0</td>\n",
       "      <td>1</td>\n",
       "      <td>0</td>\n",
       "      <td>0</td>\n",
       "      <td>1</td>\n",
       "      <td>0</td>\n",
       "      <td>1</td>\n",
       "      <td>0</td>\n",
       "      <td>1</td>\n",
       "    </tr>\n",
       "    <tr>\n",
       "      <th>2</th>\n",
       "      <td>202000000002</td>\n",
       "      <td>1</td>\n",
       "      <td>1</td>\n",
       "      <td>NaN</td>\n",
       "      <td>1997</td>\n",
       "      <td>A01</td>\n",
       "      <td>154Â 742Â 273</td>\n",
       "      <td>3</td>\n",
       "      <td>0</td>\n",
       "      <td>1</td>\n",
       "      <td>...</td>\n",
       "      <td>0</td>\n",
       "      <td>0</td>\n",
       "      <td>0</td>\n",
       "      <td>0</td>\n",
       "      <td>0</td>\n",
       "      <td>1</td>\n",
       "      <td>0</td>\n",
       "      <td>0</td>\n",
       "      <td>1</td>\n",
       "      <td>0</td>\n",
       "    </tr>\n",
       "    <tr>\n",
       "      <th>3</th>\n",
       "      <td>202000000003</td>\n",
       "      <td>1</td>\n",
       "      <td>1</td>\n",
       "      <td>NaN</td>\n",
       "      <td>1985</td>\n",
       "      <td>B01</td>\n",
       "      <td>154Â 742Â 271</td>\n",
       "      <td>1</td>\n",
       "      <td>0</td>\n",
       "      <td>2</td>\n",
       "      <td>...</td>\n",
       "      <td>0</td>\n",
       "      <td>1</td>\n",
       "      <td>0</td>\n",
       "      <td>0</td>\n",
       "      <td>0</td>\n",
       "      <td>1</td>\n",
       "      <td>0</td>\n",
       "      <td>1</td>\n",
       "      <td>0</td>\n",
       "      <td>1</td>\n",
       "    </tr>\n",
       "    <tr>\n",
       "      <th>4</th>\n",
       "      <td>202000000003</td>\n",
       "      <td>3</td>\n",
       "      <td>1</td>\n",
       "      <td>NaN</td>\n",
       "      <td>2014</td>\n",
       "      <td>B01</td>\n",
       "      <td>154Â 742Â 271</td>\n",
       "      <td>1</td>\n",
       "      <td>0</td>\n",
       "      <td>2</td>\n",
       "      <td>...</td>\n",
       "      <td>0</td>\n",
       "      <td>1</td>\n",
       "      <td>0</td>\n",
       "      <td>0</td>\n",
       "      <td>0</td>\n",
       "      <td>1</td>\n",
       "      <td>0</td>\n",
       "      <td>1</td>\n",
       "      <td>0</td>\n",
       "      <td>1</td>\n",
       "    </tr>\n",
       "  </tbody>\n",
       "</table>\n",
       "<p>5 rows × 78 columns</p>\n",
       "</div>"
      ],
      "text/plain": [
       "        Num_Acc  grav  sexe  secu  an_nais num_veh    id_vehicule  senc  obs  \\\n",
       "0  202000000001     1     1   NaN     1983     B01  154Â 742Â 274     1    0   \n",
       "1  202000000001     3     1   NaN     1982     A01  154Â 742Â 275     1    0   \n",
       "2  202000000002     1     1   NaN     1997     A01  154Â 742Â 273     3    0   \n",
       "3  202000000003     1     1   NaN     1985     B01  154Â 742Â 271     1    0   \n",
       "4  202000000003     3     1   NaN     2014     B01  154Â 742Â 271     1    0   \n",
       "\n",
       "   obsm  ...  manv_gauche  manv_pas_chang_dir  manv_meme_sens_file  \\\n",
       "0     2  ...            1                   0                    0   \n",
       "1     2  ...            0                   0                    1   \n",
       "2     1  ...            0                   0                    0   \n",
       "3     2  ...            0                   1                    0   \n",
       "4     2  ...            0                   1                    0   \n",
       "\n",
       "  manv_inconnue  voie_reservee  chaussee_seche  int_aucune  int_branches  \\\n",
       "0             0              0               1           0             1   \n",
       "1             0              0               1           0             1   \n",
       "2             0              0               1           0             0   \n",
       "3             0              0               1           0             1   \n",
       "4             0              0               1           0             1   \n",
       "\n",
       "   int_autre  atm_normal  \n",
       "0          0           1  \n",
       "1          0           1  \n",
       "2          1           0  \n",
       "3          0           1  \n",
       "4          0           1  \n",
       "\n",
       "[5 rows x 78 columns]"
      ]
     },
     "execution_count": 103,
     "metadata": {},
     "output_type": "execute_result"
    }
   ],
   "source": [
    "df_merged.head()\n"
   ]
  },
  {
   "cell_type": "code",
   "execution_count": 105,
   "id": "095b699d-fa61-4adf-b82d-ec1afaab8fab",
   "metadata": {
    "tags": []
   },
   "outputs": [
    {
     "data": {
      "text/plain": [
       "Num_Acc           157259\n",
       "grav                   4\n",
       "sexe                   2\n",
       "secu                   0\n",
       "an_nais              103\n",
       "                   ...  \n",
       "chaussee_seche         2\n",
       "int_aucune             2\n",
       "int_branches           2\n",
       "int_autre              2\n",
       "atm_normal             2\n",
       "Length: 78, dtype: int64"
      ]
     },
     "execution_count": 105,
     "metadata": {},
     "output_type": "execute_result"
    }
   ],
   "source": [
    "df_merged.nunique()"
   ]
  },
  {
   "cell_type": "code",
   "execution_count": 107,
   "id": "c5728ded-164c-40cb-a1eb-b6eacea66e3c",
   "metadata": {
    "tags": []
   },
   "outputs": [],
   "source": [
    "\n",
    "df_filtre = df_merged.select_dtypes(include=['int', 'float'])\n",
    "\n"
   ]
  },
  {
   "cell_type": "code",
   "execution_count": 109,
   "id": "839e62dd-a8c6-4056-b628-d292d8d584c0",
   "metadata": {
    "tags": []
   },
   "outputs": [],
   "source": [
    "df_filtre = df_filtre.dropna(axis=1, how='all')"
   ]
  },
  {
   "cell_type": "code",
   "execution_count": 111,
   "id": "1df2f68f-717e-4c6e-9ee0-d5ee5d04f7ae",
   "metadata": {
    "tags": []
   },
   "outputs": [
    {
     "name": "stdout",
     "output_type": "stream",
     "text": [
      "<class 'pandas.core.frame.DataFrame'>\n",
      "Index: 327872 entries, 0 to 327872\n",
      "Data columns (total 67 columns):\n",
      " #   Column               Non-Null Count   Dtype  \n",
      "---  ------               --------------   -----  \n",
      " 0   Num_Acc              327872 non-null  int64  \n",
      " 1   grav                 327872 non-null  int64  \n",
      " 2   sexe                 327872 non-null  int64  \n",
      " 3   an_nais              327872 non-null  int64  \n",
      " 4   senc                 327872 non-null  int64  \n",
      " 5   obs                  327872 non-null  int64  \n",
      " 6   obsm                 327872 non-null  int64  \n",
      " 7   motor                327872 non-null  int64  \n",
      " 8   catr                 327872 non-null  int64  \n",
      " 9   circ                 327872 non-null  int64  \n",
      " 10  prof                 327872 non-null  int64  \n",
      " 11  plan                 327872 non-null  int64  \n",
      " 12  infra                327872 non-null  int64  \n",
      " 13  situ                 327872 non-null  int64  \n",
      " 14  vma                  327872 non-null  int64  \n",
      " 15  an                   327872 non-null  int64  \n",
      " 16  mois                 327872 non-null  int64  \n",
      " 17  jour                 327872 non-null  int64  \n",
      " 18  lum                  327872 non-null  int64  \n",
      " 19  agg                  327872 non-null  int64  \n",
      " 20  col                  327872 non-null  int64  \n",
      " 21  lat                  327872 non-null  float64\n",
      " 22  long                 327872 non-null  float64\n",
      " 23  Ceinture             327872 non-null  int64  \n",
      " 24  Casque               327872 non-null  int64  \n",
      " 25  Dispositif enfants   327872 non-null  int64  \n",
      " 26  Gilet réfléchissant  327872 non-null  int64  \n",
      " 27  Airbag               327872 non-null  int64  \n",
      " 28  Gants                327872 non-null  int64  \n",
      " 29  Autre equipement     327872 non-null  int64  \n",
      " 30  heure                327872 non-null  int64  \n",
      " 31  conducteur           327872 non-null  int64  \n",
      " 32  passager_avant       327872 non-null  int64  \n",
      " 33  passager_arrière     327872 non-null  int64  \n",
      " 34  age                  327872 non-null  int64  \n",
      " 35  trajet_pro           327872 non-null  int64  \n",
      " 36  trajet_perso         327872 non-null  int64  \n",
      " 37  trajet_autre         327872 non-null  int64  \n",
      " 38  catv_velo            327872 non-null  int64  \n",
      " 39  catv_moto            327872 non-null  int64  \n",
      " 40  catv_voiture         327872 non-null  int64  \n",
      " 41  catv_utilitaire      327872 non-null  int64  \n",
      " 42  catv_veh_remorque    327872 non-null  int64  \n",
      " 43  catv_PL              327872 non-null  int64  \n",
      " 44  catv_tracteur        327872 non-null  int64  \n",
      " 45  catv_tram_train      327872 non-null  int64  \n",
      " 46  catv_quad_3roues     327872 non-null  int64  \n",
      " 47  catv_autre_inconnu   327872 non-null  int64  \n",
      " 48  catv_bus_car         327872 non-null  int64  \n",
      " 49  catv_EDP             327872 non-null  int64  \n",
      " 50  choc_avant           327872 non-null  int64  \n",
      " 51  choc_arriere         327872 non-null  int64  \n",
      " 52  choc_cote            327872 non-null  int64  \n",
      " 53  choc_tonneaux        327872 non-null  int64  \n",
      " 54  choc_aucun           327872 non-null  int64  \n",
      " 55  manv_diverse         327872 non-null  int64  \n",
      " 56  manv_droite          327872 non-null  int64  \n",
      " 57  manv_gauche          327872 non-null  int64  \n",
      " 58  manv_pas_chang_dir   327872 non-null  int64  \n",
      " 59  manv_meme_sens_file  327872 non-null  int64  \n",
      " 60  manv_inconnue        327872 non-null  int64  \n",
      " 61  voie_reservee        327872 non-null  int64  \n",
      " 62  chaussee_seche       327872 non-null  int64  \n",
      " 63  int_aucune           327872 non-null  int64  \n",
      " 64  int_branches         327872 non-null  int64  \n",
      " 65  int_autre            327872 non-null  int64  \n",
      " 66  atm_normal           327872 non-null  int64  \n",
      "dtypes: float64(2), int64(65)\n",
      "memory usage: 170.1 MB\n"
     ]
    }
   ],
   "source": [
    "df_filtre.info()"
   ]
  },
  {
   "cell_type": "code",
   "execution_count": 113,
   "id": "39d3e864-6d7c-4698-a99e-7d393bf2c683",
   "metadata": {
    "tags": []
   },
   "outputs": [
    {
     "name": "stdout",
     "output_type": "stream",
     "text": [
      "Num_Acc : [202000000001 202000000002 202000000003 ... 202200055300 202200055301\n",
      " 202200055302]\n",
      "grav : [1 3 4 2]\n",
      "sexe : [1 2]\n",
      "an_nais : [1983 1982 1997 1985 2014 1963 1991 1987 2001 1972 1989 1966 1962 1980\n",
      " 1951 1965 1977 1934 2005 1999 1936 1928 1975 1990 1974 1981 1996 1949\n",
      " 1968 1995 2004 2000 1986 1998 1988 1976 1959 1994 1993 2008 1960 1979\n",
      " 1971 2010 1992 1953 1947 1942 2002 1973 1961 2018 1978 2016 1950 1940\n",
      " 1939 1952 1948 1969 1970 1957 1954 2011 2019 1967 1984 1964 2003 1956\n",
      " 1944 1946 1955 1933 2015 2012 1943 2006 1937 1932 1927 1945 1958 1931\n",
      " 2020 1941 1926 2009 1938 2017 2013 2007 1935 1929 1930 1925 1921 1923\n",
      " 1924 1920 2021 1922 2022]\n",
      "senc : [1 3 2 0]\n",
      "obs : [ 0 13  9  8  1 17  6 15 12  7  3  2 11 14 16  4 10  5]\n",
      "obsm : [2 1 0 9 6 4 5]\n",
      "motor : [1 0 5 3 2 6 4]\n",
      "catr : [4 3 7 9 1 2 6 5]\n",
      "circ : [2 0 1 3 4]\n",
      "prof : [1 2 4 3]\n",
      "plan : [1 3 2 4]\n",
      "infra : [0 3 5 2 9 1 6 8 4 7]\n",
      "situ : [1 8 4 5 3 6 2]\n",
      "vma : [ 50  30  80 110  70 130  90  40  60  35  55  45 100  65  75]\n",
      "an : [2020 2021 2022]\n",
      "mois : [ 3  2  1  9  8  6  5 10  7 12 11  4]\n",
      "jour : [ 7  5  6  4  3 26  2  8 25  1 12 23 22 21 13 20 19 17 18 28 16 11 29 24\n",
      " 15 14 10 30  9 27 31]\n",
      "lum : [1 2 5 3 4]\n",
      "agg : [2 1]\n",
      "col : [3 6 2 1 4 7 5]\n",
      "lat : [48.70535  48.69     48.61067  ... 46.282532 43.927265 47.594404]\n",
      "long : [2.43841  2.41     2.47582  ... 6.732806 1.915637 1.353329]\n",
      "Ceinture : [1 0]\n",
      "Casque : [0 1]\n",
      "Dispositif enfants : [0 1]\n",
      "Gilet réfléchissant : [0 1]\n",
      "Airbag : [0 1]\n",
      "Gants : [0 1]\n",
      "Autre equipement : [0 1]\n",
      "heure : [16  8 13 18 11  7 20 10  4  5  6 17  1 14 21  3 19 15 23 12  2  9 22  0]\n",
      "conducteur : [1 0]\n",
      "passager_avant : [0 1]\n",
      "passager_arrière : [0 1]\n",
      "age : [ 37  38  23  35   6  57  29  33  19  48  31  54  58  40  69  55  43  86\n",
      "  15  21  84  92  45  30  46  39  24  71  52  25  16  20  34  22  32  44\n",
      "  61  26  27  12  60  41  49  10  28  67  73  78  18  47  59   2  42   4\n",
      "  70  80  81  68  72  51  50  63  66   9   1  53  36  56  17  64  76  74\n",
      "  65  87   5   8  77  14  83  88  93  75  62  89   0  79  94  11  82   3\n",
      "   7  13  85  91  90  95  99  97  96 100  98 101]\n",
      "trajet_pro : [0 1]\n",
      "trajet_perso : [1 0]\n",
      "trajet_autre : [0 1]\n",
      "catv_velo : [0 1]\n",
      "catv_moto : [0 1]\n",
      "catv_voiture : [1 0]\n",
      "catv_utilitaire : [0 1]\n",
      "catv_veh_remorque : [0]\n",
      "catv_PL : [0 1]\n",
      "catv_tracteur : [0 1]\n",
      "catv_tram_train : [0 1]\n",
      "catv_quad_3roues : [0 1]\n",
      "catv_autre_inconnu : [0 1]\n",
      "catv_bus_car : [0 1]\n",
      "catv_EDP : [0 1]\n",
      "choc_avant : [1 0]\n",
      "choc_arriere : [0 1]\n",
      "choc_cote : [0 1]\n",
      "choc_tonneaux : [0 1]\n",
      "choc_aucun : [0 1]\n",
      "manv_diverse : [0 1]\n",
      "manv_droite : [0 1]\n",
      "manv_gauche : [1 0]\n",
      "manv_pas_chang_dir : [0 1]\n",
      "manv_meme_sens_file : [0 1]\n",
      "manv_inconnue : [0 1]\n",
      "voie_reservee : [0 1]\n",
      "chaussee_seche : [1 0]\n",
      "int_aucune : [0 1]\n",
      "int_branches : [1 0]\n",
      "int_autre : [0 1]\n",
      "atm_normal : [1 0]\n"
     ]
    }
   ],
   "source": [
    "for i in df_filtre:\n",
    "    print(str(i),':',df_filtre[str(i)].unique())"
   ]
  },
  {
   "cell_type": "code",
   "execution_count": 115,
   "id": "38d18617-a779-4178-8553-ee3d12938bb2",
   "metadata": {
    "tags": []
   },
   "outputs": [],
   "source": [
    "from sklearn.tree import DecisionTreeClassifier"
   ]
  },
  {
   "cell_type": "code",
   "execution_count": 116,
   "id": "04e72a84-0c93-4c7a-9094-2c8a1c3b5424",
   "metadata": {
    "tags": []
   },
   "outputs": [],
   "source": [
    "feats = df_filtre.drop('grav', axis=1)\n",
    "\n",
    "target = df_filtre['grav']"
   ]
  },
  {
   "cell_type": "code",
   "execution_count": 119,
   "id": "c8beab89-942a-489d-a0ee-7f973975041b",
   "metadata": {
    "tags": []
   },
   "outputs": [],
   "source": [
    "from sklearn.model_selection import train_test_split"
   ]
  },
  {
   "cell_type": "code",
   "execution_count": 121,
   "id": "e6e64cf2-c8ac-4af8-97ee-a5a2087e9efb",
   "metadata": {
    "tags": []
   },
   "outputs": [],
   "source": [
    "\n",
    "X_train, X_test, y_train, y_test = train_test_split(feats, target, test_size=0.2, random_state=42)\n"
   ]
  },
  {
   "cell_type": "code",
   "execution_count": 123,
   "id": "df5c4981-5739-46e8-9877-9b58f9da92a9",
   "metadata": {
    "tags": []
   },
   "outputs": [],
   "source": [
    "from sklearn.tree import DecisionTreeClassifier\n",
    "model = DecisionTreeClassifier()"
   ]
  },
  {
   "cell_type": "code",
   "execution_count": 141,
   "id": "3048e1b5-2285-43e5-b648-0c45afc25022",
   "metadata": {
    "tags": []
   },
   "outputs": [],
   "source": [
    "from sklearn.tree import DecisionTreeClassifier\n",
    "model = DecisionTreeClassifier(max_depth=10, min_samples_split=5)\n"
   ]
  },
  {
   "cell_type": "code",
   "execution_count": 143,
   "id": "dc3adac0-3472-479b-b381-651c369667c0",
   "metadata": {
    "tags": []
   },
   "outputs": [
    {
     "data": {
      "text/html": [
       "<style>#sk-container-id-3 {color: black;background-color: white;}#sk-container-id-3 pre{padding: 0;}#sk-container-id-3 div.sk-toggleable {background-color: white;}#sk-container-id-3 label.sk-toggleable__label {cursor: pointer;display: block;width: 100%;margin-bottom: 0;padding: 0.3em;box-sizing: border-box;text-align: center;}#sk-container-id-3 label.sk-toggleable__label-arrow:before {content: \"▸\";float: left;margin-right: 0.25em;color: #696969;}#sk-container-id-3 label.sk-toggleable__label-arrow:hover:before {color: black;}#sk-container-id-3 div.sk-estimator:hover label.sk-toggleable__label-arrow:before {color: black;}#sk-container-id-3 div.sk-toggleable__content {max-height: 0;max-width: 0;overflow: hidden;text-align: left;background-color: #f0f8ff;}#sk-container-id-3 div.sk-toggleable__content pre {margin: 0.2em;color: black;border-radius: 0.25em;background-color: #f0f8ff;}#sk-container-id-3 input.sk-toggleable__control:checked~div.sk-toggleable__content {max-height: 200px;max-width: 100%;overflow: auto;}#sk-container-id-3 input.sk-toggleable__control:checked~label.sk-toggleable__label-arrow:before {content: \"▾\";}#sk-container-id-3 div.sk-estimator input.sk-toggleable__control:checked~label.sk-toggleable__label {background-color: #d4ebff;}#sk-container-id-3 div.sk-label input.sk-toggleable__control:checked~label.sk-toggleable__label {background-color: #d4ebff;}#sk-container-id-3 input.sk-hidden--visually {border: 0;clip: rect(1px 1px 1px 1px);clip: rect(1px, 1px, 1px, 1px);height: 1px;margin: -1px;overflow: hidden;padding: 0;position: absolute;width: 1px;}#sk-container-id-3 div.sk-estimator {font-family: monospace;background-color: #f0f8ff;border: 1px dotted black;border-radius: 0.25em;box-sizing: border-box;margin-bottom: 0.5em;}#sk-container-id-3 div.sk-estimator:hover {background-color: #d4ebff;}#sk-container-id-3 div.sk-parallel-item::after {content: \"\";width: 100%;border-bottom: 1px solid gray;flex-grow: 1;}#sk-container-id-3 div.sk-label:hover label.sk-toggleable__label {background-color: #d4ebff;}#sk-container-id-3 div.sk-serial::before {content: \"\";position: absolute;border-left: 1px solid gray;box-sizing: border-box;top: 0;bottom: 0;left: 50%;z-index: 0;}#sk-container-id-3 div.sk-serial {display: flex;flex-direction: column;align-items: center;background-color: white;padding-right: 0.2em;padding-left: 0.2em;position: relative;}#sk-container-id-3 div.sk-item {position: relative;z-index: 1;}#sk-container-id-3 div.sk-parallel {display: flex;align-items: stretch;justify-content: center;background-color: white;position: relative;}#sk-container-id-3 div.sk-item::before, #sk-container-id-3 div.sk-parallel-item::before {content: \"\";position: absolute;border-left: 1px solid gray;box-sizing: border-box;top: 0;bottom: 0;left: 50%;z-index: -1;}#sk-container-id-3 div.sk-parallel-item {display: flex;flex-direction: column;z-index: 1;position: relative;background-color: white;}#sk-container-id-3 div.sk-parallel-item:first-child::after {align-self: flex-end;width: 50%;}#sk-container-id-3 div.sk-parallel-item:last-child::after {align-self: flex-start;width: 50%;}#sk-container-id-3 div.sk-parallel-item:only-child::after {width: 0;}#sk-container-id-3 div.sk-dashed-wrapped {border: 1px dashed gray;margin: 0 0.4em 0.5em 0.4em;box-sizing: border-box;padding-bottom: 0.4em;background-color: white;}#sk-container-id-3 div.sk-label label {font-family: monospace;font-weight: bold;display: inline-block;line-height: 1.2em;}#sk-container-id-3 div.sk-label-container {text-align: center;}#sk-container-id-3 div.sk-container {/* jupyter's `normalize.less` sets `[hidden] { display: none; }` but bootstrap.min.css set `[hidden] { display: none !important; }` so we also need the `!important` here to be able to override the default hidden behavior on the sphinx rendered scikit-learn.org. See: https://github.com/scikit-learn/scikit-learn/issues/21755 */display: inline-block !important;position: relative;}#sk-container-id-3 div.sk-text-repr-fallback {display: none;}</style><div id=\"sk-container-id-3\" class=\"sk-top-container\"><div class=\"sk-text-repr-fallback\"><pre>DecisionTreeClassifier(max_depth=10, min_samples_split=5)</pre><b>In a Jupyter environment, please rerun this cell to show the HTML representation or trust the notebook. <br />On GitHub, the HTML representation is unable to render, please try loading this page with nbviewer.org.</b></div><div class=\"sk-container\" hidden><div class=\"sk-item\"><div class=\"sk-estimator sk-toggleable\"><input class=\"sk-toggleable__control sk-hidden--visually\" id=\"sk-estimator-id-3\" type=\"checkbox\" checked><label for=\"sk-estimator-id-3\" class=\"sk-toggleable__label sk-toggleable__label-arrow\">DecisionTreeClassifier</label><div class=\"sk-toggleable__content\"><pre>DecisionTreeClassifier(max_depth=10, min_samples_split=5)</pre></div></div></div></div></div>"
      ],
      "text/plain": [
       "DecisionTreeClassifier(max_depth=10, min_samples_split=5)"
      ]
     },
     "execution_count": 143,
     "metadata": {},
     "output_type": "execute_result"
    }
   ],
   "source": [
    "model.fit(X_train, y_train)"
   ]
  },
  {
   "cell_type": "code",
   "execution_count": 145,
   "id": "3dc277a9-a2f5-4fcf-bdac-a6bb265fcf2b",
   "metadata": {},
   "outputs": [],
   "source": [
    "y_pred = model.predict(X_test)  # Prédictions sur les données de test"
   ]
  },
  {
   "cell_type": "code",
   "execution_count": 147,
   "id": "94a6ce44-3643-488a-a991-0ea48d33a158",
   "metadata": {
    "tags": []
   },
   "outputs": [
    {
     "name": "stdout",
     "output_type": "stream",
     "text": [
      "Score train :  0.6566716355886647\n",
      "Score test :  0.6433549370949295\n"
     ]
    }
   ],
   "source": [
    "print(\"Score train : \", model.score(X_train, y_train))  # Score d'entraînement\n",
    "print(\"Score test : \", model.score(X_test, y_test))  # Score de test"
   ]
  },
  {
   "cell_type": "code",
   "execution_count": null,
   "id": "b38d104a-26f1-47d5-aef9-0c9bac4142ca",
   "metadata": {},
   "outputs": [],
   "source": [
    "\n",
    "\n"
   ]
  }
 ],
 "metadata": {
  "kernelspec": {
   "display_name": "Python 3 (ipykernel)",
   "language": "python",
   "name": "python3"
  },
  "language_info": {
   "codemirror_mode": {
    "name": "ipython",
    "version": 3
   },
   "file_extension": ".py",
   "mimetype": "text/x-python",
   "name": "python",
   "nbconvert_exporter": "python",
   "pygments_lexer": "ipython3",
   "version": "3.11.7"
  }
 },
 "nbformat": 4,
 "nbformat_minor": 5
}
