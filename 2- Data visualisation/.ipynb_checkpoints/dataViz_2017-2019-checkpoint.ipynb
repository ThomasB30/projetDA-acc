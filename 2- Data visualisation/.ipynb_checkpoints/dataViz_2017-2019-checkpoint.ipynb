{
 "cells": [
  {
   "cell_type": "markdown",
   "id": "eaca520c87c7db63",
   "metadata": {},
   "source": [
    "## Chargement des packages nécessaires"
   ]
  },
  {
   "cell_type": "code",
   "execution_count": 166,
   "id": "initial_id",
   "metadata": {
    "ExecuteTime": {
     "end_time": "2024-07-30T15:39:28.832627Z",
     "start_time": "2024-07-30T15:39:28.824774Z"
    },
    "collapsed": true,
    "jupyter": {
     "outputs_hidden": true
    }
   },
   "outputs": [],
   "source": [
    "import numpy as np\n",
    "import pandas as pd\n",
    "import matplotlib.pyplot as plt\n",
    "import seaborn as sns"
   ]
  },
  {
   "cell_type": "markdown",
   "id": "b15a454bdfdfd915",
   "metadata": {},
   "source": [
    "## Chargement des données"
   ]
  },
  {
   "cell_type": "code",
   "execution_count": 167,
   "id": "e8b462f2331f24b6",
   "metadata": {
    "ExecuteTime": {
     "end_time": "2024-07-30T15:39:31.434092Z",
     "start_time": "2024-07-30T15:39:29.178841Z"
    }
   },
   "outputs": [],
   "source": [
    "# Année 2019\n",
    "df_carac_2019 = pd.read_csv(\"data/caracteristiques-2019.csv\", sep=';')\n",
    "df_lieux_2019 = pd.read_csv(\"data/lieux-2019.csv\", sep=';')\n",
    "df_usagers_2019 = pd.read_csv(\"data/usagers-2019.csv\", sep=';')\n",
    "df_vehicules_2019 = pd.read_csv(\"data/vehicules-2019.csv\", sep=';')\n",
    "\n",
    "# Année 2018\n",
    "df_carac_2018 = pd.read_csv(\"data/caracteristiques-2018.csv\", sep=',', encoding='latin1')\n",
    "df_lieux_2018 = pd.read_csv(\"data/lieux-2018.csv\", sep=',', low_memory=False)\n",
    "df_usagers_2018 = pd.read_csv(\"data/usagers-2018.csv\", sep=',')\n",
    "df_vehicules_2018 = pd.read_csv(\"data/vehicules-2018.csv\", sep=',')\n",
    "\n",
    "# Année 2017\n",
    "df_carac_2017 = pd.read_csv(\"data/caracteristiques-2017.csv\", sep=',', encoding='latin1')\n",
    "df_lieux_2017 = pd.read_csv(\"data/lieux-2017.csv\", sep=',', low_memory=False)\n",
    "df_usagers_2017 = pd.read_csv(\"data/usagers-2017.csv\", sep=',')\n",
    "df_vehicules_2017 = pd.read_csv(\"data/vehicules-2017.csv\", sep=',')"
   ]
  },
  {
   "cell_type": "markdown",
   "id": "81423ea4a03c358c",
   "metadata": {},
   "source": [
    "# Aperçu des jeux de données\n",
    "### Aperçu de 2019"
   ]
  },
  {
   "cell_type": "code",
   "execution_count": 168,
   "id": "76f9714e9d4a1025",
   "metadata": {
    "ExecuteTime": {
     "end_time": "2024-07-30T15:39:31.496269Z",
     "start_time": "2024-07-30T15:39:31.438110Z"
    }
   },
   "outputs": [
    {
     "data": {
      "text/html": [
       "<div>\n",
       "<style scoped>\n",
       "    .dataframe tbody tr th:only-of-type {\n",
       "        vertical-align: middle;\n",
       "    }\n",
       "\n",
       "    .dataframe tbody tr th {\n",
       "        vertical-align: top;\n",
       "    }\n",
       "\n",
       "    .dataframe thead th {\n",
       "        text-align: right;\n",
       "    }\n",
       "</style>\n",
       "<table border=\"1\" class=\"dataframe\">\n",
       "  <thead>\n",
       "    <tr style=\"text-align: right;\">\n",
       "      <th></th>\n",
       "      <th>Num_Acc</th>\n",
       "      <th>jour</th>\n",
       "      <th>mois</th>\n",
       "      <th>an</th>\n",
       "      <th>hrmn</th>\n",
       "      <th>lum</th>\n",
       "      <th>dep</th>\n",
       "      <th>com</th>\n",
       "      <th>agg</th>\n",
       "      <th>int</th>\n",
       "      <th>atm</th>\n",
       "      <th>col</th>\n",
       "      <th>adr</th>\n",
       "      <th>lat</th>\n",
       "      <th>long</th>\n",
       "    </tr>\n",
       "  </thead>\n",
       "  <tbody>\n",
       "    <tr>\n",
       "      <th>0</th>\n",
       "      <td>201900000001</td>\n",
       "      <td>30</td>\n",
       "      <td>11</td>\n",
       "      <td>2019</td>\n",
       "      <td>01:30</td>\n",
       "      <td>4</td>\n",
       "      <td>93</td>\n",
       "      <td>93053</td>\n",
       "      <td>1</td>\n",
       "      <td>1</td>\n",
       "      <td>1</td>\n",
       "      <td>2</td>\n",
       "      <td>AUTOROUTE A3</td>\n",
       "      <td>48,8962100</td>\n",
       "      <td>2,4701200</td>\n",
       "    </tr>\n",
       "    <tr>\n",
       "      <th>1</th>\n",
       "      <td>201900000002</td>\n",
       "      <td>30</td>\n",
       "      <td>11</td>\n",
       "      <td>2019</td>\n",
       "      <td>02:50</td>\n",
       "      <td>3</td>\n",
       "      <td>93</td>\n",
       "      <td>93066</td>\n",
       "      <td>1</td>\n",
       "      <td>1</td>\n",
       "      <td>1</td>\n",
       "      <td>6</td>\n",
       "      <td>AUTOROUTE A1</td>\n",
       "      <td>48,9307000</td>\n",
       "      <td>2,3688000</td>\n",
       "    </tr>\n",
       "    <tr>\n",
       "      <th>2</th>\n",
       "      <td>201900000003</td>\n",
       "      <td>28</td>\n",
       "      <td>11</td>\n",
       "      <td>2019</td>\n",
       "      <td>15:15</td>\n",
       "      <td>1</td>\n",
       "      <td>92</td>\n",
       "      <td>92036</td>\n",
       "      <td>1</td>\n",
       "      <td>1</td>\n",
       "      <td>1</td>\n",
       "      <td>4</td>\n",
       "      <td>AUTOROUTE A86</td>\n",
       "      <td>48,9358718</td>\n",
       "      <td>2,3191744</td>\n",
       "    </tr>\n",
       "  </tbody>\n",
       "</table>\n",
       "</div>"
      ],
      "text/plain": [
       "        Num_Acc  jour  mois    an   hrmn  lum dep    com  agg  int  atm  col  \\\n",
       "0  201900000001    30    11  2019  01:30    4  93  93053    1    1    1    2   \n",
       "1  201900000002    30    11  2019  02:50    3  93  93066    1    1    1    6   \n",
       "2  201900000003    28    11  2019  15:15    1  92  92036    1    1    1    4   \n",
       "\n",
       "             adr         lat       long  \n",
       "0   AUTOROUTE A3  48,8962100  2,4701200  \n",
       "1   AUTOROUTE A1  48,9307000  2,3688000  \n",
       "2  AUTOROUTE A86  48,9358718  2,3191744  "
      ]
     },
     "metadata": {},
     "output_type": "display_data"
    },
    {
     "data": {
      "text/html": [
       "<div>\n",
       "<style scoped>\n",
       "    .dataframe tbody tr th:only-of-type {\n",
       "        vertical-align: middle;\n",
       "    }\n",
       "\n",
       "    .dataframe tbody tr th {\n",
       "        vertical-align: top;\n",
       "    }\n",
       "\n",
       "    .dataframe thead th {\n",
       "        text-align: right;\n",
       "    }\n",
       "</style>\n",
       "<table border=\"1\" class=\"dataframe\">\n",
       "  <thead>\n",
       "    <tr style=\"text-align: right;\">\n",
       "      <th></th>\n",
       "      <th>Num_Acc</th>\n",
       "      <th>catr</th>\n",
       "      <th>voie</th>\n",
       "      <th>v1</th>\n",
       "      <th>v2</th>\n",
       "      <th>circ</th>\n",
       "      <th>nbv</th>\n",
       "      <th>vosp</th>\n",
       "      <th>prof</th>\n",
       "      <th>pr</th>\n",
       "      <th>pr1</th>\n",
       "      <th>plan</th>\n",
       "      <th>lartpc</th>\n",
       "      <th>larrout</th>\n",
       "      <th>surf</th>\n",
       "      <th>infra</th>\n",
       "      <th>situ</th>\n",
       "      <th>vma</th>\n",
       "    </tr>\n",
       "  </thead>\n",
       "  <tbody>\n",
       "    <tr>\n",
       "      <th>0</th>\n",
       "      <td>201900000001</td>\n",
       "      <td>1</td>\n",
       "      <td>3</td>\n",
       "      <td>0.0</td>\n",
       "      <td>NaN</td>\n",
       "      <td>3</td>\n",
       "      <td>10</td>\n",
       "      <td>0</td>\n",
       "      <td>1</td>\n",
       "      <td>6</td>\n",
       "      <td>900</td>\n",
       "      <td>2</td>\n",
       "      <td>NaN</td>\n",
       "      <td>NaN</td>\n",
       "      <td>1</td>\n",
       "      <td>2</td>\n",
       "      <td>1</td>\n",
       "      <td>70</td>\n",
       "    </tr>\n",
       "    <tr>\n",
       "      <th>1</th>\n",
       "      <td>201900000002</td>\n",
       "      <td>1</td>\n",
       "      <td>1</td>\n",
       "      <td>0.0</td>\n",
       "      <td>NaN</td>\n",
       "      <td>1</td>\n",
       "      <td>2</td>\n",
       "      <td>0</td>\n",
       "      <td>4</td>\n",
       "      <td>3</td>\n",
       "      <td>845</td>\n",
       "      <td>2</td>\n",
       "      <td>NaN</td>\n",
       "      <td>NaN</td>\n",
       "      <td>1</td>\n",
       "      <td>0</td>\n",
       "      <td>1</td>\n",
       "      <td>70</td>\n",
       "    </tr>\n",
       "    <tr>\n",
       "      <th>2</th>\n",
       "      <td>201900000003</td>\n",
       "      <td>1</td>\n",
       "      <td>86</td>\n",
       "      <td>0.0</td>\n",
       "      <td>NaN</td>\n",
       "      <td>3</td>\n",
       "      <td>8</td>\n",
       "      <td>0</td>\n",
       "      <td>1</td>\n",
       "      <td>10</td>\n",
       "      <td>500</td>\n",
       "      <td>3</td>\n",
       "      <td>NaN</td>\n",
       "      <td>NaN</td>\n",
       "      <td>1</td>\n",
       "      <td>0</td>\n",
       "      <td>1</td>\n",
       "      <td>90</td>\n",
       "    </tr>\n",
       "  </tbody>\n",
       "</table>\n",
       "</div>"
      ],
      "text/plain": [
       "        Num_Acc  catr voie   v1   v2  circ  nbv  vosp  prof  pr  pr1  plan  \\\n",
       "0  201900000001     1    3  0.0  NaN     3   10     0     1   6  900     2   \n",
       "1  201900000002     1    1  0.0  NaN     1    2     0     4   3  845     2   \n",
       "2  201900000003     1   86  0.0  NaN     3    8     0     1  10  500     3   \n",
       "\n",
       "   lartpc  larrout  surf  infra  situ  vma  \n",
       "0     NaN      NaN     1      2     1   70  \n",
       "1     NaN      NaN     1      0     1   70  \n",
       "2     NaN      NaN     1      0     1   90  "
      ]
     },
     "metadata": {},
     "output_type": "display_data"
    },
    {
     "data": {
      "text/html": [
       "<div>\n",
       "<style scoped>\n",
       "    .dataframe tbody tr th:only-of-type {\n",
       "        vertical-align: middle;\n",
       "    }\n",
       "\n",
       "    .dataframe tbody tr th {\n",
       "        vertical-align: top;\n",
       "    }\n",
       "\n",
       "    .dataframe thead th {\n",
       "        text-align: right;\n",
       "    }\n",
       "</style>\n",
       "<table border=\"1\" class=\"dataframe\">\n",
       "  <thead>\n",
       "    <tr style=\"text-align: right;\">\n",
       "      <th></th>\n",
       "      <th>Num_Acc</th>\n",
       "      <th>id_vehicule</th>\n",
       "      <th>num_veh</th>\n",
       "      <th>place</th>\n",
       "      <th>catu</th>\n",
       "      <th>grav</th>\n",
       "      <th>sexe</th>\n",
       "      <th>an_nais</th>\n",
       "      <th>trajet</th>\n",
       "      <th>secu1</th>\n",
       "      <th>secu2</th>\n",
       "      <th>secu3</th>\n",
       "      <th>locp</th>\n",
       "      <th>actp</th>\n",
       "      <th>etatp</th>\n",
       "    </tr>\n",
       "  </thead>\n",
       "  <tbody>\n",
       "    <tr>\n",
       "      <th>0</th>\n",
       "      <td>201900000001</td>\n",
       "      <td>138 306 524</td>\n",
       "      <td>B01</td>\n",
       "      <td>2</td>\n",
       "      <td>2</td>\n",
       "      <td>4</td>\n",
       "      <td>2</td>\n",
       "      <td>2002</td>\n",
       "      <td>0</td>\n",
       "      <td>1</td>\n",
       "      <td>0</td>\n",
       "      <td>-1</td>\n",
       "      <td>-1</td>\n",
       "      <td>-1</td>\n",
       "      <td>-1</td>\n",
       "    </tr>\n",
       "    <tr>\n",
       "      <th>1</th>\n",
       "      <td>201900000001</td>\n",
       "      <td>138 306 524</td>\n",
       "      <td>B01</td>\n",
       "      <td>1</td>\n",
       "      <td>1</td>\n",
       "      <td>4</td>\n",
       "      <td>2</td>\n",
       "      <td>1993</td>\n",
       "      <td>5</td>\n",
       "      <td>1</td>\n",
       "      <td>0</td>\n",
       "      <td>-1</td>\n",
       "      <td>-1</td>\n",
       "      <td>-1</td>\n",
       "      <td>-1</td>\n",
       "    </tr>\n",
       "    <tr>\n",
       "      <th>2</th>\n",
       "      <td>201900000001</td>\n",
       "      <td>138 306 525</td>\n",
       "      <td>A01</td>\n",
       "      <td>1</td>\n",
       "      <td>1</td>\n",
       "      <td>1</td>\n",
       "      <td>1</td>\n",
       "      <td>1959</td>\n",
       "      <td>0</td>\n",
       "      <td>1</td>\n",
       "      <td>0</td>\n",
       "      <td>-1</td>\n",
       "      <td>-1</td>\n",
       "      <td>-1</td>\n",
       "      <td>-1</td>\n",
       "    </tr>\n",
       "  </tbody>\n",
       "</table>\n",
       "</div>"
      ],
      "text/plain": [
       "        Num_Acc  id_vehicule num_veh  place  catu  grav  sexe  an_nais  \\\n",
       "0  201900000001  138 306 524     B01      2     2     4     2     2002   \n",
       "1  201900000001  138 306 524     B01      1     1     4     2     1993   \n",
       "2  201900000001  138 306 525     A01      1     1     1     1     1959   \n",
       "\n",
       "   trajet  secu1  secu2  secu3  locp actp  etatp  \n",
       "0       0      1      0     -1    -1   -1     -1  \n",
       "1       5      1      0     -1    -1   -1     -1  \n",
       "2       0      1      0     -1    -1   -1     -1  "
      ]
     },
     "metadata": {},
     "output_type": "display_data"
    },
    {
     "data": {
      "text/html": [
       "<div>\n",
       "<style scoped>\n",
       "    .dataframe tbody tr th:only-of-type {\n",
       "        vertical-align: middle;\n",
       "    }\n",
       "\n",
       "    .dataframe tbody tr th {\n",
       "        vertical-align: top;\n",
       "    }\n",
       "\n",
       "    .dataframe thead th {\n",
       "        text-align: right;\n",
       "    }\n",
       "</style>\n",
       "<table border=\"1\" class=\"dataframe\">\n",
       "  <thead>\n",
       "    <tr style=\"text-align: right;\">\n",
       "      <th></th>\n",
       "      <th>Num_Acc</th>\n",
       "      <th>id_vehicule</th>\n",
       "      <th>num_veh</th>\n",
       "      <th>senc</th>\n",
       "      <th>catv</th>\n",
       "      <th>obs</th>\n",
       "      <th>obsm</th>\n",
       "      <th>choc</th>\n",
       "      <th>manv</th>\n",
       "      <th>motor</th>\n",
       "      <th>occutc</th>\n",
       "    </tr>\n",
       "  </thead>\n",
       "  <tbody>\n",
       "    <tr>\n",
       "      <th>0</th>\n",
       "      <td>201900000001</td>\n",
       "      <td>138 306 524</td>\n",
       "      <td>B01</td>\n",
       "      <td>2</td>\n",
       "      <td>7</td>\n",
       "      <td>0</td>\n",
       "      <td>2</td>\n",
       "      <td>5</td>\n",
       "      <td>23</td>\n",
       "      <td>1</td>\n",
       "      <td>NaN</td>\n",
       "    </tr>\n",
       "    <tr>\n",
       "      <th>1</th>\n",
       "      <td>201900000001</td>\n",
       "      <td>138 306 525</td>\n",
       "      <td>A01</td>\n",
       "      <td>2</td>\n",
       "      <td>17</td>\n",
       "      <td>1</td>\n",
       "      <td>0</td>\n",
       "      <td>3</td>\n",
       "      <td>11</td>\n",
       "      <td>1</td>\n",
       "      <td>NaN</td>\n",
       "    </tr>\n",
       "    <tr>\n",
       "      <th>2</th>\n",
       "      <td>201900000002</td>\n",
       "      <td>138 306 523</td>\n",
       "      <td>A01</td>\n",
       "      <td>1</td>\n",
       "      <td>7</td>\n",
       "      <td>4</td>\n",
       "      <td>0</td>\n",
       "      <td>1</td>\n",
       "      <td>0</td>\n",
       "      <td>1</td>\n",
       "      <td>NaN</td>\n",
       "    </tr>\n",
       "  </tbody>\n",
       "</table>\n",
       "</div>"
      ],
      "text/plain": [
       "        Num_Acc  id_vehicule num_veh  senc  catv  obs  obsm  choc  manv  \\\n",
       "0  201900000001  138 306 524     B01     2     7    0     2     5    23   \n",
       "1  201900000001  138 306 525     A01     2    17    1     0     3    11   \n",
       "2  201900000002  138 306 523     A01     1     7    4     0     1     0   \n",
       "\n",
       "   motor  occutc  \n",
       "0      1     NaN  \n",
       "1      1     NaN  \n",
       "2      1     NaN  "
      ]
     },
     "metadata": {},
     "output_type": "display_data"
    }
   ],
   "source": [
    "display(df_carac_2019.head(3))\n",
    "display(df_lieux_2019.head(3))\n",
    "display(df_usagers_2019.head(3))\n",
    "display(df_vehicules_2019.head(3))"
   ]
  },
  {
   "cell_type": "markdown",
   "id": "601f4b7e690ae093",
   "metadata": {},
   "source": [
    "### Aperçu de 2018"
   ]
  },
  {
   "cell_type": "code",
   "execution_count": 169,
   "id": "5b07b8f4c3cfc8cf",
   "metadata": {
    "ExecuteTime": {
     "end_time": "2024-07-30T15:39:31.561290Z",
     "start_time": "2024-07-30T15:39:31.499287Z"
    }
   },
   "outputs": [
    {
     "data": {
      "text/html": [
       "<div>\n",
       "<style scoped>\n",
       "    .dataframe tbody tr th:only-of-type {\n",
       "        vertical-align: middle;\n",
       "    }\n",
       "\n",
       "    .dataframe tbody tr th {\n",
       "        vertical-align: top;\n",
       "    }\n",
       "\n",
       "    .dataframe thead th {\n",
       "        text-align: right;\n",
       "    }\n",
       "</style>\n",
       "<table border=\"1\" class=\"dataframe\">\n",
       "  <thead>\n",
       "    <tr style=\"text-align: right;\">\n",
       "      <th></th>\n",
       "      <th>Num_Acc</th>\n",
       "      <th>catr</th>\n",
       "      <th>voie</th>\n",
       "      <th>v1</th>\n",
       "      <th>v2</th>\n",
       "      <th>circ</th>\n",
       "      <th>nbv</th>\n",
       "      <th>pr</th>\n",
       "      <th>pr1</th>\n",
       "      <th>vosp</th>\n",
       "      <th>prof</th>\n",
       "      <th>plan</th>\n",
       "      <th>lartpc</th>\n",
       "      <th>larrout</th>\n",
       "      <th>surf</th>\n",
       "      <th>infra</th>\n",
       "      <th>situ</th>\n",
       "      <th>env1</th>\n",
       "    </tr>\n",
       "  </thead>\n",
       "  <tbody>\n",
       "    <tr>\n",
       "      <th>0</th>\n",
       "      <td>201800000001</td>\n",
       "      <td>3</td>\n",
       "      <td>41</td>\n",
       "      <td>NaN</td>\n",
       "      <td>C</td>\n",
       "      <td>2.0</td>\n",
       "      <td>2.0</td>\n",
       "      <td>NaN</td>\n",
       "      <td>NaN</td>\n",
       "      <td>0.0</td>\n",
       "      <td>1.0</td>\n",
       "      <td>3.0</td>\n",
       "      <td>NaN</td>\n",
       "      <td>NaN</td>\n",
       "      <td>1.0</td>\n",
       "      <td>0.0</td>\n",
       "      <td>1.0</td>\n",
       "      <td>0.0</td>\n",
       "    </tr>\n",
       "    <tr>\n",
       "      <th>1</th>\n",
       "      <td>201800000002</td>\n",
       "      <td>4</td>\n",
       "      <td>41</td>\n",
       "      <td>NaN</td>\n",
       "      <td>D</td>\n",
       "      <td>2.0</td>\n",
       "      <td>2.0</td>\n",
       "      <td>NaN</td>\n",
       "      <td>NaN</td>\n",
       "      <td>0.0</td>\n",
       "      <td>1.0</td>\n",
       "      <td>2.0</td>\n",
       "      <td>NaN</td>\n",
       "      <td>NaN</td>\n",
       "      <td>1.0</td>\n",
       "      <td>0.0</td>\n",
       "      <td>1.0</td>\n",
       "      <td>0.0</td>\n",
       "    </tr>\n",
       "    <tr>\n",
       "      <th>2</th>\n",
       "      <td>201800000003</td>\n",
       "      <td>3</td>\n",
       "      <td>39</td>\n",
       "      <td>NaN</td>\n",
       "      <td>D</td>\n",
       "      <td>2.0</td>\n",
       "      <td>2.0</td>\n",
       "      <td>NaN</td>\n",
       "      <td>NaN</td>\n",
       "      <td>0.0</td>\n",
       "      <td>1.0</td>\n",
       "      <td>1.0</td>\n",
       "      <td>NaN</td>\n",
       "      <td>NaN</td>\n",
       "      <td>1.0</td>\n",
       "      <td>0.0</td>\n",
       "      <td>1.0</td>\n",
       "      <td>0.0</td>\n",
       "    </tr>\n",
       "  </tbody>\n",
       "</table>\n",
       "</div>"
      ],
      "text/plain": [
       "        Num_Acc  catr voie  v1 v2  circ  nbv  pr  pr1  vosp  prof  plan  \\\n",
       "0  201800000001     3   41 NaN  C   2.0  2.0 NaN  NaN   0.0   1.0   3.0   \n",
       "1  201800000002     4   41 NaN  D   2.0  2.0 NaN  NaN   0.0   1.0   2.0   \n",
       "2  201800000003     3   39 NaN  D   2.0  2.0 NaN  NaN   0.0   1.0   1.0   \n",
       "\n",
       "   lartpc  larrout  surf  infra  situ  env1  \n",
       "0     NaN      NaN   1.0    0.0   1.0   0.0  \n",
       "1     NaN      NaN   1.0    0.0   1.0   0.0  \n",
       "2     NaN      NaN   1.0    0.0   1.0   0.0  "
      ]
     },
     "metadata": {},
     "output_type": "display_data"
    },
    {
     "data": {
      "text/html": [
       "<div>\n",
       "<style scoped>\n",
       "    .dataframe tbody tr th:only-of-type {\n",
       "        vertical-align: middle;\n",
       "    }\n",
       "\n",
       "    .dataframe tbody tr th {\n",
       "        vertical-align: top;\n",
       "    }\n",
       "\n",
       "    .dataframe thead th {\n",
       "        text-align: right;\n",
       "    }\n",
       "</style>\n",
       "<table border=\"1\" class=\"dataframe\">\n",
       "  <thead>\n",
       "    <tr style=\"text-align: right;\">\n",
       "      <th></th>\n",
       "      <th>Num_Acc</th>\n",
       "      <th>place</th>\n",
       "      <th>catu</th>\n",
       "      <th>grav</th>\n",
       "      <th>sexe</th>\n",
       "      <th>trajet</th>\n",
       "      <th>secu</th>\n",
       "      <th>locp</th>\n",
       "      <th>actp</th>\n",
       "      <th>etatp</th>\n",
       "      <th>an_nais</th>\n",
       "      <th>num_veh</th>\n",
       "    </tr>\n",
       "  </thead>\n",
       "  <tbody>\n",
       "    <tr>\n",
       "      <th>0</th>\n",
       "      <td>201800000001</td>\n",
       "      <td>1.0</td>\n",
       "      <td>1</td>\n",
       "      <td>3</td>\n",
       "      <td>1</td>\n",
       "      <td>0.0</td>\n",
       "      <td>11.0</td>\n",
       "      <td>0.0</td>\n",
       "      <td>0.0</td>\n",
       "      <td>0.0</td>\n",
       "      <td>1928.0</td>\n",
       "      <td>B01</td>\n",
       "    </tr>\n",
       "    <tr>\n",
       "      <th>1</th>\n",
       "      <td>201800000001</td>\n",
       "      <td>1.0</td>\n",
       "      <td>1</td>\n",
       "      <td>1</td>\n",
       "      <td>1</td>\n",
       "      <td>5.0</td>\n",
       "      <td>11.0</td>\n",
       "      <td>0.0</td>\n",
       "      <td>0.0</td>\n",
       "      <td>0.0</td>\n",
       "      <td>1960.0</td>\n",
       "      <td>A01</td>\n",
       "    </tr>\n",
       "    <tr>\n",
       "      <th>2</th>\n",
       "      <td>201800000002</td>\n",
       "      <td>1.0</td>\n",
       "      <td>1</td>\n",
       "      <td>1</td>\n",
       "      <td>1</td>\n",
       "      <td>0.0</td>\n",
       "      <td>11.0</td>\n",
       "      <td>0.0</td>\n",
       "      <td>0.0</td>\n",
       "      <td>0.0</td>\n",
       "      <td>1947.0</td>\n",
       "      <td>A01</td>\n",
       "    </tr>\n",
       "  </tbody>\n",
       "</table>\n",
       "</div>"
      ],
      "text/plain": [
       "        Num_Acc  place  catu  grav  sexe  trajet  secu  locp  actp  etatp  \\\n",
       "0  201800000001    1.0     1     3     1     0.0  11.0   0.0   0.0    0.0   \n",
       "1  201800000001    1.0     1     1     1     5.0  11.0   0.0   0.0    0.0   \n",
       "2  201800000002    1.0     1     1     1     0.0  11.0   0.0   0.0    0.0   \n",
       "\n",
       "   an_nais num_veh  \n",
       "0   1928.0     B01  \n",
       "1   1960.0     A01  \n",
       "2   1947.0     A01  "
      ]
     },
     "metadata": {},
     "output_type": "display_data"
    },
    {
     "data": {
      "text/html": [
       "<div>\n",
       "<style scoped>\n",
       "    .dataframe tbody tr th:only-of-type {\n",
       "        vertical-align: middle;\n",
       "    }\n",
       "\n",
       "    .dataframe tbody tr th {\n",
       "        vertical-align: top;\n",
       "    }\n",
       "\n",
       "    .dataframe thead th {\n",
       "        text-align: right;\n",
       "    }\n",
       "</style>\n",
       "<table border=\"1\" class=\"dataframe\">\n",
       "  <thead>\n",
       "    <tr style=\"text-align: right;\">\n",
       "      <th></th>\n",
       "      <th>Num_Acc</th>\n",
       "      <th>senc</th>\n",
       "      <th>catv</th>\n",
       "      <th>occutc</th>\n",
       "      <th>obs</th>\n",
       "      <th>obsm</th>\n",
       "      <th>choc</th>\n",
       "      <th>manv</th>\n",
       "      <th>num_veh</th>\n",
       "    </tr>\n",
       "  </thead>\n",
       "  <tbody>\n",
       "    <tr>\n",
       "      <th>0</th>\n",
       "      <td>201800000001</td>\n",
       "      <td>0.0</td>\n",
       "      <td>7</td>\n",
       "      <td>0</td>\n",
       "      <td>0.0</td>\n",
       "      <td>2.0</td>\n",
       "      <td>3.0</td>\n",
       "      <td>1.0</td>\n",
       "      <td>B01</td>\n",
       "    </tr>\n",
       "    <tr>\n",
       "      <th>1</th>\n",
       "      <td>201800000001</td>\n",
       "      <td>0.0</td>\n",
       "      <td>7</td>\n",
       "      <td>0</td>\n",
       "      <td>0.0</td>\n",
       "      <td>2.0</td>\n",
       "      <td>2.0</td>\n",
       "      <td>15.0</td>\n",
       "      <td>A01</td>\n",
       "    </tr>\n",
       "    <tr>\n",
       "      <th>2</th>\n",
       "      <td>201800000002</td>\n",
       "      <td>0.0</td>\n",
       "      <td>7</td>\n",
       "      <td>0</td>\n",
       "      <td>0.0</td>\n",
       "      <td>1.0</td>\n",
       "      <td>0.0</td>\n",
       "      <td>1.0</td>\n",
       "      <td>A01</td>\n",
       "    </tr>\n",
       "  </tbody>\n",
       "</table>\n",
       "</div>"
      ],
      "text/plain": [
       "        Num_Acc  senc  catv  occutc  obs  obsm  choc  manv num_veh\n",
       "0  201800000001   0.0     7       0  0.0   2.0   3.0   1.0     B01\n",
       "1  201800000001   0.0     7       0  0.0   2.0   2.0  15.0     A01\n",
       "2  201800000002   0.0     7       0  0.0   1.0   0.0   1.0     A01"
      ]
     },
     "metadata": {},
     "output_type": "display_data"
    }
   ],
   "source": [
    "#display(df_carac_2018.head(3))\n",
    "display(df_lieux_2018.head(3))\n",
    "display(df_usagers_2018.head(3))\n",
    "display(df_vehicules_2018.head(3))"
   ]
  },
  {
   "cell_type": "markdown",
   "id": "4391b8964b44a3c4",
   "metadata": {},
   "source": [
    "### Aperçu de 2017"
   ]
  },
  {
   "cell_type": "code",
   "execution_count": 170,
   "id": "c5fa267277cc31d9",
   "metadata": {
    "ExecuteTime": {
     "end_time": "2024-07-30T15:39:31.617342Z",
     "start_time": "2024-07-30T15:39:31.563307Z"
    }
   },
   "outputs": [
    {
     "data": {
      "text/html": [
       "<div>\n",
       "<style scoped>\n",
       "    .dataframe tbody tr th:only-of-type {\n",
       "        vertical-align: middle;\n",
       "    }\n",
       "\n",
       "    .dataframe tbody tr th {\n",
       "        vertical-align: top;\n",
       "    }\n",
       "\n",
       "    .dataframe thead th {\n",
       "        text-align: right;\n",
       "    }\n",
       "</style>\n",
       "<table border=\"1\" class=\"dataframe\">\n",
       "  <thead>\n",
       "    <tr style=\"text-align: right;\">\n",
       "      <th></th>\n",
       "      <th>Num_Acc</th>\n",
       "      <th>catr</th>\n",
       "      <th>voie</th>\n",
       "      <th>v1</th>\n",
       "      <th>v2</th>\n",
       "      <th>circ</th>\n",
       "      <th>nbv</th>\n",
       "      <th>pr</th>\n",
       "      <th>pr1</th>\n",
       "      <th>vosp</th>\n",
       "      <th>prof</th>\n",
       "      <th>plan</th>\n",
       "      <th>lartpc</th>\n",
       "      <th>larrout</th>\n",
       "      <th>surf</th>\n",
       "      <th>infra</th>\n",
       "      <th>situ</th>\n",
       "      <th>env1</th>\n",
       "    </tr>\n",
       "  </thead>\n",
       "  <tbody>\n",
       "    <tr>\n",
       "      <th>0</th>\n",
       "      <td>201700000001</td>\n",
       "      <td>3</td>\n",
       "      <td>39</td>\n",
       "      <td>NaN</td>\n",
       "      <td>NaN</td>\n",
       "      <td>2.0</td>\n",
       "      <td>2.0</td>\n",
       "      <td>NaN</td>\n",
       "      <td>NaN</td>\n",
       "      <td>2.0</td>\n",
       "      <td>1.0</td>\n",
       "      <td>1.0</td>\n",
       "      <td>0.0</td>\n",
       "      <td>70.0</td>\n",
       "      <td>1.0</td>\n",
       "      <td>0.0</td>\n",
       "      <td>1.0</td>\n",
       "      <td>99.0</td>\n",
       "    </tr>\n",
       "    <tr>\n",
       "      <th>1</th>\n",
       "      <td>201700000002</td>\n",
       "      <td>3</td>\n",
       "      <td>39</td>\n",
       "      <td>NaN</td>\n",
       "      <td>NaN</td>\n",
       "      <td>2.0</td>\n",
       "      <td>2.0</td>\n",
       "      <td>NaN</td>\n",
       "      <td>NaN</td>\n",
       "      <td>0.0</td>\n",
       "      <td>1.0</td>\n",
       "      <td>0.0</td>\n",
       "      <td>6.0</td>\n",
       "      <td>10.0</td>\n",
       "      <td>1.0</td>\n",
       "      <td>NaN</td>\n",
       "      <td>NaN</td>\n",
       "      <td>NaN</td>\n",
       "    </tr>\n",
       "    <tr>\n",
       "      <th>2</th>\n",
       "      <td>201700000003</td>\n",
       "      <td>3</td>\n",
       "      <td>39</td>\n",
       "      <td>NaN</td>\n",
       "      <td>NaN</td>\n",
       "      <td>2.0</td>\n",
       "      <td>2.0</td>\n",
       "      <td>NaN</td>\n",
       "      <td>NaN</td>\n",
       "      <td>0.0</td>\n",
       "      <td>1.0</td>\n",
       "      <td>0.0</td>\n",
       "      <td>0.0</td>\n",
       "      <td>10.0</td>\n",
       "      <td>1.0</td>\n",
       "      <td>NaN</td>\n",
       "      <td>NaN</td>\n",
       "      <td>NaN</td>\n",
       "    </tr>\n",
       "  </tbody>\n",
       "</table>\n",
       "</div>"
      ],
      "text/plain": [
       "        Num_Acc  catr voie  v1   v2  circ  nbv  pr  pr1  vosp  prof  plan  \\\n",
       "0  201700000001     3   39 NaN  NaN   2.0  2.0 NaN  NaN   2.0   1.0   1.0   \n",
       "1  201700000002     3   39 NaN  NaN   2.0  2.0 NaN  NaN   0.0   1.0   0.0   \n",
       "2  201700000003     3   39 NaN  NaN   2.0  2.0 NaN  NaN   0.0   1.0   0.0   \n",
       "\n",
       "   lartpc  larrout  surf  infra  situ  env1  \n",
       "0     0.0     70.0   1.0    0.0   1.0  99.0  \n",
       "1     6.0     10.0   1.0    NaN   NaN   NaN  \n",
       "2     0.0     10.0   1.0    NaN   NaN   NaN  "
      ]
     },
     "metadata": {},
     "output_type": "display_data"
    },
    {
     "data": {
      "text/html": [
       "<div>\n",
       "<style scoped>\n",
       "    .dataframe tbody tr th:only-of-type {\n",
       "        vertical-align: middle;\n",
       "    }\n",
       "\n",
       "    .dataframe tbody tr th {\n",
       "        vertical-align: top;\n",
       "    }\n",
       "\n",
       "    .dataframe thead th {\n",
       "        text-align: right;\n",
       "    }\n",
       "</style>\n",
       "<table border=\"1\" class=\"dataframe\">\n",
       "  <thead>\n",
       "    <tr style=\"text-align: right;\">\n",
       "      <th></th>\n",
       "      <th>Num_Acc</th>\n",
       "      <th>place</th>\n",
       "      <th>catu</th>\n",
       "      <th>grav</th>\n",
       "      <th>sexe</th>\n",
       "      <th>trajet</th>\n",
       "      <th>secu</th>\n",
       "      <th>locp</th>\n",
       "      <th>actp</th>\n",
       "      <th>etatp</th>\n",
       "      <th>an_nais</th>\n",
       "      <th>num_veh</th>\n",
       "    </tr>\n",
       "  </thead>\n",
       "  <tbody>\n",
       "    <tr>\n",
       "      <th>0</th>\n",
       "      <td>201700000001</td>\n",
       "      <td>1.0</td>\n",
       "      <td>1</td>\n",
       "      <td>3</td>\n",
       "      <td>1</td>\n",
       "      <td>9.0</td>\n",
       "      <td>13.0</td>\n",
       "      <td>0.0</td>\n",
       "      <td>0.0</td>\n",
       "      <td>0.0</td>\n",
       "      <td>1968.0</td>\n",
       "      <td>B01</td>\n",
       "    </tr>\n",
       "    <tr>\n",
       "      <th>1</th>\n",
       "      <td>201700000001</td>\n",
       "      <td>2.0</td>\n",
       "      <td>2</td>\n",
       "      <td>3</td>\n",
       "      <td>2</td>\n",
       "      <td>9.0</td>\n",
       "      <td>11.0</td>\n",
       "      <td>0.0</td>\n",
       "      <td>0.0</td>\n",
       "      <td>0.0</td>\n",
       "      <td>1973.0</td>\n",
       "      <td>B01</td>\n",
       "    </tr>\n",
       "    <tr>\n",
       "      <th>2</th>\n",
       "      <td>201700000001</td>\n",
       "      <td>1.0</td>\n",
       "      <td>1</td>\n",
       "      <td>3</td>\n",
       "      <td>1</td>\n",
       "      <td>1.0</td>\n",
       "      <td>13.0</td>\n",
       "      <td>0.0</td>\n",
       "      <td>0.0</td>\n",
       "      <td>0.0</td>\n",
       "      <td>1967.0</td>\n",
       "      <td>A01</td>\n",
       "    </tr>\n",
       "  </tbody>\n",
       "</table>\n",
       "</div>"
      ],
      "text/plain": [
       "        Num_Acc  place  catu  grav  sexe  trajet  secu  locp  actp  etatp  \\\n",
       "0  201700000001    1.0     1     3     1     9.0  13.0   0.0   0.0    0.0   \n",
       "1  201700000001    2.0     2     3     2     9.0  11.0   0.0   0.0    0.0   \n",
       "2  201700000001    1.0     1     3     1     1.0  13.0   0.0   0.0    0.0   \n",
       "\n",
       "   an_nais num_veh  \n",
       "0   1968.0     B01  \n",
       "1   1973.0     B01  \n",
       "2   1967.0     A01  "
      ]
     },
     "metadata": {},
     "output_type": "display_data"
    },
    {
     "data": {
      "text/html": [
       "<div>\n",
       "<style scoped>\n",
       "    .dataframe tbody tr th:only-of-type {\n",
       "        vertical-align: middle;\n",
       "    }\n",
       "\n",
       "    .dataframe tbody tr th {\n",
       "        vertical-align: top;\n",
       "    }\n",
       "\n",
       "    .dataframe thead th {\n",
       "        text-align: right;\n",
       "    }\n",
       "</style>\n",
       "<table border=\"1\" class=\"dataframe\">\n",
       "  <thead>\n",
       "    <tr style=\"text-align: right;\">\n",
       "      <th></th>\n",
       "      <th>Num_Acc</th>\n",
       "      <th>senc</th>\n",
       "      <th>catv</th>\n",
       "      <th>occutc</th>\n",
       "      <th>obs</th>\n",
       "      <th>obsm</th>\n",
       "      <th>choc</th>\n",
       "      <th>manv</th>\n",
       "      <th>num_veh</th>\n",
       "    </tr>\n",
       "  </thead>\n",
       "  <tbody>\n",
       "    <tr>\n",
       "      <th>0</th>\n",
       "      <td>201700000001</td>\n",
       "      <td>0.0</td>\n",
       "      <td>7</td>\n",
       "      <td>0</td>\n",
       "      <td>0.0</td>\n",
       "      <td>2.0</td>\n",
       "      <td>3.0</td>\n",
       "      <td>9.0</td>\n",
       "      <td>B01</td>\n",
       "    </tr>\n",
       "    <tr>\n",
       "      <th>1</th>\n",
       "      <td>201700000001</td>\n",
       "      <td>0.0</td>\n",
       "      <td>10</td>\n",
       "      <td>0</td>\n",
       "      <td>0.0</td>\n",
       "      <td>2.0</td>\n",
       "      <td>3.0</td>\n",
       "      <td>13.0</td>\n",
       "      <td>A01</td>\n",
       "    </tr>\n",
       "    <tr>\n",
       "      <th>2</th>\n",
       "      <td>201700000002</td>\n",
       "      <td>0.0</td>\n",
       "      <td>7</td>\n",
       "      <td>0</td>\n",
       "      <td>0.0</td>\n",
       "      <td>0.0</td>\n",
       "      <td>1.0</td>\n",
       "      <td>16.0</td>\n",
       "      <td>A01</td>\n",
       "    </tr>\n",
       "  </tbody>\n",
       "</table>\n",
       "</div>"
      ],
      "text/plain": [
       "        Num_Acc  senc  catv  occutc  obs  obsm  choc  manv num_veh\n",
       "0  201700000001   0.0     7       0  0.0   2.0   3.0   9.0     B01\n",
       "1  201700000001   0.0    10       0  0.0   2.0   3.0  13.0     A01\n",
       "2  201700000002   0.0     7       0  0.0   0.0   1.0  16.0     A01"
      ]
     },
     "metadata": {},
     "output_type": "display_data"
    }
   ],
   "source": [
    "#display(df_carac_2017.head(3))\n",
    "display(df_lieux_2017.head(3))\n",
    "display(df_usagers_2017.head(3))\n",
    "display(df_vehicules_2017.head(3))"
   ]
  },
  {
   "cell_type": "markdown",
   "id": "6dc720b1f7e6ca6d",
   "metadata": {},
   "source": [
    "# Jointure"
   ]
  },
  {
   "cell_type": "code",
   "execution_count": 171,
   "id": "5dee19f32e6f5ac0",
   "metadata": {
    "ExecuteTime": {
     "end_time": "2024-07-30T15:39:31.787778Z",
     "start_time": "2024-07-30T15:39:31.622912Z"
    }
   },
   "outputs": [
    {
     "name": "stdout",
     "output_type": "stream",
     "text": [
      "Usagers 2019 : 98618\n",
      "Vehicules 2019 : 100657\n",
      "Usagers 2018 : 97041\n",
      "Vehicules 2018 : 98876\n",
      "Usagers 2017 : 101659\n",
      "Vehicules 2017 : 103546\n"
     ]
    }
   ],
   "source": [
    "# On vérifie l'unicité du doublet 'Num_Acc', 'num_veh'\n",
    "\n",
    "# 2022\n",
    "print(\"Usagers 2019 :\", (~df_usagers_2019.duplicated(['Num_Acc', 'num_veh'])).sum())\n",
    "print(\"Vehicules 2019 :\", (~df_vehicules_2019.duplicated(['Num_Acc', 'num_veh'])).sum())\n",
    "\n",
    "# 2021\n",
    "print(\"Usagers 2018 :\", (~df_usagers_2018.duplicated(['Num_Acc', 'num_veh'])).sum())\n",
    "print(\"Vehicules 2018 :\", (~df_vehicules_2018.duplicated(['Num_Acc', 'num_veh'])).sum())\n",
    "\n",
    "# 2020\n",
    "print(\"Usagers 2017 :\", (~df_usagers_2017.duplicated(['Num_Acc', 'num_veh'])).sum())\n",
    "print(\"Vehicules 2017 :\", (~df_vehicules_2017.duplicated(['Num_Acc', 'num_veh'])).sum())"
   ]
  },
  {
   "cell_type": "code",
   "execution_count": 172,
   "id": "90db26d9cf373c3",
   "metadata": {
    "ExecuteTime": {
     "end_time": "2024-07-30T15:39:32.169142Z",
     "start_time": "2024-07-30T15:39:31.790797Z"
    }
   },
   "outputs": [],
   "source": [
    "df_merged_2019_1 = pd.merge(df_usagers_2019, df_vehicules_2019, on=['Num_Acc', 'num_veh'])\n",
    "df_merged_2019_2 = pd.merge(df_merged_2019_1, df_lieux_2019, on='Num_Acc')\n",
    "df_merged_2019 = pd.merge(df_merged_2019_2, df_carac_2019, on='Num_Acc')"
   ]
  },
  {
   "cell_type": "code",
   "execution_count": 173,
   "id": "31ce8a08d070f0dc",
   "metadata": {
    "ExecuteTime": {
     "end_time": "2024-07-30T15:39:32.181030Z",
     "start_time": "2024-07-30T15:39:32.172163Z"
    }
   },
   "outputs": [
    {
     "name": "stdout",
     "output_type": "stream",
     "text": [
      "Longueur df_merged : 133105\n",
      "longueur carac 58840\n",
      "longueur lieux 58840\n",
      "longueur usagers 132977\n",
      "longueur vehicules 100710\n"
     ]
    }
   ],
   "source": [
    "# On vérifie les longueurs des df\n",
    "print('Longueur df_merged :', len(df_merged_2019))\n",
    "print('longueur carac', len(df_carac_2019))\n",
    "print('longueur lieux', len(df_lieux_2019))\n",
    "print('longueur usagers', len(df_usagers_2019))\n",
    "print('longueur vehicules', len(df_vehicules_2019))"
   ]
  },
  {
   "cell_type": "code",
   "execution_count": 174,
   "id": "c312603032b2bea4",
   "metadata": {
    "ExecuteTime": {
     "end_time": "2024-07-30T15:39:32.706702Z",
     "start_time": "2024-07-30T15:39:32.184050Z"
    }
   },
   "outputs": [],
   "source": [
    "df_merged_2018_1 = pd.merge(df_usagers_2018, df_vehicules_2018, on=['Num_Acc', 'num_veh'])\n",
    "df_merged_2018_2 = pd.merge(df_merged_2018_1, df_lieux_2018, on='Num_Acc')\n",
    "df_merged_2018 = pd.merge(df_merged_2018_2, df_carac_2018, on='Num_Acc')\n",
    "\n",
    "df_merged_2017_1 = pd.merge(df_usagers_2017, df_vehicules_2017, on=['Num_Acc', 'num_veh'])\n",
    "df_merged_2017_2 = pd.merge(df_merged_2017_1, df_lieux_2017, on='Num_Acc')\n",
    "df_merged_2017 = pd.merge(df_merged_2017_2, df_carac_2017, on='Num_Acc')"
   ]
  },
  {
   "cell_type": "code",
   "execution_count": 175,
   "id": "8a48eac7e23f7626",
   "metadata": {
    "ExecuteTime": {
     "end_time": "2024-07-30T15:39:32.912031Z",
     "start_time": "2024-07-30T15:39:32.709714Z"
    }
   },
   "outputs": [],
   "source": [
    "df_merged = pd.concat([df_merged_2019, df_merged_2018, df_merged_2017], axis=0, ignore_index=True)"
   ]
  },
  {
   "cell_type": "code",
   "execution_count": 176,
   "id": "b6296305691e746d",
   "metadata": {
    "ExecuteTime": {
     "end_time": "2024-07-30T15:39:32.951398Z",
     "start_time": "2024-07-30T15:39:32.915043Z"
    }
   },
   "outputs": [
    {
     "data": {
      "text/html": [
       "<div>\n",
       "<style scoped>\n",
       "    .dataframe tbody tr th:only-of-type {\n",
       "        vertical-align: middle;\n",
       "    }\n",
       "\n",
       "    .dataframe tbody tr th {\n",
       "        vertical-align: top;\n",
       "    }\n",
       "\n",
       "    .dataframe thead th {\n",
       "        text-align: right;\n",
       "    }\n",
       "</style>\n",
       "<table border=\"1\" class=\"dataframe\">\n",
       "  <thead>\n",
       "    <tr style=\"text-align: right;\">\n",
       "      <th></th>\n",
       "      <th>Num_Acc</th>\n",
       "      <th>id_vehicule_x</th>\n",
       "      <th>num_veh</th>\n",
       "      <th>place</th>\n",
       "      <th>catu</th>\n",
       "      <th>grav</th>\n",
       "      <th>sexe</th>\n",
       "      <th>an_nais</th>\n",
       "      <th>trajet</th>\n",
       "      <th>secu1</th>\n",
       "      <th>...</th>\n",
       "      <th>agg</th>\n",
       "      <th>int</th>\n",
       "      <th>atm</th>\n",
       "      <th>col</th>\n",
       "      <th>adr</th>\n",
       "      <th>lat</th>\n",
       "      <th>long</th>\n",
       "      <th>secu</th>\n",
       "      <th>env1</th>\n",
       "      <th>gps</th>\n",
       "    </tr>\n",
       "  </thead>\n",
       "  <tbody>\n",
       "    <tr>\n",
       "      <th>0</th>\n",
       "      <td>201900000001</td>\n",
       "      <td>138 306 524</td>\n",
       "      <td>B01</td>\n",
       "      <td>2.0</td>\n",
       "      <td>2</td>\n",
       "      <td>4</td>\n",
       "      <td>2</td>\n",
       "      <td>2002.0</td>\n",
       "      <td>0.0</td>\n",
       "      <td>1.0</td>\n",
       "      <td>...</td>\n",
       "      <td>1</td>\n",
       "      <td>1</td>\n",
       "      <td>1.0</td>\n",
       "      <td>2.0</td>\n",
       "      <td>AUTOROUTE A3</td>\n",
       "      <td>48,8962100</td>\n",
       "      <td>2,4701200</td>\n",
       "      <td>NaN</td>\n",
       "      <td>NaN</td>\n",
       "      <td>NaN</td>\n",
       "    </tr>\n",
       "    <tr>\n",
       "      <th>1</th>\n",
       "      <td>201900000001</td>\n",
       "      <td>138 306 524</td>\n",
       "      <td>B01</td>\n",
       "      <td>1.0</td>\n",
       "      <td>1</td>\n",
       "      <td>4</td>\n",
       "      <td>2</td>\n",
       "      <td>1993.0</td>\n",
       "      <td>5.0</td>\n",
       "      <td>1.0</td>\n",
       "      <td>...</td>\n",
       "      <td>1</td>\n",
       "      <td>1</td>\n",
       "      <td>1.0</td>\n",
       "      <td>2.0</td>\n",
       "      <td>AUTOROUTE A3</td>\n",
       "      <td>48,8962100</td>\n",
       "      <td>2,4701200</td>\n",
       "      <td>NaN</td>\n",
       "      <td>NaN</td>\n",
       "      <td>NaN</td>\n",
       "    </tr>\n",
       "    <tr>\n",
       "      <th>2</th>\n",
       "      <td>201900000001</td>\n",
       "      <td>138 306 525</td>\n",
       "      <td>A01</td>\n",
       "      <td>1.0</td>\n",
       "      <td>1</td>\n",
       "      <td>1</td>\n",
       "      <td>1</td>\n",
       "      <td>1959.0</td>\n",
       "      <td>0.0</td>\n",
       "      <td>1.0</td>\n",
       "      <td>...</td>\n",
       "      <td>1</td>\n",
       "      <td>1</td>\n",
       "      <td>1.0</td>\n",
       "      <td>2.0</td>\n",
       "      <td>AUTOROUTE A3</td>\n",
       "      <td>48,8962100</td>\n",
       "      <td>2,4701200</td>\n",
       "      <td>NaN</td>\n",
       "      <td>NaN</td>\n",
       "      <td>NaN</td>\n",
       "    </tr>\n",
       "    <tr>\n",
       "      <th>3</th>\n",
       "      <td>201900000002</td>\n",
       "      <td>138 306 523</td>\n",
       "      <td>A01</td>\n",
       "      <td>1.0</td>\n",
       "      <td>1</td>\n",
       "      <td>4</td>\n",
       "      <td>2</td>\n",
       "      <td>1994.0</td>\n",
       "      <td>0.0</td>\n",
       "      <td>1.0</td>\n",
       "      <td>...</td>\n",
       "      <td>1</td>\n",
       "      <td>1</td>\n",
       "      <td>1.0</td>\n",
       "      <td>6.0</td>\n",
       "      <td>AUTOROUTE A1</td>\n",
       "      <td>48,9307000</td>\n",
       "      <td>2,3688000</td>\n",
       "      <td>NaN</td>\n",
       "      <td>NaN</td>\n",
       "      <td>NaN</td>\n",
       "    </tr>\n",
       "    <tr>\n",
       "      <th>4</th>\n",
       "      <td>201900000003</td>\n",
       "      <td>138 306 520</td>\n",
       "      <td>A01</td>\n",
       "      <td>1.0</td>\n",
       "      <td>1</td>\n",
       "      <td>1</td>\n",
       "      <td>1</td>\n",
       "      <td>1996.0</td>\n",
       "      <td>0.0</td>\n",
       "      <td>1.0</td>\n",
       "      <td>...</td>\n",
       "      <td>1</td>\n",
       "      <td>1</td>\n",
       "      <td>1.0</td>\n",
       "      <td>4.0</td>\n",
       "      <td>AUTOROUTE A86</td>\n",
       "      <td>48,9358718</td>\n",
       "      <td>2,3191744</td>\n",
       "      <td>NaN</td>\n",
       "      <td>NaN</td>\n",
       "      <td>NaN</td>\n",
       "    </tr>\n",
       "  </tbody>\n",
       "</table>\n",
       "<p>5 rows × 58 columns</p>\n",
       "</div>"
      ],
      "text/plain": [
       "        Num_Acc id_vehicule_x num_veh  place  catu  grav  sexe  an_nais  \\\n",
       "0  201900000001   138 306 524     B01    2.0     2     4     2   2002.0   \n",
       "1  201900000001   138 306 524     B01    1.0     1     4     2   1993.0   \n",
       "2  201900000001   138 306 525     A01    1.0     1     1     1   1959.0   \n",
       "3  201900000002   138 306 523     A01    1.0     1     4     2   1994.0   \n",
       "4  201900000003   138 306 520     A01    1.0     1     1     1   1996.0   \n",
       "\n",
       "   trajet  secu1  ...  agg  int  atm  col            adr         lat  \\\n",
       "0     0.0    1.0  ...    1    1  1.0  2.0   AUTOROUTE A3  48,8962100   \n",
       "1     5.0    1.0  ...    1    1  1.0  2.0   AUTOROUTE A3  48,8962100   \n",
       "2     0.0    1.0  ...    1    1  1.0  2.0   AUTOROUTE A3  48,8962100   \n",
       "3     0.0    1.0  ...    1    1  1.0  6.0   AUTOROUTE A1  48,9307000   \n",
       "4     0.0    1.0  ...    1    1  1.0  4.0  AUTOROUTE A86  48,9358718   \n",
       "\n",
       "        long  secu  env1  gps  \n",
       "0  2,4701200   NaN   NaN  NaN  \n",
       "1  2,4701200   NaN   NaN  NaN  \n",
       "2  2,4701200   NaN   NaN  NaN  \n",
       "3  2,3688000   NaN   NaN  NaN  \n",
       "4  2,3191744   NaN   NaN  NaN  \n",
       "\n",
       "[5 rows x 58 columns]"
      ]
     },
     "execution_count": 176,
     "metadata": {},
     "output_type": "execute_result"
    }
   ],
   "source": [
    "df_merged.head()"
   ]
  },
  {
   "cell_type": "markdown",
   "id": "647a43c0732b1fde",
   "metadata": {},
   "source": [
    "# Exploration rapide"
   ]
  },
  {
   "cell_type": "code",
   "execution_count": 177,
   "id": "45dd3058dbdf60f8",
   "metadata": {
    "ExecuteTime": {
     "end_time": "2024-07-30T15:39:33.281838Z",
     "start_time": "2024-07-30T15:39:32.955423Z"
    }
   },
   "outputs": [
    {
     "name": "stdout",
     "output_type": "stream",
     "text": [
      "<class 'pandas.core.frame.DataFrame'>\n",
      "RangeIndex: 399295 entries, 0 to 399294\n",
      "Data columns (total 58 columns):\n",
      " #   Column         Non-Null Count   Dtype  \n",
      "---  ------         --------------   -----  \n",
      " 0   Num_Acc        399295 non-null  int64  \n",
      " 1   id_vehicule_x  133105 non-null  object \n",
      " 2   num_veh        399295 non-null  object \n",
      " 3   place          376533 non-null  float64\n",
      " 4   catu           399295 non-null  int64  \n",
      " 5   grav           399295 non-null  int64  \n",
      " 6   sexe           399295 non-null  int64  \n",
      " 7   an_nais        399228 non-null  float64\n",
      " 8   trajet         399170 non-null  float64\n",
      " 9   secu1          133105 non-null  float64\n",
      " 10  secu2          133105 non-null  float64\n",
      " 11  secu3          133105 non-null  float64\n",
      " 12  locp           344598 non-null  float64\n",
      " 13  actp           344606 non-null  object \n",
      " 14  etatp          344583 non-null  float64\n",
      " 15  id_vehicule_y  133105 non-null  object \n",
      " 16  senc           399054 non-null  float64\n",
      " 17  catv           399295 non-null  int64  \n",
      " 18  obs            399024 non-null  float64\n",
      " 19  obsm           399117 non-null  float64\n",
      " 20  choc           399124 non-null  float64\n",
      " 21  manv           399117 non-null  float64\n",
      " 22  motor          133105 non-null  float64\n",
      " 23  occutc         268068 non-null  float64\n",
      " 24  catr           399295 non-null  int64  \n",
      " 25  voie           326637 non-null  object \n",
      " 26  v1             109714 non-null  float64\n",
      " 27  v2             22085 non-null   object \n",
      " 28  circ           397507 non-null  float64\n",
      " 29  nbv            397113 non-null  float64\n",
      " 30  vosp           396711 non-null  float64\n",
      " 31  prof           397251 non-null  float64\n",
      " 32  pr             292657 non-null  object \n",
      " 33  pr1            291556 non-null  object \n",
      " 34  plan           396332 non-null  float64\n",
      " 35  lartpc         160309 non-null  float64\n",
      " 36  larrout        161936 non-null  float64\n",
      " 37  surf           397198 non-null  float64\n",
      " 38  infra          389594 non-null  float64\n",
      " 39  situ           389966 non-null  float64\n",
      " 40  vma            133105 non-null  float64\n",
      " 41  jour           399295 non-null  int64  \n",
      " 42  mois           399295 non-null  int64  \n",
      " 43  an             399295 non-null  int64  \n",
      " 44  hrmn           399295 non-null  object \n",
      " 45  lum            399295 non-null  int64  \n",
      " 46  dep            399295 non-null  object \n",
      " 47  com            399295 non-null  object \n",
      " 48  agg            399295 non-null  int64  \n",
      " 49  int            399295 non-null  int64  \n",
      " 50  atm            399262 non-null  float64\n",
      " 51  col            399276 non-null  float64\n",
      " 52  adr            395009 non-null  object \n",
      " 53  lat            377149 non-null  object \n",
      " 54  long           377149 non-null  object \n",
      " 55  secu           253111 non-null  float64\n",
      " 56  env1           256386 non-null  float64\n",
      " 57  gps            255889 non-null  object \n",
      "dtypes: float64(31), int64(12), object(15)\n",
      "memory usage: 176.7+ MB\n"
     ]
    }
   ],
   "source": [
    "df_merged.info()"
   ]
  },
  {
   "cell_type": "markdown",
   "id": "35bd25441be7d70d",
   "metadata": {},
   "source": []
  },
  {
   "cell_type": "code",
   "execution_count": 178,
   "id": "f75851bc0691292a",
   "metadata": {
    "ExecuteTime": {
     "end_time": "2024-07-30T15:39:35.189501Z",
     "start_time": "2024-07-30T15:39:33.284857Z"
    }
   },
   "outputs": [
    {
     "name": "stdout",
     "output_type": "stream",
     "text": [
      "Nombre de lignes dupliquées : 433\n"
     ]
    }
   ],
   "source": [
    "print('Nombre de lignes dupliquées :', df_merged.duplicated().sum())"
   ]
  },
  {
   "cell_type": "code",
   "execution_count": 179,
   "id": "989f06fbeb976c27",
   "metadata": {
    "ExecuteTime": {
     "end_time": "2024-07-30T15:39:37.523312Z",
     "start_time": "2024-07-30T15:39:35.193520Z"
    }
   },
   "outputs": [],
   "source": [
    "df_merged = df_merged.drop_duplicates()"
   ]
  },
  {
   "cell_type": "code",
   "execution_count": 180,
   "id": "c9c3ef4129298073",
   "metadata": {
    "ExecuteTime": {
     "end_time": "2024-07-30T15:39:39.326103Z",
     "start_time": "2024-07-30T15:39:37.531841Z"
    }
   },
   "outputs": [
    {
     "name": "stdout",
     "output_type": "stream",
     "text": [
      "Nombre de lignes dupliquées : 0\n"
     ]
    }
   ],
   "source": [
    "print('Nombre de lignes dupliquées :', df_merged.duplicated().sum())"
   ]
  },
  {
   "cell_type": "markdown",
   "id": "4681a898f93f2b9a",
   "metadata": {},
   "source": [
    "### Analyse suivant modalités des variables\n"
   ]
  },
  {
   "cell_type": "markdown",
   "id": "32e9a42ae2eed2",
   "metadata": {},
   "source": [
    "#### Premier tri : Suppression des variables avec trop de NaN\n"
   ]
  },
  {
   "cell_type": "markdown",
   "id": "984d4ce00de4ef43",
   "metadata": {},
   "source": [
    "Les variables peuvent prendre la valeur de '-1' qui signifie 'Non renseigné'. Pour mieux gérer le nettoyage du df, on remplace cette valeur par un NaN.\n"
   ]
  },
  {
   "cell_type": "code",
   "execution_count": 181,
   "id": "e26e6ada2b3a8f5b",
   "metadata": {
    "ExecuteTime": {
     "end_time": "2024-07-30T15:39:41.057302Z",
     "start_time": "2024-07-30T15:39:39.330119Z"
    }
   },
   "outputs": [],
   "source": [
    "df_merged = df_merged.replace(-1, np.nan)\n",
    "df_merged = df_merged.replace('-1', np.nan)  # Si format txt\n",
    "df_merged = df_merged.replace(' -1', np.nan)  # Si format txt"
   ]
  },
  {
   "cell_type": "markdown",
   "id": "35c212f36597bbd",
   "metadata": {},
   "source": [
    "Visualisation des taux de NaN par variable"
   ]
  },
  {
   "cell_type": "code",
   "execution_count": 182,
   "id": "9f65bd17b95ee627",
   "metadata": {
    "ExecuteTime": {
     "end_time": "2024-07-30T15:39:42.153598Z",
     "start_time": "2024-07-30T15:39:41.060315Z"
    }
   },
   "outputs": [
    {
     "data": {
      "image/png": "[encoded data removed]",
      "text/plain": [
       "<Figure size 1500x1000 with 1 Axes>"
      ]
     },
     "metadata": {},
     "output_type": "display_data"
    }
   ],
   "source": [
    "nan_col = df_merged.isna().sum().sort_values(ascending=True) / df_merged.shape[0]\n",
    "nan_col.plot.barh(figsize=(15, 10))  # On trace via pandas\n",
    "plt.xticks([0.0, 0.1, 0.2, 0.3, 0.4, 0.5, 0.6, 0.7, 0.8, 0.9, 1.0])\n",
    "plt.grid(True)\n",
    "plt.xlabel('Proportion de valeurs manquantes')\n",
    "plt.ylabel('Variable')\n",
    "plt.show();"
   ]
  },
  {
   "cell_type": "markdown",
   "id": "d24cf49f17bc066e",
   "metadata": {},
   "source": [
    "Les variables suivantes ont des taux de NaN supérieurs à 10% :\n",
    "- secu3: Présence et utilisation de l’équipement de sécurité\n",
    "- v2: Lettre indice alphanumérique de la route\n",
    "- secu2: Présence et utilisation de l’équipement de sécurité\n",
    "- v1: Indice numérique du numéro de route\n",
    "- vma: Vitesse maximale autorisée sur le lieu et au moment de l’accident\n",
    "- motor: Type de motorisation du véhicule\n",
    "- secu1: Présence et utilisation de l’équipement de sécurité\n",
    "- id_vehicule_y: \n",
    "- id_vehicule_x: \n",
    "- lartpc: Largeur du terre-plein central (TPC) s'il existe (en m)\n",
    "- larrout: Largeur de la chaussée affectée à la circulation des véhicules ne sont pas compris les bandes d'arrêt d'urgence, les TPC et les places de stationnement (en m)\n",
    "- etatp: Le piéton accidenté était seul ou non\n",
    "- secu: Présence et utilisation de l’équipement de sécurité\n",
    "- gps: Codage GPS\n",
    "- env1: proximité d'une école\n",
    "- occutc: Nombre d’occupants dans le transport en commun\n",
    "- pr1: Distance en mètres au PR (par rapport à la borne amont)\n",
    "- pr: Numéro du PR de rattachement (numéro de la borne amont)\n",
    "- locp: Localisation du piéton\n",
    "- actp: Action du piéton\n",
    "- voie: Numéro de la route"
   ]
  },
  {
   "cell_type": "markdown",
   "id": "84b054da695a2c9f",
   "metadata": {},
   "source": [
    "Étant donné le grand nombre de valeurs manquantes (NaN), ces variables ne seront pas analysées, sauf pour les équipements de sécurité, qui seront regroupés.\n",
    "\n",
    "Trois variables concernant les piétons ne sont pas utilisables. Nous supprimerons également les autres variables liées aux piétons (catu = 3).\n",
    "\n",
    "Pour la localisation des accidents, nous supprimerons les variables redondantes avec les coordonnées GPS, mais garderons les variables de département (dep) et de commune (com)."
   ]
  },
  {
   "cell_type": "code",
   "execution_count": 183,
   "id": "e155866dd0481f7",
   "metadata": {
    "ExecuteTime": {
     "end_time": "2024-07-30T15:39:42.470791Z",
     "start_time": "2024-07-30T15:39:42.156612Z"
    }
   },
   "outputs": [],
   "source": [
    "df_merged = df_merged.drop(['motor', 'lartpc', 'occutc', 'larrout', 'etatp', 'locp', 'actp',\n",
    "                            'voie', 'v1', 'v2', 'adr', 'pr', 'pr1', 'env1'], axis=1)\n",
    "\n",
    "df_merged = df_merged[df_merged[\"catu\"] != 3]"
   ]
  },
  {
   "cell_type": "markdown",
   "id": "126c3fecb03244df",
   "metadata": {},
   "source": [
    "On trie les variables 'secu', 'secu2' et 'secu3'"
   ]
  },
  {
   "cell_type": "code",
   "execution_count": 184,
   "id": "9afc2461aca3573f",
   "metadata": {
    "ExecuteTime": {
     "end_time": "2024-07-30T15:39:43.175030Z",
     "start_time": "2024-07-30T15:39:42.473807Z"
    }
   },
   "outputs": [],
   "source": [
    "df_merged['Ceinture'] = df_merged[['secu1', 'secu2', 'secu3']].isin([1]).any(axis=1)\n",
    "df_merged['Casque'] = df_merged[['secu1', 'secu2', 'secu3']].isin([2]).any(axis=1)\n",
    "df_merged['Dispositif enfants'] = df_merged[['secu1', 'secu2', 'secu3']].isin([3]).any(axis=1)\n",
    "df_merged['Gilet réfléchissant'] = df_merged[['secu1', 'secu2', 'secu3']].isin([4]).any(axis=1)\n",
    "df_merged['Airbag'] = df_merged[['secu1', 'secu2', 'secu3']].isin([5, 7]).any(axis=1)\n",
    "df_merged['Gants'] = df_merged[['secu1', 'secu2', 'secu3']].isin([6, 7]).any(axis=1)\n",
    "df_merged['Autre'] = df_merged[['secu1', 'secu2', 'secu3']].isin([9]).any(axis=1)\n",
    "\n",
    "df_merged = df_merged.drop(['secu1', 'secu2', 'secu3'], axis=1)"
   ]
  },
  {
   "cell_type": "code",
   "execution_count": 185,
   "id": "95921bce73a8d6f4",
   "metadata": {
    "ExecuteTime": {
     "end_time": "2024-07-30T15:39:43.213238Z",
     "start_time": "2024-07-30T15:39:43.178068Z"
    }
   },
   "outputs": [
    {
     "data": {
      "text/html": [
       "<div>\n",
       "<style scoped>\n",
       "    .dataframe tbody tr th:only-of-type {\n",
       "        vertical-align: middle;\n",
       "    }\n",
       "\n",
       "    .dataframe tbody tr th {\n",
       "        vertical-align: top;\n",
       "    }\n",
       "\n",
       "    .dataframe thead th {\n",
       "        text-align: right;\n",
       "    }\n",
       "</style>\n",
       "<table border=\"1\" class=\"dataframe\">\n",
       "  <thead>\n",
       "    <tr style=\"text-align: right;\">\n",
       "      <th></th>\n",
       "      <th>Num_Acc</th>\n",
       "      <th>id_vehicule_x</th>\n",
       "      <th>num_veh</th>\n",
       "      <th>place</th>\n",
       "      <th>catu</th>\n",
       "      <th>grav</th>\n",
       "      <th>sexe</th>\n",
       "      <th>an_nais</th>\n",
       "      <th>trajet</th>\n",
       "      <th>id_vehicule_y</th>\n",
       "      <th>...</th>\n",
       "      <th>long</th>\n",
       "      <th>secu</th>\n",
       "      <th>gps</th>\n",
       "      <th>Ceinture</th>\n",
       "      <th>Casque</th>\n",
       "      <th>Dispositif enfants</th>\n",
       "      <th>Gilet réfléchissant</th>\n",
       "      <th>Airbag</th>\n",
       "      <th>Gants</th>\n",
       "      <th>Autre</th>\n",
       "    </tr>\n",
       "  </thead>\n",
       "  <tbody>\n",
       "    <tr>\n",
       "      <th>0</th>\n",
       "      <td>201900000001</td>\n",
       "      <td>138 306 524</td>\n",
       "      <td>B01</td>\n",
       "      <td>2.0</td>\n",
       "      <td>2</td>\n",
       "      <td>4</td>\n",
       "      <td>2</td>\n",
       "      <td>2002.0</td>\n",
       "      <td>0.0</td>\n",
       "      <td>138 306 524</td>\n",
       "      <td>...</td>\n",
       "      <td>2,4701200</td>\n",
       "      <td>NaN</td>\n",
       "      <td>NaN</td>\n",
       "      <td>True</td>\n",
       "      <td>False</td>\n",
       "      <td>False</td>\n",
       "      <td>False</td>\n",
       "      <td>False</td>\n",
       "      <td>False</td>\n",
       "      <td>False</td>\n",
       "    </tr>\n",
       "    <tr>\n",
       "      <th>1</th>\n",
       "      <td>201900000001</td>\n",
       "      <td>138 306 524</td>\n",
       "      <td>B01</td>\n",
       "      <td>1.0</td>\n",
       "      <td>1</td>\n",
       "      <td>4</td>\n",
       "      <td>2</td>\n",
       "      <td>1993.0</td>\n",
       "      <td>5.0</td>\n",
       "      <td>138 306 524</td>\n",
       "      <td>...</td>\n",
       "      <td>2,4701200</td>\n",
       "      <td>NaN</td>\n",
       "      <td>NaN</td>\n",
       "      <td>True</td>\n",
       "      <td>False</td>\n",
       "      <td>False</td>\n",
       "      <td>False</td>\n",
       "      <td>False</td>\n",
       "      <td>False</td>\n",
       "      <td>False</td>\n",
       "    </tr>\n",
       "    <tr>\n",
       "      <th>2</th>\n",
       "      <td>201900000001</td>\n",
       "      <td>138 306 525</td>\n",
       "      <td>A01</td>\n",
       "      <td>1.0</td>\n",
       "      <td>1</td>\n",
       "      <td>1</td>\n",
       "      <td>1</td>\n",
       "      <td>1959.0</td>\n",
       "      <td>0.0</td>\n",
       "      <td>138 306 525</td>\n",
       "      <td>...</td>\n",
       "      <td>2,4701200</td>\n",
       "      <td>NaN</td>\n",
       "      <td>NaN</td>\n",
       "      <td>True</td>\n",
       "      <td>False</td>\n",
       "      <td>False</td>\n",
       "      <td>False</td>\n",
       "      <td>False</td>\n",
       "      <td>False</td>\n",
       "      <td>False</td>\n",
       "    </tr>\n",
       "    <tr>\n",
       "      <th>3</th>\n",
       "      <td>201900000002</td>\n",
       "      <td>138 306 523</td>\n",
       "      <td>A01</td>\n",
       "      <td>1.0</td>\n",
       "      <td>1</td>\n",
       "      <td>4</td>\n",
       "      <td>2</td>\n",
       "      <td>1994.0</td>\n",
       "      <td>0.0</td>\n",
       "      <td>138 306 523</td>\n",
       "      <td>...</td>\n",
       "      <td>2,3688000</td>\n",
       "      <td>NaN</td>\n",
       "      <td>NaN</td>\n",
       "      <td>True</td>\n",
       "      <td>False</td>\n",
       "      <td>False</td>\n",
       "      <td>False</td>\n",
       "      <td>False</td>\n",
       "      <td>False</td>\n",
       "      <td>False</td>\n",
       "    </tr>\n",
       "    <tr>\n",
       "      <th>4</th>\n",
       "      <td>201900000003</td>\n",
       "      <td>138 306 520</td>\n",
       "      <td>A01</td>\n",
       "      <td>1.0</td>\n",
       "      <td>1</td>\n",
       "      <td>1</td>\n",
       "      <td>1</td>\n",
       "      <td>1996.0</td>\n",
       "      <td>0.0</td>\n",
       "      <td>138 306 520</td>\n",
       "      <td>...</td>\n",
       "      <td>2,3191744</td>\n",
       "      <td>NaN</td>\n",
       "      <td>NaN</td>\n",
       "      <td>True</td>\n",
       "      <td>False</td>\n",
       "      <td>False</td>\n",
       "      <td>False</td>\n",
       "      <td>False</td>\n",
       "      <td>False</td>\n",
       "      <td>False</td>\n",
       "    </tr>\n",
       "  </tbody>\n",
       "</table>\n",
       "<p>5 rows × 48 columns</p>\n",
       "</div>"
      ],
      "text/plain": [
       "        Num_Acc id_vehicule_x num_veh  place  catu  grav  sexe  an_nais  \\\n",
       "0  201900000001   138 306 524     B01    2.0     2     4     2   2002.0   \n",
       "1  201900000001   138 306 524     B01    1.0     1     4     2   1993.0   \n",
       "2  201900000001   138 306 525     A01    1.0     1     1     1   1959.0   \n",
       "3  201900000002   138 306 523     A01    1.0     1     4     2   1994.0   \n",
       "4  201900000003   138 306 520     A01    1.0     1     1     1   1996.0   \n",
       "\n",
       "   trajet id_vehicule_y  ...       long  secu  gps  Ceinture  Casque  \\\n",
       "0     0.0   138 306 524  ...  2,4701200   NaN  NaN      True   False   \n",
       "1     5.0   138 306 524  ...  2,4701200   NaN  NaN      True   False   \n",
       "2     0.0   138 306 525  ...  2,4701200   NaN  NaN      True   False   \n",
       "3     0.0   138 306 523  ...  2,3688000   NaN  NaN      True   False   \n",
       "4     0.0   138 306 520  ...  2,3191744   NaN  NaN      True   False   \n",
       "\n",
       "   Dispositif enfants  Gilet réfléchissant  Airbag  Gants  Autre  \n",
       "0               False                False   False  False  False  \n",
       "1               False                False   False  False  False  \n",
       "2               False                False   False  False  False  \n",
       "3               False                False   False  False  False  \n",
       "4               False                False   False  False  False  \n",
       "\n",
       "[5 rows x 48 columns]"
      ]
     },
     "execution_count": 185,
     "metadata": {},
     "output_type": "execute_result"
    }
   ],
   "source": [
    "df_merged.head()"
   ]
  },
  {
   "cell_type": "code",
   "execution_count": 186,
   "id": "3649dd18008878c1",
   "metadata": {
    "ExecuteTime": {
     "end_time": "2024-07-30T15:39:43.434933Z",
     "start_time": "2024-07-30T15:39:43.216257Z"
    }
   },
   "outputs": [
    {
     "name": "stdout",
     "output_type": "stream",
     "text": [
      "<class 'pandas.core.frame.DataFrame'>\n",
      "Index: 365210 entries, 0 to 399294\n",
      "Data columns (total 48 columns):\n",
      " #   Column               Non-Null Count   Dtype  \n",
      "---  ------               --------------   -----  \n",
      " 0   Num_Acc              365210 non-null  int64  \n",
      " 1   id_vehicule_x        121765 non-null  object \n",
      " 2   num_veh              365210 non-null  object \n",
      " 3   place                364917 non-null  float64\n",
      " 4   catu                 365210 non-null  int64  \n",
      " 5   grav                 365210 non-null  int64  \n",
      " 6   sexe                 365210 non-null  int64  \n",
      " 7   an_nais              365146 non-null  float64\n",
      " 8   trajet               364571 non-null  float64\n",
      " 9   id_vehicule_y        121765 non-null  object \n",
      " 10  senc                 364968 non-null  float64\n",
      " 11  catv                 365210 non-null  int64  \n",
      " 12  obs                  364941 non-null  float64\n",
      " 13  obsm                 364948 non-null  float64\n",
      " 14  choc                 365018 non-null  float64\n",
      " 15  manv                 365016 non-null  float64\n",
      " 16  catr                 365210 non-null  int64  \n",
      " 17  circ                 357805 non-null  float64\n",
      " 18  nbv                  362057 non-null  float64\n",
      " 19  vosp                 361565 non-null  float64\n",
      " 20  prof                 363287 non-null  float64\n",
      " 21  plan                 362383 non-null  float64\n",
      " 22  surf                 363231 non-null  float64\n",
      " 23  infra                355907 non-null  float64\n",
      " 24  situ                 356178 non-null  float64\n",
      " 25  vma                  120029 non-null  float64\n",
      " 26  jour                 365210 non-null  int64  \n",
      " 27  mois                 365210 non-null  int64  \n",
      " 28  an                   365210 non-null  int64  \n",
      " 29  hrmn                 365210 non-null  object \n",
      " 30  lum                  365210 non-null  int64  \n",
      " 31  dep                  365210 non-null  object \n",
      " 32  com                  365210 non-null  object \n",
      " 33  agg                  365210 non-null  int64  \n",
      " 34  int                  365210 non-null  int64  \n",
      " 35  atm                  365178 non-null  float64\n",
      " 36  col                  365192 non-null  float64\n",
      " 37  lat                  345032 non-null  object \n",
      " 38  long                 345032 non-null  object \n",
      " 39  secu                 243233 non-null  float64\n",
      " 40  gps                  234404 non-null  object \n",
      " 41  Ceinture             365210 non-null  bool   \n",
      " 42  Casque               365210 non-null  bool   \n",
      " 43  Dispositif enfants   365210 non-null  bool   \n",
      " 44  Gilet réfléchissant  365210 non-null  bool   \n",
      " 45  Airbag               365210 non-null  bool   \n",
      " 46  Gants                365210 non-null  bool   \n",
      " 47  Autre                365210 non-null  bool   \n",
      "dtypes: bool(7), float64(20), int64(12), object(9)\n",
      "memory usage: 119.5+ MB\n"
     ]
    }
   ],
   "source": [
    "df_merged.info()"
   ]
  },
  {
   "cell_type": "markdown",
   "id": "bf74705c52f76476",
   "metadata": {},
   "source": [
    "#### On corrige certaines anomalies et valeurs aberrantes dans les variables restantes"
   ]
  },
  {
   "cell_type": "markdown",
   "id": "ea3dd58080def536",
   "metadata": {},
   "source": [
    "On enlève les limitations de vitesse > à 130 km/h"
   ]
  },
  {
   "cell_type": "code",
   "execution_count": 187,
   "id": "68975b4d30c34d0b",
   "metadata": {
    "ExecuteTime": {
     "end_time": "2024-07-30T15:39:43.447900Z",
     "start_time": "2024-07-30T15:39:43.437944Z"
    }
   },
   "outputs": [],
   "source": [
    "df_merged.loc[df_merged['vma'] > 130, 'vma'] = np.nan"
   ]
  },
  {
   "cell_type": "markdown",
   "id": "3071f23c531c37eb",
   "metadata": {},
   "source": [
    "On convertit dans le bon format les latitudes et longitudes"
   ]
  },
  {
   "cell_type": "code",
   "execution_count": 188,
   "id": "6d5997634b98c278",
   "metadata": {
    "ExecuteTime": {
     "end_time": "2024-07-30T15:39:45.000838Z",
     "start_time": "2024-07-30T15:39:43.450917Z"
    }
   },
   "outputs": [],
   "source": [
    "df_merged['lat'] = df_merged['lat'].str.replace(',', '.').astype(float)\n",
    "df_merged['long'] = df_merged['long'].str.replace(',', '.').astype(float)"
   ]
  },
  {
   "cell_type": "markdown",
   "id": "3cf2236ccaaa920b",
   "metadata": {},
   "source": [
    "On ne garde pas les victimes trop vieilles"
   ]
  },
  {
   "cell_type": "code",
   "execution_count": 189,
   "id": "f59a567df76dd733",
   "metadata": {
    "ExecuteTime": {
     "end_time": "2024-07-30T15:39:45.139022Z",
     "start_time": "2024-07-30T15:39:45.003853Z"
    }
   },
   "outputs": [],
   "source": [
    "df_merged = df_merged[df_merged[\"an_nais\"] >= 1920]"
   ]
  },
  {
   "cell_type": "markdown",
   "id": "3b76e54467eed513",
   "metadata": {},
   "source": [
    "On rajoute \"20\" devant les années de l'accident qui ne l'ont pas"
   ]
  },
  {
   "cell_type": "code",
   "execution_count": 190,
   "id": "5969f1aacae1cc9c",
   "metadata": {
    "ExecuteTime": {
     "end_time": "2024-07-30T15:39:45.528145Z",
     "start_time": "2024-07-30T15:39:45.143051Z"
    }
   },
   "outputs": [],
   "source": [
    "df_merged['an'] = df_merged['an'].astype(str)\n",
    "df_merged['an'] = df_merged['an'].apply(lambda x: '20' + x if len(x) == 2 else x)\n",
    "df_merged['an'] = df_merged['an'].astype(int)"
   ]
  },
  {
   "cell_type": "markdown",
   "id": "aed31066b7a40a87",
   "metadata": {},
   "source": [
    "### Représentations graphiques avec commentaires"
   ]
  },
  {
   "cell_type": "code",
   "execution_count": 191,
   "id": "9d35bb87f5d3206b",
   "metadata": {
    "ExecuteTime": {
     "end_time": "2024-07-30T15:39:46.540451Z",
     "start_time": "2024-07-30T15:39:45.531357Z"
    }
   },
   "outputs": [
    {
     "data": {
      "image/png": "[encoded data removed]",
      "text/plain": [
       "<Figure size 1000x600 with 1 Axes>"
      ]
     },
     "metadata": {},
     "output_type": "display_data"
    }
   ],
   "source": [
    "# Distribution des accidents par année\n",
    "plt.figure(figsize=(10, 6))\n",
    "sns.countplot(data=df_merged, x='an')\n",
    "plt.title('Distribution des accidents par année')\n",
    "plt.xlabel('Année')\n",
    "plt.ylabel('Nombre d\\'accidents')\n",
    "plt.show()"
   ]
  },
  {
   "cell_type": "markdown",
   "id": "9ed2fddfd50c9f79",
   "metadata": {},
   "source": [
    "On peut observer que le nombre d'accidents est \"constant\" avec une diminution en 2018 puis une augmentation en 2019. "
   ]
  },
  {
   "cell_type": "code",
   "execution_count": 198,
   "id": "b857e26beb9fda8d",
   "metadata": {
    "ExecuteTime": {
     "end_time": "2024-07-30T15:52:55.436291Z",
     "start_time": "2024-07-30T15:52:53.160042Z"
    }
   },
   "outputs": [
    {
     "data": {
      "image/png": "[encoded data removed]",
      "text/plain": [
       "<Figure size 1000x600 with 1 Axes>"
      ]
     },
     "metadata": {},
     "output_type": "display_data"
    }
   ],
   "source": [
    "# Accidents par condition météorologique\n",
    "val_atm = {1: 'Normale',\n",
    "           2: 'Pluie légère',\n",
    "           3: 'Pluie forte',\n",
    "           4: 'Neige - grêle',\n",
    "           5: 'Brouillard - fumée',\n",
    "           6: 'Vent fort - tempête',\n",
    "           7: 'Temps éblouissant',\n",
    "           8: 'Temps couvert',\n",
    "           9: 'Autre'}\n",
    "\n",
    "df_merged['atm'] = df_merged['atm'].replace(val_atm)\n",
    "\n",
    "plt.figure(figsize=(10, 6))\n",
    "sns.countplot(data=df_merged, x='atm', hue='an', order=df_merged['atm'].value_counts().index)\n",
    "plt.title('Accidents par condition météorologique')\n",
    "plt.xlabel('Condition météorologique')\n",
    "plt.ylabel('Nombre d\\'accidents')\n",
    "plt.xticks(rotation=45)\n",
    "plt.show()"
   ]
  },
  {
   "cell_type": "markdown",
   "id": "a0306ae9d806dfbf",
   "metadata": {},
   "source": [
    "On peut observer sur ce graphique que la plupart des accidents ont lieu par temps normal, suivi de près par les accidents par pluie légère.\n",
    "On peut en conclure que les conditions météorologiques n'ont pas un impact majeur sur le nombre d'accidents."
   ]
  },
  {
   "cell_type": "code",
   "execution_count": 199,
   "id": "910d481205f2e950",
   "metadata": {
    "ExecuteTime": {
     "end_time": "2024-07-30T15:55:33.293820Z",
     "start_time": "2024-07-30T15:55:29.182616Z"
    }
   },
   "outputs": [
    {
     "data": {
      "image/png": "[encoded data removed]",
      "text/plain": [
       "<Figure size 1000x600 with 1 Axes>"
      ]
     },
     "metadata": {},
     "output_type": "display_data"
    }
   ],
   "source": [
    "# Accidents par groupe d'âge\n",
    "df_merged['age'] = df_merged['an'] - df_merged['an_nais']\n",
    "plt.figure(figsize=(10, 6))\n",
    "sns.histplot(data=df_merged, x='age', bins=20, kde=True)\n",
    "plt.title('Accidents par groupe d\\'âge')\n",
    "plt.xlabel('Âge')\n",
    "plt.ylabel('Nombre d\\'accidents')\n",
    "plt.show()"
   ]
  },
  {
   "cell_type": "markdown",
   "id": "80066bd9f060339c",
   "metadata": {},
   "source": [
    "On peut observer que les accidents sont plus fréquents chez les jeunes conducteurs entre 20 et 25 ans puis ils diminuent avec l'âge."
   ]
  },
  {
   "cell_type": "code",
   "execution_count": 197,
   "id": "3928b48e38825519",
   "metadata": {
    "ExecuteTime": {
     "end_time": "2024-07-30T15:52:30.097118Z",
     "start_time": "2024-07-30T15:52:28.477846Z"
    }
   },
   "outputs": [
    {
     "data": {
      "image/png": "[encoded data removed]",
      "text/plain": [
       "<Figure size 1000x600 with 1 Axes>"
      ]
     },
     "metadata": {},
     "output_type": "display_data"
    }
   ],
   "source": [
    "# Accidents par heure de la journée\n",
    "df_merged['hrmn'] = df_merged['hrmn'].str.replace(':', '')\n",
    "df_merged['heure'] = df_merged['hrmn'].astype(int) // 100\n",
    "\n",
    "plt.figure(figsize=(10, 6))\n",
    "sns.countplot(x='heure', hue='an', data=df_merged)\n",
    "plt.title(\"Nombre d'accidents par heure\")\n",
    "plt.show();"
   ]
  },
  {
   "cell_type": "markdown",
   "id": "7363cf4d93e8bcad",
   "metadata": {},
   "source": [
    "On peut observer que les accidents sont plus fréquents en fin de journée, entre 17h et 19h. Généralement à ces heures-là, les gens rentrent du travail, ce qui peut expliquer cette hausse."
   ]
  },
  {
   "cell_type": "code",
   "execution_count": 200,
   "id": "4e9388f68fa4f518",
   "metadata": {
    "ExecuteTime": {
     "end_time": "2024-07-30T15:56:53.391645Z",
     "start_time": "2024-07-30T15:56:51.960673Z"
    }
   },
   "outputs": [
    {
     "data": {
      "image/png": "[encoded data removed]",
      "text/plain": [
       "<Figure size 1000x600 with 1 Axes>"
      ]
     },
     "metadata": {},
     "output_type": "display_data"
    }
   ],
   "source": [
    "# Accidents par sexe\n",
    "val_sexe = {1: 'Homme',\n",
    "           2: 'Femme'}\n",
    "\n",
    "df_merged['sexe'] = df_merged['sexe'].replace(val_sexe)\n",
    "\n",
    "plt.figure(figsize=(10, 6))\n",
    "sns.countplot(x='sexe', hue='an', data=df_merged)\n",
    "plt.title(\"Nombre d'accidents par sexe\")\n",
    "plt.show();"
   ]
  },
  {
   "cell_type": "markdown",
   "id": "fae8b812c794ec1e",
   "metadata": {},
   "source": [
    "On peut observer que les accidents sont globalement plus fréquents chez les hommes que chez les femmes."
   ]
  }
 ],
 "metadata": {
  "kernelspec": {
   "display_name": "Python 3 (ipykernel)",
   "language": "python",
   "name": "python3"
  },
  "language_info": {
   "codemirror_mode": {
    "name": "ipython",
    "version": 3
   },
   "file_extension": ".py",
   "mimetype": "text/x-python",
   "name": "python",
   "nbconvert_exporter": "python",
   "pygments_lexer": "ipython3",
   "version": "3.11.7"
  }
 },
 "nbformat": 4,
 "nbformat_minor": 5
}
