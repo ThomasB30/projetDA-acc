{
 "cells": [
  {
   "cell_type": "code",
   "execution_count": 3,
   "id": "bf45e768-07c2-4753-8662-6a4fc25330b2",
   "metadata": {},
   "outputs": [],
   "source": [
    "# Chargement des packages nécessaires\n",
    "import numpy as np\n",
    "import pandas as pd\n",
    "import matplotlib.pyplot as plt\n",
    "import seaborn as sns"
   ]
  },
  {
   "cell_type": "markdown",
   "id": "9f2b1e56-f6af-4396-802d-76aa20fa8b78",
   "metadata": {},
   "source": [
    "## Importation des données"
   ]
  },
  {
   "cell_type": "code",
   "execution_count": 18,
   "id": "bfc38d4e-8f5d-49f2-b322-f4c1013026e4",
   "metadata": {},
   "outputs": [],
   "source": [
    "# Année 2022\n",
    "df_carac_2022 = pd.read_csv('../data/caracteristiques_2022.csv', sep=';', low_memory=False)\n",
    "df_lieux_2022 = pd.read_csv(\"../data/lieux_2022.csv\", sep=';', low_memory=False)\n",
    "df_usagers_2022 = pd.read_csv(\"../data/usagers_2022.csv\", sep=';', low_memory=False)\n",
    "df_vehicules_2022 = pd.read_csv(\"../data/vehicules_2022.csv\", sep=';', low_memory=False)\n",
    "\n",
    "# Année 2021\n",
    "df_carac_2021 = pd.read_csv(\"../data/caracteristiques_2021.csv\", sep=';', low_memory=False)\n",
    "df_lieux_2021 = pd.read_csv(\"../data/lieux_2021.csv\", sep=';', low_memory=False)\n",
    "df_usagers_2021 = pd.read_csv(\"../data/usagers_2021.csv\", sep=';', low_memory=False)\n",
    "df_vehicules_2021 = pd.read_csv(\"../data/vehicules_2021.csv\", sep=';', low_memory=False)\n",
    "\n",
    "# Année 2020\n",
    "df_carac_2020 = pd.read_csv(\"../data/caracteristiques_2020.csv\", sep=';', low_memory=False)\n",
    "df_lieux_2020 = pd.read_csv(\"../data/lieux_2020.csv\", sep=';', low_memory=False)\n",
    "df_usagers_2020 = pd.read_csv(\"../data/usagers_2020.csv\", sep=';', low_memory=False)\n",
    "df_vehicules_2020 = pd.read_csv(\"../data/vehicules_2020.csv\", sep=';', low_memory=False)"
   ]
  },
  {
   "cell_type": "code",
   "execution_count": 20,
   "id": "fc6cb6bb-4a37-4704-9bd7-b0a38494003f",
   "metadata": {},
   "outputs": [],
   "source": [
    "# On modifie le nom de la colonne de df_carac_2022\n",
    "\n",
    "df_carac_2022.rename(columns={'Accident_Id': 'Num_Acc'}, inplace=True)"
   ]
  },
  {
   "cell_type": "markdown",
   "id": "b6db6d26-db54-4478-b690-99849b1a11de",
   "metadata": {},
   "source": [
    "### Nombre de lignes où triplet Num_Acc, id-vehicule et num_veh est unique"
   ]
  },
  {
   "cell_type": "code",
   "execution_count": 101,
   "id": "b30a6734-07d6-459d-a5f5-9f815e10a86a",
   "metadata": {},
   "outputs": [
    {
     "name": "stdout",
     "output_type": "stream",
     "text": [
      "Usagers 2022 : 94493\n",
      "Vehicules 2022 : 94493\n",
      "Longueur Usagers 2022: 126662\n",
      "Longueur Vehicules 2022: 94493\n",
      "Id Usagers 2022 : 126662\n"
     ]
    }
   ],
   "source": [
    "print(\"Usagers 2022 :\", (~df_usagers_2022.duplicated([\"Num_Acc\", \"id_vehicule\", \"num_veh\"])).sum())\n",
    "print(\"Vehicules 2022 :\", (~df_vehicules_2022.duplicated([\"Num_Acc\", \"id_vehicule\", \"num_veh\"])).sum())\n",
    "\n",
    "print(\"Longueur Usagers 2022:\", len(df_usagers_2022))\n",
    "print(\"Longueur Vehicules 2022:\", len(df_vehicules_2022))\n",
    "\n",
    "print(\"Id Usagers 2022 :\", (~df_usagers_2022.duplicated(['id_usager'])).sum())"
   ]
  },
  {
   "cell_type": "code",
   "execution_count": 103,
   "id": "43ef4223-eacb-4c02-86f6-ccbd89e05ed3",
   "metadata": {},
   "outputs": [
    {
     "name": "stdout",
     "output_type": "stream",
     "text": [
      "Usagers 2021 : 97309\n",
      "Vehicules 2021 : 97315\n",
      "Longueur Usagers 2021: 129248\n",
      "Longueur Vehicules 2021: 97315\n",
      "Id Usagers 2021 : 129248\n"
     ]
    }
   ],
   "source": [
    "print(\"Usagers 2021 :\", (~df_usagers_2021.duplicated([\"Num_Acc\", \"id_vehicule\", \"num_veh\"])).sum())\n",
    "print(\"Vehicules 2021 :\", (~df_vehicules_2021.duplicated([\"Num_Acc\", \"id_vehicule\", \"num_veh\"])).sum())\n",
    "\n",
    "print(\"Longueur Usagers 2021:\", len(df_usagers_2021))\n",
    "print(\"Longueur Vehicules 2021:\", len(df_vehicules_2021))\n",
    "\n",
    "print(\"Id Usagers 2021 :\", (~df_usagers_2021.duplicated(['id_usager'])).sum())"
   ]
  },
  {
   "cell_type": "code",
   "execution_count": 135,
   "id": "e2bc571d-97db-4e44-99ba-cd2b4f07c7e8",
   "metadata": {},
   "outputs": [
    {
     "name": "stdout",
     "output_type": "stream",
     "text": [
      "Usagers 2020 : 79167\n",
      "Vehicules 2020 : 81066\n",
      "Longueur Usagers 2020: 105295\n",
      "Longueur Vehicules 2020: 81066\n"
     ]
    }
   ],
   "source": [
    "print(\"Usagers 2020 :\", (~df_usagers_2020.duplicated([\"Num_Acc\", \"id_vehicule\", \"num_veh\"])).sum())\n",
    "print(\"Vehicules 2020 :\", (~df_vehicules_2020.duplicated([\"Num_Acc\", \"id_vehicule\", \"num_veh\"])).sum())\n",
    "\n",
    "print(\"Longueur Usagers 2020:\", len(df_usagers_2020))\n",
    "print(\"Longueur Vehicules 2020:\", len(df_vehicules_2020))\n",
    "\n",
    "# Il n'y a pas de id_usager en 2020"
   ]
  },
  {
   "cell_type": "markdown",
   "id": "a3886421-61fe-4da3-b0ff-dbbaf8b3b0c6",
   "metadata": {},
   "source": [
    "### Nombre de lignes dupliquées"
   ]
  },
  {
   "cell_type": "code",
   "execution_count": 59,
   "id": "f3af53c6-68eb-47af-852d-6c85b390690a",
   "metadata": {},
   "outputs": [
    {
     "name": "stdout",
     "output_type": "stream",
     "text": [
      "Usagers 2022 : 0\n",
      "Vehicules 2022 : 0\n"
     ]
    }
   ],
   "source": [
    "print(\"Usagers 2022 :\", (df_usagers_2022.duplicated()).sum())\n",
    "print(\"Vehicules 2022 :\", (df_vehicules_2022.duplicated()).sum())"
   ]
  },
  {
   "cell_type": "code",
   "execution_count": 61,
   "id": "31c9039a-900c-49a1-9eb6-9d17fe1494c1",
   "metadata": {},
   "outputs": [
    {
     "name": "stdout",
     "output_type": "stream",
     "text": [
      "Usagers 2021 : 0\n",
      "Vehicules 2021 : 0\n"
     ]
    }
   ],
   "source": [
    "print(\"Usagers 2021 :\", (df_usagers_2021.duplicated()).sum())\n",
    "print(\"Vehicules 2021 :\", (df_vehicules_2021.duplicated()).sum())"
   ]
  },
  {
   "cell_type": "code",
   "execution_count": 63,
   "id": "e06c61ce-70bf-4553-9cca-2b25a66c7dfc",
   "metadata": {},
   "outputs": [
    {
     "name": "stdout",
     "output_type": "stream",
     "text": [
      "Usagers 2020 : 63\n",
      "Vehicules 2020 : 0\n"
     ]
    }
   ],
   "source": [
    "print(\"Usagers 2020 :\", (df_usagers_2020.duplicated()).sum())\n",
    "print(\"Vehicules 2020 :\", (df_vehicules_2020.duplicated()).sum())"
   ]
  },
  {
   "cell_type": "markdown",
   "id": "0f7070d1-66ca-4dbc-87ad-84ddc28c3e0b",
   "metadata": {},
   "source": [
    "### Nombre de lignes où Num_Acc est unique"
   ]
  },
  {
   "cell_type": "code",
   "execution_count": 70,
   "id": "75894e68-f4aa-4aa4-8940-6941cbada3d3",
   "metadata": {},
   "outputs": [
    {
     "name": "stdout",
     "output_type": "stream",
     "text": [
      "Usagers 2022 : 55302\n",
      "Vehicules 2022 : 55302\n",
      "Lieux 2022 : 55302\n",
      "Caracteristiques 2022 : 55302\n",
      "-----------------\n",
      "Longueur Usagers 2022: 126662\n",
      "Longueur Vehicules 2022: 94493\n",
      "Longueur Lieux 2022: 55302\n",
      "Longueur Caracteristiques 2022: 55302\n"
     ]
    }
   ],
   "source": [
    "print(\"Usagers 2022 :\", (~df_usagers_2022.duplicated([\"Num_Acc\"])).sum())\n",
    "print(\"Vehicules 2022 :\", (~df_vehicules_2022.duplicated([\"Num_Acc\"])).sum())\n",
    "print(\"Lieux 2022 :\", (~df_lieux_2022.duplicated([\"Num_Acc\"])).sum())\n",
    "print(\"Caracteristiques 2022 :\", (~df_carac_2022.duplicated([\"Num_Acc\"])).sum())\n",
    "print(\"-----------------\")\n",
    "print(\"Longueur Usagers 2022:\", len(df_usagers_2022))\n",
    "print(\"Longueur Vehicules 2022:\", len(df_vehicules_2022))\n",
    "print(\"Longueur Lieux 2022:\", len(df_lieux_2022))\n",
    "print(\"Longueur Caracteristiques 2022:\", len(df_carac_2022))"
   ]
  },
  {
   "cell_type": "code",
   "execution_count": 72,
   "id": "54a9d320-e069-4c69-be12-52d929ae9fc2",
   "metadata": {},
   "outputs": [
    {
     "name": "stdout",
     "output_type": "stream",
     "text": [
      "Usagers 2021 : 56518\n",
      "Vehicules 2021 : 56518\n",
      "Lieux 2021 : 56518\n",
      "Caracteristiques 2021 : 56518\n",
      "-----------------\n",
      "Longueur Usagers 2021: 129248\n",
      "Longueur Vehicules 2021: 97315\n",
      "Longueur Lieux 2021: 56518\n",
      "Longueur Caracteristiques 2021: 56518\n"
     ]
    }
   ],
   "source": [
    "print(\"Usagers 2021 :\", (~df_usagers_2021.duplicated([\"Num_Acc\"])).sum())\n",
    "print(\"Vehicules 2021 :\", (~df_vehicules_2021.duplicated([\"Num_Acc\"])).sum())\n",
    "print(\"Lieux 2021 :\", (~df_lieux_2021.duplicated([\"Num_Acc\"])).sum())\n",
    "print(\"Caracteristiques 2021 :\", (~df_carac_2021.duplicated([\"Num_Acc\"])).sum())\n",
    "print(\"-----------------\")\n",
    "print(\"Longueur Usagers 2021:\", len(df_usagers_2021))\n",
    "print(\"Longueur Vehicules 2021:\", len(df_vehicules_2021))\n",
    "print(\"Longueur Lieux 2021:\", len(df_lieux_2021))\n",
    "print(\"Longueur Caracteristiques 2021:\", len(df_carac_2021))"
   ]
  },
  {
   "cell_type": "code",
   "execution_count": 74,
   "id": "4fd3ebe2-5fb1-406e-b2da-f22016b14da5",
   "metadata": {},
   "outputs": [
    {
     "name": "stdout",
     "output_type": "stream",
     "text": [
      "Usagers 2020 : 47744\n",
      "Vehicules 2020 : 47744\n",
      "Lieux 2020 : 47744\n",
      "Caracteristiques 2020 : 47744\n",
      "-----------------\n",
      "Longueur Usagers 2020: 105295\n",
      "Longueur Vehicules 2020: 81066\n",
      "Longueur Lieux 2020: 47744\n",
      "Longueur Caracteristiques 2020: 47744\n"
     ]
    }
   ],
   "source": [
    "print(\"Usagers 2020 :\", (~df_usagers_2020.duplicated([\"Num_Acc\"])).sum())\n",
    "print(\"Vehicules 2020 :\", (~df_vehicules_2020.duplicated([\"Num_Acc\"])).sum())\n",
    "print(\"Lieux 2020 :\", (~df_lieux_2020.duplicated([\"Num_Acc\"])).sum())\n",
    "print(\"Caracteristiques 2020 :\", (~df_carac_2020.duplicated([\"Num_Acc\"])).sum())\n",
    "print(\"-----------------\")\n",
    "print(\"Longueur Usagers 2020:\", len(df_usagers_2020))\n",
    "print(\"Longueur Vehicules 2020:\", len(df_vehicules_2020))\n",
    "print(\"Longueur Lieux 2020:\", len(df_lieux_2020))\n",
    "print(\"Longueur Caracteristiques 2020:\", len(df_carac_2020))"
   ]
  },
  {
   "cell_type": "markdown",
   "id": "7c0eedb1-e21f-4ed4-95e3-b015a57b9591",
   "metadata": {},
   "source": [
    "### Conclusion"
   ]
  },
  {
   "cell_type": "markdown",
   "id": "e9d86914-00ac-4922-8edc-cfe672040bfd",
   "metadata": {},
   "source": [
    "Le df Usagers est le df qui présente à chaque fois le plus de lignes (avec une ligne = 1 victime). Parmi les 4 df, il s'agit du dénominateur commun car on peut avoir plusieurs victimes pour un même véhicule, pour un même lieu et pour un même accident"
   ]
  },
  {
   "cell_type": "markdown",
   "id": "434508a1-b22a-4629-b1b3-09c364cfa179",
   "metadata": {},
   "source": [
    "## Jointure et vérification"
   ]
  },
  {
   "cell_type": "code",
   "execution_count": 85,
   "id": "e60faaed-5b74-4920-be38-8f76ce07bfe1",
   "metadata": {},
   "outputs": [
    {
     "name": "stdout",
     "output_type": "stream",
     "text": [
      "Longueur triplet : 126662\n",
      "Longueur Num_Acc : 241487\n"
     ]
    }
   ],
   "source": [
    "df_merged_2022_1 = pd.merge(df_usagers_2022, df_vehicules_2022, on=['Num_Acc', 'id_vehicule', 'num_veh'])\n",
    "df_merged_2022_2 = pd.merge(df_usagers_2022, df_vehicules_2022, on=['Num_Acc'])\n",
    "\n",
    "print(\"Longueur triplet :\", len(df_merged_2022_1))\n",
    "print(\"Longueur Num_Acc :\", len(df_merged_2022_2))"
   ]
  },
  {
   "cell_type": "code",
   "execution_count": 115,
   "id": "cebf7471-9606-4c4a-934b-29dfb0380f26",
   "metadata": {},
   "outputs": [
    {
     "data": {
      "text/plain": [
       "Index(['Num_Acc', 'id_usager', 'id_vehicule', 'num_veh', 'place', 'catu',\n",
       "       'grav', 'sexe', 'an_nais', 'trajet', 'secu1', 'secu2', 'secu3', 'locp',\n",
       "       'actp', 'etatp', 'senc', 'catv', 'obs', 'obsm', 'choc', 'manv', 'motor',\n",
       "       'occutc'],\n",
       "      dtype='object')"
      ]
     },
     "metadata": {},
     "output_type": "display_data"
    },
    {
     "data": {
      "text/plain": [
       "Index(['Num_Acc', 'id_usager', 'id_vehicule_x', 'num_veh_x', 'place', 'catu',\n",
       "       'grav', 'sexe', 'an_nais', 'trajet', 'secu1', 'secu2', 'secu3', 'locp',\n",
       "       'actp', 'etatp', 'id_vehicule_y', 'num_veh_y', 'senc', 'catv', 'obs',\n",
       "       'obsm', 'choc', 'manv', 'motor', 'occutc'],\n",
       "      dtype='object')"
      ]
     },
     "metadata": {},
     "output_type": "display_data"
    }
   ],
   "source": [
    "display(df_merged_2022_1.columns)\n",
    "display(df_merged_2022_2.columns)"
   ]
  },
  {
   "cell_type": "code",
   "execution_count": 117,
   "id": "409f67cc-7bff-45a8-9d85-4a205f3e039a",
   "metadata": {},
   "outputs": [
    {
     "data": {
      "text/plain": [
       "Index(['Num_Acc', 'id_usager', 'id_vehicule', 'num_veh', 'place', 'catu',\n",
       "       'grav', 'sexe', 'an_nais', 'trajet', 'secu1', 'secu2', 'secu3', 'locp',\n",
       "       'actp', 'etatp', 'senc', 'catv', 'obs', 'obsm', 'choc', 'manv', 'motor',\n",
       "       'occutc'],\n",
       "      dtype='object')"
      ]
     },
     "metadata": {},
     "output_type": "display_data"
    },
    {
     "data": {
      "text/plain": [
       "Index(['Num_Acc', 'id_usager', 'id_vehicule', 'num_veh', 'place', 'catu',\n",
       "       'grav', 'sexe', 'an_nais', 'trajet', 'secu1', 'secu2', 'secu3', 'locp',\n",
       "       'actp', 'etatp'],\n",
       "      dtype='object')"
      ]
     },
     "metadata": {},
     "output_type": "display_data"
    },
    {
     "data": {
      "text/plain": [
       "Index(['Num_Acc', 'id_vehicule', 'num_veh', 'senc', 'catv', 'obs', 'obsm',\n",
       "       'choc', 'manv', 'motor', 'occutc'],\n",
       "      dtype='object')"
      ]
     },
     "metadata": {},
     "output_type": "display_data"
    }
   ],
   "source": [
    "display(df_merged_2022_1.columns)\n",
    "display(df_usagers_2022.columns)\n",
    "display(df_vehicules_2022.columns)"
   ]
  },
  {
   "cell_type": "code",
   "execution_count": 143,
   "id": "f31cdc0f-b767-40e6-b2a4-238b150d6c89",
   "metadata": {},
   "outputs": [],
   "source": [
    "df = df_merged_2022_2[['Num_Acc', 'id_usager', 'id_vehicule_x', 'id_vehicule_y', 'num_veh_x',  'num_veh_y']]"
   ]
  },
  {
   "cell_type": "code",
   "execution_count": 149,
   "id": "8d8228fb-90bf-4594-8584-35514ac6f580",
   "metadata": {},
   "outputs": [
    {
     "data": {
      "text/html": [
       "<div>\n",
       "<style scoped>\n",
       "    .dataframe tbody tr th:only-of-type {\n",
       "        vertical-align: middle;\n",
       "    }\n",
       "\n",
       "    .dataframe tbody tr th {\n",
       "        vertical-align: top;\n",
       "    }\n",
       "\n",
       "    .dataframe thead th {\n",
       "        text-align: right;\n",
       "    }\n",
       "</style>\n",
       "<table border=\"1\" class=\"dataframe\">\n",
       "  <thead>\n",
       "    <tr style=\"text-align: right;\">\n",
       "      <th></th>\n",
       "      <th>Num_Acc</th>\n",
       "      <th>id_usager</th>\n",
       "      <th>id_vehicule_x</th>\n",
       "      <th>id_vehicule_y</th>\n",
       "      <th>num_veh_x</th>\n",
       "      <th>num_veh_y</th>\n",
       "    </tr>\n",
       "  </thead>\n",
       "  <tbody>\n",
       "    <tr>\n",
       "      <th>0</th>\n",
       "      <td>202200000001</td>\n",
       "      <td>1 099 700</td>\n",
       "      <td>813 952</td>\n",
       "      <td>813 952</td>\n",
       "      <td>A01</td>\n",
       "      <td>A01</td>\n",
       "    </tr>\n",
       "    <tr>\n",
       "      <th>1</th>\n",
       "      <td>202200000001</td>\n",
       "      <td>1 099 700</td>\n",
       "      <td>813 952</td>\n",
       "      <td>813 953</td>\n",
       "      <td>A01</td>\n",
       "      <td>B01</td>\n",
       "    </tr>\n",
       "    <tr>\n",
       "      <th>2</th>\n",
       "      <td>202200000001</td>\n",
       "      <td>1 099 701</td>\n",
       "      <td>813 953</td>\n",
       "      <td>813 952</td>\n",
       "      <td>B01</td>\n",
       "      <td>A01</td>\n",
       "    </tr>\n",
       "    <tr>\n",
       "      <th>3</th>\n",
       "      <td>202200000001</td>\n",
       "      <td>1 099 701</td>\n",
       "      <td>813 953</td>\n",
       "      <td>813 953</td>\n",
       "      <td>B01</td>\n",
       "      <td>B01</td>\n",
       "    </tr>\n",
       "    <tr>\n",
       "      <th>4</th>\n",
       "      <td>202200000002</td>\n",
       "      <td>1 099 698</td>\n",
       "      <td>813 950</td>\n",
       "      <td>813 950</td>\n",
       "      <td>B01</td>\n",
       "      <td>B01</td>\n",
       "    </tr>\n",
       "    <tr>\n",
       "      <th>...</th>\n",
       "      <td>...</td>\n",
       "      <td>...</td>\n",
       "      <td>...</td>\n",
       "      <td>...</td>\n",
       "      <td>...</td>\n",
       "      <td>...</td>\n",
       "    </tr>\n",
       "    <tr>\n",
       "      <th>241482</th>\n",
       "      <td>202200055301</td>\n",
       "      <td>968 232</td>\n",
       "      <td>715 632</td>\n",
       "      <td>715 632</td>\n",
       "      <td>B01</td>\n",
       "      <td>B01</td>\n",
       "    </tr>\n",
       "    <tr>\n",
       "      <th>241483</th>\n",
       "      <td>202200055302</td>\n",
       "      <td>968 228</td>\n",
       "      <td>715 629</td>\n",
       "      <td>715 629</td>\n",
       "      <td>A01</td>\n",
       "      <td>A01</td>\n",
       "    </tr>\n",
       "    <tr>\n",
       "      <th>241484</th>\n",
       "      <td>202200055302</td>\n",
       "      <td>968 228</td>\n",
       "      <td>715 629</td>\n",
       "      <td>715 630</td>\n",
       "      <td>A01</td>\n",
       "      <td>B01</td>\n",
       "    </tr>\n",
       "    <tr>\n",
       "      <th>241485</th>\n",
       "      <td>202200055302</td>\n",
       "      <td>968 229</td>\n",
       "      <td>715 630</td>\n",
       "      <td>715 629</td>\n",
       "      <td>B01</td>\n",
       "      <td>A01</td>\n",
       "    </tr>\n",
       "    <tr>\n",
       "      <th>241486</th>\n",
       "      <td>202200055302</td>\n",
       "      <td>968 229</td>\n",
       "      <td>715 630</td>\n",
       "      <td>715 630</td>\n",
       "      <td>B01</td>\n",
       "      <td>B01</td>\n",
       "    </tr>\n",
       "  </tbody>\n",
       "</table>\n",
       "<p>241487 rows × 6 columns</p>\n",
       "</div>"
      ],
      "text/plain": [
       "             Num_Acc  id_usager id_vehicule_x id_vehicule_y num_veh_x  \\\n",
       "0       202200000001  1 099 700       813 952       813 952       A01   \n",
       "1       202200000001  1 099 700       813 952       813 953       A01   \n",
       "2       202200000001  1 099 701       813 953       813 952       B01   \n",
       "3       202200000001  1 099 701       813 953       813 953       B01   \n",
       "4       202200000002  1 099 698       813 950       813 950       B01   \n",
       "...              ...        ...           ...           ...       ...   \n",
       "241482  202200055301    968 232       715 632       715 632       B01   \n",
       "241483  202200055302    968 228       715 629       715 629       A01   \n",
       "241484  202200055302    968 228       715 629       715 630       A01   \n",
       "241485  202200055302    968 229       715 630       715 629       B01   \n",
       "241486  202200055302    968 229       715 630       715 630       B01   \n",
       "\n",
       "       num_veh_y  \n",
       "0            A01  \n",
       "1            B01  \n",
       "2            A01  \n",
       "3            B01  \n",
       "4            B01  \n",
       "...          ...  \n",
       "241482       B01  \n",
       "241483       A01  \n",
       "241484       B01  \n",
       "241485       A01  \n",
       "241486       B01  \n",
       "\n",
       "[241487 rows x 6 columns]"
      ]
     },
     "execution_count": 149,
     "metadata": {},
     "output_type": "execute_result"
    }
   ],
   "source": [
    "df"
   ]
  },
  {
   "cell_type": "code",
   "execution_count": 151,
   "id": "c6356061-1bca-4337-bf1f-0e830b69153b",
   "metadata": {},
   "outputs": [
    {
     "data": {
      "text/html": [
       "<div>\n",
       "<style scoped>\n",
       "    .dataframe tbody tr th:only-of-type {\n",
       "        vertical-align: middle;\n",
       "    }\n",
       "\n",
       "    .dataframe tbody tr th {\n",
       "        vertical-align: top;\n",
       "    }\n",
       "\n",
       "    .dataframe thead th {\n",
       "        text-align: right;\n",
       "    }\n",
       "</style>\n",
       "<table border=\"1\" class=\"dataframe\">\n",
       "  <thead>\n",
       "    <tr style=\"text-align: right;\">\n",
       "      <th></th>\n",
       "      <th>Num_Acc</th>\n",
       "      <th>id_usager</th>\n",
       "      <th>id_vehicule</th>\n",
       "      <th>num_veh</th>\n",
       "    </tr>\n",
       "  </thead>\n",
       "  <tbody>\n",
       "    <tr>\n",
       "      <th>0</th>\n",
       "      <td>202200000001</td>\n",
       "      <td>1 099 700</td>\n",
       "      <td>813 952</td>\n",
       "      <td>A01</td>\n",
       "    </tr>\n",
       "    <tr>\n",
       "      <th>1</th>\n",
       "      <td>202200000001</td>\n",
       "      <td>1 099 701</td>\n",
       "      <td>813 953</td>\n",
       "      <td>B01</td>\n",
       "    </tr>\n",
       "    <tr>\n",
       "      <th>2</th>\n",
       "      <td>202200000002</td>\n",
       "      <td>1 099 698</td>\n",
       "      <td>813 950</td>\n",
       "      <td>B01</td>\n",
       "    </tr>\n",
       "    <tr>\n",
       "      <th>3</th>\n",
       "      <td>202200000002</td>\n",
       "      <td>1 099 699</td>\n",
       "      <td>813 951</td>\n",
       "      <td>A01</td>\n",
       "    </tr>\n",
       "    <tr>\n",
       "      <th>4</th>\n",
       "      <td>202200000003</td>\n",
       "      <td>1 099 696</td>\n",
       "      <td>813 948</td>\n",
       "      <td>A01</td>\n",
       "    </tr>\n",
       "    <tr>\n",
       "      <th>...</th>\n",
       "      <td>...</td>\n",
       "      <td>...</td>\n",
       "      <td>...</td>\n",
       "      <td>...</td>\n",
       "    </tr>\n",
       "    <tr>\n",
       "      <th>126657</th>\n",
       "      <td>202200055301</td>\n",
       "      <td>968 230</td>\n",
       "      <td>715 631</td>\n",
       "      <td>A01</td>\n",
       "    </tr>\n",
       "    <tr>\n",
       "      <th>126658</th>\n",
       "      <td>202200055301</td>\n",
       "      <td>968 231</td>\n",
       "      <td>715 631</td>\n",
       "      <td>A01</td>\n",
       "    </tr>\n",
       "    <tr>\n",
       "      <th>126659</th>\n",
       "      <td>202200055301</td>\n",
       "      <td>968 232</td>\n",
       "      <td>715 632</td>\n",
       "      <td>B01</td>\n",
       "    </tr>\n",
       "    <tr>\n",
       "      <th>126660</th>\n",
       "      <td>202200055302</td>\n",
       "      <td>968 228</td>\n",
       "      <td>715 629</td>\n",
       "      <td>A01</td>\n",
       "    </tr>\n",
       "    <tr>\n",
       "      <th>126661</th>\n",
       "      <td>202200055302</td>\n",
       "      <td>968 229</td>\n",
       "      <td>715 630</td>\n",
       "      <td>B01</td>\n",
       "    </tr>\n",
       "  </tbody>\n",
       "</table>\n",
       "<p>126662 rows × 4 columns</p>\n",
       "</div>"
      ],
      "text/plain": [
       "             Num_Acc  id_usager id_vehicule num_veh\n",
       "0       202200000001  1 099 700     813 952     A01\n",
       "1       202200000001  1 099 701     813 953     B01\n",
       "2       202200000002  1 099 698     813 950     B01\n",
       "3       202200000002  1 099 699     813 951     A01\n",
       "4       202200000003  1 099 696     813 948     A01\n",
       "...              ...        ...         ...     ...\n",
       "126657  202200055301    968 230     715 631     A01\n",
       "126658  202200055301    968 231     715 631     A01\n",
       "126659  202200055301    968 232     715 632     B01\n",
       "126660  202200055302    968 228     715 629     A01\n",
       "126661  202200055302    968 229     715 630     B01\n",
       "\n",
       "[126662 rows x 4 columns]"
      ]
     },
     "execution_count": 151,
     "metadata": {},
     "output_type": "execute_result"
    }
   ],
   "source": [
    "df_merged_2022_1[['Num_Acc', 'id_usager', 'id_vehicule', 'num_veh']]"
   ]
  },
  {
   "cell_type": "code",
   "execution_count": 153,
   "id": "a9201e2e-f273-47eb-bad9-5e76395ad276",
   "metadata": {},
   "outputs": [
    {
     "data": {
      "text/html": [
       "<div>\n",
       "<style scoped>\n",
       "    .dataframe tbody tr th:only-of-type {\n",
       "        vertical-align: middle;\n",
       "    }\n",
       "\n",
       "    .dataframe tbody tr th {\n",
       "        vertical-align: top;\n",
       "    }\n",
       "\n",
       "    .dataframe thead th {\n",
       "        text-align: right;\n",
       "    }\n",
       "</style>\n",
       "<table border=\"1\" class=\"dataframe\">\n",
       "  <thead>\n",
       "    <tr style=\"text-align: right;\">\n",
       "      <th></th>\n",
       "      <th>Num_Acc</th>\n",
       "      <th>id_usager</th>\n",
       "      <th>id_vehicule</th>\n",
       "      <th>num_veh</th>\n",
       "    </tr>\n",
       "  </thead>\n",
       "  <tbody>\n",
       "    <tr>\n",
       "      <th>0</th>\n",
       "      <td>202200000001</td>\n",
       "      <td>1 099 700</td>\n",
       "      <td>813 952</td>\n",
       "      <td>A01</td>\n",
       "    </tr>\n",
       "    <tr>\n",
       "      <th>1</th>\n",
       "      <td>202200000001</td>\n",
       "      <td>1 099 701</td>\n",
       "      <td>813 953</td>\n",
       "      <td>B01</td>\n",
       "    </tr>\n",
       "    <tr>\n",
       "      <th>2</th>\n",
       "      <td>202200000002</td>\n",
       "      <td>1 099 698</td>\n",
       "      <td>813 950</td>\n",
       "      <td>B01</td>\n",
       "    </tr>\n",
       "    <tr>\n",
       "      <th>3</th>\n",
       "      <td>202200000002</td>\n",
       "      <td>1 099 699</td>\n",
       "      <td>813 951</td>\n",
       "      <td>A01</td>\n",
       "    </tr>\n",
       "    <tr>\n",
       "      <th>4</th>\n",
       "      <td>202200000003</td>\n",
       "      <td>1 099 696</td>\n",
       "      <td>813 948</td>\n",
       "      <td>A01</td>\n",
       "    </tr>\n",
       "    <tr>\n",
       "      <th>...</th>\n",
       "      <td>...</td>\n",
       "      <td>...</td>\n",
       "      <td>...</td>\n",
       "      <td>...</td>\n",
       "    </tr>\n",
       "    <tr>\n",
       "      <th>126657</th>\n",
       "      <td>202200055301</td>\n",
       "      <td>968 230</td>\n",
       "      <td>715 631</td>\n",
       "      <td>A01</td>\n",
       "    </tr>\n",
       "    <tr>\n",
       "      <th>126658</th>\n",
       "      <td>202200055301</td>\n",
       "      <td>968 231</td>\n",
       "      <td>715 631</td>\n",
       "      <td>A01</td>\n",
       "    </tr>\n",
       "    <tr>\n",
       "      <th>126659</th>\n",
       "      <td>202200055301</td>\n",
       "      <td>968 232</td>\n",
       "      <td>715 632</td>\n",
       "      <td>B01</td>\n",
       "    </tr>\n",
       "    <tr>\n",
       "      <th>126660</th>\n",
       "      <td>202200055302</td>\n",
       "      <td>968 228</td>\n",
       "      <td>715 629</td>\n",
       "      <td>A01</td>\n",
       "    </tr>\n",
       "    <tr>\n",
       "      <th>126661</th>\n",
       "      <td>202200055302</td>\n",
       "      <td>968 229</td>\n",
       "      <td>715 630</td>\n",
       "      <td>B01</td>\n",
       "    </tr>\n",
       "  </tbody>\n",
       "</table>\n",
       "<p>126662 rows × 4 columns</p>\n",
       "</div>"
      ],
      "text/plain": [
       "             Num_Acc  id_usager id_vehicule num_veh\n",
       "0       202200000001  1 099 700     813 952     A01\n",
       "1       202200000001  1 099 701     813 953     B01\n",
       "2       202200000002  1 099 698     813 950     B01\n",
       "3       202200000002  1 099 699     813 951     A01\n",
       "4       202200000003  1 099 696     813 948     A01\n",
       "...              ...        ...         ...     ...\n",
       "126657  202200055301    968 230     715 631     A01\n",
       "126658  202200055301    968 231     715 631     A01\n",
       "126659  202200055301    968 232     715 632     B01\n",
       "126660  202200055302    968 228     715 629     A01\n",
       "126661  202200055302    968 229     715 630     B01\n",
       "\n",
       "[126662 rows x 4 columns]"
      ]
     },
     "execution_count": 153,
     "metadata": {},
     "output_type": "execute_result"
    }
   ],
   "source": [
    "df_usagers_2022[['Num_Acc', 'id_usager', 'id_vehicule', 'num_veh']]"
   ]
  },
  {
   "cell_type": "code",
   "execution_count": 157,
   "id": "472b9fa3-6b99-4949-b833-71dcd376debc",
   "metadata": {},
   "outputs": [
    {
     "data": {
      "text/html": [
       "<div>\n",
       "<style scoped>\n",
       "    .dataframe tbody tr th:only-of-type {\n",
       "        vertical-align: middle;\n",
       "    }\n",
       "\n",
       "    .dataframe tbody tr th {\n",
       "        vertical-align: top;\n",
       "    }\n",
       "\n",
       "    .dataframe thead th {\n",
       "        text-align: right;\n",
       "    }\n",
       "</style>\n",
       "<table border=\"1\" class=\"dataframe\">\n",
       "  <thead>\n",
       "    <tr style=\"text-align: right;\">\n",
       "      <th></th>\n",
       "      <th>Num_Acc</th>\n",
       "      <th>id_vehicule</th>\n",
       "      <th>num_veh</th>\n",
       "    </tr>\n",
       "  </thead>\n",
       "  <tbody>\n",
       "    <tr>\n",
       "      <th>0</th>\n",
       "      <td>202200000001</td>\n",
       "      <td>813 952</td>\n",
       "      <td>A01</td>\n",
       "    </tr>\n",
       "    <tr>\n",
       "      <th>1</th>\n",
       "      <td>202200000001</td>\n",
       "      <td>813 953</td>\n",
       "      <td>B01</td>\n",
       "    </tr>\n",
       "    <tr>\n",
       "      <th>2</th>\n",
       "      <td>202200000002</td>\n",
       "      <td>813 950</td>\n",
       "      <td>B01</td>\n",
       "    </tr>\n",
       "    <tr>\n",
       "      <th>3</th>\n",
       "      <td>202200000002</td>\n",
       "      <td>813 951</td>\n",
       "      <td>A01</td>\n",
       "    </tr>\n",
       "    <tr>\n",
       "      <th>4</th>\n",
       "      <td>202200000003</td>\n",
       "      <td>813 948</td>\n",
       "      <td>A01</td>\n",
       "    </tr>\n",
       "    <tr>\n",
       "      <th>...</th>\n",
       "      <td>...</td>\n",
       "      <td>...</td>\n",
       "      <td>...</td>\n",
       "    </tr>\n",
       "    <tr>\n",
       "      <th>94488</th>\n",
       "      <td>202200055300</td>\n",
       "      <td>715 633</td>\n",
       "      <td>A01</td>\n",
       "    </tr>\n",
       "    <tr>\n",
       "      <th>94489</th>\n",
       "      <td>202200055301</td>\n",
       "      <td>715 631</td>\n",
       "      <td>A01</td>\n",
       "    </tr>\n",
       "    <tr>\n",
       "      <th>94490</th>\n",
       "      <td>202200055301</td>\n",
       "      <td>715 632</td>\n",
       "      <td>B01</td>\n",
       "    </tr>\n",
       "    <tr>\n",
       "      <th>94491</th>\n",
       "      <td>202200055302</td>\n",
       "      <td>715 629</td>\n",
       "      <td>A01</td>\n",
       "    </tr>\n",
       "    <tr>\n",
       "      <th>94492</th>\n",
       "      <td>202200055302</td>\n",
       "      <td>715 630</td>\n",
       "      <td>B01</td>\n",
       "    </tr>\n",
       "  </tbody>\n",
       "</table>\n",
       "<p>94493 rows × 3 columns</p>\n",
       "</div>"
      ],
      "text/plain": [
       "            Num_Acc id_vehicule num_veh\n",
       "0      202200000001     813 952     A01\n",
       "1      202200000001     813 953     B01\n",
       "2      202200000002     813 950     B01\n",
       "3      202200000002     813 951     A01\n",
       "4      202200000003     813 948     A01\n",
       "...             ...         ...     ...\n",
       "94488  202200055300     715 633     A01\n",
       "94489  202200055301     715 631     A01\n",
       "94490  202200055301     715 632     B01\n",
       "94491  202200055302     715 629     A01\n",
       "94492  202200055302     715 630     B01\n",
       "\n",
       "[94493 rows x 3 columns]"
      ]
     },
     "execution_count": 157,
     "metadata": {},
     "output_type": "execute_result"
    }
   ],
   "source": [
    "df_vehicules_2022[['Num_Acc', 'id_vehicule', 'num_veh']]"
   ]
  },
  {
   "cell_type": "markdown",
   "id": "6c96881e-5ef8-437f-8fd4-2ee8c4107aa8",
   "metadata": {},
   "source": [
    "Si jointure sans mettre le triplet unique, on crée des nouvelles lignes car deux variables en doublons (id_vehicule et num_veh) avec des informations en doublon"
   ]
  }
 ],
 "metadata": {
  "kernelspec": {
   "display_name": "Python 3 (ipykernel)",
   "language": "python",
   "name": "python3"
  },
  "language_info": {
   "codemirror_mode": {
    "name": "ipython",
    "version": 3
   },
   "file_extension": ".py",
   "mimetype": "text/x-python",
   "name": "python",
   "nbconvert_exporter": "python",
   "pygments_lexer": "ipython3",
   "version": "3.9.19"
  }
 },
 "nbformat": 4,
 "nbformat_minor": 5
}
